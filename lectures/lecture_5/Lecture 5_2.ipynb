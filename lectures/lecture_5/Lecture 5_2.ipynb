{
 "cells": [
  {
   "cell_type": "markdown",
   "metadata": {},
   "source": [
    "### Загрузим основные пакеты"
   ]
  },
  {
   "cell_type": "code",
   "execution_count": 80,
   "metadata": {},
   "outputs": [],
   "source": [
    "import scipy as sp\n",
    "import scipy.linalg as spla\n",
    "import scipy.optimize as spopt\n",
    "import scipy.stats as spst\n",
    "\n",
    "import numpy as np\n",
    "import numpy.linalg as npla\n",
    "\n",
    "import statsmodels as sm\n",
    "import statsmodels.api as sma\n",
    "\n",
    "smfOLS = sma.regression.linear_model.OLS.from_formula\n",
    "smfLGT = sm.discrete.discrete_model.Logit.from_formula\n",
    "smfPRB = sm.discrete.discrete_model.Probit.from_formula\n",
    "\n",
    "import seaborn as sb\n",
    "import pandas as pd\n",
    "\n",
    "import matplotlib.pyplot as plt\n",
    "\n",
    "from inspect import signature as sig"
   ]
  },
  {
   "cell_type": "code",
   "execution_count": 81,
   "metadata": {},
   "outputs": [],
   "source": [
    "# matplotlib image size and resolution\n",
    "mpl_options = {\"figsize\":(8,8), \"dpi\":100}\n",
    "sb.set(rc={'figure.figsize':(8,8)})"
   ]
  },
  {
   "cell_type": "markdown",
   "metadata": {},
   "source": [
    "### Вернемся к нашим облакам"
   ]
  },
  {
   "cell_type": "code",
   "execution_count": 82,
   "metadata": {},
   "outputs": [
    {
     "data": {
      "text/plain": [
       "(array([0, 0]),\n",
       " array([[1., 0.],\n",
       "        [0., 1.]]))"
      ]
     },
     "execution_count": 82,
     "metadata": {},
     "output_type": "execute_result"
    }
   ],
   "source": [
    "means = np.array([0,0])\n",
    "covs = np.eye(2)\n",
    "means, covs"
   ]
  },
  {
   "cell_type": "code",
   "execution_count": 83,
   "metadata": {},
   "outputs": [],
   "source": [
    "size = 100\n",
    "sample = np.random.multivariate_normal(means, covs, size=size)"
   ]
  },
  {
   "cell_type": "code",
   "execution_count": 84,
   "metadata": {},
   "outputs": [
    {
     "data": {
      "text/plain": [
       "<matplotlib.collections.PathCollection at 0x7febf8e605d0>"
      ]
     },
     "execution_count": 84,
     "metadata": {},
     "output_type": "execute_result"
    },
    {
     "data": {
      "image/png": "[encoded data removed]",
      "text/plain": [
       "<Figure size 576x576 with 1 Axes>"
      ]
     },
     "metadata": {},
     "output_type": "display_data"
    }
   ],
   "source": [
    "plt.scatter(sample[:,0], sample[:,1], color = 'red')\n",
    "plt.scatter(sample[:,0]+6, sample[:,1]+6, color = 'blue')"
   ]
  },
  {
   "cell_type": "markdown",
   "metadata": {},
   "source": [
    "### Давайте вместо того чтобы сравнивать $\\log \\frac{1}{1+\\exp(-z)}$ с 0 как пороговый уровень, попробуем сравнить его с +1 и - 1? То есть, будем считать что когда скор z достаточно большой (>1) мы выбираем синюю альтернативу, когда он маленький (<-1) мы выбираем красную альтернативу, а в интервале [-1,1] мы как бы не выбираем ничего. Тогда доли в Лайклихуде будут устроены несколько иначе:"
   ]
  },
  {
   "cell_type": "markdown",
   "metadata": {},
   "source": [
    "$$ Utility = \\sum_{y_i = 1} \\log F(z-1) + \\sum_{y_i = -1} \\log F(-z-1) \\to \\max_{\\beta}$$\n",
    "### Это некоторая модификация логита, и у него даже есть экономическая интерпретация: человек выбирает альтернативу только когда он \"по настоящему уверен\". Я не знаю его популярное название, но будем называть его \"уверенный Логит\" на всякий случай. Это приятная, выпуклая задача.\n",
    "\n",
    "### Единственная проблема это параметр ширины окна (мы выставили его равный 2), который придется кроссвалидировать, иначе его невозможно отделить от дисперсии ошибки."
   ]
  },
  {
   "cell_type": "markdown",
   "metadata": {},
   "source": [
    "# Теперь про SVM"
   ]
  },
  {
   "cell_type": "markdown",
   "metadata": {},
   "source": [
    "### Есть еще один способ, чем то похожий на то что мы сейчас сделали, это SVM. Он бывает двух типов:\n",
    "- hard margin SVM\n",
    "- soft margin SVM"
   ]
  },
  {
   "cell_type": "markdown",
   "metadata": {},
   "source": [
    "### Hard margin SVM выбирает коэффициенты так, чтобы между облаками можно было вставить слой максимальной толщины. Сам классификатор работает как сигнум фунцкия на скоре (чем то похоже на сигмоиду логита, но негладкая): \n",
    "\n",
    "$$ x \\to \\hat y = sgn(\\alpha + \\beta ' x) \\in \\{-1,1\\}$$"
   ]
  },
  {
   "cell_type": "markdown",
   "metadata": {},
   "source": [
    "### Так как толщина слоя это $\\frac{2}{||\\beta||}$, задача оптимизации имеет следующий вид: \n",
    "$$ ||\\beta|| \\to \\min, \\quad s.t. \\quad y_i (\\alpha + \\beta' x) \\geqslant 1$$"
   ]
  },
  {
   "cell_type": "markdown",
   "metadata": {},
   "source": [
    "### Soft margin SVM делает все то же самое, но позволяет нескольким наблюдениям провалиться внутрь слоя, за что, конечно надо будет заплатить в Loss функции, иначе они все туда провалятся"
   ]
  },
  {
   "cell_type": "markdown",
   "metadata": {},
   "source": [
    "### Задача оптимизации имеет следующий вид:\n",
    "$$ ||\\beta||+C \\sum \\xi_i \\to \\min, \\quad s.t. \\quad y_i (\\alpha + \\beta' x) \\geqslant 1 - \\xi_i$$"
   ]
  },
  {
   "cell_type": "markdown",
   "metadata": {},
   "source": [
    "### Два важных факта:\n",
    "- вся задача очевидно выпуклая\n",
    "- параметр $\\alpha$ определяется внутри модели, его не надо кроссвалиидировать\n",
    "- параметр $C$ определяется снаружи модели, его НАДО кроссвалиидировать"
   ]
  },
  {
   "cell_type": "markdown",
   "metadata": {},
   "source": [
    "### Так как задача выпуклая, там можно применять Метод Лагранжа, но, так как это типично происходит в ОЧЕНЬ больших размерностях, детали поиска седловой точки Лагранжиана я рассказывать не буду (проблемы такие же как и в изотонической регрессии - много ограничений), а вместо этого посмотрим готовый интерфейс в Питоне."
   ]
  },
  {
   "cell_type": "code",
   "execution_count": 104,
   "metadata": {},
   "outputs": [
    {
     "data": {
      "text/html": [
       "<div>\n",
       "<style scoped>\n",
       "    .dataframe tbody tr th:only-of-type {\n",
       "        vertical-align: middle;\n",
       "    }\n",
       "\n",
       "    .dataframe tbody tr th {\n",
       "        vertical-align: top;\n",
       "    }\n",
       "\n",
       "    .dataframe thead th {\n",
       "        text-align: right;\n",
       "    }\n",
       "</style>\n",
       "<table border=\"1\" class=\"dataframe\">\n",
       "  <thead>\n",
       "    <tr style=\"text-align: right;\">\n",
       "      <th></th>\n",
       "      <th>X1</th>\n",
       "      <th>X2</th>\n",
       "      <th>Y</th>\n",
       "    </tr>\n",
       "  </thead>\n",
       "  <tbody>\n",
       "    <tr>\n",
       "      <th>0</th>\n",
       "      <td>-0.756568</td>\n",
       "      <td>-1.345815</td>\n",
       "      <td>0.0</td>\n",
       "    </tr>\n",
       "    <tr>\n",
       "      <th>1</th>\n",
       "      <td>3.192170</td>\n",
       "      <td>-0.358468</td>\n",
       "      <td>0.0</td>\n",
       "    </tr>\n",
       "    <tr>\n",
       "      <th>2</th>\n",
       "      <td>-1.547425</td>\n",
       "      <td>-0.539785</td>\n",
       "      <td>0.0</td>\n",
       "    </tr>\n",
       "    <tr>\n",
       "      <th>3</th>\n",
       "      <td>1.466279</td>\n",
       "      <td>-0.451241</td>\n",
       "      <td>0.0</td>\n",
       "    </tr>\n",
       "    <tr>\n",
       "      <th>4</th>\n",
       "      <td>-0.554662</td>\n",
       "      <td>-0.308247</td>\n",
       "      <td>0.0</td>\n",
       "    </tr>\n",
       "    <tr>\n",
       "      <th>...</th>\n",
       "      <td>...</td>\n",
       "      <td>...</td>\n",
       "      <td>...</td>\n",
       "    </tr>\n",
       "    <tr>\n",
       "      <th>195</th>\n",
       "      <td>6.493034</td>\n",
       "      <td>5.967952</td>\n",
       "      <td>1.0</td>\n",
       "    </tr>\n",
       "    <tr>\n",
       "      <th>196</th>\n",
       "      <td>6.878966</td>\n",
       "      <td>3.862070</td>\n",
       "      <td>1.0</td>\n",
       "    </tr>\n",
       "    <tr>\n",
       "      <th>197</th>\n",
       "      <td>4.791475</td>\n",
       "      <td>4.600274</td>\n",
       "      <td>1.0</td>\n",
       "    </tr>\n",
       "    <tr>\n",
       "      <th>198</th>\n",
       "      <td>4.431914</td>\n",
       "      <td>5.632453</td>\n",
       "      <td>1.0</td>\n",
       "    </tr>\n",
       "    <tr>\n",
       "      <th>199</th>\n",
       "      <td>5.661296</td>\n",
       "      <td>4.991361</td>\n",
       "      <td>1.0</td>\n",
       "    </tr>\n",
       "  </tbody>\n",
       "</table>\n",
       "<p>200 rows × 3 columns</p>\n",
       "</div>"
      ],
      "text/plain": [
       "           X1        X2    Y\n",
       "0   -0.756568 -1.345815  0.0\n",
       "1    3.192170 -0.358468  0.0\n",
       "2   -1.547425 -0.539785  0.0\n",
       "3    1.466279 -0.451241  0.0\n",
       "4   -0.554662 -0.308247  0.0\n",
       "..        ...       ...  ...\n",
       "195  6.493034  5.967952  1.0\n",
       "196  6.878966  3.862070  1.0\n",
       "197  4.791475  4.600274  1.0\n",
       "198  4.431914  5.632453  1.0\n",
       "199  5.661296  4.991361  1.0\n",
       "\n",
       "[200 rows x 3 columns]"
      ]
     },
     "execution_count": 104,
     "metadata": {},
     "output_type": "execute_result"
    }
   ],
   "source": [
    "df = pd.DataFrame([])\n",
    "df['X1']=np.hstack((sample[:,0], sample[:,0]+6))\n",
    "df['X2']= np.hstack((sample[:,1], sample[:,1]+6))\n",
    "df['Y'] = np.hstack((np.zeros(size), np.ones(size)))\n",
    "df"
   ]
  },
  {
   "cell_type": "code",
   "execution_count": 105,
   "metadata": {},
   "outputs": [
    {
     "data": {
      "text/plain": [
       "\u001b[0;31mType:\u001b[0m        SVC\n",
       "\u001b[0;31mString form:\u001b[0m SVC()\n",
       "\u001b[0;31mFile:\u001b[0m        ~/Documents/Conda/envs/py37an/lib/python3.7/site-packages/sklearn/svm/_classes.py\n",
       "\u001b[0;31mDocstring:\u001b[0m  \n",
       "C-Support Vector Classification.\n",
       "\n",
       "The implementation is based on libsvm. The fit time scales at least\n",
       "quadratically with the number of samples and may be impractical\n",
       "beyond tens of thousands of samples. For large datasets\n",
       "consider using :class:`sklearn.svm.LinearSVC` or\n",
       ":class:`sklearn.linear_model.SGDClassifier` instead, possibly after a\n",
       ":class:`sklearn.kernel_approximation.Nystroem` transformer.\n",
       "\n",
       "The multiclass support is handled according to a one-vs-one scheme.\n",
       "\n",
       "For details on the precise mathematical formulation of the provided\n",
       "kernel functions and how `gamma`, `coef0` and `degree` affect each\n",
       "other, see the corresponding section in the narrative documentation:\n",
       ":ref:`svm_kernels`.\n",
       "\n",
       "Read more in the :ref:`User Guide <svm_classification>`.\n",
       "\n",
       "Parameters\n",
       "----------\n",
       "C : float, default=1.0\n",
       "    Regularization parameter. The strength of the regularization is\n",
       "    inversely proportional to C. Must be strictly positive. The penalty\n",
       "    is a squared l2 penalty.\n",
       "\n",
       "kernel : {'linear', 'poly', 'rbf', 'sigmoid', 'precomputed'}, default='rbf'\n",
       "    Specifies the kernel type to be used in the algorithm.\n",
       "    It must be one of 'linear', 'poly', 'rbf', 'sigmoid', 'precomputed' or\n",
       "    a callable.\n",
       "    If none is given, 'rbf' will be used. If a callable is given it is\n",
       "    used to pre-compute the kernel matrix from data matrices; that matrix\n",
       "    should be an array of shape ``(n_samples, n_samples)``.\n",
       "\n",
       "degree : int, default=3\n",
       "    Degree of the polynomial kernel function ('poly').\n",
       "    Ignored by all other kernels.\n",
       "\n",
       "gamma : {'scale', 'auto'} or float, default='scale'\n",
       "    Kernel coefficient for 'rbf', 'poly' and 'sigmoid'.\n",
       "\n",
       "    - if ``gamma='scale'`` (default) is passed then it uses\n",
       "      1 / (n_features * X.var()) as value of gamma,\n",
       "    - if 'auto', uses 1 / n_features.\n",
       "\n",
       "    .. versionchanged:: 0.22\n",
       "       The default value of ``gamma`` changed from 'auto' to 'scale'.\n",
       "\n",
       "coef0 : float, default=0.0\n",
       "    Independent term in kernel function.\n",
       "    It is only significant in 'poly' and 'sigmoid'.\n",
       "\n",
       "shrinking : bool, default=True\n",
       "    Whether to use the shrinking heuristic.\n",
       "    See the :ref:`User Guide <shrinking_svm>`.\n",
       "\n",
       "probability : bool, default=False\n",
       "    Whether to enable probability estimates. This must be enabled prior\n",
       "    to calling `fit`, will slow down that method as it internally uses\n",
       "    5-fold cross-validation, and `predict_proba` may be inconsistent with\n",
       "    `predict`. Read more in the :ref:`User Guide <scores_probabilities>`.\n",
       "\n",
       "tol : float, default=1e-3\n",
       "    Tolerance for stopping criterion.\n",
       "\n",
       "cache_size : float, default=200\n",
       "    Specify the size of the kernel cache (in MB).\n",
       "\n",
       "class_weight : dict or 'balanced', default=None\n",
       "    Set the parameter C of class i to class_weight[i]*C for\n",
       "    SVC. If not given, all classes are supposed to have\n",
       "    weight one.\n",
       "    The \"balanced\" mode uses the values of y to automatically adjust\n",
       "    weights inversely proportional to class frequencies in the input data\n",
       "    as ``n_samples / (n_classes * np.bincount(y))``\n",
       "\n",
       "verbose : bool, default=False\n",
       "    Enable verbose output. Note that this setting takes advantage of a\n",
       "    per-process runtime setting in libsvm that, if enabled, may not work\n",
       "    properly in a multithreaded context.\n",
       "\n",
       "max_iter : int, default=-1\n",
       "    Hard limit on iterations within solver, or -1 for no limit.\n",
       "\n",
       "decision_function_shape : {'ovo', 'ovr'}, default='ovr'\n",
       "    Whether to return a one-vs-rest ('ovr') decision function of shape\n",
       "    (n_samples, n_classes) as all other classifiers, or the original\n",
       "    one-vs-one ('ovo') decision function of libsvm which has shape\n",
       "    (n_samples, n_classes * (n_classes - 1) / 2). However, one-vs-one\n",
       "    ('ovo') is always used as multi-class strategy. The parameter is\n",
       "    ignored for binary classification.\n",
       "\n",
       "    .. versionchanged:: 0.19\n",
       "        decision_function_shape is 'ovr' by default.\n",
       "\n",
       "    .. versionadded:: 0.17\n",
       "       *decision_function_shape='ovr'* is recommended.\n",
       "\n",
       "    .. versionchanged:: 0.17\n",
       "       Deprecated *decision_function_shape='ovo' and None*.\n",
       "\n",
       "break_ties : bool, default=False\n",
       "    If true, ``decision_function_shape='ovr'``, and number of classes > 2,\n",
       "    :term:`predict` will break ties according to the confidence values of\n",
       "    :term:`decision_function`; otherwise the first class among the tied\n",
       "    classes is returned. Please note that breaking ties comes at a\n",
       "    relatively high computational cost compared to a simple predict.\n",
       "\n",
       "    .. versionadded:: 0.22\n",
       "\n",
       "random_state : int or RandomState instance, default=None\n",
       "    Controls the pseudo random number generation for shuffling the data for\n",
       "    probability estimates. Ignored when `probability` is False.\n",
       "    Pass an int for reproducible output across multiple function calls.\n",
       "    See :term:`Glossary <random_state>`.\n",
       "\n",
       "Attributes\n",
       "----------\n",
       "support_ : ndarray of shape (n_SV,)\n",
       "    Indices of support vectors.\n",
       "\n",
       "support_vectors_ : ndarray of shape (n_SV, n_features)\n",
       "    Support vectors.\n",
       "\n",
       "n_support_ : ndarray of shape (n_class,), dtype=int32\n",
       "    Number of support vectors for each class.\n",
       "\n",
       "dual_coef_ : ndarray of shape (n_class-1, n_SV)\n",
       "    Dual coefficients of the support vector in the decision\n",
       "    function (see :ref:`sgd_mathematical_formulation`), multiplied by\n",
       "    their targets.\n",
       "    For multiclass, coefficient for all 1-vs-1 classifiers.\n",
       "    The layout of the coefficients in the multiclass case is somewhat\n",
       "    non-trivial. See the :ref:`multi-class section of the User Guide\n",
       "    <svm_multi_class>` for details.\n",
       "\n",
       "coef_ : ndarray of shape (n_class * (n_class-1) / 2, n_features)\n",
       "    Weights assigned to the features (coefficients in the primal\n",
       "    problem). This is only available in the case of a linear kernel.\n",
       "\n",
       "    `coef_` is a readonly property derived from `dual_coef_` and\n",
       "    `support_vectors_`.\n",
       "\n",
       "intercept_ : ndarray of shape (n_class * (n_class-1) / 2,)\n",
       "    Constants in decision function.\n",
       "\n",
       "fit_status_ : int\n",
       "    0 if correctly fitted, 1 otherwise (will raise warning)\n",
       "\n",
       "classes_ : ndarray of shape (n_classes,)\n",
       "    The classes labels.\n",
       "\n",
       "probA_ : ndarray of shape (n_class * (n_class-1) / 2)\n",
       "probB_ : ndarray of shape (n_class * (n_class-1) / 2)\n",
       "    If `probability=True`, it corresponds to the parameters learned in\n",
       "    Platt scaling to produce probability estimates from decision values.\n",
       "    If `probability=False`, it's an empty array. Platt scaling uses the\n",
       "    logistic function\n",
       "    ``1 / (1 + exp(decision_value * probA_ + probB_))``\n",
       "    where ``probA_`` and ``probB_`` are learned from the dataset [2]_. For\n",
       "    more information on the multiclass case and training procedure see\n",
       "    section 8 of [1]_.\n",
       "\n",
       "class_weight_ : ndarray of shape (n_class,)\n",
       "    Multipliers of parameter C for each class.\n",
       "    Computed based on the ``class_weight`` parameter.\n",
       "\n",
       "shape_fit_ : tuple of int of shape (n_dimensions_of_X,)\n",
       "    Array dimensions of training vector ``X``.\n",
       "\n",
       "Examples\n",
       "--------\n",
       ">>> import numpy as np\n",
       ">>> from sklearn.pipeline import make_pipeline\n",
       ">>> from sklearn.preprocessing import StandardScaler\n",
       ">>> X = np.array([[-1, -1], [-2, -1], [1, 1], [2, 1]])\n",
       ">>> y = np.array([1, 1, 2, 2])\n",
       ">>> from sklearn.svm import SVC\n",
       ">>> clf = make_pipeline(StandardScaler(), SVC(gamma='auto'))\n",
       ">>> clf.fit(X, y)\n",
       "Pipeline(steps=[('standardscaler', StandardScaler()),\n",
       "                ('svc', SVC(gamma='auto'))])\n",
       "\n",
       ">>> print(clf.predict([[-0.8, -1]]))\n",
       "[1]\n",
       "\n",
       "See also\n",
       "--------\n",
       "SVR\n",
       "    Support Vector Machine for Regression implemented using libsvm.\n",
       "\n",
       "LinearSVC\n",
       "    Scalable Linear Support Vector Machine for classification\n",
       "    implemented using liblinear. Check the See also section of\n",
       "    LinearSVC for more comparison element.\n",
       "\n",
       "References\n",
       "----------\n",
       ".. [1] `LIBSVM: A Library for Support Vector Machines\n",
       "    <http://www.csie.ntu.edu.tw/~cjlin/papers/libsvm.pdf>`_\n",
       "\n",
       ".. [2] `Platt, John (1999). \"Probabilistic outputs for support vector\n",
       "    machines and comparison to regularizedlikelihood methods.\"\n",
       "    <http://citeseer.ist.psu.edu/viewdoc/summary?doi=10.1.1.41.1639>`_\n"
      ]
     },
     "metadata": {},
     "output_type": "display_data"
    }
   ],
   "source": [
    "from sklearn import svm\n",
    "clf = svm.SVC()\n",
    "\n",
    "clf?"
   ]
  },
  {
   "cell_type": "code",
   "execution_count": 106,
   "metadata": {},
   "outputs": [],
   "source": [
    "X = df[['X1','X2']].values\n",
    "Y = df['Y'].values\n",
    "\n",
    "svc = clf.fit(X, Y)"
   ]
  },
  {
   "cell_type": "code",
   "execution_count": 120,
   "metadata": {},
   "outputs": [
    {
     "data": {
      "image/png": "[encoded data removed]",
      "text/plain": [
       "<Figure size 576x576 with 1 Axes>"
      ]
     },
     "metadata": {},
     "output_type": "display_data"
    }
   ],
   "source": [
    "plt.scatter(sample[:,0], sample[:,1], color = 'orange', s = 12)\n",
    "plt.scatter(sample[:,0]+6, sample[:,1]+6, color = 'green', s = 12)\n",
    "\n",
    "points = [[1,2],[0,0],[1,6],[-2,4], [-3,0], [6,0], [2,-2], [6,6], [8, 7]]\n",
    "\n",
    "for point in points:\n",
    "\n",
    "    pred = int(svc.predict([point])[0])\n",
    "    if pred == 0:\n",
    "        plt.scatter(point[0], point[1], color = 'red', s = 50)\n",
    "    else:\n",
    "        plt.scatter(point[0], point[1], color = 'blue', s = 50)"
   ]
  },
  {
   "cell_type": "markdown",
   "metadata": {},
   "source": [
    "### Посмотрим на собственно саппорт вектора - это точки на которые натянута выпуклая оболочка каждого облака"
   ]
  },
  {
   "cell_type": "code",
   "execution_count": 111,
   "metadata": {},
   "outputs": [
    {
     "data": {
      "image/png": "[encoded data removed]",
      "text/plain": [
       "<Figure size 576x576 with 1 Axes>"
      ]
     },
     "metadata": {},
     "output_type": "display_data"
    }
   ],
   "source": [
    "plt.scatter(sample[:,0], sample[:,1], color = 'orange', s = 12)\n",
    "plt.scatter(sample[:,0]+6, sample[:,1]+6, color = 'green', s = 12)\n",
    "\n",
    "x = 5.\n",
    "y = 5.\n",
    "\n",
    "points = clf.support_vectors_\n",
    "\n",
    "for point in points:\n",
    "\n",
    "    pred = int(svc.predict([point])[0])\n",
    "    if pred == 0:\n",
    "        plt.scatter(point[0], point[1], color = 'red', s = 50)\n",
    "    else:\n",
    "        plt.scatter(point[0], point[1], color = 'blue', s = 50)"
   ]
  },
  {
   "cell_type": "markdown",
   "metadata": {},
   "source": [
    "# Какая тут мораль?\n",
    "- если облака погружены сильно, можно делать логит\n",
    "- если облака погружены слабо, можно делать мягкий свм\n",
    "- если облака разделены совсем, можно делать жесткий свм"
   ]
  },
  {
   "cell_type": "code",
   "execution_count": null,
   "metadata": {},
   "outputs": [],
   "source": []
  }
 ],
 "metadata": {
  "kernelspec": {
   "display_name": "py37an",
   "language": "python",
   "name": "py37an"
  },
  "language_info": {
   "codemirror_mode": {
    "name": "ipython",
    "version": 3
   },
   "file_extension": ".py",
   "mimetype": "text/x-python",
   "name": "python",
   "nbconvert_exporter": "python",
   "pygments_lexer": "ipython3",
   "version": "3.7.7"
  }
 },
 "nbformat": 4,
 "nbformat_minor": 4
}
