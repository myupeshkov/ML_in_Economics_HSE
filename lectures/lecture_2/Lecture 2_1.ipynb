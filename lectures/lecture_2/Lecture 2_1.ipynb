{
 "cells": [
  {
   "cell_type": "markdown",
   "metadata": {},
   "source": [
    "# Part 1. Logistic regression intro"
   ]
  },
  {
   "cell_type": "code",
   "execution_count": 12,
   "metadata": {},
   "outputs": [],
   "source": [
    "import scipy as sp\n",
    "import scipy.linalg as spla\n",
    "import scipy.optimize as spopt\n",
    "import scipy.stats as spst\n",
    "\n",
    "import numpy as np\n",
    "import numpy.linalg as npla\n",
    "\n",
    "import statsmodels as sm\n",
    "import statsmodels.api as sma\n",
    "smfOLS = sma.regression.linear_model.OLS.from_formula\n",
    "smfLGT = sm.discrete.discrete_model.Logit.from_formula\n",
    "\n",
    "import seaborn as sb\n",
    "import pandas as pd\n",
    "\n",
    "import matplotlib.pyplot as plt\n",
    "\n",
    "from inspect import signature as sig"
   ]
  },
  {
   "cell_type": "code",
   "execution_count": 13,
   "metadata": {},
   "outputs": [],
   "source": [
    "# matplotlib image size and resolution\n",
    "mpl_options = {\"figsize\":(8,8), \"dpi\":100}\n",
    "sb.set(rc={'figure.figsize':(8,8)})"
   ]
  },
  {
   "cell_type": "markdown",
   "metadata": {},
   "source": [
    "### То understand the logistic regression, we need to understand where it came from. Typically we are trying to fit a line through a cloud of datapoints. The x variables can be continuous or discrete byt the y variable is always continuous.\n",
    "### For example, \"Income ~ Age + YearsEducation\" или \"LifeExpectancy ~ Income\""
   ]
  },
  {
   "cell_type": "code",
   "execution_count": 14,
   "metadata": {},
   "outputs": [],
   "source": [
    "x=np.random.uniform(size=100)\n",
    "x=x-x.mean()\n",
    "eps=np.random.uniform(size=100)*2\n",
    "eps=eps-eps.mean()\n",
    "\n",
    "y = 3.45*x + eps"
   ]
  },
  {
   "cell_type": "code",
   "execution_count": 15,
   "metadata": {},
   "outputs": [
    {
     "data": {
      "text/plain": [
       "<AxesSubplot:>"
      ]
     },
     "execution_count": 15,
     "metadata": {},
     "output_type": "execute_result"
    },
    {
     "data": {
      "image/png": "[encoded data removed]",
      "text/plain": [
       "<Figure size 576x576 with 1 Axes>"
      ]
     },
     "metadata": {},
     "output_type": "display_data"
    }
   ],
   "source": [
    "sb.regplot(x=x, y=y)"
   ]
  },
  {
   "cell_type": "code",
   "execution_count": 16,
   "metadata": {},
   "outputs": [
    {
     "data": {
      "text/html": [
       "<table class=\"simpletable\">\n",
       "<caption>OLS Regression Results</caption>\n",
       "<tr>\n",
       "  <th>Dep. Variable:</th>         <td>Income</td>      <th>  R-squared:         </th> <td>   0.737</td>\n",
       "</tr>\n",
       "<tr>\n",
       "  <th>Model:</th>                   <td>OLS</td>       <th>  Adj. R-squared:    </th> <td>   0.734</td>\n",
       "</tr>\n",
       "<tr>\n",
       "  <th>Method:</th>             <td>Least Squares</td>  <th>  F-statistic:       </th> <td>   274.1</td>\n",
       "</tr>\n",
       "<tr>\n",
       "  <th>Date:</th>             <td>Thu, 30 Sep 2021</td> <th>  Prob (F-statistic):</th> <td>3.77e-30</td>\n",
       "</tr>\n",
       "<tr>\n",
       "  <th>Time:</th>                 <td>23:16:14</td>     <th>  Log-Likelihood:    </th> <td>  51.490</td>\n",
       "</tr>\n",
       "<tr>\n",
       "  <th>No. Observations:</th>      <td>   100</td>      <th>  AIC:               </th> <td>  -98.98</td>\n",
       "</tr>\n",
       "<tr>\n",
       "  <th>Df Residuals:</th>          <td>    98</td>      <th>  BIC:               </th> <td>  -93.77</td>\n",
       "</tr>\n",
       "<tr>\n",
       "  <th>Df Model:</th>              <td>     1</td>      <th>                     </th>     <td> </td>   \n",
       "</tr>\n",
       "<tr>\n",
       "  <th>Covariance Type:</th>      <td>nonrobust</td>    <th>                     </th>     <td> </td>   \n",
       "</tr>\n",
       "</table>\n",
       "<table class=\"simpletable\">\n",
       "<tr>\n",
       "      <td></td>         <th>coef</th>     <th>std err</th>      <th>t</th>      <th>P>|t|</th>  <th>[0.025</th>    <th>0.975]</th>  \n",
       "</tr>\n",
       "<tr>\n",
       "  <th>Intercept</th> <td>-1.475e-16</td> <td>    0.015</td> <td>-1.01e-14</td> <td> 1.000</td> <td>   -0.029</td> <td>    0.029</td>\n",
       "</tr>\n",
       "<tr>\n",
       "  <th>Age</th>       <td>    0.2171</td> <td>    0.013</td> <td>   16.557</td> <td> 0.000</td> <td>    0.191</td> <td>    0.243</td>\n",
       "</tr>\n",
       "</table>\n",
       "<table class=\"simpletable\">\n",
       "<tr>\n",
       "  <th>Omnibus:</th>       <td> 5.664</td> <th>  Durbin-Watson:     </th> <td>   2.080</td>\n",
       "</tr>\n",
       "<tr>\n",
       "  <th>Prob(Omnibus):</th> <td> 0.059</td> <th>  Jarque-Bera (JB):  </th> <td>   2.705</td>\n",
       "</tr>\n",
       "<tr>\n",
       "  <th>Skew:</th>          <td>-0.083</td> <th>  Prob(JB):          </th> <td>   0.259</td>\n",
       "</tr>\n",
       "<tr>\n",
       "  <th>Kurtosis:</th>      <td> 2.211</td> <th>  Cond. No.          </th> <td>    1.11</td>\n",
       "</tr>\n",
       "</table><br/><br/>Notes:<br/>[1] Standard Errors assume that the covariance matrix of the errors is correctly specified."
      ],
      "text/plain": [
       "<class 'statsmodels.iolib.summary.Summary'>\n",
       "\"\"\"\n",
       "                            OLS Regression Results                            \n",
       "==============================================================================\n",
       "Dep. Variable:                 Income   R-squared:                       0.737\n",
       "Model:                            OLS   Adj. R-squared:                  0.734\n",
       "Method:                 Least Squares   F-statistic:                     274.1\n",
       "Date:                Thu, 30 Sep 2021   Prob (F-statistic):           3.77e-30\n",
       "Time:                        23:16:14   Log-Likelihood:                 51.490\n",
       "No. Observations:                 100   AIC:                            -98.98\n",
       "Df Residuals:                      98   BIC:                            -93.77\n",
       "Df Model:                           1                                         \n",
       "Covariance Type:            nonrobust                                         \n",
       "==============================================================================\n",
       "                 coef    std err          t      P>|t|      [0.025      0.975]\n",
       "------------------------------------------------------------------------------\n",
       "Intercept  -1.475e-16      0.015  -1.01e-14      1.000      -0.029       0.029\n",
       "Age            0.2171      0.013     16.557      0.000       0.191       0.243\n",
       "==============================================================================\n",
       "Omnibus:                        5.664   Durbin-Watson:                   2.080\n",
       "Prob(Omnibus):                  0.059   Jarque-Bera (JB):                2.705\n",
       "Skew:                          -0.083   Prob(JB):                        0.259\n",
       "Kurtosis:                       2.211   Cond. No.                         1.11\n",
       "==============================================================================\n",
       "\n",
       "Notes:\n",
       "[1] Standard Errors assume that the covariance matrix of the errors is correctly specified.\n",
       "\"\"\""
      ]
     },
     "execution_count": 16,
     "metadata": {},
     "output_type": "execute_result"
    }
   ],
   "source": [
    "df = pd.DataFrame([])\n",
    "df['Income']=x\n",
    "df['Age']=y\n",
    "model = smfOLS(\"Income ~ Age\", data=df)\n",
    "model.fit().summary()"
   ]
  },
  {
   "cell_type": "markdown",
   "metadata": {},
   "source": [
    "### What if the outcome variable is discrete, like \"getting married\". We could try"
   ]
  },
  {
   "cell_type": "code",
   "execution_count": 17,
   "metadata": {},
   "outputs": [],
   "source": [
    "x=np.random.uniform(size=100)\n",
    "x=x-x.mean()\n",
    "eps=np.random.uniform(size=100)*2\n",
    "eps=eps-eps.mean()\n",
    "\n",
    "y = (np.sign(3.45*x + eps)+1)/2"
   ]
  },
  {
   "cell_type": "code",
   "execution_count": 18,
   "metadata": {},
   "outputs": [
    {
     "data": {
      "text/plain": [
       "<AxesSubplot:>"
      ]
     },
     "execution_count": 18,
     "metadata": {},
     "output_type": "execute_result"
    },
    {
     "data": {
      "image/png": "[encoded data removed]",
      "text/plain": [
       "<Figure size 576x576 with 1 Axes>"
      ]
     },
     "metadata": {},
     "output_type": "display_data"
    }
   ],
   "source": [
    "sb.regplot(x=x, y=y)"
   ]
  },
  {
   "cell_type": "code",
   "execution_count": 19,
   "metadata": {},
   "outputs": [
    {
     "data": {
      "text/html": [
       "<table class=\"simpletable\">\n",
       "<caption>OLS Regression Results</caption>\n",
       "<tr>\n",
       "  <th>Dep. Variable:</th>          <td>Univ</td>       <th>  R-squared:         </th> <td>   0.535</td>\n",
       "</tr>\n",
       "<tr>\n",
       "  <th>Model:</th>                   <td>OLS</td>       <th>  Adj. R-squared:    </th> <td>   0.530</td>\n",
       "</tr>\n",
       "<tr>\n",
       "  <th>Method:</th>             <td>Least Squares</td>  <th>  F-statistic:       </th> <td>   112.5</td>\n",
       "</tr>\n",
       "<tr>\n",
       "  <th>Date:</th>             <td>Thu, 30 Sep 2021</td> <th>  Prob (F-statistic):</th> <td>5.80e-18</td>\n",
       "</tr>\n",
       "<tr>\n",
       "  <th>Time:</th>                 <td>23:16:17</td>     <th>  Log-Likelihood:    </th> <td> -33.840</td>\n",
       "</tr>\n",
       "<tr>\n",
       "  <th>No. Observations:</th>      <td>   100</td>      <th>  AIC:               </th> <td>   71.68</td>\n",
       "</tr>\n",
       "<tr>\n",
       "  <th>Df Residuals:</th>          <td>    98</td>      <th>  BIC:               </th> <td>   76.89</td>\n",
       "</tr>\n",
       "<tr>\n",
       "  <th>Df Model:</th>              <td>     1</td>      <th>                     </th>     <td> </td>   \n",
       "</tr>\n",
       "<tr>\n",
       "  <th>Covariance Type:</th>      <td>nonrobust</td>    <th>                     </th>     <td> </td>   \n",
       "</tr>\n",
       "</table>\n",
       "<table class=\"simpletable\">\n",
       "<tr>\n",
       "      <td></td>         <th>coef</th>     <th>std err</th>      <th>t</th>      <th>P>|t|</th>  <th>[0.025</th>    <th>0.975]</th>  \n",
       "</tr>\n",
       "<tr>\n",
       "  <th>Intercept</th> <td>    0.5500</td> <td>    0.034</td> <td>   16.042</td> <td> 0.000</td> <td>    0.482</td> <td>    0.618</td>\n",
       "</tr>\n",
       "<tr>\n",
       "  <th>Income</th>    <td>    1.2633</td> <td>    0.119</td> <td>   10.609</td> <td> 0.000</td> <td>    1.027</td> <td>    1.500</td>\n",
       "</tr>\n",
       "</table>\n",
       "<table class=\"simpletable\">\n",
       "<tr>\n",
       "  <th>Omnibus:</th>       <td> 0.421</td> <th>  Durbin-Watson:     </th> <td>   1.878</td>\n",
       "</tr>\n",
       "<tr>\n",
       "  <th>Prob(Omnibus):</th> <td> 0.810</td> <th>  Jarque-Bera (JB):  </th> <td>   0.574</td>\n",
       "</tr>\n",
       "<tr>\n",
       "  <th>Skew:</th>          <td> 0.030</td> <th>  Prob(JB):          </th> <td>   0.751</td>\n",
       "</tr>\n",
       "<tr>\n",
       "  <th>Kurtosis:</th>      <td> 2.634</td> <th>  Cond. No.          </th> <td>    3.47</td>\n",
       "</tr>\n",
       "</table><br/><br/>Notes:<br/>[1] Standard Errors assume that the covariance matrix of the errors is correctly specified."
      ],
      "text/plain": [
       "<class 'statsmodels.iolib.summary.Summary'>\n",
       "\"\"\"\n",
       "                            OLS Regression Results                            \n",
       "==============================================================================\n",
       "Dep. Variable:                   Univ   R-squared:                       0.535\n",
       "Model:                            OLS   Adj. R-squared:                  0.530\n",
       "Method:                 Least Squares   F-statistic:                     112.5\n",
       "Date:                Thu, 30 Sep 2021   Prob (F-statistic):           5.80e-18\n",
       "Time:                        23:16:17   Log-Likelihood:                -33.840\n",
       "No. Observations:                 100   AIC:                             71.68\n",
       "Df Residuals:                      98   BIC:                             76.89\n",
       "Df Model:                           1                                         \n",
       "Covariance Type:            nonrobust                                         \n",
       "==============================================================================\n",
       "                 coef    std err          t      P>|t|      [0.025      0.975]\n",
       "------------------------------------------------------------------------------\n",
       "Intercept      0.5500      0.034     16.042      0.000       0.482       0.618\n",
       "Income         1.2633      0.119     10.609      0.000       1.027       1.500\n",
       "==============================================================================\n",
       "Omnibus:                        0.421   Durbin-Watson:                   1.878\n",
       "Prob(Omnibus):                  0.810   Jarque-Bera (JB):                0.574\n",
       "Skew:                           0.030   Prob(JB):                        0.751\n",
       "Kurtosis:                       2.634   Cond. No.                         3.47\n",
       "==============================================================================\n",
       "\n",
       "Notes:\n",
       "[1] Standard Errors assume that the covariance matrix of the errors is correctly specified.\n",
       "\"\"\""
      ]
     },
     "execution_count": 19,
     "metadata": {},
     "output_type": "execute_result"
    }
   ],
   "source": [
    "df = pd.DataFrame([])\n",
    "df['Income']=x\n",
    "df['Univ'] = y\n",
    "model = smfOLS(\"Univ ~ Income\", data=df)\n",
    "model.fit().summary()"
   ]
  },
  {
   "cell_type": "markdown",
   "metadata": {},
   "source": [
    "### Clearly, this is a very poor fitting/prediction exercise\n",
    "### It would be great to have a model where\n",
    "- the fitted values are between 0 and 1\n",
    "- the optimization is convex\n",
    "- could use covariates"
   ]
  },
  {
   "cell_type": "code",
   "execution_count": 20,
   "metadata": {},
   "outputs": [
    {
     "data": {
      "text/plain": [
       "<AxesSubplot:>"
      ]
     },
     "execution_count": 20,
     "metadata": {},
     "output_type": "execute_result"
    },
    {
     "data": {
      "image/png": "[encoded data removed]",
      "text/plain": [
       "<Figure size 576x576 with 1 Axes>"
      ]
     },
     "metadata": {},
     "output_type": "display_data"
    }
   ],
   "source": [
    "sb.regplot(x=x, y=y, logistic = True)"
   ]
  },
  {
   "cell_type": "code",
   "execution_count": 21,
   "metadata": {},
   "outputs": [
    {
     "name": "stdout",
     "output_type": "stream",
     "text": [
      "Optimization terminated successfully.\n",
      "         Current function value: 0.341218\n",
      "         Iterations 7\n"
     ]
    },
    {
     "data": {
      "text/html": [
       "<table class=\"simpletable\">\n",
       "<caption>Logit Regression Results</caption>\n",
       "<tr>\n",
       "  <th>Dep. Variable:</th>         <td>Univ</td>       <th>  No. Observations:  </th>  <td>   100</td>  \n",
       "</tr>\n",
       "<tr>\n",
       "  <th>Model:</th>                 <td>Logit</td>      <th>  Df Residuals:      </th>  <td>    98</td>  \n",
       "</tr>\n",
       "<tr>\n",
       "  <th>Method:</th>                 <td>MLE</td>       <th>  Df Model:          </th>  <td>     1</td>  \n",
       "</tr>\n",
       "<tr>\n",
       "  <th>Date:</th>            <td>Thu, 30 Sep 2021</td> <th>  Pseudo R-squ.:     </th>  <td>0.5041</td>  \n",
       "</tr>\n",
       "<tr>\n",
       "  <th>Time:</th>                <td>23:16:25</td>     <th>  Log-Likelihood:    </th> <td> -34.122</td> \n",
       "</tr>\n",
       "<tr>\n",
       "  <th>converged:</th>             <td>True</td>       <th>  LL-Null:           </th> <td> -68.814</td> \n",
       "</tr>\n",
       "<tr>\n",
       "  <th>Covariance Type:</th>     <td>nonrobust</td>    <th>  LLR p-value:       </th> <td>8.103e-17</td>\n",
       "</tr>\n",
       "</table>\n",
       "<table class=\"simpletable\">\n",
       "<tr>\n",
       "      <td></td>         <th>coef</th>     <th>std err</th>      <th>z</th>      <th>P>|z|</th>  <th>[0.025</th>    <th>0.975]</th>  \n",
       "</tr>\n",
       "<tr>\n",
       "  <th>Intercept</th> <td>    0.4801</td> <td>    0.316</td> <td>    1.522</td> <td> 0.128</td> <td>   -0.138</td> <td>    1.098</td>\n",
       "</tr>\n",
       "<tr>\n",
       "  <th>Income</th>    <td>    9.6120</td> <td>    1.861</td> <td>    5.166</td> <td> 0.000</td> <td>    5.965</td> <td>   13.259</td>\n",
       "</tr>\n",
       "</table>"
      ],
      "text/plain": [
       "<class 'statsmodels.iolib.summary.Summary'>\n",
       "\"\"\"\n",
       "                           Logit Regression Results                           \n",
       "==============================================================================\n",
       "Dep. Variable:                   Univ   No. Observations:                  100\n",
       "Model:                          Logit   Df Residuals:                       98\n",
       "Method:                           MLE   Df Model:                            1\n",
       "Date:                Thu, 30 Sep 2021   Pseudo R-squ.:                  0.5041\n",
       "Time:                        23:16:25   Log-Likelihood:                -34.122\n",
       "converged:                       True   LL-Null:                       -68.814\n",
       "Covariance Type:            nonrobust   LLR p-value:                 8.103e-17\n",
       "==============================================================================\n",
       "                 coef    std err          z      P>|z|      [0.025      0.975]\n",
       "------------------------------------------------------------------------------\n",
       "Intercept      0.4801      0.316      1.522      0.128      -0.138       1.098\n",
       "Income         9.6120      1.861      5.166      0.000       5.965      13.259\n",
       "==============================================================================\n",
       "\"\"\""
      ]
     },
     "execution_count": 21,
     "metadata": {},
     "output_type": "execute_result"
    }
   ],
   "source": [
    "df = pd.DataFrame([])\n",
    "df['Income']=x\n",
    "df['Univ']=y\n",
    "model = smfLGT(\"Univ ~ Income\", data=df)\n",
    "model.fit().summary()"
   ]
  },
  {
   "cell_type": "markdown",
   "metadata": {},
   "source": [
    "### A classic interpretation of the regression is estimating a certain parameter of the distribution of $(X,Y)$, modeled in a particular functional form, which is computationally convenient and easy to interpret\n",
    "- standard ols regression is linear in X conditional average: $$E[Y|X]=\\beta' X$$\n",
    "- logistic regression is \"logistic\" in X conditional probability: $$\\mathbb{E}[I(Y=1)|X] = Pr(Y=1|X)=\\frac{1}{1+\\exp(-\\beta' X)}$$\n",
    "\n",
    "### Apart from being computationally feasible (back in 20 century) the $F(z)=\\frac{1}{1+\\exp(-z)}$ transformation has image in [0,1], and is monotone. While it is not immediately obvious, there exist simple joint distributions that give rise to such functional forms. Although people care less about it these days\n",
    "\n",
    "### In fact, both the OLS and Logit are maximum likelihood estimators in respective econometric models\n",
    "- classic ols is $$y_i = \\beta x_i + \\sigma \\varepsilon, \\quad \\varepsilon \\sim \\mathcal{N}(0,1)$$ where you observe $x_i$, $y_i$.\n",
    "- classic logit is $$y_i = \\beta x_i + \\sigma \\varepsilon, \\quad \\varepsilon \\sim Logistic$$ but you observe $x_i$, $I(y_i>0)$.\n",
    "\n",
    "### A general theorem argues that MLE consistently estimates the parameters (betas): Abraham Wald, (1949), Note on the Consistency of the Maximum Likelihood Estimate, Ann. Math. Stat.\n",
    "\n",
    "### We can verify the functional forms by hand:\n",
    "\n",
    "- ols: $$\\mathbb{E}[y_i|x_i] = \\beta' x_i + \\sigma \\mathbb{E}[\\varepsilon|x_i]=\\beta' x_i$$\n",
    "- logit: $$Pr(y_i=1) = \\mathbb{E}[y_i>0|x_i] = \\mathbb{E}[\\varepsilon_i>(-\\beta' x_i)/\\sigma|x_i]=$$ \n",
    "$$= \\mathbb{E}[-\\tilde\\varepsilon_i>(-\\beta' x_i)/\\sigma|x_i]= \\mathbb{E}[\\tilde\\varepsilon_i<(\\beta' x_i)/\\sigma|x_i]=F(\\beta' x_i/\\sigma)$$\n",
    "since $\\tilde \\varepsilon=-\\varepsilon$ by symmetry"
   ]
  },
  {
   "cell_type": "markdown",
   "metadata": {},
   "source": [
    "### We can verify the likelihoods\n",
    "- ols: $$f_{nor}(\\varepsilon)=\\frac{1}{\\sqrt{2 \\pi}}\\exp^{\\frac{-\\varepsilon^2}{2}} \\quad \\Rightarrow \\quad \\mathcal{LL}=\\sum_{i=1}^n \\frac{-\\varepsilon_i^2}{2} + K = \\frac{-1}{\\sigma^2} \\sum (y_i - \\beta' x_i)^2 + K \\to \\max_{\\beta, \\sigma}$$\n",
    "- logit: $$F_{log}(\\varepsilon)=\\frac{1}{1+\\exp^{-\\varepsilon}}=1-F_{log}(-\\varepsilon) \\quad \\Rightarrow \\quad \\mathcal{L}=\\prod F^{y_i}(\\beta' x_i /\\sigma) \\cdot (1-F(\\beta' x_i /\\sigma))^{1-y_i}$$\n",
    "$$ \\mathcal{LL} = \\sum_{y_i = 1} \\log \\frac{1}{1+\\exp(-\\beta' x_i /\\sigma)} + \\sum_{y_i = 0} \\log \\frac{\\exp(-\\beta' x_i /\\sigma)}{1+\\exp(-\\beta' x_i /\\sigma)} \\to \\max_{\\beta, \\sigma}$$\n",
    "$$ \\mathcal{LL} = \\sum_{y_i = 1} \\log \\frac{1}{1+\\exp(-\\beta' x_i /\\sigma)} + \\sum_{y_i = 0} \\log \\frac{1}{1+\\exp(\\beta' x_i /\\sigma)} \\to \\max_{\\beta, \\sigma}$$\n",
    "- the latter is, in fact, the definition of logit\n",
    "- there is one problem, however, that $\\beta, \\sigma$ are not jointly identified in the population\n",
    "- if we add a constant into the regression, $\\beta_0$ would be exactly equal to $1/\\sigma$, so... always add a constant"
   ]
  },
  {
   "cell_type": "markdown",
   "metadata": {},
   "source": [
    "### Time has come to assess convexity of the optimization problem. \n",
    "$$ \\mathcal{LL} = \\sum_{y_i = 0} (-\\beta' x_i /\\sigma) - \\sum_{all} \\log(1+\\exp(-\\beta' x_i /\\sigma)) \\to \\max_{\\beta}$$\n",
    "### The thing is that $1+\\exp(-z)$ is also log-concave, thus the log-likelihood (but not likeligood) is concave"
   ]
  },
  {
   "cell_type": "markdown",
   "metadata": {},
   "source": [
    "## How about the regularization?"
   ]
  },
  {
   "cell_type": "markdown",
   "metadata": {},
   "source": [
    "### If logit itself is convex, so it the regularization\n",
    "- ols: $$ \\quad Loss = \\frac{1}{2n}\\sum (y_i - \\beta' x_i)^2 + a * ||w||_1 + b * \\frac{||w||^2_2}{2} \\to \\min_{\\beta}, \\quad \\text{where} \\quad l1_{ratio} = \\frac{a}{a+b}, \\quad \\alpha=a+b$$\n",
    "- logit: $$ \\quad Loss = \\sum \\log(1+\\exp(-y_i \\beta' x_i)) + a * ||w||_1 + b * \\frac{||w||^2_2}{2} \\to \\min_{\\beta}, \\quad \\text{where} \\quad l1_{ratio} = \\frac{a}{a+b}, \\quad \\alpha=a+b$$"
   ]
  },
  {
   "cell_type": "markdown",
   "metadata": {},
   "source": [
    "### Warning!!! Here $y_i$ takes values $\\{-1,1\\}$, as is a tradition in CS. This can be confusing.\n",
    "- CS  : $\\mathcal{L}=\\prod F^{\\frac{1+y_i}{2}}(\\beta' x_i /\\sigma) \\cdot (1-F(\\beta' x_i /\\sigma))^{\\frac{1-y_i}{2}} = \\prod F(y_i \\cdot \\beta' x_i /\\sigma)$ and $y_i \\in \\{-1,1\\}$\n",
    "- ECON: $\\mathcal{L}=\\prod F^{y_i}(\\beta' x_i /\\sigma) \\cdot (1-F(\\beta' x_i /\\sigma))^{1-y_i}$ and $y_i \\in \\{0,1\\}$"
   ]
  },
  {
   "cell_type": "markdown",
   "metadata": {},
   "source": [
    "### Assignment 1 (1 point): Prove the equivalence of the two approaches, that is, $\\hat \\beta$ would be the same if we redefine $y$"
   ]
  },
  {
   "cell_type": "code",
   "execution_count": 11,
   "metadata": {},
   "outputs": [],
   "source": [
    "def OLS_loss(Y, X, beta, a, b):\n",
    "    z = Y - X@beta\n",
    "    return np.square(z).sum()/(2*Y.size) + a*np.abs(beta).sum() + b*np.square(beta).sum()/2\n",
    "\n",
    "def LGT_loss(Y, X, beta, a, b):\n",
    "    z = -Y*X@beta\n",
    "    o = np.ones(Y.size)\n",
    "    return np.logaddexp(o, z).sum() + a*np.abs(beta).sum() + b*np.square(beta).sum()/2"
   ]
  },
  {
   "cell_type": "code",
   "execution_count": null,
   "metadata": {},
   "outputs": [],
   "source": []
  },
  {
   "cell_type": "code",
   "execution_count": null,
   "metadata": {},
   "outputs": [],
   "source": []
  },
  {
   "cell_type": "markdown",
   "metadata": {},
   "source": [
    "### Assignment 2 (1 point): Find and fix the error in the code above"
   ]
  },
  {
   "cell_type": "markdown",
   "metadata": {},
   "source": [
    "### Lets try sklearn (that is part of CS community)"
   ]
  },
  {
   "cell_type": "code",
   "execution_count": 199,
   "metadata": {},
   "outputs": [],
   "source": [
    "from sklearn.linear_model import Ridge as skRidge\n",
    "from sklearn.linear_model import Lasso as skLasso\n",
    "from sklearn.linear_model import ElasticNet as skEN\n",
    "\n",
    "from sklearn.linear_model import LogisticRegression as skLGT"
   ]
  },
  {
   "cell_type": "code",
   "execution_count": 205,
   "metadata": {},
   "outputs": [],
   "source": [
    "x=np.random.normal(size=1000)\n",
    "eps=np.random.logistic(size=1000)\n",
    "\n",
    "# careful here goes -1,1\n",
    "y = np.sign(1 + 2*x + eps)\n",
    "x = x.reshape(1000, 1)"
   ]
  },
  {
   "cell_type": "code",
   "execution_count": 206,
   "metadata": {},
   "outputs": [
    {
     "data": {
      "text/plain": [
       "(dtype('float64'), dtype('float64'))"
      ]
     },
     "execution_count": 206,
     "metadata": {},
     "output_type": "execute_result"
    }
   ],
   "source": [
    "# Use C-ordered arrays or CSR matrices containing 64-bit floats for optimal performance\n",
    "x.dtype, y.dtype"
   ]
  },
  {
   "cell_type": "code",
   "execution_count": 207,
   "metadata": {},
   "outputs": [
    {
     "data": {
      "text/plain": [
       "<Signature (penalty='l2', *, dual=False, tol=0.0001, C=1.0, fit_intercept=True, intercept_scaling=1, class_weight=None, random_state=None, solver='lbfgs', max_iter=100, multi_class='auto', verbose=0, warm_start=False, n_jobs=None, l1_ratio=None)>"
      ]
     },
     "execution_count": 207,
     "metadata": {},
     "output_type": "execute_result"
    }
   ],
   "source": [
    "sig(skLGT)"
   ]
  },
  {
   "cell_type": "code",
   "execution_count": 208,
   "metadata": {},
   "outputs": [],
   "source": [
    "#sk_options={'penalty':'elasticnet', 'solver':'saga', \n",
    "#            'fit_intercept':True, 'l1_ratio':1, 'C':1,\n",
    "#            'verbose':1, 'n_jobs':10}\n",
    "                    \n",
    "sk_options = {}"
   ]
  },
  {
   "cell_type": "code",
   "execution_count": 209,
   "metadata": {},
   "outputs": [
    {
     "data": {
      "text/plain": [
       "(array([1.03119262]), array([[1.98947361]]))"
      ]
     },
     "execution_count": 209,
     "metadata": {},
     "output_type": "execute_result"
    }
   ],
   "source": [
    "model = skLGT(**sk_options).fit(x,y)\n",
    "model.intercept_, model.coef_"
   ]
  },
  {
   "cell_type": "markdown",
   "metadata": {},
   "source": [
    "### Lets try statsmodels (thats part of Econ community)"
   ]
  },
  {
   "cell_type": "code",
   "execution_count": 210,
   "metadata": {},
   "outputs": [],
   "source": [
    "import statsmodels.formula.api as smf"
   ]
  },
  {
   "cell_type": "code",
   "execution_count": 211,
   "metadata": {},
   "outputs": [],
   "source": [
    "yecon = (y+1)/2"
   ]
  },
  {
   "cell_type": "code",
   "execution_count": 213,
   "metadata": {},
   "outputs": [
    {
     "data": {
      "text/plain": [
       "(1000, 2)"
      ]
     },
     "execution_count": 213,
     "metadata": {},
     "output_type": "execute_result"
    }
   ],
   "source": [
    "data = np.hstack((x, yecon.reshape(1000, 1)))\n",
    "data.shape"
   ]
  },
  {
   "cell_type": "code",
   "execution_count": 214,
   "metadata": {},
   "outputs": [
    {
     "data": {
      "text/html": [
       "<div>\n",
       "<style scoped>\n",
       "    .dataframe tbody tr th:only-of-type {\n",
       "        vertical-align: middle;\n",
       "    }\n",
       "\n",
       "    .dataframe tbody tr th {\n",
       "        vertical-align: top;\n",
       "    }\n",
       "\n",
       "    .dataframe thead th {\n",
       "        text-align: right;\n",
       "    }\n",
       "</style>\n",
       "<table border=\"1\" class=\"dataframe\">\n",
       "  <thead>\n",
       "    <tr style=\"text-align: right;\">\n",
       "      <th></th>\n",
       "      <th>x</th>\n",
       "      <th>y</th>\n",
       "    </tr>\n",
       "  </thead>\n",
       "  <tbody>\n",
       "    <tr>\n",
       "      <th>0</th>\n",
       "      <td>-0.897074</td>\n",
       "      <td>1.0</td>\n",
       "    </tr>\n",
       "    <tr>\n",
       "      <th>1</th>\n",
       "      <td>-0.485925</td>\n",
       "      <td>0.0</td>\n",
       "    </tr>\n",
       "    <tr>\n",
       "      <th>2</th>\n",
       "      <td>0.750426</td>\n",
       "      <td>1.0</td>\n",
       "    </tr>\n",
       "    <tr>\n",
       "      <th>3</th>\n",
       "      <td>-1.651639</td>\n",
       "      <td>0.0</td>\n",
       "    </tr>\n",
       "    <tr>\n",
       "      <th>4</th>\n",
       "      <td>1.604647</td>\n",
       "      <td>1.0</td>\n",
       "    </tr>\n",
       "  </tbody>\n",
       "</table>\n",
       "</div>"
      ],
      "text/plain": [
       "          x    y\n",
       "0 -0.897074  1.0\n",
       "1 -0.485925  0.0\n",
       "2  0.750426  1.0\n",
       "3 -1.651639  0.0\n",
       "4  1.604647  1.0"
      ]
     },
     "execution_count": 214,
     "metadata": {},
     "output_type": "execute_result"
    }
   ],
   "source": [
    "df = pd.DataFrame(data, columns = ['x', 'y'])\n",
    "df.head()"
   ]
  },
  {
   "cell_type": "code",
   "execution_count": 233,
   "metadata": {},
   "outputs": [
    {
     "name": "stdout",
     "output_type": "stream",
     "text": [
      "Optimization terminated successfully.\n",
      "         Current function value: 0.430092\n",
      "         Iterations 7\n"
     ]
    }
   ],
   "source": [
    "formula = 'y ~ x'\n",
    "model = smf.logit(formula, data=df).fit()"
   ]
  },
  {
   "cell_type": "code",
   "execution_count": 234,
   "metadata": {},
   "outputs": [
    {
     "data": {
      "text/plain": [
       "<Signature (formula, data, subset=None, drop_cols=None, *args, **kwargs)>"
      ]
     },
     "execution_count": 234,
     "metadata": {},
     "output_type": "execute_result"
    }
   ],
   "source": [
    "from inspect import signature\n",
    "signature(smf.logit)"
   ]
  },
  {
   "cell_type": "code",
   "execution_count": 235,
   "metadata": {},
   "outputs": [
    {
     "data": {
      "text/plain": [
       "Intercept    1.041848\n",
       "x            2.024607\n",
       "dtype: float64"
      ]
     },
     "execution_count": 235,
     "metadata": {},
     "output_type": "execute_result"
    }
   ],
   "source": [
    "model.params"
   ]
  },
  {
   "cell_type": "markdown",
   "metadata": {},
   "source": [
    "### Assignment 3 (3 point): Write your own logistic regression that replicates the output of the function below"
   ]
  },
  {
   "cell_type": "code",
   "execution_count": 254,
   "metadata": {},
   "outputs": [
    {
     "name": "stdout",
     "output_type": "stream",
     "text": [
      "Optimization terminated successfully.\n",
      "         Current function value: 0.430092\n",
      "         Iterations 7\n"
     ]
    }
   ],
   "source": [
    "def assignment_3(formula, data):\n",
    "    model = smf.logit(formula, data=df).fit()\n",
    "    return model.params\n",
    "    \n",
    "x = assignment_3('y ~ x', df)"
   ]
  },
  {
   "cell_type": "code",
   "execution_count": 255,
   "metadata": {},
   "outputs": [
    {
     "data": {
      "text/plain": [
       "Intercept    1.041848\n",
       "x            2.024607\n",
       "dtype: float64"
      ]
     },
     "execution_count": 255,
     "metadata": {},
     "output_type": "execute_result"
    }
   ],
   "source": [
    "x"
   ]
  },
  {
   "cell_type": "markdown",
   "metadata": {},
   "source": [
    "### Average Marginal Effects\n",
    "- ols $$\\mathbb{E}_x[\\frac{\\mathbb{E}_{\\varepsilon}[Y|X]}{\\partial X}] = \\mathbb{E}_x[\\beta] = \\beta$$\n",
    "- logit $$\\mathbb{E}_x[\\frac{Prob_{\\varepsilon}(Y=1|X)}{\\partial X}] = \\mathbb{E}_x[\\frac{F(\\beta' X)}{\\partial X}] = \\beta * \\mathbb{E}_x[f(\\beta' X)] \\approx \\frac{\\beta}{n} \\sum_{i=1}^n \\frac{\\exp^{-\\beta' x_i}}{(1+\\exp^{-\\beta' x_i})^2}$$\n",
    "\n",
    "### in ols local = average, but in logit local != average due to linearity. we always want average effects"
   ]
  },
  {
   "cell_type": "markdown",
   "metadata": {},
   "source": [
    "### Assignment 4 (2 points): Write your own logistic regression with $\\alpha$ and $l1ratio$ as parameters"
   ]
  },
  {
   "cell_type": "markdown",
   "metadata": {},
   "source": [
    "### Assignment 5 (3 points): Write your own logistic regression with number of folds as parameter"
   ]
  },
  {
   "cell_type": "markdown",
   "metadata": {},
   "source": [
    "### Assignment 6 (bonus 5 points): Write the ordered/latent/rand logit and compare to existing library"
   ]
  },
  {
   "cell_type": "markdown",
   "metadata": {},
   "source": [
    "### Assignment 7 (bonus 5 points): Write confident Logit with crossvalidation for window size"
   ]
  },
  {
   "cell_type": "markdown",
   "metadata": {},
   "source": [
    "### Comments for the HA\n",
    "- deadline in 2 weeks\n",
    "- this completes Test 1\n",
    "- these are fully individual tasks, no cheating, please. \n",
    "- confirmed cheating will halve your grade.\n",
    "- test your results against a simulation\n",
    "- use markdowns to explain what you are doing\n",
    "- for each task, make a main() function with an intuitive interface\n",
    "- 2 groups is enough for \"confident\" logit\n",
    "- 3 groups is enough for \"ordered\" logit"
   ]
  }
 ],
 "metadata": {
  "kernelspec": {
   "display_name": "Python 3",
   "language": "python",
   "name": "python3"
  },
  "language_info": {
   "codemirror_mode": {
    "name": "ipython",
    "version": 3
   },
   "file_extension": ".py",
   "mimetype": "text/x-python",
   "name": "python",
   "nbconvert_exporter": "python",
   "pygments_lexer": "ipython3",
   "version": "3.8.7"
  }
 },
 "nbformat": 4,
 "nbformat_minor": 4
}
