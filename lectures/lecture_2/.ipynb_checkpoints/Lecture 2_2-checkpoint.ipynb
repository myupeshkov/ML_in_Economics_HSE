{
 "cells": [
  {
   "cell_type": "markdown",
   "metadata": {},
   "source": [
    "# ...do not forget about convex optimization"
   ]
  },
  {
   "cell_type": "markdown",
   "metadata": {},
   "source": [
    "# Part 2. Discrete choice interpretation of Logit"
   ]
  },
  {
   "cell_type": "markdown",
   "metadata": {},
   "source": [
    "### Logistic regression lies in the intersection of classification models (CS) and discrete choice models (Econ). I will talk first about the second interpretation\n",
    "\n",
    "Agent choses between goods 1,2 and default (0) and the utility is\n",
    "- $U_0 = V_0(X,Z) + \\varepsilon_0$ if bought nothing, $V_0(X,Z) = 0$\n",
    "- $U_1 = V_1(X,Z) + \\varepsilon_1$ if bought first, $V_1(X,Z) = \\alpha' Z + \\beta' X$\n",
    "- $U_2 = V_2(X,Z) + \\varepsilon_2$ if bought second, $V_2(X,Z) = \\alpha' Z + \\beta' X$\n",
    "\n",
    "where $Z$ are agent characteristics (income, region) and $X$ are product characteristics (price, volume)\n",
    "\n",
    "here $\\varepsilon_i$ is an i.i.d. error with an unusual Extreme Value distribution, such that $\\varepsilon_i - \\varepsilon_j$ is, in fact, logistic\n",
    "\n",
    "before we had only one good"
   ]
  },
  {
   "cell_type": "markdown",
   "metadata": {},
   "source": [
    "### We can compute the probabilities of buying each good"
   ]
  },
  {
   "cell_type": "markdown",
   "metadata": {},
   "source": [
    "- $P_0 = Prob(U_0 = \\max U_i) = Prob(\\varepsilon_j - \\varepsilon_0 < V_0 - V_j, \\forall j \\neq 0) = e^{V_0}/(e^{V_0} + e^{V_1} + e^{V_2})$\n",
    "- $P_1 = Prob(U_1 = \\max U_i) = Prob(\\varepsilon_j - \\varepsilon_1 < V_1 - V_j, \\forall j \\neq 1) = e^{V_1}/(e^{V_0} + e^{V_1} + e^{V_2})$\n",
    "- $P_2 = Prob(U_2 = \\max U_i) = Prob(\\varepsilon_j - \\varepsilon_2 < V_2 - V_j, \\forall j \\neq 2) = e^{V_2}/(e^{V_0} + e^{V_1} + e^{V_2})$"
   ]
  },
  {
   "cell_type": "markdown",
   "metadata": {},
   "source": [
    "### Notice that they add up to one\n",
    "### Probabilities can be interpreted as market shares (Sony vs Xbox)"
   ]
  },
  {
   "cell_type": "markdown",
   "metadata": {},
   "source": [
    "### This is your typical logit: $$ \\text{Share of good 1|z} = \\frac{e^{\\alpha' \\text{Z} + \\beta' p_1}}{1 + e^{\\alpha' \\text{Z}+ \\beta' p_{2}} + e^{\\alpha' \\text{Z}+ \\beta' p_{0}}}$$\n",
    "### \n",
    "- we can average over Z and we can apply logs, in any order you like (avg. log-share or log. avg-share)\n",
    "- we can differentiate to compute elasticities of market shares in own and cross prices"
   ]
  },
  {
   "cell_type": "markdown",
   "metadata": {},
   "source": [
    "### This maschinery turned out so effective that many extensions were developed\n",
    "- ordered logit\n",
    "- nested logit\n",
    "- random coefficient logit\n",
    "- latent group logit\n",
    "\n",
    "### All this can be found in Train, Discrete Choice Methods with Simulation, 2003 или 2009"
   ]
  },
  {
   "cell_type": "markdown",
   "metadata": {},
   "source": [
    "## 1. Ordered Logit \n",
    "### is just like logit but the alternatives are ordered. Consider data on schooling\n",
    "$$ U = V(X,Z) + \\varepsilon$$\n",
    "where $X$ are agent characteristics, а $Z$ это school characteristics, аnd $\\varepsilon$ is a logistic error\n",
    "\n",
    "- if utility $U<r_1$ go to school only $\\to$ good 0\n",
    "- if utility $r_1<U<r_2$ got to bachelor $\\to$ good 1\n",
    "- if utility $r_2<U<r_3$ go to magisters $\\to$ good 2\n",
    "- if utility $r_3>U$ go to PhD $\\to$ good 3\n",
    "\n",
    "we want thresholds $r_1, r_2, r_3$ as well as all other coefficients"
   ]
  },
  {
   "cell_type": "markdown",
   "metadata": {},
   "source": [
    "### All we need to do is to honestly derive shares of these \"goods\", \n",
    "$$ \\text{Share of good } 1 = Pr(r_1 < U < r_2) = Pr(U < r_2) - Pr(U < r_1)=$$ $$= Pr(\\varepsilon < r_2 - V(X,Z)) - Pr(\\varepsilon < r_1 - V(X,Z)) = \\frac{1}{1+\\exp(V(X,Z)-r_2)} - \\frac{1}{1+\\exp(V(X,Z)-r_1)}$$"
   ]
  },
  {
   "cell_type": "markdown",
   "metadata": {},
   "source": [
    "### Then patiently derive the whole likelihood\n",
    "$$ \\mathcal{LL} = \\sum_{y_i=0} \\log[\\frac{1}{1+\\exp(V(x_i,z_i)-r_1)}]+ \\sum_{y_i=1}\\log[\\frac{1}{1+\\exp(V(x_i,z_i)-r_2)}-\\frac{1}{1+\\exp(V(x_i,z_i)-r_1)}] + \\ldots + \\sum_{y_i = 3}\\log [1-\\frac{1}{1+\\exp(V(x_i,z_i)-r_1)}]$$"
   ]
  },
  {
   "cell_type": "markdown",
   "metadata": {},
   "source": [
    "### Add linear specification $V(X,Z) = \\alpha X + \\beta Z$\n",
    "### Is the likelihood concave in $\\alpha, \\beta, r$? Actually it is."
   ]
  },
  {
   "cell_type": "markdown",
   "metadata": {},
   "source": [
    "## 2. Latent group Logit\n",
    "### Sometimes we would like the coefficients to be correlated across certain groups. Say, for part of the population $\\beta_1$ and $\\beta_2$ are small and for part of the population $\\beta_1$ and $\\beta_2$ are large. The groups are latent and we can not observe them. There is no feature in the data to recover the group. \n",
    "\n",
    "### To model this we create 2 copies of coefficients $\\beta^1$ and $\\beta^2$ and an additional parameter $\\rho$ that measures the share of the first group. The model randomly assigns an individual into one of the two groups and he learns his coefficients there."
   ]
  },
  {
   "cell_type": "markdown",
   "metadata": {},
   "source": [
    "$$\\mathcal{L}=\\prod G(x)^{y_i} \\cdot (1-G(x))^{1-y_i}, \\quad G(x) = \\rho F(\\beta^1 x_i) + (1-\\rho)F(\\beta^2 x_i)$$"
   ]
  },
  {
   "cell_type": "markdown",
   "metadata": {},
   "source": [
    "### Is $\\mathcal{LL}$ concave in $\\beta_1, \\beta_2, \\rho$? Apparently yes, but thats the last of them."
   ]
  },
  {
   "cell_type": "markdown",
   "metadata": {},
   "source": [
    "## 3. Random Coefficients Logit\n",
    "### When there are too many groups, we would like a continuous style of correlation"
   ]
  },
  {
   "cell_type": "markdown",
   "metadata": {},
   "source": [
    "$$\\mathcal{L}=\\prod G(x)^{y_i} \\cdot (1-G(x))^{1-y_i}, \\quad G(x) = \\int F(\\beta x_i) d H(\\beta)$$\n",
    "where $H(\\beta)$ is a distribution with an unknown mean and covariance matrix."
   ]
  },
  {
   "cell_type": "markdown",
   "metadata": {},
   "source": [
    "### Is $\\mathcal{LL}$ concave? G is a sum but the coefficients depend on the parameters of the distribution in a convoluted way. For example, gaussian density is not concave. In fact, very few densities are."
   ]
  },
  {
   "cell_type": "markdown",
   "metadata": {},
   "source": [
    "### Even worse, $G(x)$ has no closed form and should be simulated. For example $\\beta$ is normally distributed with mean $\\gamma$ and variance $\\alpha^2$:\n",
    "$$\\beta = \\alpha \\mathcal{N}(0,1) + \\gamma, \\quad \\mathcal{LL} \\to \\max_{\\alpha, \\gamma}$$\n",
    "\n",
    "### We need to first simulate (outside of the loop) a large number of standard normal variables, then transform them (inside the loop) and use for numerical integration. That is because random number generation is expensive but linear transformations are very, very cheap."
   ]
  },
  {
   "cell_type": "markdown",
   "metadata": {},
   "source": [
    "## P.S. You can add regularization to any of those"
   ]
  }
 ],
 "metadata": {
  "kernelspec": {
   "display_name": "Python 3",
   "language": "python",
   "name": "python3"
  },
  "language_info": {
   "codemirror_mode": {
    "name": "ipython",
    "version": 3
   },
   "file_extension": ".py",
   "mimetype": "text/x-python",
   "name": "python",
   "nbconvert_exporter": "python",
   "pygments_lexer": "ipython3",
   "version": "3.8.7"
  }
 },
 "nbformat": 4,
 "nbformat_minor": 4
}
