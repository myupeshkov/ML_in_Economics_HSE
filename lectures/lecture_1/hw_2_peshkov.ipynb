{
 "cells": [
  {
   "cell_type": "markdown",
   "id": "stupid-hunter",
   "metadata": {},
   "source": [
    "# Home assignment (graded, individual, in 2 week)\n",
    "\n",
    "### Peshkov Maksim\n",
    "\n",
    "email to pandreyanov@gmail.com, use ipnb, use markdown, explain what you do"
   ]
  },
  {
   "cell_type": "markdown",
   "id": "forced-daily",
   "metadata": {},
   "source": [
    "## download packages and data"
   ]
  },
  {
   "cell_type": "code",
   "execution_count": 1,
   "id": "experimental-royal",
   "metadata": {},
   "outputs": [],
   "source": [
    "import scipy as sp\n",
    "import scipy.linalg as spla\n",
    "import scipy.optimize as spopt\n",
    "import scipy.stats as spst\n",
    "\n",
    "from sklearn.linear_model import LinearRegression as LR\n",
    "from sklearn.linear_model import ElasticNet\n",
    "from sklearn.model_selection import KFold\n",
    "\n",
    "import pandas as pd\n",
    "import numpy as np\n",
    "import matplotlib.pyplot as plt\n",
    "plt.rcParams['figure.figsize'] = (12,10)\n",
    "from tqdm.notebook import tqdm\n",
    "\n",
    "import numpy.linalg as npla\n",
    "\n",
    "import statsmodels.api as sm\n",
    "smfOLS = sm.regression.linear_model.OLS.from_formula"
   ]
  },
  {
   "cell_type": "code",
   "execution_count": 2,
   "id": "private-bench",
   "metadata": {},
   "outputs": [],
   "source": [
    "dat = sm.datasets.get_rdataset(\"Guerry\", \"HistData\").data"
   ]
  },
  {
   "cell_type": "code",
   "execution_count": 3,
   "id": "correct-render",
   "metadata": {},
   "outputs": [
    {
     "name": "stdout",
     "output_type": "stream",
     "text": [
      "<class 'pandas.core.frame.DataFrame'>\n",
      "RangeIndex: 86 entries, 0 to 85\n",
      "Data columns (total 23 columns):\n",
      " #   Column           Non-Null Count  Dtype  \n",
      "---  ------           --------------  -----  \n",
      " 0   dept             86 non-null     int64  \n",
      " 1   Region           85 non-null     object \n",
      " 2   Department       86 non-null     object \n",
      " 3   Crime_pers       86 non-null     int64  \n",
      " 4   Crime_prop       86 non-null     int64  \n",
      " 5   Literacy         86 non-null     int64  \n",
      " 6   Donations        86 non-null     int64  \n",
      " 7   Infants          86 non-null     int64  \n",
      " 8   Suicides         86 non-null     int64  \n",
      " 9   MainCity         86 non-null     object \n",
      " 10  Wealth           86 non-null     int64  \n",
      " 11  Commerce         86 non-null     int64  \n",
      " 12  Clergy           86 non-null     int64  \n",
      " 13  Crime_parents    86 non-null     int64  \n",
      " 14  Infanticide      86 non-null     int64  \n",
      " 15  Donation_clergy  86 non-null     int64  \n",
      " 16  Lottery          86 non-null     int64  \n",
      " 17  Desertion        86 non-null     int64  \n",
      " 18  Instruction      86 non-null     int64  \n",
      " 19  Prostitutes      86 non-null     int64  \n",
      " 20  Distance         86 non-null     float64\n",
      " 21  Area             86 non-null     int64  \n",
      " 22  Pop1831          86 non-null     float64\n",
      "dtypes: float64(2), int64(18), object(3)\n",
      "memory usage: 15.6+ KB\n"
     ]
    }
   ],
   "source": [
    "dat.info()"
   ]
  },
  {
   "cell_type": "markdown",
   "id": "focal-roommate",
   "metadata": {},
   "source": [
    "## Assignment 1 (2 points).\n",
    "Write a function assignment_1 that replicates the outcome of assignment_1_true on the *dat* dataset from the beginning of the notebook"
   ]
  },
  {
   "cell_type": "code",
   "execution_count": 4,
   "id": "outer-angola",
   "metadata": {},
   "outputs": [],
   "source": [
    "def assignment_1_true(formula, data):\n",
    "    \n",
    "    fit = smfOLS(formula, data = data).fit()\n",
    "    \n",
    "    return fit.conf_int()"
   ]
  },
  {
   "cell_type": "code",
   "execution_count": 5,
   "id": "cutting-helen",
   "metadata": {},
   "outputs": [
    {
     "data": {
      "text/html": [
       "<div>\n",
       "<style scoped>\n",
       "    .dataframe tbody tr th:only-of-type {\n",
       "        vertical-align: middle;\n",
       "    }\n",
       "\n",
       "    .dataframe tbody tr th {\n",
       "        vertical-align: top;\n",
       "    }\n",
       "\n",
       "    .dataframe thead th {\n",
       "        text-align: right;\n",
       "    }\n",
       "</style>\n",
       "<table border=\"1\" class=\"dataframe\">\n",
       "  <thead>\n",
       "    <tr style=\"text-align: right;\">\n",
       "      <th></th>\n",
       "      <th>0</th>\n",
       "      <th>1</th>\n",
       "    </tr>\n",
       "  </thead>\n",
       "  <tbody>\n",
       "    <tr>\n",
       "      <th>Intercept</th>\n",
       "      <td>-6.027115</td>\n",
       "      <td>41.046645</td>\n",
       "    </tr>\n",
       "    <tr>\n",
       "      <th>Literacy</th>\n",
       "      <td>-0.479342</td>\n",
       "      <td>0.179528</td>\n",
       "    </tr>\n",
       "    <tr>\n",
       "      <th>Donations</th>\n",
       "      <td>-0.000675</td>\n",
       "      <td>0.000954</td>\n",
       "    </tr>\n",
       "    <tr>\n",
       "      <th>Infants</th>\n",
       "      <td>-0.000005</td>\n",
       "      <td>0.001164</td>\n",
       "    </tr>\n",
       "    <tr>\n",
       "      <th>Wealth</th>\n",
       "      <td>0.096173</td>\n",
       "      <td>0.516922</td>\n",
       "    </tr>\n",
       "    <tr>\n",
       "      <th>Commerce</th>\n",
       "      <td>-0.100867</td>\n",
       "      <td>0.405366</td>\n",
       "    </tr>\n",
       "  </tbody>\n",
       "</table>\n",
       "</div>"
      ],
      "text/plain": [
       "                  0          1\n",
       "Intercept -6.027115  41.046645\n",
       "Literacy  -0.479342   0.179528\n",
       "Donations -0.000675   0.000954\n",
       "Infants   -0.000005   0.001164\n",
       "Wealth     0.096173   0.516922\n",
       "Commerce  -0.100867   0.405366"
      ]
     },
     "execution_count": 5,
     "metadata": {},
     "output_type": "execute_result"
    }
   ],
   "source": [
    "assignment_1_true('Lottery ~ Literacy + Donations + Infants + Wealth + Commerce', dat)"
   ]
  },
  {
   "cell_type": "code",
   "execution_count": 6,
   "id": "conventional-idaho",
   "metadata": {},
   "outputs": [],
   "source": [
    "def assignment_1(formula, data):\n",
    "    ycolumn = formula.split(' ~ ')[0]\n",
    "    xcolumns = formula.split(' ~ ')[1].split(' + ')\n",
    "    Y = data[ycolumn].values\n",
    "    X = data[xcolumns].values\n",
    "    X = sm.add_constant(X)\n",
    "    \n",
    "    # my code\n",
    "    beta = npla.solve(X.T@X, X.T@Y) #estimate beta\n",
    "\n",
    "    e = Y-X@beta #estimate residuals\n",
    "\n",
    "    sigma2 = (e.T@e)/(X.shape[0]-X.shape[1])\n",
    "\n",
    "    cov = sigma2*npla.inv(X.T@X) #covariance matrix\n",
    "\n",
    "    lower = beta - spst.t.ppf(1-0.025, X.shape[0]-X.shape[1])*np.sqrt(np.diag(cov)) #lower bondary\n",
    "    upper = beta + spst.t.ppf(1-0.025, X.shape[0]-X.shape[1])*np.sqrt(np.diag(cov)) #upper bondary\n",
    "\n",
    "    results = [[lower[i],upper[i]] for i in range(6)]\n",
    "\n",
    "    df = pd.DataFrame(results, columns = [0,1])\n",
    "    df.index = np.array(['Intercept'] + xcolumns)\n",
    "    \n",
    "    return df"
   ]
  },
  {
   "cell_type": "markdown",
   "id": "developmental-monte",
   "metadata": {},
   "source": [
    "### Check my function with true"
   ]
  },
  {
   "cell_type": "code",
   "execution_count": 7,
   "id": "spread-passenger",
   "metadata": {},
   "outputs": [
    {
     "data": {
      "text/html": [
       "<div>\n",
       "<style scoped>\n",
       "    .dataframe tbody tr th:only-of-type {\n",
       "        vertical-align: middle;\n",
       "    }\n",
       "\n",
       "    .dataframe tbody tr th {\n",
       "        vertical-align: top;\n",
       "    }\n",
       "\n",
       "    .dataframe thead th {\n",
       "        text-align: right;\n",
       "    }\n",
       "</style>\n",
       "<table border=\"1\" class=\"dataframe\">\n",
       "  <thead>\n",
       "    <tr style=\"text-align: right;\">\n",
       "      <th></th>\n",
       "      <th>0</th>\n",
       "      <th>1</th>\n",
       "    </tr>\n",
       "  </thead>\n",
       "  <tbody>\n",
       "    <tr>\n",
       "      <th>Intercept</th>\n",
       "      <td>-6.027115</td>\n",
       "      <td>41.046645</td>\n",
       "    </tr>\n",
       "    <tr>\n",
       "      <th>Literacy</th>\n",
       "      <td>-0.479342</td>\n",
       "      <td>0.179528</td>\n",
       "    </tr>\n",
       "    <tr>\n",
       "      <th>Donations</th>\n",
       "      <td>-0.000675</td>\n",
       "      <td>0.000954</td>\n",
       "    </tr>\n",
       "    <tr>\n",
       "      <th>Infants</th>\n",
       "      <td>-0.000005</td>\n",
       "      <td>0.001164</td>\n",
       "    </tr>\n",
       "    <tr>\n",
       "      <th>Wealth</th>\n",
       "      <td>0.096173</td>\n",
       "      <td>0.516922</td>\n",
       "    </tr>\n",
       "    <tr>\n",
       "      <th>Commerce</th>\n",
       "      <td>-0.100867</td>\n",
       "      <td>0.405366</td>\n",
       "    </tr>\n",
       "  </tbody>\n",
       "</table>\n",
       "</div>"
      ],
      "text/plain": [
       "                  0          1\n",
       "Intercept -6.027115  41.046645\n",
       "Literacy  -0.479342   0.179528\n",
       "Donations -0.000675   0.000954\n",
       "Infants   -0.000005   0.001164\n",
       "Wealth     0.096173   0.516922\n",
       "Commerce  -0.100867   0.405366"
      ]
     },
     "execution_count": 7,
     "metadata": {},
     "output_type": "execute_result"
    }
   ],
   "source": [
    "assignment_1('Lottery ~ Literacy + Donations + Infants + Wealth + Commerce', dat)"
   ]
  },
  {
   "cell_type": "code",
   "execution_count": 8,
   "id": "published-satisfaction",
   "metadata": {},
   "outputs": [
    {
     "data": {
      "text/html": [
       "<div>\n",
       "<style scoped>\n",
       "    .dataframe tbody tr th:only-of-type {\n",
       "        vertical-align: middle;\n",
       "    }\n",
       "\n",
       "    .dataframe tbody tr th {\n",
       "        vertical-align: top;\n",
       "    }\n",
       "\n",
       "    .dataframe thead th {\n",
       "        text-align: right;\n",
       "    }\n",
       "</style>\n",
       "<table border=\"1\" class=\"dataframe\">\n",
       "  <thead>\n",
       "    <tr style=\"text-align: right;\">\n",
       "      <th></th>\n",
       "      <th>0</th>\n",
       "      <th>1</th>\n",
       "    </tr>\n",
       "  </thead>\n",
       "  <tbody>\n",
       "    <tr>\n",
       "      <th>Intercept</th>\n",
       "      <td>-6.027115</td>\n",
       "      <td>41.046645</td>\n",
       "    </tr>\n",
       "    <tr>\n",
       "      <th>Literacy</th>\n",
       "      <td>-0.479342</td>\n",
       "      <td>0.179528</td>\n",
       "    </tr>\n",
       "    <tr>\n",
       "      <th>Donations</th>\n",
       "      <td>-0.000675</td>\n",
       "      <td>0.000954</td>\n",
       "    </tr>\n",
       "    <tr>\n",
       "      <th>Infants</th>\n",
       "      <td>-0.000005</td>\n",
       "      <td>0.001164</td>\n",
       "    </tr>\n",
       "    <tr>\n",
       "      <th>Wealth</th>\n",
       "      <td>0.096173</td>\n",
       "      <td>0.516922</td>\n",
       "    </tr>\n",
       "    <tr>\n",
       "      <th>Commerce</th>\n",
       "      <td>-0.100867</td>\n",
       "      <td>0.405366</td>\n",
       "    </tr>\n",
       "  </tbody>\n",
       "</table>\n",
       "</div>"
      ],
      "text/plain": [
       "                  0          1\n",
       "Intercept -6.027115  41.046645\n",
       "Literacy  -0.479342   0.179528\n",
       "Donations -0.000675   0.000954\n",
       "Infants   -0.000005   0.001164\n",
       "Wealth     0.096173   0.516922\n",
       "Commerce  -0.100867   0.405366"
      ]
     },
     "execution_count": 8,
     "metadata": {},
     "output_type": "execute_result"
    }
   ],
   "source": [
    "assignment_1_true('Lottery ~ Literacy + Donations + Infants + Wealth + Commerce', dat)"
   ]
  },
  {
   "cell_type": "markdown",
   "id": "academic-radius",
   "metadata": {},
   "source": [
    "## Assignment 2 (3 points).\n",
    "- Write a function that finds the coefficients for the **elastic net** regularized ols with coefficients $\\lambda$ and $\\mu$ of your choice\n",
    "- This time you do not need to find the standard errors"
   ]
  },
  {
   "cell_type": "markdown",
   "id": "posted-chile",
   "metadata": {},
   "source": [
    "### Make loss function of Elastic Net"
   ]
  },
  {
   "cell_type": "code",
   "execution_count": 9,
   "id": "electronic-allergy",
   "metadata": {},
   "outputs": [],
   "source": [
    "def loss_elastic_net(Y, X, beta, lamda, mu):\n",
    "    z = Y - X@beta\n",
    "    return z@z.T + lamda*(beta@beta.T) + mu*np.abs(beta).sum()"
   ]
  },
  {
   "cell_type": "markdown",
   "id": "taken-electron",
   "metadata": {},
   "source": [
    "### Estimating function coefficients for Elastic Net"
   ]
  },
  {
   "cell_type": "code",
   "execution_count": 10,
   "id": "boxed-morgan",
   "metadata": {},
   "outputs": [],
   "source": [
    "def assignment_2(formula, data, mu, lamda):\n",
    "    ycolumn = formula.split(' ~ ')[0]\n",
    "    xcolumns = formula.split(' ~ ')[1].split(' + ')\n",
    "    Y = data[ycolumn].values\n",
    "    X = data[xcolumns].values\n",
    "    X = sm.add_constant(X)\n",
    "    \n",
    "    # my code\n",
    "    \n",
    "    covs = X.shape[1]\n",
    "    bounds = [(None, None)]*covs\n",
    "    results = spopt.shgo(lambda b: loss_elastic_net(Y, X, b, lamda, mu), bounds).x\n",
    "    \n",
    "    df = pd.DataFrame(results, columns = [0])\n",
    "    df.index = np.array(['Intercept'] + xcolumns)\n",
    "    \n",
    "    return df"
   ]
  },
  {
   "cell_type": "markdown",
   "id": "familiar-mandate",
   "metadata": {},
   "source": [
    "### Let's use $\\lambda = 0.5$ and $\\beta = 1$"
   ]
  },
  {
   "cell_type": "code",
   "execution_count": 11,
   "id": "wooden-mixer",
   "metadata": {},
   "outputs": [
    {
     "data": {
      "text/html": [
       "<div>\n",
       "<style scoped>\n",
       "    .dataframe tbody tr th:only-of-type {\n",
       "        vertical-align: middle;\n",
       "    }\n",
       "\n",
       "    .dataframe tbody tr th {\n",
       "        vertical-align: top;\n",
       "    }\n",
       "\n",
       "    .dataframe thead th {\n",
       "        text-align: right;\n",
       "    }\n",
       "</style>\n",
       "<table border=\"1\" class=\"dataframe\">\n",
       "  <thead>\n",
       "    <tr style=\"text-align: right;\">\n",
       "      <th></th>\n",
       "      <th>0</th>\n",
       "    </tr>\n",
       "  </thead>\n",
       "  <tbody>\n",
       "    <tr>\n",
       "      <th>Intercept</th>\n",
       "      <td>13.185481</td>\n",
       "    </tr>\n",
       "    <tr>\n",
       "      <th>Literacy</th>\n",
       "      <td>-0.098478</td>\n",
       "    </tr>\n",
       "    <tr>\n",
       "      <th>Donations</th>\n",
       "      <td>0.000150</td>\n",
       "    </tr>\n",
       "    <tr>\n",
       "      <th>Infants</th>\n",
       "      <td>0.000630</td>\n",
       "    </tr>\n",
       "    <tr>\n",
       "      <th>Wealth</th>\n",
       "      <td>0.310622</td>\n",
       "    </tr>\n",
       "    <tr>\n",
       "      <th>Commerce</th>\n",
       "      <td>0.174187</td>\n",
       "    </tr>\n",
       "  </tbody>\n",
       "</table>\n",
       "</div>"
      ],
      "text/plain": [
       "                   0\n",
       "Intercept  13.185481\n",
       "Literacy   -0.098478\n",
       "Donations   0.000150\n",
       "Infants     0.000630\n",
       "Wealth      0.310622\n",
       "Commerce    0.174187"
      ]
     },
     "execution_count": 11,
     "metadata": {},
     "output_type": "execute_result"
    }
   ],
   "source": [
    "assignment_2('Lottery ~ Literacy + Donations + Infants + Wealth + Commerce', dat, 0.5, 1)"
   ]
  },
  {
   "cell_type": "markdown",
   "id": "metric-bench",
   "metadata": {},
   "source": [
    "### Compare function results with $\\lambda = 0$ and $\\beta = 0$ with OLS coefficients"
   ]
  },
  {
   "cell_type": "code",
   "execution_count": 12,
   "id": "concerned-rubber",
   "metadata": {},
   "outputs": [
    {
     "data": {
      "text/html": [
       "<div>\n",
       "<style scoped>\n",
       "    .dataframe tbody tr th:only-of-type {\n",
       "        vertical-align: middle;\n",
       "    }\n",
       "\n",
       "    .dataframe tbody tr th {\n",
       "        vertical-align: top;\n",
       "    }\n",
       "\n",
       "    .dataframe thead th {\n",
       "        text-align: right;\n",
       "    }\n",
       "</style>\n",
       "<table border=\"1\" class=\"dataframe\">\n",
       "  <thead>\n",
       "    <tr style=\"text-align: right;\">\n",
       "      <th></th>\n",
       "      <th>0</th>\n",
       "    </tr>\n",
       "  </thead>\n",
       "  <tbody>\n",
       "    <tr>\n",
       "      <th>Intercept</th>\n",
       "      <td>17.510454</td>\n",
       "    </tr>\n",
       "    <tr>\n",
       "      <th>Literacy</th>\n",
       "      <td>-0.149910</td>\n",
       "    </tr>\n",
       "    <tr>\n",
       "      <th>Donations</th>\n",
       "      <td>0.000140</td>\n",
       "    </tr>\n",
       "    <tr>\n",
       "      <th>Infants</th>\n",
       "      <td>0.000579</td>\n",
       "    </tr>\n",
       "    <tr>\n",
       "      <th>Wealth</th>\n",
       "      <td>0.306553</td>\n",
       "    </tr>\n",
       "    <tr>\n",
       "      <th>Commerce</th>\n",
       "      <td>0.152254</td>\n",
       "    </tr>\n",
       "  </tbody>\n",
       "</table>\n",
       "</div>"
      ],
      "text/plain": [
       "                   0\n",
       "Intercept  17.510454\n",
       "Literacy   -0.149910\n",
       "Donations   0.000140\n",
       "Infants     0.000579\n",
       "Wealth      0.306553\n",
       "Commerce    0.152254"
      ]
     },
     "execution_count": 12,
     "metadata": {},
     "output_type": "execute_result"
    }
   ],
   "source": [
    "assignment_2('Lottery ~ Literacy + Donations + Infants + Wealth + Commerce', dat, 0, 0)"
   ]
  },
  {
   "cell_type": "code",
   "execution_count": 13,
   "id": "extreme-massachusetts",
   "metadata": {},
   "outputs": [],
   "source": [
    "#create X and Y for estimation\n",
    "formula = 'Lottery ~ Literacy + Donations + Infants + Wealth + Commerce'\n",
    "ycolumn = formula.split(' ~ ')[0]\n",
    "xcolumns = formula.split(' ~ ')[1].split(' + ')\n",
    "Y = dat[ycolumn].values\n",
    "X = dat[xcolumns].values\n",
    "X = sm.add_constant(X)"
   ]
  },
  {
   "cell_type": "code",
   "execution_count": 14,
   "id": "political-symbol",
   "metadata": {},
   "outputs": [
    {
     "data": {
      "text/html": [
       "<div>\n",
       "<style scoped>\n",
       "    .dataframe tbody tr th:only-of-type {\n",
       "        vertical-align: middle;\n",
       "    }\n",
       "\n",
       "    .dataframe tbody tr th {\n",
       "        vertical-align: top;\n",
       "    }\n",
       "\n",
       "    .dataframe thead th {\n",
       "        text-align: right;\n",
       "    }\n",
       "</style>\n",
       "<table border=\"1\" class=\"dataframe\">\n",
       "  <thead>\n",
       "    <tr style=\"text-align: right;\">\n",
       "      <th></th>\n",
       "      <th>0</th>\n",
       "    </tr>\n",
       "  </thead>\n",
       "  <tbody>\n",
       "    <tr>\n",
       "      <th>Intercept</th>\n",
       "      <td>17.509765</td>\n",
       "    </tr>\n",
       "    <tr>\n",
       "      <th>Literacy</th>\n",
       "      <td>-0.149907</td>\n",
       "    </tr>\n",
       "    <tr>\n",
       "      <th>Donations</th>\n",
       "      <td>0.000140</td>\n",
       "    </tr>\n",
       "    <tr>\n",
       "      <th>Infants</th>\n",
       "      <td>0.000579</td>\n",
       "    </tr>\n",
       "    <tr>\n",
       "      <th>Wealth</th>\n",
       "      <td>0.306547</td>\n",
       "    </tr>\n",
       "    <tr>\n",
       "      <th>Commerce</th>\n",
       "      <td>0.152250</td>\n",
       "    </tr>\n",
       "  </tbody>\n",
       "</table>\n",
       "</div>"
      ],
      "text/plain": [
       "                   0\n",
       "Intercept  17.509765\n",
       "Literacy   -0.149907\n",
       "Donations   0.000140\n",
       "Infants     0.000579\n",
       "Wealth      0.306547\n",
       "Commerce    0.152250"
      ]
     },
     "execution_count": 14,
     "metadata": {},
     "output_type": "execute_result"
    }
   ],
   "source": [
    "beta = npla.solve(X.T@X, X.T@Y)\n",
    "\n",
    "df_ols = pd.DataFrame(beta, columns = [0])\n",
    "df_ols.index = np.array(['Intercept'] + xcolumns)\n",
    "\n",
    "df_ols"
   ]
  },
  {
   "cell_type": "markdown",
   "id": "alleged-scanner",
   "metadata": {},
   "source": [
    "**Because of error in optimized estimation in scipy we have a little diffirence, but coefficients are almost equal**"
   ]
  },
  {
   "cell_type": "markdown",
   "id": "engaging-canvas",
   "metadata": {},
   "source": [
    "**But if use `scipy.optimize` and loss function for OLS regression, results are identical with my function when $\\lambda = 0$ and $\\beta = 0$**"
   ]
  },
  {
   "cell_type": "code",
   "execution_count": 15,
   "id": "south-picking",
   "metadata": {},
   "outputs": [
    {
     "data": {
      "text/html": [
       "<div>\n",
       "<style scoped>\n",
       "    .dataframe tbody tr th:only-of-type {\n",
       "        vertical-align: middle;\n",
       "    }\n",
       "\n",
       "    .dataframe tbody tr th {\n",
       "        vertical-align: top;\n",
       "    }\n",
       "\n",
       "    .dataframe thead th {\n",
       "        text-align: right;\n",
       "    }\n",
       "</style>\n",
       "<table border=\"1\" class=\"dataframe\">\n",
       "  <thead>\n",
       "    <tr style=\"text-align: right;\">\n",
       "      <th></th>\n",
       "      <th>0</th>\n",
       "    </tr>\n",
       "  </thead>\n",
       "  <tbody>\n",
       "    <tr>\n",
       "      <th>Intercept</th>\n",
       "      <td>17.510454</td>\n",
       "    </tr>\n",
       "    <tr>\n",
       "      <th>Literacy</th>\n",
       "      <td>-0.149910</td>\n",
       "    </tr>\n",
       "    <tr>\n",
       "      <th>Donations</th>\n",
       "      <td>0.000140</td>\n",
       "    </tr>\n",
       "    <tr>\n",
       "      <th>Infants</th>\n",
       "      <td>0.000579</td>\n",
       "    </tr>\n",
       "    <tr>\n",
       "      <th>Wealth</th>\n",
       "      <td>0.306553</td>\n",
       "    </tr>\n",
       "    <tr>\n",
       "      <th>Commerce</th>\n",
       "      <td>0.152254</td>\n",
       "    </tr>\n",
       "  </tbody>\n",
       "</table>\n",
       "</div>"
      ],
      "text/plain": [
       "                   0\n",
       "Intercept  17.510454\n",
       "Literacy   -0.149910\n",
       "Donations   0.000140\n",
       "Infants     0.000579\n",
       "Wealth      0.306553\n",
       "Commerce    0.152254"
      ]
     },
     "execution_count": 15,
     "metadata": {},
     "output_type": "execute_result"
    }
   ],
   "source": [
    "def loss_OLS(Y, X, beta):\n",
    "    z = Y - X@beta\n",
    "    return z@z.T\n",
    "covs = X.shape[1]\n",
    "bounds = [(None, None)]*covs\n",
    "results = spopt.shgo(lambda b: loss_OLS(Y, X, b), bounds).x\n",
    "df_ols = pd.DataFrame(results, columns = [0])\n",
    "df_ols.index = np.array(['Intercept'] + xcolumns)\n",
    "\n",
    "df_ols"
   ]
  },
  {
   "cell_type": "markdown",
   "id": "connected-antarctica",
   "metadata": {},
   "source": [
    "## Assignment 3 (5 points)\n",
    "- Write a function that finds the coefficients for the **elastic net** regularized ols with crossvalidation\n",
    "- Use number of folds of your choice\n",
    "- You do not need to find the standard errors\n",
    "- Search for $\\lambda$, $\\mu$ in the range [0,5]x[0,5]"
   ]
  },
  {
   "cell_type": "markdown",
   "id": "flying-marking",
   "metadata": {},
   "source": [
    "I use cross validation with metric SSR (proportional to $R^2$):\n",
    "$$ SSR = e'e$$"
   ]
  },
  {
   "cell_type": "markdown",
   "id": "unable-privilege",
   "metadata": {},
   "source": [
    "### Function to estimate average SSR in folds"
   ]
  },
  {
   "cell_type": "code",
   "execution_count": 16,
   "id": "hollywood-steps",
   "metadata": {},
   "outputs": [],
   "source": [
    "def run(lamda1,mu1, kf1, X, Y):\n",
    "    avg = 0\n",
    "    for train_index, test_index in kf1.split(X): #for each fold\n",
    "        X_train, X_test = X[train_index], X[test_index]\n",
    "        y_train, y_test = Y[train_index], Y[test_index]\n",
    "        \n",
    "        #calculate beta\n",
    "        covs = X_train.shape[1]\n",
    "        bounds = [(None, None)]*covs\n",
    "        beta = spopt.shgo(lambda b: loss_elastic_net(y_train, X_train, b, lamda1, mu1), bounds).x\n",
    "        #calculate errors and SSR\n",
    "        errors = X_test@beta - y_test\n",
    "        SSR = errors@errors.T\n",
    "        avg += SSR\n",
    "\n",
    "    return avg/kf1.n_splits #average SSR"
   ]
  },
  {
   "cell_type": "markdown",
   "id": "prospective-toilet",
   "metadata": {},
   "source": [
    "### Function to estimate optimal parametres"
   ]
  },
  {
   "cell_type": "code",
   "execution_count": 17,
   "id": "special-reliance",
   "metadata": {},
   "outputs": [],
   "source": [
    "def assignment_3(formula, data, folds):\n",
    "    \n",
    "    kf = KFold(n_splits=folds)\n",
    "    \n",
    "    ycolumn = formula.split(' ~ ')[0]\n",
    "    xcolumns = formula.split(' ~ ')[1].split(' + ')\n",
    "    Y = data[ycolumn].values\n",
    "    X = data[xcolumns].values\n",
    "    X = sm.add_constant(X)\n",
    "    \n",
    "    lamda_mu_list = []\n",
    "    for mu in tqdm(np.arange(0,5.05,0.05)): #loop for 101 values in [0,5]\n",
    "        lamda_list = []\n",
    "        for lamda in tqdm(np.arange(0,5.05,0.05),leave=False): #loop for 101 values in [0,5]\n",
    "            lamda_list.append(run(lamda, mu, kf, X, Y))\n",
    "        lamda_mu_list.append(lamda_list)\n",
    "    \n",
    "    #find index of minimum SSR\n",
    "    ind_good = np.array(lamda_mu_list).reshape(-1).argmin()\n",
    "    #find optimal parametres for optimal index\n",
    "    mu_good = np.arange(0,5.05,0.05)[ind_good//101]\n",
    "    lamda_good = np.arange(0,5.05,0.05)[ind_good%101]\n",
    "    \n",
    "    print('Index of minimum loss in list with losses:{:}'.format(ind_good))\n",
    "    print('Optimal lambda: {:}, Optimal mu: {:}'.format(lamda_good,mu_good))\n",
    "    \n",
    "    #find beta coefficients with optimal parametres\n",
    "    covs = X.shape[1]\n",
    "    bounds = [(None, None)]*covs\n",
    "    beta_good = spopt.shgo(lambda b: loss_elastic_net(Y, X, b, lamda_good, mu_good), bounds).x\n",
    "\n",
    "    df = pd.DataFrame(beta_good, columns = [0])\n",
    "    df.index = np.array(['Intercept'] + xcolumns)\n",
    "\n",
    "    return df, np.array(lamda_mu_list) #return df with coefficients and list to draw graph of SSR"
   ]
  },
  {
   "cell_type": "markdown",
   "id": "sapphire-tanzania",
   "metadata": {},
   "source": [
    "**Attention!!!**\n",
    "\n",
    "Here you can spend a lot of time, because there are 3 loops in function $100\\times100\\times 5$ elements\n",
    "\n",
    "...but I do not know how optimize in another way"
   ]
  },
  {
   "cell_type": "code",
   "execution_count": 18,
   "id": "faced-perfume",
   "metadata": {
    "scrolled": true
   },
   "outputs": [
    {
     "data": {
      "application/vnd.jupyter.widget-view+json": {
       "model_id": "caad7ec0c83447448821200d174321b1",
       "version_major": 2,
       "version_minor": 0
      },
      "text/plain": [
       "  0%|          | 0/101 [00:00<?, ?it/s]"
      ]
     },
     "metadata": {},
     "output_type": "display_data"
    },
    {
     "data": {
      "application/vnd.jupyter.widget-view+json": {
       "model_id": "",
       "version_major": 2,
       "version_minor": 0
      },
      "text/plain": [
       "  0%|          | 0/101 [00:00<?, ?it/s]"
      ]
     },
     "metadata": {},
     "output_type": "display_data"
    },
    {
     "data": {
      "application/vnd.jupyter.widget-view+json": {
       "model_id": "",
       "version_major": 2,
       "version_minor": 0
      },
      "text/plain": [
       "  0%|          | 0/101 [00:00<?, ?it/s]"
      ]
     },
     "metadata": {},
     "output_type": "display_data"
    },
    {
     "data": {
      "application/vnd.jupyter.widget-view+json": {
       "model_id": "",
       "version_major": 2,
       "version_minor": 0
      },
      "text/plain": [
       "  0%|          | 0/101 [00:00<?, ?it/s]"
      ]
     },
     "metadata": {},
     "output_type": "display_data"
    },
    {
     "data": {
      "application/vnd.jupyter.widget-view+json": {
       "model_id": "",
       "version_major": 2,
       "version_minor": 0
      },
      "text/plain": [
       "  0%|          | 0/101 [00:00<?, ?it/s]"
      ]
     },
     "metadata": {},
     "output_type": "display_data"
    },
    {
     "data": {
      "application/vnd.jupyter.widget-view+json": {
       "model_id": "",
       "version_major": 2,
       "version_minor": 0
      },
      "text/plain": [
       "  0%|          | 0/101 [00:00<?, ?it/s]"
      ]
     },
     "metadata": {},
     "output_type": "display_data"
    },
    {
     "data": {
      "application/vnd.jupyter.widget-view+json": {
       "model_id": "",
       "version_major": 2,
       "version_minor": 0
      },
      "text/plain": [
       "  0%|          | 0/101 [00:00<?, ?it/s]"
      ]
     },
     "metadata": {},
     "output_type": "display_data"
    },
    {
     "data": {
      "application/vnd.jupyter.widget-view+json": {
       "model_id": "",
       "version_major": 2,
       "version_minor": 0
      },
      "text/plain": [
       "  0%|          | 0/101 [00:00<?, ?it/s]"
      ]
     },
     "metadata": {},
     "output_type": "display_data"
    },
    {
     "data": {
      "application/vnd.jupyter.widget-view+json": {
       "model_id": "",
       "version_major": 2,
       "version_minor": 0
      },
      "text/plain": [
       "  0%|          | 0/101 [00:00<?, ?it/s]"
      ]
     },
     "metadata": {},
     "output_type": "display_data"
    },
    {
     "data": {
      "application/vnd.jupyter.widget-view+json": {
       "model_id": "",
       "version_major": 2,
       "version_minor": 0
      },
      "text/plain": [
       "  0%|          | 0/101 [00:00<?, ?it/s]"
      ]
     },
     "metadata": {},
     "output_type": "display_data"
    },
    {
     "data": {
      "application/vnd.jupyter.widget-view+json": {
       "model_id": "",
       "version_major": 2,
       "version_minor": 0
      },
      "text/plain": [
       "  0%|          | 0/101 [00:00<?, ?it/s]"
      ]
     },
     "metadata": {},
     "output_type": "display_data"
    },
    {
     "data": {
      "application/vnd.jupyter.widget-view+json": {
       "model_id": "",
       "version_major": 2,
       "version_minor": 0
      },
      "text/plain": [
       "  0%|          | 0/101 [00:00<?, ?it/s]"
      ]
     },
     "metadata": {},
     "output_type": "display_data"
    },
    {
     "data": {
      "application/vnd.jupyter.widget-view+json": {
       "model_id": "",
       "version_major": 2,
       "version_minor": 0
      },
      "text/plain": [
       "  0%|          | 0/101 [00:00<?, ?it/s]"
      ]
     },
     "metadata": {},
     "output_type": "display_data"
    },
    {
     "data": {
      "application/vnd.jupyter.widget-view+json": {
       "model_id": "",
       "version_major": 2,
       "version_minor": 0
      },
      "text/plain": [
       "  0%|          | 0/101 [00:00<?, ?it/s]"
      ]
     },
     "metadata": {},
     "output_type": "display_data"
    },
    {
     "data": {
      "application/vnd.jupyter.widget-view+json": {
       "model_id": "",
       "version_major": 2,
       "version_minor": 0
      },
      "text/plain": [
       "  0%|          | 0/101 [00:00<?, ?it/s]"
      ]
     },
     "metadata": {},
     "output_type": "display_data"
    },
    {
     "data": {
      "application/vnd.jupyter.widget-view+json": {
       "model_id": "",
       "version_major": 2,
       "version_minor": 0
      },
      "text/plain": [
       "  0%|          | 0/101 [00:00<?, ?it/s]"
      ]
     },
     "metadata": {},
     "output_type": "display_data"
    },
    {
     "data": {
      "application/vnd.jupyter.widget-view+json": {
       "model_id": "",
       "version_major": 2,
       "version_minor": 0
      },
      "text/plain": [
       "  0%|          | 0/101 [00:00<?, ?it/s]"
      ]
     },
     "metadata": {},
     "output_type": "display_data"
    },
    {
     "data": {
      "application/vnd.jupyter.widget-view+json": {
       "model_id": "",
       "version_major": 2,
       "version_minor": 0
      },
      "text/plain": [
       "  0%|          | 0/101 [00:00<?, ?it/s]"
      ]
     },
     "metadata": {},
     "output_type": "display_data"
    },
    {
     "data": {
      "application/vnd.jupyter.widget-view+json": {
       "model_id": "",
       "version_major": 2,
       "version_minor": 0
      },
      "text/plain": [
       "  0%|          | 0/101 [00:00<?, ?it/s]"
      ]
     },
     "metadata": {},
     "output_type": "display_data"
    },
    {
     "data": {
      "application/vnd.jupyter.widget-view+json": {
       "model_id": "",
       "version_major": 2,
       "version_minor": 0
      },
      "text/plain": [
       "  0%|          | 0/101 [00:00<?, ?it/s]"
      ]
     },
     "metadata": {},
     "output_type": "display_data"
    },
    {
     "data": {
      "application/vnd.jupyter.widget-view+json": {
       "model_id": "",
       "version_major": 2,
       "version_minor": 0
      },
      "text/plain": [
       "  0%|          | 0/101 [00:00<?, ?it/s]"
      ]
     },
     "metadata": {},
     "output_type": "display_data"
    },
    {
     "data": {
      "application/vnd.jupyter.widget-view+json": {
       "model_id": "",
       "version_major": 2,
       "version_minor": 0
      },
      "text/plain": [
       "  0%|          | 0/101 [00:00<?, ?it/s]"
      ]
     },
     "metadata": {},
     "output_type": "display_data"
    },
    {
     "data": {
      "application/vnd.jupyter.widget-view+json": {
       "model_id": "",
       "version_major": 2,
       "version_minor": 0
      },
      "text/plain": [
       "  0%|          | 0/101 [00:00<?, ?it/s]"
      ]
     },
     "metadata": {},
     "output_type": "display_data"
    },
    {
     "data": {
      "application/vnd.jupyter.widget-view+json": {
       "model_id": "",
       "version_major": 2,
       "version_minor": 0
      },
      "text/plain": [
       "  0%|          | 0/101 [00:00<?, ?it/s]"
      ]
     },
     "metadata": {},
     "output_type": "display_data"
    },
    {
     "data": {
      "application/vnd.jupyter.widget-view+json": {
       "model_id": "",
       "version_major": 2,
       "version_minor": 0
      },
      "text/plain": [
       "  0%|          | 0/101 [00:00<?, ?it/s]"
      ]
     },
     "metadata": {},
     "output_type": "display_data"
    },
    {
     "data": {
      "application/vnd.jupyter.widget-view+json": {
       "model_id": "",
       "version_major": 2,
       "version_minor": 0
      },
      "text/plain": [
       "  0%|          | 0/101 [00:00<?, ?it/s]"
      ]
     },
     "metadata": {},
     "output_type": "display_data"
    },
    {
     "data": {
      "application/vnd.jupyter.widget-view+json": {
       "model_id": "",
       "version_major": 2,
       "version_minor": 0
      },
      "text/plain": [
       "  0%|          | 0/101 [00:00<?, ?it/s]"
      ]
     },
     "metadata": {},
     "output_type": "display_data"
    },
    {
     "data": {
      "application/vnd.jupyter.widget-view+json": {
       "model_id": "",
       "version_major": 2,
       "version_minor": 0
      },
      "text/plain": [
       "  0%|          | 0/101 [00:00<?, ?it/s]"
      ]
     },
     "metadata": {},
     "output_type": "display_data"
    },
    {
     "data": {
      "application/vnd.jupyter.widget-view+json": {
       "model_id": "",
       "version_major": 2,
       "version_minor": 0
      },
      "text/plain": [
       "  0%|          | 0/101 [00:00<?, ?it/s]"
      ]
     },
     "metadata": {},
     "output_type": "display_data"
    },
    {
     "data": {
      "application/vnd.jupyter.widget-view+json": {
       "model_id": "",
       "version_major": 2,
       "version_minor": 0
      },
      "text/plain": [
       "  0%|          | 0/101 [00:00<?, ?it/s]"
      ]
     },
     "metadata": {},
     "output_type": "display_data"
    },
    {
     "data": {
      "application/vnd.jupyter.widget-view+json": {
       "model_id": "",
       "version_major": 2,
       "version_minor": 0
      },
      "text/plain": [
       "  0%|          | 0/101 [00:00<?, ?it/s]"
      ]
     },
     "metadata": {},
     "output_type": "display_data"
    },
    {
     "data": {
      "application/vnd.jupyter.widget-view+json": {
       "model_id": "",
       "version_major": 2,
       "version_minor": 0
      },
      "text/plain": [
       "  0%|          | 0/101 [00:00<?, ?it/s]"
      ]
     },
     "metadata": {},
     "output_type": "display_data"
    },
    {
     "data": {
      "application/vnd.jupyter.widget-view+json": {
       "model_id": "",
       "version_major": 2,
       "version_minor": 0
      },
      "text/plain": [
       "  0%|          | 0/101 [00:00<?, ?it/s]"
      ]
     },
     "metadata": {},
     "output_type": "display_data"
    },
    {
     "data": {
      "application/vnd.jupyter.widget-view+json": {
       "model_id": "",
       "version_major": 2,
       "version_minor": 0
      },
      "text/plain": [
       "  0%|          | 0/101 [00:00<?, ?it/s]"
      ]
     },
     "metadata": {},
     "output_type": "display_data"
    },
    {
     "data": {
      "application/vnd.jupyter.widget-view+json": {
       "model_id": "",
       "version_major": 2,
       "version_minor": 0
      },
      "text/plain": [
       "  0%|          | 0/101 [00:00<?, ?it/s]"
      ]
     },
     "metadata": {},
     "output_type": "display_data"
    },
    {
     "data": {
      "application/vnd.jupyter.widget-view+json": {
       "model_id": "",
       "version_major": 2,
       "version_minor": 0
      },
      "text/plain": [
       "  0%|          | 0/101 [00:00<?, ?it/s]"
      ]
     },
     "metadata": {},
     "output_type": "display_data"
    },
    {
     "data": {
      "application/vnd.jupyter.widget-view+json": {
       "model_id": "",
       "version_major": 2,
       "version_minor": 0
      },
      "text/plain": [
       "  0%|          | 0/101 [00:00<?, ?it/s]"
      ]
     },
     "metadata": {},
     "output_type": "display_data"
    },
    {
     "data": {
      "application/vnd.jupyter.widget-view+json": {
       "model_id": "",
       "version_major": 2,
       "version_minor": 0
      },
      "text/plain": [
       "  0%|          | 0/101 [00:00<?, ?it/s]"
      ]
     },
     "metadata": {},
     "output_type": "display_data"
    },
    {
     "data": {
      "application/vnd.jupyter.widget-view+json": {
       "model_id": "",
       "version_major": 2,
       "version_minor": 0
      },
      "text/plain": [
       "  0%|          | 0/101 [00:00<?, ?it/s]"
      ]
     },
     "metadata": {},
     "output_type": "display_data"
    },
    {
     "data": {
      "application/vnd.jupyter.widget-view+json": {
       "model_id": "",
       "version_major": 2,
       "version_minor": 0
      },
      "text/plain": [
       "  0%|          | 0/101 [00:00<?, ?it/s]"
      ]
     },
     "metadata": {},
     "output_type": "display_data"
    },
    {
     "data": {
      "application/vnd.jupyter.widget-view+json": {
       "model_id": "",
       "version_major": 2,
       "version_minor": 0
      },
      "text/plain": [
       "  0%|          | 0/101 [00:00<?, ?it/s]"
      ]
     },
     "metadata": {},
     "output_type": "display_data"
    },
    {
     "data": {
      "application/vnd.jupyter.widget-view+json": {
       "model_id": "",
       "version_major": 2,
       "version_minor": 0
      },
      "text/plain": [
       "  0%|          | 0/101 [00:00<?, ?it/s]"
      ]
     },
     "metadata": {},
     "output_type": "display_data"
    },
    {
     "data": {
      "application/vnd.jupyter.widget-view+json": {
       "model_id": "",
       "version_major": 2,
       "version_minor": 0
      },
      "text/plain": [
       "  0%|          | 0/101 [00:00<?, ?it/s]"
      ]
     },
     "metadata": {},
     "output_type": "display_data"
    },
    {
     "data": {
      "application/vnd.jupyter.widget-view+json": {
       "model_id": "",
       "version_major": 2,
       "version_minor": 0
      },
      "text/plain": [
       "  0%|          | 0/101 [00:00<?, ?it/s]"
      ]
     },
     "metadata": {},
     "output_type": "display_data"
    },
    {
     "data": {
      "application/vnd.jupyter.widget-view+json": {
       "model_id": "",
       "version_major": 2,
       "version_minor": 0
      },
      "text/plain": [
       "  0%|          | 0/101 [00:00<?, ?it/s]"
      ]
     },
     "metadata": {},
     "output_type": "display_data"
    },
    {
     "data": {
      "application/vnd.jupyter.widget-view+json": {
       "model_id": "",
       "version_major": 2,
       "version_minor": 0
      },
      "text/plain": [
       "  0%|          | 0/101 [00:00<?, ?it/s]"
      ]
     },
     "metadata": {},
     "output_type": "display_data"
    },
    {
     "data": {
      "application/vnd.jupyter.widget-view+json": {
       "model_id": "",
       "version_major": 2,
       "version_minor": 0
      },
      "text/plain": [
       "  0%|          | 0/101 [00:00<?, ?it/s]"
      ]
     },
     "metadata": {},
     "output_type": "display_data"
    },
    {
     "data": {
      "application/vnd.jupyter.widget-view+json": {
       "model_id": "",
       "version_major": 2,
       "version_minor": 0
      },
      "text/plain": [
       "  0%|          | 0/101 [00:00<?, ?it/s]"
      ]
     },
     "metadata": {},
     "output_type": "display_data"
    },
    {
     "data": {
      "application/vnd.jupyter.widget-view+json": {
       "model_id": "",
       "version_major": 2,
       "version_minor": 0
      },
      "text/plain": [
       "  0%|          | 0/101 [00:00<?, ?it/s]"
      ]
     },
     "metadata": {},
     "output_type": "display_data"
    },
    {
     "data": {
      "application/vnd.jupyter.widget-view+json": {
       "model_id": "",
       "version_major": 2,
       "version_minor": 0
      },
      "text/plain": [
       "  0%|          | 0/101 [00:00<?, ?it/s]"
      ]
     },
     "metadata": {},
     "output_type": "display_data"
    },
    {
     "data": {
      "application/vnd.jupyter.widget-view+json": {
       "model_id": "",
       "version_major": 2,
       "version_minor": 0
      },
      "text/plain": [
       "  0%|          | 0/101 [00:00<?, ?it/s]"
      ]
     },
     "metadata": {},
     "output_type": "display_data"
    },
    {
     "data": {
      "application/vnd.jupyter.widget-view+json": {
       "model_id": "",
       "version_major": 2,
       "version_minor": 0
      },
      "text/plain": [
       "  0%|          | 0/101 [00:00<?, ?it/s]"
      ]
     },
     "metadata": {},
     "output_type": "display_data"
    },
    {
     "data": {
      "application/vnd.jupyter.widget-view+json": {
       "model_id": "",
       "version_major": 2,
       "version_minor": 0
      },
      "text/plain": [
       "  0%|          | 0/101 [00:00<?, ?it/s]"
      ]
     },
     "metadata": {},
     "output_type": "display_data"
    },
    {
     "data": {
      "application/vnd.jupyter.widget-view+json": {
       "model_id": "",
       "version_major": 2,
       "version_minor": 0
      },
      "text/plain": [
       "  0%|          | 0/101 [00:00<?, ?it/s]"
      ]
     },
     "metadata": {},
     "output_type": "display_data"
    },
    {
     "data": {
      "application/vnd.jupyter.widget-view+json": {
       "model_id": "",
       "version_major": 2,
       "version_minor": 0
      },
      "text/plain": [
       "  0%|          | 0/101 [00:00<?, ?it/s]"
      ]
     },
     "metadata": {},
     "output_type": "display_data"
    },
    {
     "data": {
      "application/vnd.jupyter.widget-view+json": {
       "model_id": "",
       "version_major": 2,
       "version_minor": 0
      },
      "text/plain": [
       "  0%|          | 0/101 [00:00<?, ?it/s]"
      ]
     },
     "metadata": {},
     "output_type": "display_data"
    },
    {
     "data": {
      "application/vnd.jupyter.widget-view+json": {
       "model_id": "",
       "version_major": 2,
       "version_minor": 0
      },
      "text/plain": [
       "  0%|          | 0/101 [00:00<?, ?it/s]"
      ]
     },
     "metadata": {},
     "output_type": "display_data"
    },
    {
     "data": {
      "application/vnd.jupyter.widget-view+json": {
       "model_id": "",
       "version_major": 2,
       "version_minor": 0
      },
      "text/plain": [
       "  0%|          | 0/101 [00:00<?, ?it/s]"
      ]
     },
     "metadata": {},
     "output_type": "display_data"
    },
    {
     "data": {
      "application/vnd.jupyter.widget-view+json": {
       "model_id": "",
       "version_major": 2,
       "version_minor": 0
      },
      "text/plain": [
       "  0%|          | 0/101 [00:00<?, ?it/s]"
      ]
     },
     "metadata": {},
     "output_type": "display_data"
    },
    {
     "data": {
      "application/vnd.jupyter.widget-view+json": {
       "model_id": "",
       "version_major": 2,
       "version_minor": 0
      },
      "text/plain": [
       "  0%|          | 0/101 [00:00<?, ?it/s]"
      ]
     },
     "metadata": {},
     "output_type": "display_data"
    },
    {
     "data": {
      "application/vnd.jupyter.widget-view+json": {
       "model_id": "",
       "version_major": 2,
       "version_minor": 0
      },
      "text/plain": [
       "  0%|          | 0/101 [00:00<?, ?it/s]"
      ]
     },
     "metadata": {},
     "output_type": "display_data"
    },
    {
     "data": {
      "application/vnd.jupyter.widget-view+json": {
       "model_id": "",
       "version_major": 2,
       "version_minor": 0
      },
      "text/plain": [
       "  0%|          | 0/101 [00:00<?, ?it/s]"
      ]
     },
     "metadata": {},
     "output_type": "display_data"
    },
    {
     "data": {
      "application/vnd.jupyter.widget-view+json": {
       "model_id": "",
       "version_major": 2,
       "version_minor": 0
      },
      "text/plain": [
       "  0%|          | 0/101 [00:00<?, ?it/s]"
      ]
     },
     "metadata": {},
     "output_type": "display_data"
    },
    {
     "data": {
      "application/vnd.jupyter.widget-view+json": {
       "model_id": "",
       "version_major": 2,
       "version_minor": 0
      },
      "text/plain": [
       "  0%|          | 0/101 [00:00<?, ?it/s]"
      ]
     },
     "metadata": {},
     "output_type": "display_data"
    },
    {
     "data": {
      "application/vnd.jupyter.widget-view+json": {
       "model_id": "",
       "version_major": 2,
       "version_minor": 0
      },
      "text/plain": [
       "  0%|          | 0/101 [00:00<?, ?it/s]"
      ]
     },
     "metadata": {},
     "output_type": "display_data"
    },
    {
     "data": {
      "application/vnd.jupyter.widget-view+json": {
       "model_id": "",
       "version_major": 2,
       "version_minor": 0
      },
      "text/plain": [
       "  0%|          | 0/101 [00:00<?, ?it/s]"
      ]
     },
     "metadata": {},
     "output_type": "display_data"
    },
    {
     "data": {
      "application/vnd.jupyter.widget-view+json": {
       "model_id": "",
       "version_major": 2,
       "version_minor": 0
      },
      "text/plain": [
       "  0%|          | 0/101 [00:00<?, ?it/s]"
      ]
     },
     "metadata": {},
     "output_type": "display_data"
    },
    {
     "data": {
      "application/vnd.jupyter.widget-view+json": {
       "model_id": "",
       "version_major": 2,
       "version_minor": 0
      },
      "text/plain": [
       "  0%|          | 0/101 [00:00<?, ?it/s]"
      ]
     },
     "metadata": {},
     "output_type": "display_data"
    },
    {
     "data": {
      "application/vnd.jupyter.widget-view+json": {
       "model_id": "",
       "version_major": 2,
       "version_minor": 0
      },
      "text/plain": [
       "  0%|          | 0/101 [00:00<?, ?it/s]"
      ]
     },
     "metadata": {},
     "output_type": "display_data"
    },
    {
     "data": {
      "application/vnd.jupyter.widget-view+json": {
       "model_id": "",
       "version_major": 2,
       "version_minor": 0
      },
      "text/plain": [
       "  0%|          | 0/101 [00:00<?, ?it/s]"
      ]
     },
     "metadata": {},
     "output_type": "display_data"
    },
    {
     "data": {
      "application/vnd.jupyter.widget-view+json": {
       "model_id": "",
       "version_major": 2,
       "version_minor": 0
      },
      "text/plain": [
       "  0%|          | 0/101 [00:00<?, ?it/s]"
      ]
     },
     "metadata": {},
     "output_type": "display_data"
    },
    {
     "data": {
      "application/vnd.jupyter.widget-view+json": {
       "model_id": "",
       "version_major": 2,
       "version_minor": 0
      },
      "text/plain": [
       "  0%|          | 0/101 [00:00<?, ?it/s]"
      ]
     },
     "metadata": {},
     "output_type": "display_data"
    },
    {
     "data": {
      "application/vnd.jupyter.widget-view+json": {
       "model_id": "",
       "version_major": 2,
       "version_minor": 0
      },
      "text/plain": [
       "  0%|          | 0/101 [00:00<?, ?it/s]"
      ]
     },
     "metadata": {},
     "output_type": "display_data"
    },
    {
     "data": {
      "application/vnd.jupyter.widget-view+json": {
       "model_id": "",
       "version_major": 2,
       "version_minor": 0
      },
      "text/plain": [
       "  0%|          | 0/101 [00:00<?, ?it/s]"
      ]
     },
     "metadata": {},
     "output_type": "display_data"
    },
    {
     "data": {
      "application/vnd.jupyter.widget-view+json": {
       "model_id": "",
       "version_major": 2,
       "version_minor": 0
      },
      "text/plain": [
       "  0%|          | 0/101 [00:00<?, ?it/s]"
      ]
     },
     "metadata": {},
     "output_type": "display_data"
    },
    {
     "data": {
      "application/vnd.jupyter.widget-view+json": {
       "model_id": "",
       "version_major": 2,
       "version_minor": 0
      },
      "text/plain": [
       "  0%|          | 0/101 [00:00<?, ?it/s]"
      ]
     },
     "metadata": {},
     "output_type": "display_data"
    },
    {
     "data": {
      "application/vnd.jupyter.widget-view+json": {
       "model_id": "",
       "version_major": 2,
       "version_minor": 0
      },
      "text/plain": [
       "  0%|          | 0/101 [00:00<?, ?it/s]"
      ]
     },
     "metadata": {},
     "output_type": "display_data"
    },
    {
     "data": {
      "application/vnd.jupyter.widget-view+json": {
       "model_id": "",
       "version_major": 2,
       "version_minor": 0
      },
      "text/plain": [
       "  0%|          | 0/101 [00:00<?, ?it/s]"
      ]
     },
     "metadata": {},
     "output_type": "display_data"
    },
    {
     "data": {
      "application/vnd.jupyter.widget-view+json": {
       "model_id": "",
       "version_major": 2,
       "version_minor": 0
      },
      "text/plain": [
       "  0%|          | 0/101 [00:00<?, ?it/s]"
      ]
     },
     "metadata": {},
     "output_type": "display_data"
    },
    {
     "data": {
      "application/vnd.jupyter.widget-view+json": {
       "model_id": "",
       "version_major": 2,
       "version_minor": 0
      },
      "text/plain": [
       "  0%|          | 0/101 [00:00<?, ?it/s]"
      ]
     },
     "metadata": {},
     "output_type": "display_data"
    },
    {
     "data": {
      "application/vnd.jupyter.widget-view+json": {
       "model_id": "",
       "version_major": 2,
       "version_minor": 0
      },
      "text/plain": [
       "  0%|          | 0/101 [00:00<?, ?it/s]"
      ]
     },
     "metadata": {},
     "output_type": "display_data"
    },
    {
     "data": {
      "application/vnd.jupyter.widget-view+json": {
       "model_id": "",
       "version_major": 2,
       "version_minor": 0
      },
      "text/plain": [
       "  0%|          | 0/101 [00:00<?, ?it/s]"
      ]
     },
     "metadata": {},
     "output_type": "display_data"
    },
    {
     "data": {
      "application/vnd.jupyter.widget-view+json": {
       "model_id": "",
       "version_major": 2,
       "version_minor": 0
      },
      "text/plain": [
       "  0%|          | 0/101 [00:00<?, ?it/s]"
      ]
     },
     "metadata": {},
     "output_type": "display_data"
    },
    {
     "data": {
      "application/vnd.jupyter.widget-view+json": {
       "model_id": "",
       "version_major": 2,
       "version_minor": 0
      },
      "text/plain": [
       "  0%|          | 0/101 [00:00<?, ?it/s]"
      ]
     },
     "metadata": {},
     "output_type": "display_data"
    },
    {
     "data": {
      "application/vnd.jupyter.widget-view+json": {
       "model_id": "",
       "version_major": 2,
       "version_minor": 0
      },
      "text/plain": [
       "  0%|          | 0/101 [00:00<?, ?it/s]"
      ]
     },
     "metadata": {},
     "output_type": "display_data"
    },
    {
     "data": {
      "application/vnd.jupyter.widget-view+json": {
       "model_id": "",
       "version_major": 2,
       "version_minor": 0
      },
      "text/plain": [
       "  0%|          | 0/101 [00:00<?, ?it/s]"
      ]
     },
     "metadata": {},
     "output_type": "display_data"
    },
    {
     "data": {
      "application/vnd.jupyter.widget-view+json": {
       "model_id": "",
       "version_major": 2,
       "version_minor": 0
      },
      "text/plain": [
       "  0%|          | 0/101 [00:00<?, ?it/s]"
      ]
     },
     "metadata": {},
     "output_type": "display_data"
    },
    {
     "data": {
      "application/vnd.jupyter.widget-view+json": {
       "model_id": "",
       "version_major": 2,
       "version_minor": 0
      },
      "text/plain": [
       "  0%|          | 0/101 [00:00<?, ?it/s]"
      ]
     },
     "metadata": {},
     "output_type": "display_data"
    },
    {
     "data": {
      "application/vnd.jupyter.widget-view+json": {
       "model_id": "",
       "version_major": 2,
       "version_minor": 0
      },
      "text/plain": [
       "  0%|          | 0/101 [00:00<?, ?it/s]"
      ]
     },
     "metadata": {},
     "output_type": "display_data"
    },
    {
     "data": {
      "application/vnd.jupyter.widget-view+json": {
       "model_id": "",
       "version_major": 2,
       "version_minor": 0
      },
      "text/plain": [
       "  0%|          | 0/101 [00:00<?, ?it/s]"
      ]
     },
     "metadata": {},
     "output_type": "display_data"
    },
    {
     "data": {
      "application/vnd.jupyter.widget-view+json": {
       "model_id": "",
       "version_major": 2,
       "version_minor": 0
      },
      "text/plain": [
       "  0%|          | 0/101 [00:00<?, ?it/s]"
      ]
     },
     "metadata": {},
     "output_type": "display_data"
    },
    {
     "data": {
      "application/vnd.jupyter.widget-view+json": {
       "model_id": "",
       "version_major": 2,
       "version_minor": 0
      },
      "text/plain": [
       "  0%|          | 0/101 [00:00<?, ?it/s]"
      ]
     },
     "metadata": {},
     "output_type": "display_data"
    },
    {
     "data": {
      "application/vnd.jupyter.widget-view+json": {
       "model_id": "",
       "version_major": 2,
       "version_minor": 0
      },
      "text/plain": [
       "  0%|          | 0/101 [00:00<?, ?it/s]"
      ]
     },
     "metadata": {},
     "output_type": "display_data"
    },
    {
     "data": {
      "application/vnd.jupyter.widget-view+json": {
       "model_id": "",
       "version_major": 2,
       "version_minor": 0
      },
      "text/plain": [
       "  0%|          | 0/101 [00:00<?, ?it/s]"
      ]
     },
     "metadata": {},
     "output_type": "display_data"
    },
    {
     "data": {
      "application/vnd.jupyter.widget-view+json": {
       "model_id": "",
       "version_major": 2,
       "version_minor": 0
      },
      "text/plain": [
       "  0%|          | 0/101 [00:00<?, ?it/s]"
      ]
     },
     "metadata": {},
     "output_type": "display_data"
    },
    {
     "data": {
      "application/vnd.jupyter.widget-view+json": {
       "model_id": "",
       "version_major": 2,
       "version_minor": 0
      },
      "text/plain": [
       "  0%|          | 0/101 [00:00<?, ?it/s]"
      ]
     },
     "metadata": {},
     "output_type": "display_data"
    },
    {
     "data": {
      "application/vnd.jupyter.widget-view+json": {
       "model_id": "",
       "version_major": 2,
       "version_minor": 0
      },
      "text/plain": [
       "  0%|          | 0/101 [00:00<?, ?it/s]"
      ]
     },
     "metadata": {},
     "output_type": "display_data"
    },
    {
     "data": {
      "application/vnd.jupyter.widget-view+json": {
       "model_id": "",
       "version_major": 2,
       "version_minor": 0
      },
      "text/plain": [
       "  0%|          | 0/101 [00:00<?, ?it/s]"
      ]
     },
     "metadata": {},
     "output_type": "display_data"
    },
    {
     "data": {
      "application/vnd.jupyter.widget-view+json": {
       "model_id": "",
       "version_major": 2,
       "version_minor": 0
      },
      "text/plain": [
       "  0%|          | 0/101 [00:00<?, ?it/s]"
      ]
     },
     "metadata": {},
     "output_type": "display_data"
    },
    {
     "data": {
      "application/vnd.jupyter.widget-view+json": {
       "model_id": "",
       "version_major": 2,
       "version_minor": 0
      },
      "text/plain": [
       "  0%|          | 0/101 [00:00<?, ?it/s]"
      ]
     },
     "metadata": {},
     "output_type": "display_data"
    },
    {
     "data": {
      "application/vnd.jupyter.widget-view+json": {
       "model_id": "",
       "version_major": 2,
       "version_minor": 0
      },
      "text/plain": [
       "  0%|          | 0/101 [00:00<?, ?it/s]"
      ]
     },
     "metadata": {},
     "output_type": "display_data"
    },
    {
     "data": {
      "application/vnd.jupyter.widget-view+json": {
       "model_id": "",
       "version_major": 2,
       "version_minor": 0
      },
      "text/plain": [
       "  0%|          | 0/101 [00:00<?, ?it/s]"
      ]
     },
     "metadata": {},
     "output_type": "display_data"
    },
    {
     "name": "stdout",
     "output_type": "stream",
     "text": [
      "Index of minimum loss in list with losses:99\n",
      "Optimal lambda: 4.95, Optimal mu: 0.0\n"
     ]
    }
   ],
   "source": [
    "d_elastic, list_par = assignment_3('Lottery ~ Literacy + Donations + Infants + Wealth + Commerce', dat, folds = 5)"
   ]
  },
  {
   "cell_type": "code",
   "execution_count": 19,
   "id": "comparative-action",
   "metadata": {},
   "outputs": [
    {
     "data": {
      "text/html": [
       "<div>\n",
       "<style scoped>\n",
       "    .dataframe tbody tr th:only-of-type {\n",
       "        vertical-align: middle;\n",
       "    }\n",
       "\n",
       "    .dataframe tbody tr th {\n",
       "        vertical-align: top;\n",
       "    }\n",
       "\n",
       "    .dataframe thead th {\n",
       "        text-align: right;\n",
       "    }\n",
       "</style>\n",
       "<table border=\"1\" class=\"dataframe\">\n",
       "  <thead>\n",
       "    <tr style=\"text-align: right;\">\n",
       "      <th></th>\n",
       "      <th>0</th>\n",
       "    </tr>\n",
       "  </thead>\n",
       "  <tbody>\n",
       "    <tr>\n",
       "      <th>Intercept</th>\n",
       "      <td>6.752719</td>\n",
       "    </tr>\n",
       "    <tr>\n",
       "      <th>Literacy</th>\n",
       "      <td>-0.021994</td>\n",
       "    </tr>\n",
       "    <tr>\n",
       "      <th>Donations</th>\n",
       "      <td>0.000165</td>\n",
       "    </tr>\n",
       "    <tr>\n",
       "      <th>Infants</th>\n",
       "      <td>0.000705</td>\n",
       "    </tr>\n",
       "    <tr>\n",
       "      <th>Wealth</th>\n",
       "      <td>0.316677</td>\n",
       "    </tr>\n",
       "    <tr>\n",
       "      <th>Commerce</th>\n",
       "      <td>0.206808</td>\n",
       "    </tr>\n",
       "  </tbody>\n",
       "</table>\n",
       "</div>"
      ],
      "text/plain": [
       "                  0\n",
       "Intercept  6.752719\n",
       "Literacy  -0.021994\n",
       "Donations  0.000165\n",
       "Infants    0.000705\n",
       "Wealth     0.316677\n",
       "Commerce   0.206808"
      ]
     },
     "execution_count": 19,
     "metadata": {},
     "output_type": "execute_result"
    }
   ],
   "source": [
    "d_elastic"
   ]
  },
  {
   "cell_type": "markdown",
   "id": "moderate-broad",
   "metadata": {},
   "source": [
    "Optimal parametres are 0 and 4.95, because the optimize function of loss is strongly positive connected with $\\mu$ $[0,5]$ and negative with $\\lambda$ in $[0,5]$ \n",
    "\n",
    "(for $\\lambda$ it is true before 4.95, after 4.95 is positive connection,which we can see in Ridge optimization and optimal parameter $\\lambda$ is 4.95). \n",
    "\n",
    "These connections for $\\mu$ and $\\lambda$ you can see on graphs below $\\downarrow$"
   ]
  },
  {
   "cell_type": "markdown",
   "id": "coupled-poster",
   "metadata": {},
   "source": [
    "### Plot SSR depending on parametres"
   ]
  },
  {
   "cell_type": "code",
   "execution_count": 20,
   "id": "smaller-wedding",
   "metadata": {},
   "outputs": [
    {
     "data": {
      "image/png": "[encoded data removed]",
      "text/plain": [
       "<Figure size 864x720 with 1 Axes>"
      ]
     },
     "metadata": {
      "needs_background": "light"
     },
     "output_type": "display_data"
    }
   ],
   "source": [
    "plt.plot(np.arange(0,5.05,0.05), list_par[0])\n",
    "plt.title('Loss function (SSR) with mu=0')\n",
    "plt.xlabel('Lambda')\n",
    "plt.ylabel('Loss');"
   ]
  },
  {
   "cell_type": "markdown",
   "id": "sophisticated-qualification",
   "metadata": {},
   "source": [
    "**Moreover, this graph is True for each value of mu, so $\\lambda=4.95$ is optimal**"
   ]
  },
  {
   "cell_type": "code",
   "execution_count": 21,
   "id": "reduced-excitement",
   "metadata": {},
   "outputs": [
    {
     "data": {
      "image/png": "[encoded data removed]",
      "text/plain": [
       "<Figure size 864x720 with 1 Axes>"
      ]
     },
     "metadata": {
      "needs_background": "light"
     },
     "output_type": "display_data"
    }
   ],
   "source": [
    "plt.plot(np.arange(0,5.05,0.05), [list_par[i][-2] for i in range(len(list_par))])\n",
    "plt.title('Loss function (SSR) with lambda=5')\n",
    "plt.xlabel('Mu')\n",
    "plt.ylabel('Loss');"
   ]
  },
  {
   "cell_type": "markdown",
   "id": "bottom-paste",
   "metadata": {},
   "source": [
    "**So $\\mu=0$ is optimal for optimal $\\lambda=4.95$**"
   ]
  },
  {
   "cell_type": "code",
   "execution_count": null,
   "id": "adverse-aviation",
   "metadata": {},
   "outputs": [],
   "source": []
  },
  {
   "cell_type": "markdown",
   "id": "cross-washer",
   "metadata": {},
   "source": [
    "## Assignment 4 (5 points).\n",
    "- Write a function that finds the coefficients for the **ridge** regularized ols with coefficient $\\lambda$ crossvalidated\n",
    "- This time you HAVE TO to find the standard errors\n",
    "- Derive the standard errors in markdown, assuming homoskedasticity of errors $E[ee'|X]=\\sigma^2 I$\n",
    "- see, for example, https://lukesonnet.com/teaching/inference/200d_standard_errors.pdf\n",
    "- also I've found here about Ridge https://arxiv.org/pdf/1509.09169.pdf"
   ]
  },
  {
   "cell_type": "markdown",
   "id": "excited-midwest",
   "metadata": {},
   "source": [
    "### Estimate the standard errors assuming homoskedasticity of errors"
   ]
  },
  {
   "cell_type": "markdown",
   "id": "sexual-chocolate",
   "metadata": {},
   "source": [
    "It is well-know how estimate $\\beta$ coefficients of OLS and Ridge regressions\n",
    "\n",
    "$$\n",
    "\\hat\\beta_{OLS} = (X'X)^{-1}X'Y \\\\\n",
    "\\hat\\beta_{Ridge} = (X'X+\\lambda I)^{-1}X'Y$$\n",
    "\n",
    "Moreover, from https://lukesonnet.com/teaching/inference/200d_standard_errors.pdf we know how estimate standard errors \n",
    "(especially variance) for OLS $\\beta$ coefficients assuming homoskedasticity of errors\n",
    "$$\n",
    "V[\\hat\\beta_{OLS}|X] = \\sigma^2 (X'X)^{-1} = \\dfrac{e'e}{n-p} * (X'X)^{-1} $$\n",
    "\n",
    "After that, we can express $\\hat\\beta_{Ridge}$ through $\\hat\\beta_{OLS}$ and estimate variance\n",
    "\n",
    "$$\\hat\\beta_{Ridge} = (X'X+\\lambda I)^{-1}X'Y= (X'X+\\lambda I)^{-1} (X'X) (X'X)^{-1}X'Y  = (X'X+\\lambda I)^{-1}(X'X)\\hat\\beta_{OLS} = W \\hat\\beta_{OLS} $$\n",
    "\n",
    "Let W is a definite numerical matrix where\n",
    "\n",
    "$$W = (X'X+\\lambda I)^{-1}(X'X)$$\n",
    "\n",
    "Estimate Variance, knowing that $Var(AB) = AVar(B)A'$, where A is a definite numerical matrix\n",
    "\n",
    "$$V[\\hat\\beta_{Ridge}|X] = Var(W \\hat\\beta_{OLS}) = W Var(\\hat\\beta_{OLS}) W' = \\{(X'X+\\lambda I)^{-1}(X'X)\\}\\sigma^2 (X'X)^{-1} \\{(X'X+\\lambda I)^{-1}(X'X)\\}' = $$\n",
    "$$ = \\sigma^2  (X'X+\\lambda I)^{-1}(X'X) (X'X)^{-1} (X'X)[(X'X+\\lambda I)^{-1}]'$$\n",
    "\n",
    "$$V[\\hat\\beta_{Ridge}|X] = \\sigma^2  (X'X+\\lambda I)^{-1} (X'X)[(X'X+\\lambda I)^{-1}]'$$"
   ]
  },
  {
   "cell_type": "markdown",
   "id": "systematic-holmes",
   "metadata": {},
   "source": [
    "### Functions to estimate loss in Ridge regression and SSR"
   ]
  },
  {
   "cell_type": "code",
   "execution_count": 22,
   "id": "double-sequence",
   "metadata": {},
   "outputs": [],
   "source": [
    "def loss_ridge(Y, X, beta, lamda):\n",
    "    z = Y - X@beta\n",
    "    return z@z.T + lamda*(beta@beta.T)"
   ]
  },
  {
   "cell_type": "code",
   "execution_count": 23,
   "id": "thousand-interaction",
   "metadata": {},
   "outputs": [],
   "source": [
    "def run_ridge(lamda1, kf1, X, Y):\n",
    "    avg = 0\n",
    "    for train_index, test_index in kf1.split(X): #for each fold\n",
    "        X_train, X_test = X[train_index], X[test_index]\n",
    "        y_train, y_test = Y[train_index], Y[test_index]\n",
    "        \n",
    "        #calculate beta\n",
    "        covs = X_train.shape[1]\n",
    "        bounds = [(None, None)]*covs\n",
    "        beta = spopt.shgo(lambda b: loss_ridge(y_train, X_train, b, lamda1), bounds).x\n",
    "        #calculate errors and SSR\n",
    "        errors = X_test@beta - y_test\n",
    "        SSR = errors@errors.T\n",
    "        avg += SSR\n",
    "\n",
    "    return avg/kf1.n_splits #average SSR"
   ]
  },
  {
   "cell_type": "markdown",
   "id": "cloudy-owner",
   "metadata": {},
   "source": [
    "### Function that finds the coefficients for the ridge with coefficient  𝜆  crossvalidated"
   ]
  },
  {
   "cell_type": "code",
   "execution_count": 24,
   "id": "ahead-absolute",
   "metadata": {},
   "outputs": [],
   "source": [
    "def assignment_4(formula, data, folds):\n",
    "    \n",
    "    kf = KFold(n_splits=folds)\n",
    "    \n",
    "    ycolumn = formula.split(' ~ ')[0]\n",
    "    xcolumns = formula.split(' ~ ')[1].split(' + ')\n",
    "    Y = data[ycolumn].values\n",
    "    X = data[xcolumns].values\n",
    "    X = sm.add_constant(X)\n",
    "    \n",
    "    lamda_list = []\n",
    "    for lamda in tqdm(np.arange(0,100.02,0.02),leave=False): #loop for 101 values in [0,5]\n",
    "        lamda_list.append(run_ridge(lamda, kf, X, Y))\n",
    "    \n",
    "    ind_good = np.array(lamda_list).argmin()\n",
    "\n",
    "    lamda_good = np.arange(0,100.02,0.02)[ind_good]\n",
    "    \n",
    "    print('Optimal lambda: {:}'.format(lamda_good))\n",
    "    \n",
    "    #find beta coefficients with optimal parametres\n",
    "    covs = X.shape[1]\n",
    "    beta_good = npla.inv(X.T@X + lamda_good*np.ones(covs))@(X.T@Y)\n",
    "\n",
    "    e = Y-X@beta_good\n",
    "\n",
    "    sigma2 = (e.T@e)/(X.shape[0]-X.shape[1])\n",
    "\n",
    "    cov = sigma2*npla.inv(X.T@X + lamda_good*np.ones(covs))@X.T@X@(npla.inv(X.T@X + lamda_good*np.ones(covs)).T)\n",
    "\n",
    "    lower = beta_good - spst.t.ppf(1-0.025, X.shape[0]-X.shape[1])*np.sqrt(np.diag(cov)) \n",
    "    upper = beta_good + spst.t.ppf(1-0.025, X.shape[0]-X.shape[1])*np.sqrt(np.diag(cov))\n",
    "    std = np.sqrt(np.diag(cov))\n",
    "\n",
    "    df = pd.DataFrame(beta_good, columns = ['Ridge_coef'])\n",
    "    df.index = np.array(['Intercept'] + xcolumns)\n",
    "    \n",
    "    df['std_Ridge'] = std\n",
    "    df['lower_bound_ci'] = lower\n",
    "    df['upper_bound_ci'] = upper\n",
    "\n",
    "    return df, np.array(lamda_list) #return df with coefficients and list to draw graph of SSR"
   ]
  },
  {
   "cell_type": "code",
   "execution_count": 25,
   "id": "controlled-brief",
   "metadata": {},
   "outputs": [
    {
     "data": {
      "application/vnd.jupyter.widget-view+json": {
       "model_id": "",
       "version_major": 2,
       "version_minor": 0
      },
      "text/plain": [
       "  0%|          | 0/5001 [00:00<?, ?it/s]"
      ]
     },
     "metadata": {},
     "output_type": "display_data"
    },
    {
     "name": "stdout",
     "output_type": "stream",
     "text": [
      "Optimal lambda: 4.92\n"
     ]
    },
    {
     "data": {
      "text/html": [
       "<div>\n",
       "<style scoped>\n",
       "    .dataframe tbody tr th:only-of-type {\n",
       "        vertical-align: middle;\n",
       "    }\n",
       "\n",
       "    .dataframe tbody tr th {\n",
       "        vertical-align: top;\n",
       "    }\n",
       "\n",
       "    .dataframe thead th {\n",
       "        text-align: right;\n",
       "    }\n",
       "</style>\n",
       "<table border=\"1\" class=\"dataframe\">\n",
       "  <thead>\n",
       "    <tr style=\"text-align: right;\">\n",
       "      <th></th>\n",
       "      <th>Ridge_coef</th>\n",
       "      <th>std_Ridge</th>\n",
       "      <th>lower_bound_ci</th>\n",
       "      <th>upper_bound_ci</th>\n",
       "    </tr>\n",
       "  </thead>\n",
       "  <tbody>\n",
       "    <tr>\n",
       "      <th>Intercept</th>\n",
       "      <td>6.544967</td>\n",
       "      <td>4.705779</td>\n",
       "      <td>-2.819832</td>\n",
       "      <td>15.909765</td>\n",
       "    </tr>\n",
       "    <tr>\n",
       "      <th>Literacy</th>\n",
       "      <td>-0.020081</td>\n",
       "      <td>0.104791</td>\n",
       "      <td>-0.228621</td>\n",
       "      <td>0.188460</td>\n",
       "    </tr>\n",
       "    <tr>\n",
       "      <th>Donations</th>\n",
       "      <td>0.000167</td>\n",
       "      <td>0.000411</td>\n",
       "      <td>-0.000650</td>\n",
       "      <td>0.000984</td>\n",
       "    </tr>\n",
       "    <tr>\n",
       "      <th>Infants</th>\n",
       "      <td>0.000709</td>\n",
       "      <td>0.000265</td>\n",
       "      <td>0.000182</td>\n",
       "      <td>0.001237</td>\n",
       "    </tr>\n",
       "    <tr>\n",
       "      <th>Wealth</th>\n",
       "      <td>0.316689</td>\n",
       "      <td>0.105798</td>\n",
       "      <td>0.106145</td>\n",
       "      <td>0.527234</td>\n",
       "    </tr>\n",
       "    <tr>\n",
       "      <th>Commerce</th>\n",
       "      <td>0.207182</td>\n",
       "      <td>0.115578</td>\n",
       "      <td>-0.022826</td>\n",
       "      <td>0.437190</td>\n",
       "    </tr>\n",
       "  </tbody>\n",
       "</table>\n",
       "</div>"
      ],
      "text/plain": [
       "           Ridge_coef  std_Ridge  lower_bound_ci  upper_bound_ci\n",
       "Intercept    6.544967   4.705779       -2.819832       15.909765\n",
       "Literacy    -0.020081   0.104791       -0.228621        0.188460\n",
       "Donations    0.000167   0.000411       -0.000650        0.000984\n",
       "Infants      0.000709   0.000265        0.000182        0.001237\n",
       "Wealth       0.316689   0.105798        0.106145        0.527234\n",
       "Commerce     0.207182   0.115578       -0.022826        0.437190"
      ]
     },
     "execution_count": 25,
     "metadata": {},
     "output_type": "execute_result"
    }
   ],
   "source": [
    "d_ridge, list_par_ridge = assignment_4('Lottery ~ Literacy + Donations + Infants + Wealth + Commerce', dat, folds = 5)\n",
    "d_ridge"
   ]
  },
  {
   "cell_type": "markdown",
   "id": "colored-cooler",
   "metadata": {},
   "source": [
    "### Graph with SSR"
   ]
  },
  {
   "cell_type": "code",
   "execution_count": 26,
   "id": "least-hierarchy",
   "metadata": {},
   "outputs": [
    {
     "data": {
      "image/png": "[encoded data removed]",
      "text/plain": [
       "<Figure size 864x720 with 1 Axes>"
      ]
     },
     "metadata": {
      "needs_background": "light"
     },
     "output_type": "display_data"
    }
   ],
   "source": [
    "plt.plot(np.arange(0,100.02,0.02), list_par_ridge)\n",
    "plt.title('Loss function (SSR)')\n",
    "plt.xlabel('Lambda')\n",
    "plt.ylabel('Loss');"
   ]
  },
  {
   "cell_type": "markdown",
   "id": "sitting-diameter",
   "metadata": {},
   "source": [
    "### Compare Ridge and OLS"
   ]
  },
  {
   "cell_type": "code",
   "execution_count": 27,
   "id": "chicken-toronto",
   "metadata": {},
   "outputs": [
    {
     "data": {
      "text/html": [
       "<div>\n",
       "<style scoped>\n",
       "    .dataframe tbody tr th:only-of-type {\n",
       "        vertical-align: middle;\n",
       "    }\n",
       "\n",
       "    .dataframe tbody tr th {\n",
       "        vertical-align: top;\n",
       "    }\n",
       "\n",
       "    .dataframe thead th {\n",
       "        text-align: right;\n",
       "    }\n",
       "</style>\n",
       "<table border=\"1\" class=\"dataframe\">\n",
       "  <thead>\n",
       "    <tr style=\"text-align: right;\">\n",
       "      <th></th>\n",
       "      <th>OLS_coef</th>\n",
       "      <th>std_OLS</th>\n",
       "    </tr>\n",
       "  </thead>\n",
       "  <tbody>\n",
       "    <tr>\n",
       "      <th>Intercept</th>\n",
       "      <td>17.509765</td>\n",
       "      <td>11.827201</td>\n",
       "    </tr>\n",
       "    <tr>\n",
       "      <th>Literacy</th>\n",
       "      <td>-0.149907</td>\n",
       "      <td>0.165540</td>\n",
       "    </tr>\n",
       "    <tr>\n",
       "      <th>Donations</th>\n",
       "      <td>0.000140</td>\n",
       "      <td>0.000409</td>\n",
       "    </tr>\n",
       "    <tr>\n",
       "      <th>Infants</th>\n",
       "      <td>0.000579</td>\n",
       "      <td>0.000294</td>\n",
       "    </tr>\n",
       "    <tr>\n",
       "      <th>Wealth</th>\n",
       "      <td>0.306547</td>\n",
       "      <td>0.105712</td>\n",
       "    </tr>\n",
       "    <tr>\n",
       "      <th>Commerce</th>\n",
       "      <td>0.152250</td>\n",
       "      <td>0.127190</td>\n",
       "    </tr>\n",
       "  </tbody>\n",
       "</table>\n",
       "</div>"
      ],
      "text/plain": [
       "            OLS_coef    std_OLS\n",
       "Intercept  17.509765  11.827201\n",
       "Literacy   -0.149907   0.165540\n",
       "Donations   0.000140   0.000409\n",
       "Infants     0.000579   0.000294\n",
       "Wealth      0.306547   0.105712\n",
       "Commerce    0.152250   0.127190"
      ]
     },
     "execution_count": 27,
     "metadata": {},
     "output_type": "execute_result"
    }
   ],
   "source": [
    "beta = npla.solve(X.T@X, X.T@Y) #estimate beta\n",
    "e = Y-X@beta #estimate residuals\n",
    "sigma2 = (e.T@e)/(X.shape[0]-X.shape[1])\n",
    "cov = sigma2*npla.inv(X.T@X)\n",
    "std = np.sqrt(np.diag(cov))\n",
    "df_ols = pd.DataFrame(beta, columns = ['OLS_coef'])\n",
    "df_ols.index = np.array(['Intercept'] + xcolumns)\n",
    "df_ols['std_OLS'] = std\n",
    "df_ols"
   ]
  },
  {
   "cell_type": "code",
   "execution_count": 28,
   "id": "fifth-oracle",
   "metadata": {},
   "outputs": [
    {
     "data": {
      "text/html": [
       "<div>\n",
       "<style scoped>\n",
       "    .dataframe tbody tr th:only-of-type {\n",
       "        vertical-align: middle;\n",
       "    }\n",
       "\n",
       "    .dataframe tbody tr th {\n",
       "        vertical-align: top;\n",
       "    }\n",
       "\n",
       "    .dataframe thead th {\n",
       "        text-align: right;\n",
       "    }\n",
       "</style>\n",
       "<table border=\"1\" class=\"dataframe\">\n",
       "  <thead>\n",
       "    <tr style=\"text-align: right;\">\n",
       "      <th></th>\n",
       "      <th>Ridge_coef</th>\n",
       "      <th>std_Ridge</th>\n",
       "    </tr>\n",
       "  </thead>\n",
       "  <tbody>\n",
       "    <tr>\n",
       "      <th>Intercept</th>\n",
       "      <td>6.544967</td>\n",
       "      <td>4.705779</td>\n",
       "    </tr>\n",
       "    <tr>\n",
       "      <th>Literacy</th>\n",
       "      <td>-0.020081</td>\n",
       "      <td>0.104791</td>\n",
       "    </tr>\n",
       "    <tr>\n",
       "      <th>Donations</th>\n",
       "      <td>0.000167</td>\n",
       "      <td>0.000411</td>\n",
       "    </tr>\n",
       "    <tr>\n",
       "      <th>Infants</th>\n",
       "      <td>0.000709</td>\n",
       "      <td>0.000265</td>\n",
       "    </tr>\n",
       "    <tr>\n",
       "      <th>Wealth</th>\n",
       "      <td>0.316689</td>\n",
       "      <td>0.105798</td>\n",
       "    </tr>\n",
       "    <tr>\n",
       "      <th>Commerce</th>\n",
       "      <td>0.207182</td>\n",
       "      <td>0.115578</td>\n",
       "    </tr>\n",
       "  </tbody>\n",
       "</table>\n",
       "</div>"
      ],
      "text/plain": [
       "           Ridge_coef  std_Ridge\n",
       "Intercept    6.544967   4.705779\n",
       "Literacy    -0.020081   0.104791\n",
       "Donations    0.000167   0.000411\n",
       "Infants      0.000709   0.000265\n",
       "Wealth       0.316689   0.105798\n",
       "Commerce     0.207182   0.115578"
      ]
     },
     "execution_count": 28,
     "metadata": {},
     "output_type": "execute_result"
    }
   ],
   "source": [
    "d_ridge[['Ridge_coef', 'std_Ridge']]"
   ]
  },
  {
   "cell_type": "markdown",
   "id": "smoking-lindsay",
   "metadata": {},
   "source": [
    "* Standard errors for *intercept and Literacy* are less in Ridge, while standard errors are particularly the same for others\n",
    "\n",
    "* Coefficients in Ridge regression are also less for intercept and Literacy\n",
    "\n",
    "Both these facts demonstrate the regularization of Ridge Regression"
   ]
  },
  {
   "cell_type": "code",
   "execution_count": null,
   "id": "classified-faith",
   "metadata": {},
   "outputs": [],
   "source": []
  }
 ],
 "metadata": {
  "kernelspec": {
   "display_name": "Python 3",
   "language": "python",
   "name": "python3"
  },
  "language_info": {
   "codemirror_mode": {
    "name": "ipython",
    "version": 3
   },
   "file_extension": ".py",
   "mimetype": "text/x-python",
   "name": "python",
   "nbconvert_exporter": "python",
   "pygments_lexer": "ipython3",
   "version": "3.8.7"
  }
 },
 "nbformat": 4,
 "nbformat_minor": 5
}
