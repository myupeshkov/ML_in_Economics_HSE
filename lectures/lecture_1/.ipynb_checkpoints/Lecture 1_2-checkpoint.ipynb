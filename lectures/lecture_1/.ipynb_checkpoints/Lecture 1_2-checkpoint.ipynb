{
 "cells": [
  {
   "cell_type": "markdown",
   "metadata": {},
   "source": [
    "# Regularization and crossvalidation"
   ]
  },
  {
   "cell_type": "code",
   "execution_count": 1,
   "metadata": {},
   "outputs": [],
   "source": [
    "import scipy as sp\n",
    "import scipy.linalg as spla\n",
    "import scipy.optimize as spopt\n",
    "import scipy.stats as spst"
   ]
  },
  {
   "cell_type": "code",
   "execution_count": 2,
   "metadata": {},
   "outputs": [],
   "source": [
    "import numpy as np\n",
    "import numpy.linalg as npla"
   ]
  },
  {
   "cell_type": "code",
   "execution_count": 3,
   "metadata": {},
   "outputs": [],
   "source": [
    "import statsmodels.api as sm"
   ]
  },
  {
   "cell_type": "code",
   "execution_count": 4,
   "metadata": {},
   "outputs": [],
   "source": [
    "from sklearn.linear_model import Ridge as Ridge"
   ]
  },
  {
   "cell_type": "code",
   "execution_count": 5,
   "metadata": {},
   "outputs": [],
   "source": [
    "dat = sm.datasets.get_rdataset(\"Guerry\", \"HistData\").data"
   ]
  },
  {
   "cell_type": "code",
   "execution_count": 6,
   "metadata": {},
   "outputs": [
    {
     "name": "stdout",
     "output_type": "stream",
     "text": [
      "<class 'pandas.core.frame.DataFrame'>\n",
      "RangeIndex: 86 entries, 0 to 85\n",
      "Data columns (total 23 columns):\n",
      " #   Column           Non-Null Count  Dtype  \n",
      "---  ------           --------------  -----  \n",
      " 0   dept             86 non-null     int64  \n",
      " 1   Region           85 non-null     object \n",
      " 2   Department       86 non-null     object \n",
      " 3   Crime_pers       86 non-null     int64  \n",
      " 4   Crime_prop       86 non-null     int64  \n",
      " 5   Literacy         86 non-null     int64  \n",
      " 6   Donations        86 non-null     int64  \n",
      " 7   Infants          86 non-null     int64  \n",
      " 8   Suicides         86 non-null     int64  \n",
      " 9   MainCity         86 non-null     object \n",
      " 10  Wealth           86 non-null     int64  \n",
      " 11  Commerce         86 non-null     int64  \n",
      " 12  Clergy           86 non-null     int64  \n",
      " 13  Crime_parents    86 non-null     int64  \n",
      " 14  Infanticide      86 non-null     int64  \n",
      " 15  Donation_clergy  86 non-null     int64  \n",
      " 16  Lottery          86 non-null     int64  \n",
      " 17  Desertion        86 non-null     int64  \n",
      " 18  Instruction      86 non-null     int64  \n",
      " 19  Prostitutes      86 non-null     int64  \n",
      " 20  Distance         86 non-null     float64\n",
      " 21  Area             86 non-null     int64  \n",
      " 22  Pop1831          86 non-null     float64\n",
      "dtypes: float64(2), int64(18), object(3)\n",
      "memory usage: 15.6+ KB\n"
     ]
    }
   ],
   "source": [
    "dat.info()"
   ]
  },
  {
   "cell_type": "markdown",
   "metadata": {},
   "source": [
    "### First definition of (ridge) regularization is $(X'X + \\lambda I) \\beta = (X'Y)$\n",
    "- what are the advantages?"
   ]
  },
  {
   "cell_type": "markdown",
   "metadata": {},
   "source": [
    "### Second definition of (ridge) regularization is $\\beta = (X'X + \\lambda I)^{-1}(X'Y)$\n",
    "- intuition is that putting positive numbers on the diagonal pulls theeigenvalues away from zero\n",
    "- pulling the eigenvalues away from zero makes inversion numerically stable"
   ]
  },
  {
   "cell_type": "code",
   "execution_count": 7,
   "metadata": {},
   "outputs": [],
   "source": [
    "X=dat[['Literacy','Donations','Infants', 'Wealth', 'Commerce']].values\n",
    "X=sm.add_constant(X)\n",
    "Y=dat['Lottery'].values\n",
    "\n",
    "lamda = 2\n",
    "covs = 6"
   ]
  },
  {
   "cell_type": "code",
   "execution_count": 8,
   "metadata": {},
   "outputs": [
    {
     "data": {
      "text/plain": [
       "array([10.56, -0.07,  0.  ,  0.  ,  0.31,  0.19])"
      ]
     },
     "execution_count": 8,
     "metadata": {},
     "output_type": "execute_result"
    }
   ],
   "source": [
    "beta = spla.inv(X.T@X + lamda*np.ones(covs))@(X.T@Y)\n",
    "np.round(beta, 2)"
   ]
  },
  {
   "cell_type": "code",
   "execution_count": 9,
   "metadata": {},
   "outputs": [
    {
     "data": {
      "text/plain": [
       "array([10.56, -0.07,  0.  ,  0.  ,  0.31,  0.19])"
      ]
     },
     "execution_count": 9,
     "metadata": {},
     "output_type": "execute_result"
    }
   ],
   "source": [
    "beta = npla.inv(X.T@X + lamda*np.ones(covs))@(X.T@Y)\n",
    "np.round(beta, 2)"
   ]
  },
  {
   "cell_type": "markdown",
   "metadata": {},
   "source": [
    "### Third definition of (ridge) regularization $L = ||Y - X \\beta ||^2 + \\lambda ||\\beta||^2 \\to \\min$\n",
    "- intuition is that we penalize the regression for very large $\\beta$\n",
    "- this will interact with the scale normalization of your data"
   ]
  },
  {
   "cell_type": "code",
   "execution_count": 10,
   "metadata": {},
   "outputs": [
    {
     "data": {
      "text/plain": [
       "array([10.56, -0.07,  0.  ,  0.  ,  0.31,  0.19])"
      ]
     },
     "execution_count": 10,
     "metadata": {},
     "output_type": "execute_result"
    }
   ],
   "source": [
    "def loss(Y, X, beta):\n",
    "    z = Y - X@beta\n",
    "    return z@z.T + lamda*beta@beta.T\n",
    "np.round(beta, 2)"
   ]
  },
  {
   "cell_type": "code",
   "execution_count": 11,
   "metadata": {},
   "outputs": [
    {
     "data": {
      "text/plain": [
       "array([10.65, -0.07,  0.  ,  0.  ,  0.31,  0.19])"
      ]
     },
     "execution_count": 11,
     "metadata": {},
     "output_type": "execute_result"
    }
   ],
   "source": [
    "bounds = [(None, None)]*covs\n",
    "beta = spopt.shgo(lambda b: loss(Y, X, b), bounds).x\n",
    "np.round(beta, 2)"
   ]
  },
  {
   "cell_type": "code",
   "execution_count": 12,
   "metadata": {},
   "outputs": [
    {
     "data": {
      "text/plain": [
       "array([10.65, -0.07,  0.  ,  0.  ,  0.31,  0.19])"
      ]
     },
     "execution_count": 12,
     "metadata": {},
     "output_type": "execute_result"
    }
   ],
   "source": [
    "bounds = [(-100, 100)]*covs\n",
    "beta = spopt.dual_annealing(lambda b: loss(Y, X, b), bounds).x\n",
    "np.round(beta, 2)"
   ]
  },
  {
   "cell_type": "markdown",
   "metadata": {},
   "source": [
    "### In late 2014, it was proven that the elastic net can also be reduced to SVM (topic of next week)"
   ]
  },
  {
   "cell_type": "markdown",
   "metadata": {},
   "source": [
    "### This regression is often referred to as Ridge and $\\lambda$ is called $\\alpha$ or $\\alpha n$\n",
    "### In statsmodels $\\lambda = \\alpha n$ but in sklearn $\\lambda = \\alpha$"
   ]
  },
  {
   "cell_type": "code",
   "execution_count": 13,
   "metadata": {},
   "outputs": [
    {
     "data": {
      "text/plain": [
       "array([10.65, -0.07,  0.  ,  0.  ,  0.31,  0.19])"
      ]
     },
     "execution_count": 13,
     "metadata": {},
     "output_type": "execute_result"
    }
   ],
   "source": [
    "smfOLS = sm.regression.linear_model.OLS.from_formula\n",
    "\n",
    "model = 'Lottery ~ Literacy + Donations + Infants + Wealth + Commerce'\n",
    "sum2 = smfOLS(model, data = dat).fit_regularized(method='elastic_net', alpha=lamda/len(dat), L1_wt=0)\n",
    "beta = sum2.params\n",
    "np.round(beta, 2)"
   ]
  },
  {
   "cell_type": "code",
   "execution_count": 14,
   "metadata": {},
   "outputs": [
    {
     "data": {
      "text/plain": [
       "array([10.65, -0.07,  0.  ,  0.  ,  0.31,  0.19])"
      ]
     },
     "execution_count": 14,
     "metadata": {},
     "output_type": "execute_result"
    }
   ],
   "source": [
    "sum3 = Ridge(alpha=lamda, fit_intercept=False).fit(X, Y)\n",
    "beta = sum3.coef_\n",
    "np.round(beta, 2)"
   ]
  },
  {
   "cell_type": "markdown",
   "metadata": {},
   "source": [
    "### If we use sum of absolute values (not squares) its called lasso\n",
    "$$L = ||Y - X \\beta ||^2 + \\mu |\\beta|_0\\to \\min$$"
   ]
  },
  {
   "cell_type": "markdown",
   "metadata": {},
   "source": [
    "### Another type of regularization are called *elastic-net*\n",
    "$$L = ||Y - X \\beta ||^2 + \\lambda ||\\beta||^2 + \\mu |\\beta|_0\\to \\min$$\n",
    "- increasing $\\lambda$ fights multicollinearity but tends to spread the coefficients evenly\n",
    "- increasing $\\mu$ tends to find corner solutions (on kinks) thus prioritizes one coefficient over another"
   ]
  },
  {
   "cell_type": "markdown",
   "metadata": {},
   "source": [
    "### How to pick $\\lambda$ and $\\mu$? Cross validation with metric of your choice, for example SSR (proportional to $R^2$):\n",
    "$$ SSR = e'e$$"
   ]
  },
  {
   "cell_type": "code",
   "execution_count": 15,
   "metadata": {},
   "outputs": [
    {
     "data": {
      "text/plain": [
       "KFold(n_splits=5, random_state=None, shuffle=False)"
      ]
     },
     "execution_count": 15,
     "metadata": {},
     "output_type": "execute_result"
    }
   ],
   "source": [
    "from sklearn.model_selection import KFold\n",
    "kf = KFold(n_splits=5)\n",
    "kf"
   ]
  },
  {
   "cell_type": "code",
   "execution_count": 20,
   "metadata": {},
   "outputs": [
    {
     "name": "stdout",
     "output_type": "stream",
     "text": [
      "TRAIN: [18 19 20 21 22 23 24 25 26 27 28 29 30 31 32 33 34 35 36 37 38 39 40 41\n",
      " 42 43 44 45 46 47 48 49 50 51 52 53 54 55 56 57 58 59 60 61 62 63 64 65\n",
      " 66 67 68 69 70 71 72 73 74 75 76 77 78 79 80 81 82 83 84 85] TEST: [ 0  1  2  3  4  5  6  7  8  9 10 11 12 13 14 15 16 17]\n",
      "TRAIN: [ 0  1  2  3  4  5  6  7  8  9 10 11 12 13 14 15 16 17 35 36 37 38 39 40\n",
      " 41 42 43 44 45 46 47 48 49 50 51 52 53 54 55 56 57 58 59 60 61 62 63 64\n",
      " 65 66 67 68 69 70 71 72 73 74 75 76 77 78 79 80 81 82 83 84 85] TEST: [18 19 20 21 22 23 24 25 26 27 28 29 30 31 32 33 34]\n",
      "TRAIN: [ 0  1  2  3  4  5  6  7  8  9 10 11 12 13 14 15 16 17 18 19 20 21 22 23\n",
      " 24 25 26 27 28 29 30 31 32 33 34 52 53 54 55 56 57 58 59 60 61 62 63 64\n",
      " 65 66 67 68 69 70 71 72 73 74 75 76 77 78 79 80 81 82 83 84 85] TEST: [35 36 37 38 39 40 41 42 43 44 45 46 47 48 49 50 51]\n",
      "TRAIN: [ 0  1  2  3  4  5  6  7  8  9 10 11 12 13 14 15 16 17 18 19 20 21 22 23\n",
      " 24 25 26 27 28 29 30 31 32 33 34 35 36 37 38 39 40 41 42 43 44 45 46 47\n",
      " 48 49 50 51 69 70 71 72 73 74 75 76 77 78 79 80 81 82 83 84 85] TEST: [52 53 54 55 56 57 58 59 60 61 62 63 64 65 66 67 68]\n",
      "TRAIN: [ 0  1  2  3  4  5  6  7  8  9 10 11 12 13 14 15 16 17 18 19 20 21 22 23\n",
      " 24 25 26 27 28 29 30 31 32 33 34 35 36 37 38 39 40 41 42 43 44 45 46 47\n",
      " 48 49 50 51 52 53 54 55 56 57 58 59 60 61 62 63 64 65 66 67 68] TEST: [69 70 71 72 73 74 75 76 77 78 79 80 81 82 83 84 85]\n"
     ]
    }
   ],
   "source": [
    "for train_index, test_index in kf.split(X):\n",
    "    print(\"TRAIN:\", train_index, \"TEST:\", test_index)\n",
    "    X_train, X_test = X[train_index], X[test_index]\n",
    "    y_train, y_test = Y[train_index], Y[test_index]"
   ]
  },
  {
   "cell_type": "code",
   "execution_count": 26,
   "metadata": {},
   "outputs": [],
   "source": [
    "def run(lamda):\n",
    "    avg = 0\n",
    "    for train_index, test_index in kf.split(X):\n",
    "        X_train, X_test = X[train_index], X[test_index]\n",
    "        y_train, y_test = Y[train_index], Y[test_index]\n",
    "        beta = spla.inv(X_train.T@X_train + lamda*np.ones(6))@(X_train.T@y_train).T\n",
    "        errors = X_test@beta - y_test\n",
    "        SSR = errors@errors.T\n",
    "        avg = avg + SSR\n",
    "    return avg/5\n",
    "\n",
    "import matplotlib.pyplot as plt\n",
    "results = [run(x) for x in np.linspace(0,100,500)]\n",
    "lambdas = [x for x in np.linspace(0,100,500)]\n",
    "plt.plot(lambdas, results)"
   ]
  },
  {
   "cell_type": "code",
   "execution_count": 27,
   "metadata": {},
   "outputs": [
    {
     "data": {
      "text/plain": [
       "[<matplotlib.lines.Line2D at 0x7fcdeebe8cd0>]"
      ]
     },
     "execution_count": 27,
     "metadata": {},
     "output_type": "execute_result"
    },
    {
     "data": {
      "image/png": "[encoded data removed]",
      "text/plain": [
       "<Figure size 432x288 with 1 Axes>"
      ]
     },
     "metadata": {
      "needs_background": "light"
     },
     "output_type": "display_data"
    }
   ],
   "source": [
    "import matplotlib.pyplot as plt\n",
    "results = [run(x) for x in np.linspace(0,100,500)]\n",
    "lambdas = [x for x in np.linspace(0,100,500)]\n",
    "plt.plot(lambdas, results)"
   ]
  },
  {
   "cell_type": "code",
   "execution_count": 28,
   "metadata": {},
   "outputs": [
    {
     "name": "stdout",
     "output_type": "stream",
     "text": [
      "optimal lambda is: 4.61\n"
     ]
    }
   ],
   "source": [
    "print('optimal lambda is:', np.round(lambdas[np.argmin(results)],2))"
   ]
  },
  {
   "cell_type": "markdown",
   "metadata": {},
   "source": [
    "### Ok but how many folds to pick???\n",
    "- ask around\n",
    "- read books\n",
    "- use intuition\n",
    "- trial and error"
   ]
  }
 ],
 "metadata": {
  "kernelspec": {
   "display_name": "Python 3",
   "language": "python",
   "name": "python3"
  },
  "language_info": {
   "codemirror_mode": {
    "name": "ipython",
    "version": 3
   },
   "file_extension": ".py",
   "mimetype": "text/x-python",
   "name": "python",
   "nbconvert_exporter": "python",
   "pygments_lexer": "ipython3",
   "version": "3.8.7"
  }
 },
 "nbformat": 4,
 "nbformat_minor": 4
}
