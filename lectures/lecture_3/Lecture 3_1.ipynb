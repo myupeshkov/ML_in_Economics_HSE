{
 "cells": [
  {
   "cell_type": "markdown",
   "metadata": {},
   "source": [
    "### Переключение между code и markdown при помощи esc+m, esc+y"
   ]
  },
  {
   "cell_type": "markdown",
   "metadata": {},
   "source": [
    "### Загрузим основные пакеты"
   ]
  },
  {
   "cell_type": "code",
   "execution_count": 1,
   "metadata": {},
   "outputs": [],
   "source": [
    "import scipy as sp\n",
    "import scipy.linalg as spla\n",
    "import scipy.optimize as spopt\n",
    "import scipy.stats as spst\n",
    "\n",
    "import numpy as np\n",
    "import numpy.linalg as npla\n",
    "\n",
    "import statsmodels as sm\n",
    "import statsmodels.api as sma\n",
    "smfOLS = sma.regression.linear_model.OLS.from_formula\n",
    "smfLGT = sm.discrete.discrete_model.Logit.from_formula\n",
    "\n",
    "import seaborn as sb\n",
    "import pandas as pd\n",
    "\n",
    "import matplotlib.pyplot as plt\n",
    "\n",
    "from inspect import signature as sig"
   ]
  },
  {
   "cell_type": "code",
   "execution_count": 2,
   "metadata": {},
   "outputs": [],
   "source": [
    "# matplotlib image size and resolution\n",
    "mpl_options = {\"figsize\":(8,8), \"dpi\":100}\n",
    "sb.set(rc={'figure.figsize':(8,8)})"
   ]
  },
  {
   "cell_type": "markdown",
   "metadata": {},
   "source": [
    "### Чтобы понять, что такое логистическая регрессия, надо понять, откуда она взялась\n",
    "### Обычно мы пытаемся провести прямую через облако точек, когда объясняющие переменные распределены непрерывно или дискретно. Но переменная Y всегда как будто непрерывная.\n",
    "### Скажем, \"Income ~ Age + YearsEducation\" или \"LifeExpectancy ~ Income\"\n",
    "### Заодно потренируемся в симуляциях"
   ]
  },
  {
   "cell_type": "code",
   "execution_count": 3,
   "metadata": {},
   "outputs": [],
   "source": [
    "x=np.random.uniform(size=100)\n",
    "x=x-x.mean()\n",
    "eps=np.random.uniform(size=100)*2\n",
    "eps=eps-eps.mean()\n",
    "\n",
    "y = 3.45*x + eps"
   ]
  },
  {
   "cell_type": "code",
   "execution_count": 4,
   "metadata": {},
   "outputs": [
    {
     "data": {
      "text/plain": [
       "<AxesSubplot:>"
      ]
     },
     "execution_count": 4,
     "metadata": {},
     "output_type": "execute_result"
    },
    {
     "data": {
      "image/png": "[encoded data removed]",
      "text/plain": [
       "<Figure size 576x576 with 1 Axes>"
      ]
     },
     "metadata": {},
     "output_type": "display_data"
    }
   ],
   "source": [
    "sb.regplot(x=x, y=y)"
   ]
  },
  {
   "cell_type": "code",
   "execution_count": 5,
   "metadata": {},
   "outputs": [
    {
     "data": {
      "text/html": [
       "<table class=\"simpletable\">\n",
       "<caption>OLS Regression Results</caption>\n",
       "<tr>\n",
       "  <th>Dep. Variable:</th>         <td>Income</td>      <th>  R-squared:         </th> <td>   0.754</td>\n",
       "</tr>\n",
       "<tr>\n",
       "  <th>Model:</th>                   <td>OLS</td>       <th>  Adj. R-squared:    </th> <td>   0.752</td>\n",
       "</tr>\n",
       "<tr>\n",
       "  <th>Method:</th>             <td>Least Squares</td>  <th>  F-statistic:       </th> <td>   301.0</td>\n",
       "</tr>\n",
       "<tr>\n",
       "  <th>Date:</th>             <td>Mon, 08 Feb 2021</td> <th>  Prob (F-statistic):</th> <td>1.23e-31</td>\n",
       "</tr>\n",
       "<tr>\n",
       "  <th>Time:</th>                 <td>10:09:27</td>     <th>  Log-Likelihood:    </th> <td>  46.526</td>\n",
       "</tr>\n",
       "<tr>\n",
       "  <th>No. Observations:</th>      <td>   100</td>      <th>  AIC:               </th> <td>  -89.05</td>\n",
       "</tr>\n",
       "<tr>\n",
       "  <th>Df Residuals:</th>          <td>    98</td>      <th>  BIC:               </th> <td>  -83.84</td>\n",
       "</tr>\n",
       "<tr>\n",
       "  <th>Df Model:</th>              <td>     1</td>      <th>                     </th>     <td> </td>   \n",
       "</tr>\n",
       "<tr>\n",
       "  <th>Covariance Type:</th>      <td>nonrobust</td>    <th>                     </th>     <td> </td>   \n",
       "</tr>\n",
       "</table>\n",
       "<table class=\"simpletable\">\n",
       "<tr>\n",
       "      <td></td>         <th>coef</th>     <th>std err</th>      <th>t</th>      <th>P>|t|</th>  <th>[0.025</th>    <th>0.975]</th>  \n",
       "</tr>\n",
       "<tr>\n",
       "  <th>Intercept</th> <td> 1.353e-16</td> <td>    0.015</td> <td> 8.82e-15</td> <td> 1.000</td> <td>   -0.030</td> <td>    0.030</td>\n",
       "</tr>\n",
       "<tr>\n",
       "  <th>Age</th>       <td>    0.2286</td> <td>    0.013</td> <td>   17.349</td> <td> 0.000</td> <td>    0.202</td> <td>    0.255</td>\n",
       "</tr>\n",
       "</table>\n",
       "<table class=\"simpletable\">\n",
       "<tr>\n",
       "  <th>Omnibus:</th>       <td>21.527</td> <th>  Durbin-Watson:     </th> <td>   2.112</td>\n",
       "</tr>\n",
       "<tr>\n",
       "  <th>Prob(Omnibus):</th> <td> 0.000</td> <th>  Jarque-Bera (JB):  </th> <td>   5.453</td>\n",
       "</tr>\n",
       "<tr>\n",
       "  <th>Skew:</th>          <td> 0.165</td> <th>  Prob(JB):          </th> <td>  0.0654</td>\n",
       "</tr>\n",
       "<tr>\n",
       "  <th>Kurtosis:</th>      <td> 1.905</td> <th>  Cond. No.          </th> <td>    1.16</td>\n",
       "</tr>\n",
       "</table><br/><br/>Notes:<br/>[1] Standard Errors assume that the covariance matrix of the errors is correctly specified."
      ],
      "text/plain": [
       "<class 'statsmodels.iolib.summary.Summary'>\n",
       "\"\"\"\n",
       "                            OLS Regression Results                            \n",
       "==============================================================================\n",
       "Dep. Variable:                 Income   R-squared:                       0.754\n",
       "Model:                            OLS   Adj. R-squared:                  0.752\n",
       "Method:                 Least Squares   F-statistic:                     301.0\n",
       "Date:                Mon, 08 Feb 2021   Prob (F-statistic):           1.23e-31\n",
       "Time:                        10:09:27   Log-Likelihood:                 46.526\n",
       "No. Observations:                 100   AIC:                            -89.05\n",
       "Df Residuals:                      98   BIC:                            -83.84\n",
       "Df Model:                           1                                         \n",
       "Covariance Type:            nonrobust                                         \n",
       "==============================================================================\n",
       "                 coef    std err          t      P>|t|      [0.025      0.975]\n",
       "------------------------------------------------------------------------------\n",
       "Intercept   1.353e-16      0.015   8.82e-15      1.000      -0.030       0.030\n",
       "Age            0.2286      0.013     17.349      0.000       0.202       0.255\n",
       "==============================================================================\n",
       "Omnibus:                       21.527   Durbin-Watson:                   2.112\n",
       "Prob(Omnibus):                  0.000   Jarque-Bera (JB):                5.453\n",
       "Skew:                           0.165   Prob(JB):                       0.0654\n",
       "Kurtosis:                       1.905   Cond. No.                         1.16\n",
       "==============================================================================\n",
       "\n",
       "Notes:\n",
       "[1] Standard Errors assume that the covariance matrix of the errors is correctly specified.\n",
       "\"\"\""
      ]
     },
     "execution_count": 5,
     "metadata": {},
     "output_type": "execute_result"
    }
   ],
   "source": [
    "df = pd.DataFrame([])\n",
    "df['Income']=x\n",
    "df['Age']=y\n",
    "model = smfOLS(\"Income ~ Age\", data=df)\n",
    "model.fit().summary()"
   ]
  },
  {
   "cell_type": "markdown",
   "metadata": {},
   "source": [
    "### А что если переменная Y принимает значения 0 или 1. Скажем, решение пойти в университет?\n",
    "### Попробуем провести такую регрессию"
   ]
  },
  {
   "cell_type": "code",
   "execution_count": 6,
   "metadata": {},
   "outputs": [],
   "source": [
    "x=np.random.uniform(size=100)\n",
    "x=x-x.mean()\n",
    "eps=np.random.uniform(size=100)*2\n",
    "eps=eps-eps.mean()\n",
    "\n",
    "y = (np.sign(3.45*x + eps)+1)/2"
   ]
  },
  {
   "cell_type": "code",
   "execution_count": 7,
   "metadata": {},
   "outputs": [
    {
     "data": {
      "text/plain": [
       "<AxesSubplot:>"
      ]
     },
     "execution_count": 7,
     "metadata": {},
     "output_type": "execute_result"
    },
    {
     "data": {
      "image/png": "[encoded data removed]",
      "text/plain": [
       "<Figure size 576x576 with 1 Axes>"
      ]
     },
     "metadata": {},
     "output_type": "display_data"
    }
   ],
   "source": [
    "sb.regplot(x=x, y=y)"
   ]
  },
  {
   "cell_type": "code",
   "execution_count": 8,
   "metadata": {},
   "outputs": [
    {
     "data": {
      "text/html": [
       "<table class=\"simpletable\">\n",
       "<caption>OLS Regression Results</caption>\n",
       "<tr>\n",
       "  <th>Dep. Variable:</th>          <td>Univ</td>       <th>  R-squared:         </th> <td>   0.562</td>\n",
       "</tr>\n",
       "<tr>\n",
       "  <th>Model:</th>                   <td>OLS</td>       <th>  Adj. R-squared:    </th> <td>   0.558</td>\n",
       "</tr>\n",
       "<tr>\n",
       "  <th>Method:</th>             <td>Least Squares</td>  <th>  F-statistic:       </th> <td>   125.9</td>\n",
       "</tr>\n",
       "<tr>\n",
       "  <th>Date:</th>             <td>Mon, 08 Feb 2021</td> <th>  Prob (F-statistic):</th> <td>2.80e-19</td>\n",
       "</tr>\n",
       "<tr>\n",
       "  <th>Time:</th>                 <td>10:09:27</td>     <th>  Log-Likelihood:    </th> <td> -31.255</td>\n",
       "</tr>\n",
       "<tr>\n",
       "  <th>No. Observations:</th>      <td>   100</td>      <th>  AIC:               </th> <td>   66.51</td>\n",
       "</tr>\n",
       "<tr>\n",
       "  <th>Df Residuals:</th>          <td>    98</td>      <th>  BIC:               </th> <td>   71.72</td>\n",
       "</tr>\n",
       "<tr>\n",
       "  <th>Df Model:</th>              <td>     1</td>      <th>                     </th>     <td> </td>   \n",
       "</tr>\n",
       "<tr>\n",
       "  <th>Covariance Type:</th>      <td>nonrobust</td>    <th>                     </th>     <td> </td>   \n",
       "</tr>\n",
       "</table>\n",
       "<table class=\"simpletable\">\n",
       "<tr>\n",
       "      <td></td>         <th>coef</th>     <th>std err</th>      <th>t</th>      <th>P>|t|</th>  <th>[0.025</th>    <th>0.975]</th>  \n",
       "</tr>\n",
       "<tr>\n",
       "  <th>Intercept</th> <td>    0.5100</td> <td>    0.033</td> <td>   15.265</td> <td> 0.000</td> <td>    0.444</td> <td>    0.576</td>\n",
       "</tr>\n",
       "<tr>\n",
       "  <th>Income</th>    <td>    1.3199</td> <td>    0.118</td> <td>   11.219</td> <td> 0.000</td> <td>    1.086</td> <td>    1.553</td>\n",
       "</tr>\n",
       "</table>\n",
       "<table class=\"simpletable\">\n",
       "<tr>\n",
       "  <th>Omnibus:</th>       <td> 0.059</td> <th>  Durbin-Watson:     </th> <td>   2.376</td>\n",
       "</tr>\n",
       "<tr>\n",
       "  <th>Prob(Omnibus):</th> <td> 0.971</td> <th>  Jarque-Bera (JB):  </th> <td>   0.188</td>\n",
       "</tr>\n",
       "<tr>\n",
       "  <th>Skew:</th>          <td>-0.046</td> <th>  Prob(JB):          </th> <td>   0.910</td>\n",
       "</tr>\n",
       "<tr>\n",
       "  <th>Kurtosis:</th>      <td> 2.808</td> <th>  Cond. No.          </th> <td>    3.52</td>\n",
       "</tr>\n",
       "</table><br/><br/>Notes:<br/>[1] Standard Errors assume that the covariance matrix of the errors is correctly specified."
      ],
      "text/plain": [
       "<class 'statsmodels.iolib.summary.Summary'>\n",
       "\"\"\"\n",
       "                            OLS Regression Results                            \n",
       "==============================================================================\n",
       "Dep. Variable:                   Univ   R-squared:                       0.562\n",
       "Model:                            OLS   Adj. R-squared:                  0.558\n",
       "Method:                 Least Squares   F-statistic:                     125.9\n",
       "Date:                Mon, 08 Feb 2021   Prob (F-statistic):           2.80e-19\n",
       "Time:                        10:09:27   Log-Likelihood:                -31.255\n",
       "No. Observations:                 100   AIC:                             66.51\n",
       "Df Residuals:                      98   BIC:                             71.72\n",
       "Df Model:                           1                                         \n",
       "Covariance Type:            nonrobust                                         \n",
       "==============================================================================\n",
       "                 coef    std err          t      P>|t|      [0.025      0.975]\n",
       "------------------------------------------------------------------------------\n",
       "Intercept      0.5100      0.033     15.265      0.000       0.444       0.576\n",
       "Income         1.3199      0.118     11.219      0.000       1.086       1.553\n",
       "==============================================================================\n",
       "Omnibus:                        0.059   Durbin-Watson:                   2.376\n",
       "Prob(Omnibus):                  0.971   Jarque-Bera (JB):                0.188\n",
       "Skew:                          -0.046   Prob(JB):                        0.910\n",
       "Kurtosis:                       2.808   Cond. No.                         3.52\n",
       "==============================================================================\n",
       "\n",
       "Notes:\n",
       "[1] Standard Errors assume that the covariance matrix of the errors is correctly specified.\n",
       "\"\"\""
      ]
     },
     "execution_count": 8,
     "metadata": {},
     "output_type": "execute_result"
    }
   ],
   "source": [
    "df = pd.DataFrame([])\n",
    "df['Income']=x\n",
    "df['Univ'] = y\n",
    "model = smfOLS(\"Univ ~ Income\", data=df)\n",
    "model.fit().summary()"
   ]
  },
  {
   "cell_type": "markdown",
   "metadata": {},
   "source": [
    "### Получается какая то ерунда\n",
    "### Непонятно как интерпретировать коэффициент... и не очень понятно что такое fitted values\n",
    "### Было бы здорово предсказать что то типа вероятности, что то в [0,1]\n",
    "### И еще было бы здорово иметь много регрессоров, и чтобы все это было выпуклой задачей..."
   ]
  },
  {
   "cell_type": "code",
   "execution_count": 9,
   "metadata": {},
   "outputs": [
    {
     "data": {
      "text/plain": [
       "<AxesSubplot:>"
      ]
     },
     "execution_count": 9,
     "metadata": {},
     "output_type": "execute_result"
    },
    {
     "data": {
      "image/png": "[encoded data removed]",
      "text/plain": [
       "<Figure size 576x576 with 1 Axes>"
      ]
     },
     "metadata": {},
     "output_type": "display_data"
    }
   ],
   "source": [
    "sb.regplot(x=x, y=y, logistic = True)"
   ]
  },
  {
   "cell_type": "code",
   "execution_count": 10,
   "metadata": {},
   "outputs": [
    {
     "name": "stdout",
     "output_type": "stream",
     "text": [
      "Optimization terminated successfully.\n",
      "         Current function value: 0.326222\n",
      "         Iterations 7\n"
     ]
    },
    {
     "data": {
      "text/html": [
       "<table class=\"simpletable\">\n",
       "<caption>Logit Regression Results</caption>\n",
       "<tr>\n",
       "  <th>Dep. Variable:</th>         <td>Univ</td>       <th>  No. Observations:  </th>  <td>   100</td>  \n",
       "</tr>\n",
       "<tr>\n",
       "  <th>Model:</th>                 <td>Logit</td>      <th>  Df Residuals:      </th>  <td>    98</td>  \n",
       "</tr>\n",
       "<tr>\n",
       "  <th>Method:</th>                 <td>MLE</td>       <th>  Df Model:          </th>  <td>     1</td>  \n",
       "</tr>\n",
       "<tr>\n",
       "  <th>Date:</th>            <td>Mon, 08 Feb 2021</td> <th>  Pseudo R-squ.:     </th>  <td>0.5292</td>  \n",
       "</tr>\n",
       "<tr>\n",
       "  <th>Time:</th>                <td>10:09:31</td>     <th>  Log-Likelihood:    </th> <td> -32.622</td> \n",
       "</tr>\n",
       "<tr>\n",
       "  <th>converged:</th>             <td>True</td>       <th>  LL-Null:           </th> <td> -69.295</td> \n",
       "</tr>\n",
       "<tr>\n",
       "  <th>Covariance Type:</th>     <td>nonrobust</td>    <th>  LLR p-value:       </th> <td>1.089e-17</td>\n",
       "</tr>\n",
       "</table>\n",
       "<table class=\"simpletable\">\n",
       "<tr>\n",
       "      <td></td>         <th>coef</th>     <th>std err</th>      <th>z</th>      <th>P>|z|</th>  <th>[0.025</th>    <th>0.975]</th>  \n",
       "</tr>\n",
       "<tr>\n",
       "  <th>Intercept</th> <td>    0.0332</td> <td>    0.314</td> <td>    0.106</td> <td> 0.916</td> <td>   -0.582</td> <td>    0.649</td>\n",
       "</tr>\n",
       "<tr>\n",
       "  <th>Income</th>    <td>   10.1320</td> <td>    1.942</td> <td>    5.218</td> <td> 0.000</td> <td>    6.326</td> <td>   13.937</td>\n",
       "</tr>\n",
       "</table>"
      ],
      "text/plain": [
       "<class 'statsmodels.iolib.summary.Summary'>\n",
       "\"\"\"\n",
       "                           Logit Regression Results                           \n",
       "==============================================================================\n",
       "Dep. Variable:                   Univ   No. Observations:                  100\n",
       "Model:                          Logit   Df Residuals:                       98\n",
       "Method:                           MLE   Df Model:                            1\n",
       "Date:                Mon, 08 Feb 2021   Pseudo R-squ.:                  0.5292\n",
       "Time:                        10:09:31   Log-Likelihood:                -32.622\n",
       "converged:                       True   LL-Null:                       -69.295\n",
       "Covariance Type:            nonrobust   LLR p-value:                 1.089e-17\n",
       "==============================================================================\n",
       "                 coef    std err          z      P>|z|      [0.025      0.975]\n",
       "------------------------------------------------------------------------------\n",
       "Intercept      0.0332      0.314      0.106      0.916      -0.582       0.649\n",
       "Income        10.1320      1.942      5.218      0.000       6.326      13.937\n",
       "==============================================================================\n",
       "\"\"\""
      ]
     },
     "execution_count": 10,
     "metadata": {},
     "output_type": "execute_result"
    }
   ],
   "source": [
    "df = pd.DataFrame([])\n",
    "df['Income']=x\n",
    "df['Univ']=y\n",
    "model = smfLGT(\"Univ ~ Income\", data=df)\n",
    "model.fit().summary()"
   ]
  },
  {
   "cell_type": "markdown",
   "metadata": {},
   "source": [
    "### Классическая интерпретация регрессий это то, что мы пытаемся приблизить некоторый теоретический объект\n",
    "- обычная регрессия это линейное (по ковариатом) условное матожидание: $$E[Y|X]=\\beta' X$$\n",
    "- логистическая регрессия это линейная (по ковариатам) вероятность: $$Pr(Y=1|X)=\\frac{1}{1+\\exp(-\\beta' X)}$$\n",
    "\n",
    "### Дело в том, что $F(z)=\\frac{1}{1+\\exp(-z)}$ это монотонное преобразование с образом в [0,1]. То есть оно сплющивает прямую так, чтобы она влезла между 0 и 1, и получается как будто регрессия. Но как провести такую кривую оптимальным образом??? Должна быть какая то оптимизация... А что есть оптимизация в обыкновенной регрессии?\n",
    "\n",
    "### На самом деле, и обыкновенная регрессия и логистическая являются применением метода Максимум Лайклихуд к стохастически распределенным данным\n",
    "- обычная регрессия это максимум лайклихуд по наблюдениям $y_i$ где $$y_i = \\beta x_i + \\sigma \\varepsilon, \\quad \\varepsilon \\sim \\mathcal{N}(0,1)$$\n",
    "- логистическая регрессия это максимум лайклихуд по наблюдениям $I(y_i>0)$ где $$y_i = \\beta x_i + \\sigma \\varepsilon, \\quad \\varepsilon \\sim Logistic$$ где Logistic эдакое распределение с функцией распределения $F(z)=\\frac{1}{1+\\exp(-z)}$\n",
    "\n",
    "### Существует общая теорема, утверждающая что оценки максимум лайклихуд состоятельно оценивают истинные теоретические объекты, то есть максимум лайклихуд нормального оценит условное распределение, а максимум лайклихуд логистического условную вероятность: Abraham Wald, (1949), Note on the Consistency of the Maximum Likelihood Estimate, Ann. Math. Stat.\n",
    "\n",
    "### Только надо убедиться, что это действительно те самые теоретические объекты:\n",
    "\n",
    "- обычная регрессия: $$\\mathbb{E}[y_i|x_i] = \\beta' x_i + \\sigma \\mathbb{E}[\\varepsilon|x_i]=\\beta' x_i$$\n",
    "- логистическая регрессия: $$Pr(y_i=1) = \\mathbb{E}[y_i>0|x_i] = \\mathbb{E}[\\varepsilon_i>(-\\beta' x_i)/\\sigma|x_i]=$$ \n",
    "$$= \\mathbb{E}[-\\tilde\\varepsilon_i>(-\\beta' x_i)/\\sigma|x_i]= \\mathbb{E}[\\tilde\\varepsilon_i<(\\beta' x_i)/\\sigma|x_i]=F(\\beta' x_i/\\sigma)$$\n",
    "где $\\tilde \\varepsilon=-\\varepsilon$, они распределены одинаково из симметрии"
   ]
  },
  {
   "cell_type": "markdown",
   "metadata": {},
   "source": [
    "### Потренируемся считать разные лайклихуды\n",
    "- нормальная плотность: $$f_{nor}(\\varepsilon)=\\frac{1}{\\sqrt{2 \\pi}}\\exp^{\\frac{-\\varepsilon^2}{2}} \\quad \\Rightarrow \\quad \\mathcal{LL}=\\sum_{i=1}^n \\frac{-\\varepsilon_i^2}{2} + K = \\frac{-1}{\\sigma^2} \\sum (y_i - \\beta' x_i)^2 + K \\to \\max_{\\beta}$$\n",
    "- логистическая плотность: $$F_{log}(\\varepsilon)=\\frac{1}{1+\\exp^{-\\varepsilon}}=1-F_{log}(-\\varepsilon) \\quad \\Rightarrow \\quad \\mathcal{L}=\\prod F^{y_i}(\\beta' x_i /\\sigma) \\cdot (1-F(\\beta' x_i /\\sigma))^{1-y_i}$$\n",
    "$$ \\mathcal{LL} = \\sum_{y_i = 1} \\log \\frac{1}{1+\\exp(-\\beta' x_i /\\sigma)} + \\sum_{y_i = 0} \\log \\frac{\\exp(-\\beta' x_i /\\sigma)}{1+\\exp(-\\beta' x_i /\\sigma)} \\to \\max_{\\beta}$$\n",
    "$$ \\mathcal{LL} = \\sum_{y_i = 1} \\log \\frac{1}{1+\\exp(-\\beta' x_i /\\sigma)} + \\sum_{y_i = 0} \\log \\frac{1}{1+\\exp(\\beta' x_i /\\sigma)} \\to \\max_{\\beta}$$\n",
    "### Ничего не узнаете?"
   ]
  },
  {
   "cell_type": "markdown",
   "metadata": {},
   "source": [
    "### Мы упустили один важный момент - это выпуклость. В отличие от OLS, у логистической регрессии нет аналитического решения, но это не страшно если задача выпуклая. Все численные методы в выпуклых задачах сходятся к одним и тем же ответам. \n",
    "$$ \\mathcal{LL} = \\sum_{y_i = 0} (-\\beta' x_i /\\sigma) - \\sum_{all} \\log(1+\\exp(-\\beta' x_i /\\sigma)) \\to \\max_{\\beta}$$\n",
    "### Дело в том, что $\\log(1+\\exp(-z))$ это еще помимо всего прочего лог-выпуклое преобразование, то есть вторая производная от ее логарифма положительна. А значит весь логлайклихуд (но не сам лайклихуд) вогнутый!"
   ]
  },
  {
   "cell_type": "markdown",
   "metadata": {},
   "source": [
    "### Наконец, если основной лоджит выпуклая задача, то лоджит с пенализацией тоже выпуклая!\n",
    "- обычная регрессия: $$ \\quad Loss = \\frac{1}{2n}\\sum (y_i - \\beta' x_i)^2 + a * ||w||_1 + b * ||w||^2_2 \\to \\min_{\\beta}, \\quad \\text{где} \\quad l1_{ratio} = \\frac{a}{a+b}, \\quad \\alpha=a+b$$\n",
    "- логистическая регрессия: $$ \\quad Loss = \\sum \\log(1+\\exp(-y_i \\beta' x_i)) + a * ||w||_1 + b * ||w||^2_2 \\to \\min_{\\beta}, \\quad \\text{где} \\quad l1_{ratio} = \\frac{a}{a+b}, \\quad C=a+b$$"
   ]
  },
  {
   "cell_type": "markdown",
   "metadata": {},
   "source": [
    "### Осторожно, тут в лоджите $y_i$ принимает значения в $\\{-1,1\\}$, так больше принято в CS\n",
    "### Убедитесь что в ваш пакет ожидает те значения $y$ которые вы ему подаете на вход"
   ]
  },
  {
   "cell_type": "code",
   "execution_count": 1,
   "metadata": {},
   "outputs": [],
   "source": [
    "def OLS_loss(Y, X, beta, a, b):\n",
    "    z = Y - X@beta\n",
    "    return np.square(z).sum()/(2*Y.size) + a*np.abs(beta).sum() + b*np.square(beta).sum()\n",
    "\n",
    "def LGT_loss(Y, X, beta, a, b):\n",
    "    z = -Y*X@beta\n",
    "    o = np.ones(Y.size)\n",
    "    return np.logaddexp(o, z).sum() + a*np.abs(beta).sum() + b*np.square(beta).sum()"
   ]
  },
  {
   "cell_type": "markdown",
   "metadata": {},
   "source": [
    "### Попробуем sklearn"
   ]
  },
  {
   "cell_type": "code",
   "execution_count": 19,
   "metadata": {},
   "outputs": [],
   "source": [
    "from sklearn.linear_model import Ridge as skRidge\n",
    "from sklearn.linear_model import Lasso as skLasso\n",
    "from sklearn.linear_model import ElasticNet as skEN\n",
    "\n",
    "from sklearn.linear_model import LogisticRegression as skLGT"
   ]
  },
  {
   "cell_type": "code",
   "execution_count": 20,
   "metadata": {},
   "outputs": [],
   "source": [
    "x=np.random.uniform(size=100)\n",
    "x=x-x.mean()\n",
    "eps=np.random.uniform(size=100)*2\n",
    "eps=eps-eps.mean()\n",
    "\n",
    "# внимание тут -1 и 1\n",
    "y = np.sign(3.45*x + eps)\n",
    "x = x.reshape(100, 1)"
   ]
  },
  {
   "cell_type": "code",
   "execution_count": 21,
   "metadata": {},
   "outputs": [
    {
     "data": {
      "text/plain": [
       "(dtype('float64'), dtype('float64'))"
      ]
     },
     "execution_count": 21,
     "metadata": {},
     "output_type": "execute_result"
    }
   ],
   "source": [
    "# Use C-ordered arrays or CSR matrices containing 64-bit floats for optimal performance\n",
    "x.dtype, y.dtype"
   ]
  },
  {
   "cell_type": "code",
   "execution_count": 22,
   "metadata": {},
   "outputs": [
    {
     "data": {
      "text/plain": [
       "<Signature (penalty='l2', *, dual=False, tol=0.0001, C=1.0, fit_intercept=True, intercept_scaling=1, class_weight=None, random_state=None, solver='lbfgs', max_iter=100, multi_class='auto', verbose=0, warm_start=False, n_jobs=None, l1_ratio=None)>"
      ]
     },
     "execution_count": 22,
     "metadata": {},
     "output_type": "execute_result"
    }
   ],
   "source": [
    "sig(skLGT)"
   ]
  },
  {
   "cell_type": "code",
   "execution_count": 2,
   "metadata": {},
   "outputs": [],
   "source": [
    "sk_options={'penalty':'elasticnet', 'solver':'saga', \n",
    "            'fit_intercept':True, 'l1_ratio':.5, \n",
    "            'verbose':1, 'n_jobs':10}"
   ]
  },
  {
   "cell_type": "code",
   "execution_count": 4,
   "metadata": {},
   "outputs": [
    {
     "ename": "NameError",
     "evalue": "name 'skLGT' is not defined",
     "output_type": "error",
     "traceback": [
      "\u001b[0;31m---------------------------------------------------------------------------\u001b[0m",
      "\u001b[0;31mNameError\u001b[0m                                 Traceback (most recent call last)",
      "\u001b[0;32m<ipython-input-4-bdf41bfb5d25>\u001b[0m in \u001b[0;36m<module>\u001b[0;34m\u001b[0m\n\u001b[0;32m----> 1\u001b[0;31m \u001b[0mmodel\u001b[0m \u001b[0;34m=\u001b[0m \u001b[0mskLGT\u001b[0m\u001b[0;34m(\u001b[0m\u001b[0;34m**\u001b[0m\u001b[0msk_options\u001b[0m\u001b[0;34m)\u001b[0m\u001b[0;34m.\u001b[0m\u001b[0mfit\u001b[0m\u001b[0;34m(\u001b[0m\u001b[0mx\u001b[0m\u001b[0;34m,\u001b[0m\u001b[0my\u001b[0m\u001b[0;34m)\u001b[0m\u001b[0;34m\u001b[0m\u001b[0;34m\u001b[0m\u001b[0m\n\u001b[0m\u001b[1;32m      2\u001b[0m \u001b[0mmodel\u001b[0m\u001b[0;34m.\u001b[0m\u001b[0mintercept_\u001b[0m\u001b[0;34m,\u001b[0m \u001b[0mmodel\u001b[0m\u001b[0;34m.\u001b[0m\u001b[0mcoef_\u001b[0m\u001b[0;34m\u001b[0m\u001b[0;34m\u001b[0m\u001b[0m\n",
      "\u001b[0;31mNameError\u001b[0m: name 'skLGT' is not defined"
     ]
    }
   ],
   "source": [
    "model = skLGT(**sk_options).fit(x,y)\n",
    "model.intercept_, model.coef_"
   ]
  },
  {
   "cell_type": "markdown",
   "metadata": {},
   "source": [
    "### sklearn это CS, поэтому он ожидает -1,1 но если вы подадите ему 0,1 он не включит тревогу \n",
    "### seaborn это Econ, поэтому он ожидает 0,1 но включит тревогу если получит -1,1\n",
    "### будте аккуратны"
   ]
  },
  {
   "cell_type": "markdown",
   "metadata": {},
   "source": [
    "### еще один момент это так называемые средние эффекты или Average Marginal Effects\n",
    "- обычная регрессия $$\\mathbb{E}_x[\\frac{\\mathbb{E}_{\\varepsilon}[Y|X]}{\\partial X}] = \\mathbb{E}_x[\\beta] = \\beta$$\n",
    "- логистическая регрессия $$\\mathbb{E}_x[\\frac{Prob_{\\varepsilon}(Y=1|X)}{\\partial X}] = \\mathbb{E}_x[\\frac{F(\\beta' X)}{\\partial X}] = \\beta * \\mathbb{E}_x[f(\\beta' X)] \\approx \\frac{\\beta}{n} \\sum_{i=1}^n \\frac{\\exp^{-\\beta' x_i}}{(1+\\exp^{-\\beta' x_i})^2}$$\n",
    "\n",
    "### в обычной регрессии локальный эффект не зависит от $x$ (какая то демография), поэтому средний эффект равен локальному, а в логистической нет, поэтому есть разделение этих двух понятий. Как экономистов нас, конечно же, интересует всегда средний (по стране) эффект."
   ]
  }
 ],
 "metadata": {
  "kernelspec": {
   "display_name": "py37an",
   "language": "python",
   "name": "py37an"
  },
  "language_info": {
   "codemirror_mode": {
    "name": "ipython",
    "version": 3
   },
   "file_extension": ".py",
   "mimetype": "text/x-python",
   "name": "python",
   "nbconvert_exporter": "python",
   "pygments_lexer": "ipython3",
   "version": "3.7.7"
  }
 },
 "nbformat": 4,
 "nbformat_minor": 4
}
