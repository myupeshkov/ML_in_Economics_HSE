{
 "cells": [
  {
   "cell_type": "code",
   "execution_count": 1,
   "metadata": {},
   "outputs": [],
   "source": [
    "from pprint import pprint\n",
    "from inspect import signature\n",
    "import numpy as np"
   ]
  },
  {
   "cell_type": "markdown",
   "metadata": {},
   "source": [
    "### 2.2 consider an imdb dump from https://datasets.imdbws.com/"
   ]
  },
  {
   "cell_type": "code",
   "execution_count": 2,
   "metadata": {},
   "outputs": [],
   "source": [
    "# !pip install requests"
   ]
  },
  {
   "cell_type": "code",
   "execution_count": 3,
   "metadata": {},
   "outputs": [
    {
     "data": {
      "text/plain": [
       "\u001b[0;31mType:\u001b[0m        module\n",
       "\u001b[0;31mString form:\u001b[0m <module 'requests' from '/Users/pasha/Documents/Conda/envs/py37an/lib/python3.7/site-packages/requests/__init__.py'>\n",
       "\u001b[0;31mFile:\u001b[0m        ~/Documents/Conda/envs/py37an/lib/python3.7/site-packages/requests/__init__.py\n",
       "\u001b[0;31mDocstring:\u001b[0m  \n",
       "Requests HTTP Library\n",
       "~~~~~~~~~~~~~~~~~~~~~\n",
       "\n",
       "Requests is an HTTP library, written in Python, for human beings.\n",
       "Basic GET usage:\n",
       "\n",
       "   >>> import requests\n",
       "   >>> r = requests.get('https://www.python.org')\n",
       "   >>> r.status_code\n",
       "   200\n",
       "   >>> b'Python is a programming language' in r.content\n",
       "   True\n",
       "\n",
       "... or POST:\n",
       "\n",
       "   >>> payload = dict(key1='value1', key2='value2')\n",
       "   >>> r = requests.post('https://httpbin.org/post', data=payload)\n",
       "   >>> print(r.text)\n",
       "   {\n",
       "     ...\n",
       "     \"form\": {\n",
       "       \"key1\": \"value1\",\n",
       "       \"key2\": \"value2\"\n",
       "     },\n",
       "     ...\n",
       "   }\n",
       "\n",
       "The other HTTP methods are supported - see `requests.api`. Full documentation\n",
       "is at <https://requests.readthedocs.io>.\n",
       "\n",
       ":copyright: (c) 2017 by Kenneth Reitz.\n",
       ":license: Apache 2.0, see LICENSE for more details.\n"
      ]
     },
     "metadata": {},
     "output_type": "display_data"
    }
   ],
   "source": [
    "import requests\n",
    "requests?"
   ]
  },
  {
   "cell_type": "code",
   "execution_count": 4,
   "metadata": {},
   "outputs": [],
   "source": [
    "url = 'https://datasets.imdbws.com/'"
   ]
  },
  {
   "cell_type": "code",
   "execution_count": 5,
   "metadata": {},
   "outputs": [
    {
     "name": "stdout",
     "output_type": "stream",
     "text": [
      "['close',\n",
      " 'connection',\n",
      " 'content',\n",
      " 'cookies',\n",
      " 'elapsed',\n",
      " 'encoding',\n",
      " 'headers',\n",
      " 'history',\n",
      " 'json',\n",
      " 'links',\n",
      " 'next',\n",
      " 'ok',\n",
      " 'raw',\n",
      " 'reason',\n",
      " 'request',\n",
      " 'text',\n",
      " 'url']\n"
     ]
    }
   ],
   "source": [
    "r = requests.get(url)\n",
    "pprint([x for x in dir(r) if '_' not in x])"
   ]
  },
  {
   "cell_type": "markdown",
   "metadata": {},
   "source": [
    "### You can open some pages in jupyter"
   ]
  },
  {
   "cell_type": "code",
   "execution_count": 6,
   "metadata": {},
   "outputs": [
    {
     "data": {
      "text/html": [
       "<html>\n",
       "\n",
       "  <head>\n",
       "\n",
       "    <meta name=\"robots\" content=\"noindex\">\n",
       "\n",
       "  </head>\n",
       "\n",
       "  <body>\n",
       "\n",
       "    <h3>IMDb data files available for download</h3>\n",
       "\n",
       "Documentation for these data files can be found on <a href=http://www.imdb.com/interfaces/> http://www.imdb.com/interfaces/ </a>\n",
       "\n",
       "    <ul><a href=https://datasets.imdbws.com/name.basics.tsv.gz>name.basics.tsv.gz</a></ul>\n",
       "\n",
       "    <ul><a href=https://datasets.imdbws.com/title.akas.tsv.gz>title.akas.tsv.gz</a></ul>\n",
       "\n",
       "    <ul><a href=https://datasets.imdbws.com/title.basics.tsv.gz>title.basics.tsv.gz</a></ul>\n",
       "\n",
       "    <ul><a href=https://datasets.imdbws.com/title.crew.tsv.gz>title.crew.tsv.gz</a></ul>\n",
       "\n",
       "    <ul><a href=https://datasets.imdbws.com/title.episode.tsv.gz>title.episode.tsv.gz</a></ul>\n",
       "\n",
       "    <ul><a href=https://datasets.imdbws.com/title.principals.tsv.gz>title.principals.tsv.gz</a></ul>\n",
       "\n",
       "    <ul><a href=https://datasets.imdbws.com/title.ratings.tsv.gz>title.ratings.tsv.gz</a></ul>\n",
       "\n",
       "  </body>\n",
       "\n",
       "</html>\n"
      ],
      "text/plain": [
       "<IPython.core.display.HTML object>"
      ]
     },
     "metadata": {},
     "output_type": "display_data"
    }
   ],
   "source": [
    "from IPython.core.display import display, HTML\n",
    "display(HTML(r.text))"
   ]
  },
  {
   "cell_type": "markdown",
   "metadata": {},
   "source": [
    "### But most often we are interested in the content in text or binary format"
   ]
  },
  {
   "cell_type": "code",
   "execution_count": 7,
   "metadata": {},
   "outputs": [
    {
     "data": {
      "text/plain": [
       "'<html>\\n\\n  <head>\\n\\n    <meta name=\"robots\" content=\"noindex\">\\n\\n  </head>\\n\\n  <body>\\n\\n    <h3>IMDb data files available for download</h3>\\n\\nDocumentation for these data files can be found on <a href=http://www.imdb.com/interfaces/> http://www.imdb.com/interfaces/ </a>\\n\\n    <ul><a href=https://datasets.imdbws.com/name.basics.tsv.gz>name.basics.tsv.gz</a></ul>\\n\\n    <ul><a href=https://datasets.imdbws.com/title.akas.tsv.gz>title.akas.tsv.gz</a></ul>\\n\\n    <ul><a href=https://datasets.imdbws.com/title.basics.tsv.gz>title.basics.tsv.gz</a></ul>\\n\\n    <ul><a href=https://datasets.imdbws.com/title.crew.tsv.gz>title.crew.tsv.gz</a></ul>\\n\\n    <ul><a href=https://datasets.imdbws.com/title.episode.tsv.gz>title.episode.tsv.gz</a></ul>\\n\\n    <ul><a href=https://datasets.imdbws.com/title.principals.tsv.gz>title.principals.tsv.gz</a></ul>\\n\\n    <ul><a href=https://datasets.imdbws.com/title.ratings.tsv.gz>title.ratings.tsv.gz</a></ul>\\n\\n  </body>\\n\\n</html>\\n'"
      ]
     },
     "execution_count": 7,
     "metadata": {},
     "output_type": "execute_result"
    }
   ],
   "source": [
    "r.text"
   ]
  },
  {
   "cell_type": "code",
   "execution_count": 8,
   "metadata": {},
   "outputs": [
    {
     "data": {
      "text/plain": [
       "b'<html>\\n\\n  <head>\\n\\n    <meta name=\"robots\" content=\"noindex\">\\n\\n  </head>\\n\\n  <body>\\n\\n    <h3>IMDb data files available for download</h3>\\n\\nDocumentation for these data files can be found on <a href=http://www.imdb.com/interfaces/> http://www.imdb.com/interfaces/ </a>\\n\\n    <ul><a href=https://datasets.imdbws.com/name.basics.tsv.gz>name.basics.tsv.gz</a></ul>\\n\\n    <ul><a href=https://datasets.imdbws.com/title.akas.tsv.gz>title.akas.tsv.gz</a></ul>\\n\\n    <ul><a href=https://datasets.imdbws.com/title.basics.tsv.gz>title.basics.tsv.gz</a></ul>\\n\\n    <ul><a href=https://datasets.imdbws.com/title.crew.tsv.gz>title.crew.tsv.gz</a></ul>\\n\\n    <ul><a href=https://datasets.imdbws.com/title.episode.tsv.gz>title.episode.tsv.gz</a></ul>\\n\\n    <ul><a href=https://datasets.imdbws.com/title.principals.tsv.gz>title.principals.tsv.gz</a></ul>\\n\\n    <ul><a href=https://datasets.imdbws.com/title.ratings.tsv.gz>title.ratings.tsv.gz</a></ul>\\n\\n  </body>\\n\\n</html>\\n'"
      ]
     },
     "execution_count": 8,
     "metadata": {},
     "output_type": "execute_result"
    }
   ],
   "source": [
    "r.content"
   ]
  },
  {
   "cell_type": "code",
   "execution_count": 9,
   "metadata": {},
   "outputs": [
    {
     "data": {
      "text/plain": [
       "(str, bytes)"
      ]
     },
     "execution_count": 9,
     "metadata": {},
     "output_type": "execute_result"
    }
   ],
   "source": [
    "type(r.text), type(r.content)"
   ]
  },
  {
   "cell_type": "markdown",
   "metadata": {},
   "source": [
    "### we can download the file"
   ]
  },
  {
   "cell_type": "code",
   "execution_count": null,
   "metadata": {},
   "outputs": [],
   "source": [
    "r2 = requests.get('https://datasets.imdbws.com/name.basics.tsv.gz')"
   ]
  },
  {
   "cell_type": "code",
   "execution_count": null,
   "metadata": {},
   "outputs": [],
   "source": [
    "open('data.tsv.gz', 'wb').write(r2.content)"
   ]
  },
  {
   "cell_type": "code",
   "execution_count": null,
   "metadata": {},
   "outputs": [],
   "source": [
    "!tree"
   ]
  },
  {
   "cell_type": "code",
   "execution_count": null,
   "metadata": {},
   "outputs": [],
   "source": [
    "#!brew install gzip"
   ]
  },
  {
   "cell_type": "code",
   "execution_count": null,
   "metadata": {},
   "outputs": [],
   "source": [
    "!gzip -df data.tsv.gz"
   ]
  },
  {
   "cell_type": "code",
   "execution_count": null,
   "metadata": {},
   "outputs": [],
   "source": [
    "!tree"
   ]
  },
  {
   "cell_type": "markdown",
   "metadata": {},
   "source": [
    "### peek into thee file"
   ]
  },
  {
   "cell_type": "code",
   "execution_count": null,
   "metadata": {},
   "outputs": [],
   "source": [
    "!du -sh *"
   ]
  },
  {
   "cell_type": "code",
   "execution_count": null,
   "metadata": {},
   "outputs": [],
   "source": [
    "!head data.tsv"
   ]
  },
  {
   "cell_type": "code",
   "execution_count": null,
   "metadata": {},
   "outputs": [],
   "source": [
    "!tail data.tsv"
   ]
  },
  {
   "cell_type": "markdown",
   "metadata": {},
   "source": [
    "### looks like we have a medium-size dataset on our hands"
   ]
  },
  {
   "cell_type": "code",
   "execution_count": null,
   "metadata": {},
   "outputs": [],
   "source": [
    "#!pip install pandas"
   ]
  },
  {
   "cell_type": "code",
   "execution_count": null,
   "metadata": {},
   "outputs": [],
   "source": [
    "import pandas as pd"
   ]
  },
  {
   "cell_type": "code",
   "execution_count": null,
   "metadata": {},
   "outputs": [],
   "source": [
    "df = pd.read_csv('data.tsv', sep='\\t')"
   ]
  },
  {
   "cell_type": "code",
   "execution_count": null,
   "metadata": {},
   "outputs": [],
   "source": [
    "signature(pd.read_csv)"
   ]
  },
  {
   "cell_type": "markdown",
   "metadata": {},
   "source": [
    "### there is a minimum number of commands to study the dataset\n",
    "- info (method)\n",
    "- head (method)\n",
    "- sample (method)\n",
    "- columns (attribute)"
   ]
  },
  {
   "cell_type": "code",
   "execution_count": null,
   "metadata": {},
   "outputs": [],
   "source": [
    "df.columns"
   ]
  },
  {
   "cell_type": "code",
   "execution_count": null,
   "metadata": {},
   "outputs": [],
   "source": [
    "df.info()"
   ]
  },
  {
   "cell_type": "code",
   "execution_count": null,
   "metadata": {},
   "outputs": [],
   "source": [
    "df.head()"
   ]
  },
  {
   "cell_type": "markdown",
   "metadata": {},
   "source": [
    "### Various manuals\n",
    "https://realpython./com/python-lambda/\n",
    "\n",
    "https://requests.readthedocs.io/en/master/\n",
    "\n",
    "https://pandas.pydata.org/Pandas_Cheat_Sheet.pdf"
   ]
  },
  {
   "cell_type": "markdown",
   "metadata": {},
   "source": [
    "### numeric operations"
   ]
  },
  {
   "cell_type": "code",
   "execution_count": null,
   "metadata": {},
   "outputs": [],
   "source": [
    "df[:100].birthYear.max(), df[:100].birthYear.min()"
   ]
  },
  {
   "cell_type": "markdown",
   "metadata": {},
   "source": [
    "### string operations"
   ]
  },
  {
   "cell_type": "code",
   "execution_count": null,
   "metadata": {},
   "outputs": [],
   "source": [
    "df.sample(10).knownForTitles.str.split(pat=',')"
   ]
  },
  {
   "cell_type": "code",
   "execution_count": null,
   "metadata": {},
   "outputs": [],
   "source": [
    "fixed = [(x*4)[:4] for x in df.knownForTitles.str.split(pat=',')]\n",
    "fixed[:10]"
   ]
  },
  {
   "cell_type": "code",
   "execution_count": null,
   "metadata": {},
   "outputs": [],
   "source": [
    "one = np.array([x[0] for x in fixed])\n",
    "two = np.array([x[1] for x in fixed])"
   ]
  },
  {
   "cell_type": "code",
   "execution_count": null,
   "metadata": {},
   "outputs": [],
   "source": [
    "df[['one']] = one\n",
    "df[['two']] = two"
   ]
  },
  {
   "cell_type": "code",
   "execution_count": null,
   "metadata": {},
   "outputs": [],
   "source": [
    "df"
   ]
  },
  {
   "cell_type": "markdown",
   "metadata": {},
   "source": [
    "### abstract operations"
   ]
  },
  {
   "cell_type": "code",
   "execution_count": null,
   "metadata": {},
   "outputs": [],
   "source": [
    "df.primaryName.apply(lambda x: x.upper())"
   ]
  },
  {
   "cell_type": "markdown",
   "metadata": {},
   "source": [
    "### value counts"
   ]
  },
  {
   "cell_type": "code",
   "execution_count": null,
   "metadata": {},
   "outputs": [],
   "source": [
    "df.primaryName.value_counts()"
   ]
  },
  {
   "cell_type": "markdown",
   "metadata": {},
   "source": [
    "### groupby"
   ]
  },
  {
   "cell_type": "code",
   "execution_count": null,
   "metadata": {},
   "outputs": [],
   "source": [
    "df.groupby(by = 'nconst')"
   ]
  },
  {
   "cell_type": "markdown",
   "metadata": {},
   "source": [
    "### iterrows (kind of slow)"
   ]
  },
  {
   "cell_type": "code",
   "execution_count": null,
   "metadata": {},
   "outputs": [],
   "source": [
    "# for i, row in df.iterrows():\n",
    "#     pass"
   ]
  },
  {
   "cell_type": "markdown",
   "metadata": {},
   "source": [
    "### dropna"
   ]
  },
  {
   "cell_type": "code",
   "execution_count": null,
   "metadata": {},
   "outputs": [],
   "source": [
    "df.dropna(subset = ['deathYear'], inplace = True)"
   ]
  },
  {
   "cell_type": "markdown",
   "metadata": {},
   "source": [
    "### drop_duplicates"
   ]
  },
  {
   "cell_type": "code",
   "execution_count": null,
   "metadata": {},
   "outputs": [],
   "source": [
    "df.drop_duplicates(subset = ['deathYear'], inplace = True)"
   ]
  },
  {
   "cell_type": "markdown",
   "metadata": {},
   "source": [
    "### join"
   ]
  },
  {
   "cell_type": "code",
   "execution_count": null,
   "metadata": {},
   "outputs": [],
   "source": [
    "# df.join(other, on=None, how='left')"
   ]
  },
  {
   "cell_type": "markdown",
   "metadata": {},
   "source": [
    "## Home assignment (graded, group, in 2 weeks)\n",
    "## email to pandreyanov@gmail.com, use ipnb, use markdown, explain what you do"
   ]
  },
  {
   "cell_type": "markdown",
   "metadata": {},
   "source": [
    "#### Assignment 1 (1 points): download all 7 dumps, print summary"
   ]
  },
  {
   "cell_type": "markdown",
   "metadata": {},
   "source": [
    "#### Assignment 2 (2 points): save them into 7 sqlite databases with same column names"
   ]
  },
  {
   "cell_type": "markdown",
   "metadata": {},
   "source": [
    "#### Assignment 3 (3 points): download 2 dumps (actors-movie and movie-rating) and produce a pandas dataframe of actor-avgrating using join"
   ]
  },
  {
   "cell_type": "markdown",
   "metadata": {},
   "source": [
    "#### Assignment 4 (4 points): download 1,000,000 movies from api into nosql database (mongo or something else)"
   ]
  },
  {
   "cell_type": "markdown",
   "metadata": {},
   "source": [
    "#### Assignment 5 (5 points): parse 1,000,000 movies from website into nosql database (mongo or something else)"
   ]
  },
  {
   "cell_type": "code",
   "execution_count": null,
   "metadata": {},
   "outputs": [],
   "source": []
  }
 ],
 "metadata": {
  "kernelspec": {
   "display_name": "Python 3",
   "language": "python",
   "name": "python3"
  },
  "language_info": {
   "codemirror_mode": {
    "name": "ipython",
    "version": 3
   },
   "file_extension": ".py",
   "mimetype": "text/x-python",
   "name": "python",
   "nbconvert_exporter": "python",
   "pygments_lexer": "ipython3",
   "version": "3.8.7"
  }
 },
 "nbformat": 4,
 "nbformat_minor": 4
}
