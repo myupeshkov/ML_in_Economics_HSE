{
 "cells": [
  {
   "cell_type": "code",
   "execution_count": 1,
   "metadata": {},
   "outputs": [],
   "source": [
    "from inspect import signature\n",
    "import pandas as pd"
   ]
  },
  {
   "cell_type": "markdown",
   "metadata": {},
   "source": [
    "## Part 2. Various data formats"
   ]
  },
  {
   "cell_type": "markdown",
   "metadata": {},
   "source": [
    "### There are three approaches to acquiring data\n",
    "1. **api** - a protocol developed by the data supplier, allows to retrieve data incrementally and lazily\n",
    "2. **dump** - a block of data (typically from an enthusiast) often with compatibility issues\n",
    "3. **scraping** - an algorithm to retrieve (sometimes protected) data\n",
    "\n",
    "before scraping you should always try to find 1 or 2, it often works"
   ]
  },
  {
   "cell_type": "markdown",
   "metadata": {},
   "source": [
    "## 2.1 Consider the imdb api"
   ]
  },
  {
   "cell_type": "code",
   "execution_count": 2,
   "metadata": {},
   "outputs": [
    {
     "name": "stdout",
     "output_type": "stream",
     "text": [
      "Collecting IMDbPY\n",
      "  Downloading IMDbPY-2021.4.18-py3-none-any.whl (298 kB)\n",
      "\u001b[K     |████████████████████████████████| 298 kB 1.6 MB/s eta 0:00:01\n",
      "\u001b[?25hCollecting SQLAlchemy\n",
      "  Downloading SQLAlchemy-1.4.23-cp38-cp38-macosx_10_14_x86_64.whl (1.5 MB)\n",
      "\u001b[K     |████████████████████████████████| 1.5 MB 6.3 MB/s eta 0:00:01\n",
      "\u001b[?25hRequirement already satisfied: lxml in /Library/Frameworks/Python.framework/Versions/3.8/lib/python3.8/site-packages (from IMDbPY) (4.6.2)\n",
      "Collecting greenlet!=0.4.17\n",
      "  Downloading greenlet-1.1.1-cp38-cp38-macosx_10_14_x86_64.whl (87 kB)\n",
      "\u001b[K     |████████████████████████████████| 87 kB 5.3 MB/s eta 0:00:011\n",
      "\u001b[?25hInstalling collected packages: greenlet, SQLAlchemy, IMDbPY\n",
      "Successfully installed IMDbPY-2021.4.18 SQLAlchemy-1.4.23 greenlet-1.1.1\n",
      "\u001b[33mWARNING: You are using pip version 21.1.2; however, version 21.2.4 is available.\n",
      "You should consider upgrading via the '/Library/Frameworks/Python.framework/Versions/3.8/bin/python3.8 -m pip install --upgrade pip' command.\u001b[0m\n"
     ]
    }
   ],
   "source": [
    "#!pip install IMDbPY\n",
    "import imdb"
   ]
  },
  {
   "cell_type": "code",
   "execution_count": 3,
   "metadata": {},
   "outputs": [
    {
     "name": "stdout",
     "output_type": "stream",
     "text": [
      "\n",
      "This package can be used to retrieve information about a movie or a person\n",
      "from the IMDb database. It can fetch data through different media such as\n",
      "the IMDb web pages, or a SQL database.\n",
      "\n"
     ]
    }
   ],
   "source": [
    "print(imdb.__doc__)"
   ]
  },
  {
   "cell_type": "markdown",
   "metadata": {},
   "source": [
    "### Somewhere I found this example"
   ]
  },
  {
   "cell_type": "code",
   "execution_count": 4,
   "metadata": {},
   "outputs": [],
   "source": [
    "movie_name = \"matrix\"\n",
    "ia = imdb.IMDb()\n",
    "movies = ia.search_movie(movie_name)"
   ]
  },
  {
   "cell_type": "code",
   "execution_count": 5,
   "metadata": {},
   "outputs": [
    {
     "name": "stdout",
     "output_type": "stream",
     "text": [
      "Variable     Type                    Data/Info\n",
      "----------------------------------------------\n",
      "ia           IMDbHTTPAccessSystem    <imdb.parser.http.IMDbHTT<...>object at 0x7f8a58fcd760>\n",
      "imdb         module                  <module 'imdb' from '/Lib<...>ckages/imdb/__init__.py'>\n",
      "movie_name   str                     matrix\n",
      "movies       list                    n=20\n",
      "pd           module                  <module 'pandas' from '/L<...>ages/pandas/__init__.py'>\n",
      "signature    function                <function signature at 0x7f8a5585dca0>\n"
     ]
    }
   ],
   "source": [
    "%whos"
   ]
  },
  {
   "cell_type": "code",
   "execution_count": 6,
   "metadata": {},
   "outputs": [
    {
     "data": {
      "text/plain": [
       "<Signature (title, results=None, _episodes=False)>"
      ]
     },
     "execution_count": 6,
     "metadata": {},
     "output_type": "execute_result"
    }
   ],
   "source": [
    "signature(ia.search_movie)"
   ]
  },
  {
   "cell_type": "code",
   "execution_count": 7,
   "metadata": {},
   "outputs": [
    {
     "data": {
      "text/plain": [
       "<Movie id:0133093[http] title:_The Matrix (1999)_>"
      ]
     },
     "execution_count": 7,
     "metadata": {},
     "output_type": "execute_result"
    }
   ],
   "source": [
    "movie = movies[0]\n",
    "movie"
   ]
  },
  {
   "cell_type": "code",
   "execution_count": 8,
   "metadata": {},
   "outputs": [
    {
     "name": "stdout",
     "output_type": "stream",
     "text": [
      "Variable     Type                    Data/Info\n",
      "----------------------------------------------\n",
      "ia           IMDbHTTPAccessSystem    <imdb.parser.http.IMDbHTT<...>object at 0x7f8a58fcd760>\n",
      "imdb         module                  <module 'imdb' from '/Lib<...>ckages/imdb/__init__.py'>\n",
      "movie        Movie                   The Matrix\n",
      "movie_name   str                     matrix\n",
      "movies       list                    n=20\n",
      "pd           module                  <module 'pandas' from '/L<...>ages/pandas/__init__.py'>\n",
      "signature    function                <function signature at 0x7f8a5585dca0>\n"
     ]
    }
   ],
   "source": [
    "%whos"
   ]
  },
  {
   "cell_type": "code",
   "execution_count": 9,
   "metadata": {},
   "outputs": [
    {
     "name": "stdout",
     "output_type": "stream",
     "text": [
      "['accessSystem', 'asXML', 'charactersRefs', 'clear', 'cmpFunct', 'copy', 'currentRole', 'data', 'get', 'getAsXML', 'getID', 'guessLanguage', 'infoset2keys', 'isSame', 'isSameMovie', 'isSameTitle', 'items', 'iteritems', 'iterkeys', 'itervalues', 'key2infoset', 'keys', 'modFunct', 'movieID', 'myID', 'myTitle', 'namesRefs', 'notes', 'pop', 'popitem', 'reset', 'roleID', 'setdefault', 'smartCanonicalTitle', 'summary', 'titlesRefs', 'update', 'values']\n"
     ]
    }
   ],
   "source": [
    "print([x for x in dir(movie) if '_' not in x])"
   ]
  },
  {
   "cell_type": "code",
   "execution_count": 10,
   "metadata": {},
   "outputs": [
    {
     "name": "stdout",
     "output_type": "stream",
     "text": [
      "Movie\n",
      "=====\n",
      "Title: Matrix, The (1999)\n",
      "\n"
     ]
    }
   ],
   "source": [
    "print(movie.summary())"
   ]
  },
  {
   "cell_type": "code",
   "execution_count": 11,
   "metadata": {},
   "outputs": [
    {
     "data": {
      "text/plain": [
       "['title',\n",
       " 'kind',\n",
       " 'year',\n",
       " 'cover url',\n",
       " 'canonical title',\n",
       " 'long imdb title',\n",
       " 'long imdb canonical title',\n",
       " 'smart canonical title',\n",
       " 'smart long imdb canonical title',\n",
       " 'full-size cover url']"
      ]
     },
     "execution_count": 11,
     "metadata": {},
     "output_type": "execute_result"
    }
   ],
   "source": [
    "movie.keys()"
   ]
  },
  {
   "cell_type": "code",
   "execution_count": 12,
   "metadata": {},
   "outputs": [
    {
     "data": {
      "text/plain": [
       "['The Matrix',\n",
       " 'movie',\n",
       " 1999,\n",
       " 'https://m.media-amazon.com/images/M/MV5BNzQzOTk3OTAtNDQ0Zi00ZTVkLWI0MTEtMDllZjNkYzNjNTc4L2ltYWdlXkEyXkFqcGdeQXVyNjU0OTQ0OTY@._V1_UX32_CR0,0,32,44_AL_.jpg',\n",
       " 'Matrix, The',\n",
       " 'The Matrix (1999)',\n",
       " 'Matrix, The (1999)',\n",
       " 'Matrix, The',\n",
       " 'Matrix, The (1999)',\n",
       " 'https://m.media-amazon.com/images/M/MV5BNzQzOTk3OTAtNDQ0Zi00ZTVkLWI0MTEtMDllZjNkYzNjNTc4L2ltYWdlXkEyXkFqcGdeQXVyNjU0OTQ0OTY@.jpg']"
      ]
     },
     "execution_count": 12,
     "metadata": {},
     "output_type": "execute_result"
    }
   ],
   "source": [
    "movie.values()"
   ]
  },
  {
   "cell_type": "code",
   "execution_count": 13,
   "metadata": {},
   "outputs": [
    {
     "data": {
      "text/plain": [
       "{'title': 'The Matrix',\n",
       " 'kind': 'movie',\n",
       " 'year': 1999,\n",
       " 'cover url': 'https://m.media-amazon.com/images/M/MV5BNzQzOTk3OTAtNDQ0Zi00ZTVkLWI0MTEtMDllZjNkYzNjNTc4L2ltYWdlXkEyXkFqcGdeQXVyNjU0OTQ0OTY@._V1_UX32_CR0,0,32,44_AL_.jpg'}"
      ]
     },
     "execution_count": 13,
     "metadata": {},
     "output_type": "execute_result"
    }
   ],
   "source": [
    "movie.data"
   ]
  },
  {
   "cell_type": "markdown",
   "metadata": {},
   "source": [
    "### Here is another example"
   ]
  },
  {
   "cell_type": "code",
   "execution_count": 14,
   "metadata": {},
   "outputs": [],
   "source": [
    "movie = ia.get_movie('0133093')"
   ]
  },
  {
   "cell_type": "code",
   "execution_count": 15,
   "metadata": {},
   "outputs": [
    {
     "data": {
      "text/plain": [
       "<Signature (movieID, info=('main', 'plot'), modFunct=None)>"
      ]
     },
     "execution_count": 15,
     "metadata": {},
     "output_type": "execute_result"
    }
   ],
   "source": [
    "signature(ia.get_movie)"
   ]
  },
  {
   "cell_type": "code",
   "execution_count": 16,
   "metadata": {},
   "outputs": [
    {
     "name": "stdout",
     "output_type": "stream",
     "text": [
      "['accessSystem', 'asXML', 'charactersRefs', 'clear', 'cmpFunct', 'copy', 'currentRole', 'data', 'get', 'getAsXML', 'getID', 'guessLanguage', 'infoset2keys', 'isSame', 'isSameMovie', 'isSameTitle', 'items', 'iteritems', 'iterkeys', 'itervalues', 'key2infoset', 'keys', 'modFunct', 'movieID', 'myID', 'myTitle', 'namesRefs', 'notes', 'pop', 'popitem', 'reset', 'roleID', 'setdefault', 'smartCanonicalTitle', 'summary', 'titlesRefs', 'update', 'values']\n"
     ]
    }
   ],
   "source": [
    "print([x for x in dir(movie) if '_' not in x])"
   ]
  },
  {
   "cell_type": "code",
   "execution_count": 17,
   "metadata": {},
   "outputs": [
    {
     "name": "stdout",
     "output_type": "stream",
     "text": [
      "['localized title', 'original title', 'cast', 'genres', 'runtimes', 'countries', 'country codes', 'language codes', 'color info', 'aspect ratio', 'sound mix', 'box office', 'certificates', 'original air date', 'rating', 'votes', 'cover url', 'imdbID', 'plot outline', 'languages', 'title', 'year', 'kind', 'directors', 'writers', 'producers', 'composers', 'cinematographers', 'editors', 'editorial department', 'casting directors', 'production designers', 'art directors', 'set decorators', 'costume designers', 'make up department', 'production managers', 'assistant directors', 'art department', 'sound department', 'special effects', 'visual effects', 'stunts', 'camera department', 'animation department', 'casting department', 'costume departmen', 'location management', 'music department', 'script department', 'transportation department', 'miscellaneous', 'akas', 'writer', 'director', 'top 250 rank', 'production companies', 'distributors', 'special effects companies', 'other companies', 'plot', 'synopsis', 'canonical title', 'long imdb title', 'long imdb canonical title', 'smart canonical title', 'smart long imdb canonical title', 'full-size cover url']\n"
     ]
    }
   ],
   "source": [
    "print(movie.keys())"
   ]
  },
  {
   "cell_type": "code",
   "execution_count": 18,
   "metadata": {},
   "outputs": [],
   "source": [
    "from pprint import pprint"
   ]
  },
  {
   "cell_type": "code",
   "execution_count": 19,
   "metadata": {},
   "outputs": [
    {
     "data": {
      "text/plain": [
       "<Signature (object, stream=None, indent=1, width=80, depth=None, *, compact=False, sort_dicts=True)>"
      ]
     },
     "execution_count": 19,
     "metadata": {},
     "output_type": "execute_result"
    }
   ],
   "source": [
    "signature(pprint)"
   ]
  },
  {
   "cell_type": "code",
   "execution_count": 20,
   "metadata": {},
   "outputs": [
    {
     "name": "stdout",
     "output_type": "stream",
     "text": [
      "{'akas': ['Matrix (Japan, English title)', 'Matrix (France)', 'Matrix (Germany)', 'Matrix (Spain)', '黑客帝国 (China, Mandarin title)'],\n",
      " 'animation department': [<Person id:0863078[http] name:_Trevor Tighe_>],\n",
      " 'art department': [<Person id:0054311[http] name:_Tony Bardolph_>, <Person id:0058785[http] name:_Brett Bartlett_>,\n",
      "                    <Person id:0072059[http] name:_Shane Bennett_>, <Person id:0166744[http] name:_Jake Clifton_>,\n",
      "                    <Person id:0170556[http] name:_Godric Cole_>, <Person id:0171861[http] name:_Peter Collias_>,\n",
      "                    <Person id:0177134[http] name:_Jules Cook_>, <Person id:0185062[http] name:_James Cox_>,\n",
      "                    <Person id:0201685[http] name:_Geofrey Darrow_>, <Person id:0263016[http] name:_Marianne Evans_>,\n",
      "                    <Person id:2040855[http] name:_Marc Fambro_>, <Person id:0286082[http] name:_Trish Foreman_>,\n",
      "                    <Person id:0309745[http] name:_Mark Gatt_>, <Person id:0331704[http] name:_Murray Gosson_>,\n",
      "                    <Person id:0335319[http] name:_Collin Grant_>, <Person id:0361949[http] name:_Karen Harborow_>,\n",
      "                    <Person id:0367595[http] name:_Judith Harvey_>, <Person id:0436466[http] name:_Tara Kamath_>,\n",
      "                    <Person id:0475180[http] name:_Tani Kunitake_>, <Person id:0003252[http] name:_Jacinta Leong_>,\n",
      "                    <Person id:0509954[http] name:_Sarah Light_>, <Person id:0520516[http] name:_Terry Lord_>,\n",
      "                    <Person id:0524653[http] name:_Lon Lucini_>, <Person id:0543761[http] name:_Warren Manser_>,\n",
      "                    <Person id:4562295[http] name:_Fletcher Moules_>, <Person id:0619263[http] name:_Dave Nagel_>,\n",
      "                    <Person id:0644725[http] name:_Adrienne Ogle_>, <Person id:0681832[http] name:_John Pickering_>,\n",
      "                    <Person id:0683438[http] name:_Tony Piliotis_>, <Person id:0692329[http] name:_Wayne Porter_>,\n",
      "                    <Person id:0694011[http] name:_Andrew Powell_>, <Person id:0708197[http] name:_Ronald Rametta_>,\n",
      "                    <Person id:0716362[http] name:_John Rega_>, <Person id:0727015[http] name:_Deborah Riley_>,\n",
      "                    <Person id:0779136[http] name:_Fiona Scott_>, <Person id:0789332[http] name:_Katie Sharrock_>,\n",
      "                    <Person id:0790456[http] name:_Phil Shearer_>, <Person id:0804881[http] name:_Steve Skroce_>,\n",
      "                    <Person id:0809208[http] name:_Marcus Smith_>, <Person id:0988257[http] name:_Trevor Smith_>,\n",
      "                    <Person id:0821546[http] name:_Andrew Staig_>, <Person id:0830188[http] name:_Jon Stiles_>,\n",
      "                    <Person id:0931842[http] name:_Tony Williams_>, <Person id:0941718[http] name:_Philip Worth_>,\n",
      "                    <Person id:3648222[http] name:_Mark Boey_>, <Person id:1876808[http] name:_Matt Busch_>,\n",
      "                    <Person id:1223547[http] name:_Josh Bush_>, <Person id:0131579[http] name:_Gary Cameron_>,\n",
      "                    <Person id:1113813[http] name:_Brad Diebert_>, <Person id:0342202[http] name:_Gary Grimes_>,\n",
      "                    <Person id:0502825[http] name:_Leonardo_>, <Person id:1773985[http] name:_Warwick Miller_>,\n",
      "                    <Person id:0694225[http] name:_Mark Powell_>, <Person id:0732372[http] name:_Andy Robinson_>,\n",
      "                    <Person id:0771216[http] name:_Christian Scheurer_>, <Person id:1391755[http] name:_Cory Spence_>,\n",
      "                    <Person id:1270402[http] name:_Nicholas Tory_>, <Person id:0926076[http] name:_Simon Whiteley_>],\n",
      " 'art directors': [<Person id:0061064[http] name:_Hugh Bateup_>, <Person id:0568894[http] name:_Michelle McGahey_>],\n",
      " 'aspect ratio': '2.39 : 1',\n",
      " 'assistant directors': [<Person id:0281975[http] name:_Colin Fletcher_>, <Person id:0402365[http] name:_Bruce Hunt_>,\n",
      "                         <Person id:0574625[http] name:_James McTeigue_>, <Person id:0669452[http] name:_Toby Pease_>,\n",
      "                         <Person id:0713885[http] name:_Tom Read_>, <Person id:0747133[http] name:_Noni Roy_>,\n",
      "                         <Person id:0781348[http] name:_Jeremy Sedley_>, <Person id:0838283[http] name:_Paul Sullivan_>],\n",
      " 'box office': {'Budget': '$63,000,000 (estimated)',\n",
      "                'Cumulative Worldwide Gross': '$463,517,383',\n",
      "                'Opening Weekend United States': '$27,788,331, 04 Apr 1999'},\n",
      " 'camera department': [<Person id:0013002[http] name:_Robert Agganis_>, <Person id:0083069[http] name:_Jason Binnie_>,\n",
      "                       <Person id:0083381[http] name:_Ian Bird_>, <Person id:0092672[http] name:_Jasin Boland_>,\n",
      "                       <Person id:0095753[http] name:_Mal Booth_>, <Person id:0114475[http] name:_Ray Brown_>,\n",
      "                       <Person id:0117077[http] name:_Craig Bryant_>, <Person id:0118505[http] name:_Roger Buckingham_>,\n",
      "                       <Person id:0123021[http] name:_Robbie Burr_>, <Person id:0178844[http] name:_Toby Copping_>,\n",
      "                       <Person id:0191834[http] name:_Paul Cumming_>, <Person id:0243039[http] name:_Alan Dunstan_>,\n",
      "                       <Person id:0255424[http] name:_David Elmes_>, <Person id:0256343[http] name:_Ross Emery_>,\n",
      "                       <Person id:0282268[http] name:_Frank Flick_>, <Person id:0308580[http] name:_Reg Garside_>,\n",
      "                       <Person id:0386326[http] name:_David Hird_>, <Person id:0404951[http] name:_Benn Hyde_>,\n",
      "                       <Person id:0426853[http] name:_Steve Johnston_>, <Person id:0426941[http] name:_Paul Johnstone_>,\n",
      "                       <Person id:0428879[http] name:_Miles Jones_>, <Person id:0449090[http] name:_Darrin Keough_>,\n",
      "                       <Person id:0454753[http] name:_Greg King_>, <Person id:0522457[http] name:_Chris Loveday_>,\n",
      "                       <Person id:0584016[http] name:_Paul Micallef_>, <Person id:0610481[http] name:_Paul Moyes_>,\n",
      "                       <Person id:0613133[http] name:_Jay Munro_>, <Person id:0665168[http] name:_Phil Pastuhov_>,\n",
      "                       <Person id:0781723[http] name:_Adrien Seffrin_>, <Person id:0847931[http] name:_Ken Talbot_>,\n",
      "                       <Person id:0852900[http] name:_Michael Taylor_>, <Person id:0862645[http] name:_Gary Ticehurst_>,\n",
      "                       <Person id:1744858[http] name:_Jay Torta_>, <Person id:0870258[http] name:_Anthony Toy_>,\n",
      "                       <Person id:0900323[http] name:_Michael Vivian_>, <Person id:0907537[http] name:_Aron Walker_>,\n",
      "                       <Person id:0932012[http] name:_David Williamson_>, <Person id:0943531[http] name:_Colin Wyatt_>,\n",
      "                       <Person id:0242355[http] name:_David Dunkley_>, <Person id:0424109[http] name:_Jeb Johenning_>,\n",
      "                       <Person id:0518183[http] name:_Peni Loloa_>, <Person id:2488272[http] name:_Richard Mason_>,\n",
      "                       <Person id:1344680[http] name:_Zac Murphy_>, <Person id:1557336[http] name:_Martin Rutter_>,\n",
      "                       <Person id:2047623[http] name:_Mark Sheets_>, <Person id:0824391[http] name:_Ben Steel_>,\n",
      "                       <Person id:1082495[http] name:_Nino Tamburri_>, <Person id:0866085[http] name:_Matt Toll_>,\n",
      "                       <Person id:0935505[http] name:_Steven J. Winslow_>],\n",
      " 'cast': [<Person id:0000206[http] name:_Keanu Reeves_>, <Person id:0000401[http] name:_Laurence Fishburne_>,\n",
      "          <Person id:0005251[http] name:_Carrie-Anne Moss_>, <Person id:0915989[http] name:_Hugo Weaving_>,\n",
      "          <Person id:0287825[http] name:_Gloria Foster_>, <Person id:0001592[http] name:_Joe Pantoliano_>,\n",
      "          <Person id:0159059[http] name:_Marcus Chong_>, <Person id:0032810[http] name:_Julian Arahanga_>,\n",
      "          <Person id:0233391[http] name:_Matt Doran_>, <Person id:0565883[http] name:_Belinda McClory_>,\n",
      "          <Person id:0662562[http] name:_Anthony Ray Parker_>, <Person id:0323822[http] name:_Paul Goddard_>,\n",
      "          <Person id:0853079[http] name:_Robert Taylor_>, <Person id:0040058[http] name:_David Aston_>,\n",
      "          <Person id:0336802[http] name:_Marc Aden Gray_>, <Person id:0630124[http] name:_Ada Nicodemou_>,\n",
      "          <Person id:0330139[http] name:_Deni Gordon_>, <Person id:0936894[http] name:_Rowan Witt_>,\n",
      "          <Person id:0936860[http] name:_Eleanor Witt_>, <Person id:0114756[http] name:_Tamara Brown_>,\n",
      "          <Person id:0671665[http] name:_Janaya Pender_>, <Person id:0924423[http] name:_Adryn White_>,\n",
      "          <Person id:0864666[http] name:_Natalie Tjen_>, <Person id:0949303[http] name:_Bill Young_>,\n",
      "          <Person id:0640292[http] name:_David O'Connor_>, <Person id:0050390[http] name:_Jeremy Ball_>,\n",
      "          <Person id:0425087[http] name:_Fiona Johnson_>, <Person id:0492790[http] name:_Harry Lawrence_>,\n",
      "          <Person id:0230117[http] name:_Steve Dodd_>, <Person id:0704280[http] name:_Luke Quinton_>,\n",
      "          <Person id:0940959[http] name:_Lawrence Woodward_>, <Person id:0124697[http] name:_Michael Butcher_>,\n",
      "          <Person id:0496567[http] name:_Bernard Ledger_>, <Person id:0800854[http] name:_Robert Simper_>,\n",
      "          <Person id:0778966[http] name:_Chris Pattinson_>, <Person id:0361876[http] name:_Nigel Harbach_>,\n",
      "          <Person id:1248119[http] name:_Mike Duncan_>, <Person id:0003482[http] name:_Nash Edgerton_>,\n",
      "          <Person id:3269395[http] name:_Rana Morrison_>, <Person id:4219663[http] name:_Steve Rutherford_>,\n",
      "          <Person id:12258958[http] name:_Cody Zacharias_>],\n",
      " 'casting department': [<Person id:0514756[http] name:_Tim Littleton_>, <Person id:0923480[http] name:_Maureen Whalen_>],\n",
      " 'casting directors': [<Person id:0278139[http] name:_Mali Finn_>, <Person id:0938441[http] name:_Shauna Wolifson_>],\n",
      " 'certificates': ['Argentina:13', 'Australia:M', 'Belgium:KT/EA', 'Brazil:12', 'Brazil:12', 'Brazil:14', 'Brazil:14::(TV rating)',\n",
      "                  'Canada:14A::(Alberta/British Columbia)', 'Canada:PA::(Manitoba)', 'Canada:14::(Nova Scotia)', 'Canada:AA::(Ontario)',\n",
      "                  'Canada:13+::(Quebec)', 'Denmark:15', 'Finland:K-16', 'France:Tous publics avec avertissement', 'Germany:16',\n",
      "                  'Greece:K-8', 'Hong Kong:IIB', 'Hungary:16', 'Iceland:16', 'India:UA', 'India:A', 'Indonesia:18+::(self-applied)',\n",
      "                  'Ireland:15::(theatrical)', 'Ireland:18::(video)', 'Israel:PG', 'Italy:T', 'Japan:PG-12', 'Japan:G', 'Luxembourg:12',\n",
      "                  'Malaysia:18SG', 'Mexico:B', 'Netherlands:16', 'Netherlands:12', 'New Zealand:M', 'Nigeria:PG', 'Norway:15', 'Peru:14',\n",
      "                  'Philippines:PG-13', 'Poland:16::(self-applied)', 'Portugal:M/12', 'Portugal:M/16::(Netflix rating)', 'Russia:16+',\n",
      "                  'Saudi Arabia:PG', 'Singapore:PG', 'Singapore:PG13', 'South Africa:10', 'South Korea:12', 'Spain:18', 'Sweden:15',\n",
      "                  'Switzerland:12::(canton of Geneva)', 'Switzerland:12::(canton of Vaud)', 'Taiwan:PG-12', 'Thailand:G',\n",
      "                  'Turkey:18+::(self-applied)', 'United Kingdom:15', 'United States:R', 'Ukraine:16',\n",
      "                  'United Arab Emirates:18+::(self-applied)'],\n",
      " 'cinematographers': [<Person id:0691084[http] name:_Bill Pope_>],\n",
      " 'color info': ['Color'],\n",
      " 'composers': [<Person id:0204485[http] name:_Don Davis_>],\n",
      " 'costume departmen': [<Person id:0039436[http] name:_Lyn Askew_>, <Person id:0114353[http] name:_Nicole Brown_>,\n",
      "                       <Person id:0196182[http] name:_Mary Lou Da Roza_>, <Person id:0324129[http] name:_Nick Godlee_>,\n",
      "                       <Person id:0391401[http] name:_Fiona Holly_>, <Person id:0393442[http] name:_Andrea Hood_>,\n",
      "                       <Person id:0408635[http] name:_Andrew Infanti_>, <Person id:0410402[http] name:_Jenny Irwin_>,\n",
      "                       <Person id:0558447[http] name:_Helen Mather_>, <Person id:0630452[http] name:_Fiona Nichols_>,\n",
      "                       <Person id:0908098[http] name:_Pauline Walker_>, <Person id:0062566[http] name:_Gloria Bava_>,\n",
      "                       <Person id:0213178[http] name:_Lois DeArmond_>, <Person id:0929452[http] name:_Michael Wilkinson_>],\n",
      " 'costume designers': [<Person id:0057199[http] name:_Kym Barrett_>],\n",
      " 'countries': ['United States', 'Australia'],\n",
      " 'country codes': ['us', 'au'],\n",
      " 'cover url': 'https://m.media-amazon.com/images/M/MV5BNzQzOTk3OTAtNDQ0Zi00ZTVkLWI0MTEtMDllZjNkYzNjNTc4L2ltYWdlXkEyXkFqcGdeQXVyNjU0OTQ0OTY@._V1_SX101_CR0,0,101,150_.jpg',\n",
      " 'director': [<Person id:0905154[http] name:_Lana Wachowski_>, <Person id:0905152[http] name:_Lilly Wachowski_>],\n",
      " 'directors': [<Person id:0905154[http] name:_Lana Wachowski_>, <Person id:0905152[http] name:_Lilly Wachowski_>],\n",
      " 'distributors': [<Company id:0613366[http] name:_Mauris Film_>, <Company id:0152990[http] name:_Roadshow Entertainment_>,\n",
      "                  <Company id:0050310[http] name:_Sandrew Metronome Distribution_>, <Company id:0370614[http] name:_Tanweer Alliances_>,\n",
      "                  <Company id:0130356[http] name:_Village Roadshow Greece S.A._>, <Company id:0342489[http] name:_Warner Bros Pictures_>,\n",
      "                  <Company id:0565132[http] name:_Warner Bros. Film_>, <Company id:0498895[http] name:_Warner Bros. Pictures_>,\n",
      "                  <Company id:0350543[http] name:_Warner Bros._>, <Company id:0134706[http] name:_Warner Bros._>,\n",
      "                  <Company id:0256390[http] name:_Warner Bros._>, <Company id:0307857[http] name:_Warner Bros._>,\n",
      "                  <Company id:0002663[http] name:_Warner Bros._>, <Company id:0002663[http] name:_Warner Bros._>,\n",
      "                  <Company id:0002663[http] name:_Warner Bros._>, <Company id:0002663[http] name:_Warner Bros._>,\n",
      "                  <Company id:0002663[http] name:_Warner Bros._>, <Company id:0002663[http] name:_Warner Bros._>,\n",
      "                  <Company id:0002663[http] name:_Warner Bros._>, <Company id:0002663[http] name:_Warner Bros._>,\n",
      "                  <Company id:0002663[http] name:_Warner Bros._>, <Company id:0040785[http] name:_Warner Sogefilms S.A._>,\n",
      "                  <Company id:0037052[http] name:_American Broadcasting Company (ABC)_>,\n",
      "                  <Company id:0031085[http] name:_Argentina Video Home_>, <Company id:0031085[http] name:_Argentina Video Home_>,\n",
      "                  <Company id:0031085[http] name:_Argentina Video Home_>, <Company id:0031085[http] name:_Argentina Video Home_>,\n",
      "                  <Company id:0031085[http] name:_Argentina Video Home_>, <Company id:0006126[http] name:_Audio Visual Enterprises_>,\n",
      "                  <Company id:0070925[http] name:_Fox Network_>, <Company id:0754095[http] name:_HBO Max_>,\n",
      "                  <Company id:0757634[http] name:_Kanal 12_>, <Company id:0069920[http] name:_Mainostelevisio (MTV3)_>,\n",
      "                  <Company id:0764707[http] name:_Peacock_>, <Company id:0095832[http] name:_Prem'er Video Fil'm_>,\n",
      "                  <Company id:0065990[http] name:_Roadshow Entertainment Video_>, <Company id:0118560[http] name:_SBS6_>,\n",
      "                  <Company id:0050310[http] name:_Sandrew Metronome Distribution_>, <Company id:0077687[http] name:_Sandrews_>,\n",
      "                  <Company id:0077687[http] name:_Sandrews_>, <Company id:0102030[http] name:_SubTV_>,\n",
      "                  <Company id:0091775[http] name:_Varus Video_>, <Company id:0011555[http] name:_Warner Bros. Entertainment Finland_>,\n",
      "                  <Company id:0302997[http] name:_Warner Bros. Home Entertainment_>,\n",
      "                  <Company id:0567645[http] name:_Warner Bros. Home Entertainment_>, <Company id:0209324[http] name:_Warner Home Video_>,\n",
      "                  <Company id:0142160[http] name:_Warner Home Video_>, <Company id:0081790[http] name:_Warner Home Video_>,\n",
      "                  <Company id:0081790[http] name:_Warner Home Video_>, <Company id:0105992[http] name:_Warner Home Video_>,\n",
      "                  <Company id:0105992[http] name:_Warner Home Video_>, <Company id:0189793[http] name:_Warner Home Video_>,\n",
      "                  <Company id:0189793[http] name:_Warner Home Video_>, <Company id:0189793[http] name:_Warner Home Video_>,\n",
      "                  <Company id:0077674[http] name:_Warner Home Video_>, <Company id:0077674[http] name:_Warner Home Video_>,\n",
      "                  <Company id:0059995[http] name:_Warner Home Video_>, <Company id:0059995[http] name:_Warner Home Video_>,\n",
      "                  <Company id:0059995[http] name:_Warner Home Video_>, <Company id:0059995[http] name:_Warner Home Video_>,\n",
      "                  <Company id:0059995[http] name:_Warner Home Video_>, <Company id:0059995[http] name:_Warner Home Video_>,\n",
      "                  <Company id:0089683[http] name:_Warner Home Vídeo_>],\n",
      " 'editorial department': [<Person id:0153708[http] name:_Catherine Chase_>, <Person id:0182363[http] name:_Tom Costain_>,\n",
      "                          <Person id:10197985[http] name:_Tritia Espinoza_>, <Person id:0377948[http] name:_Mo Henry_>,\n",
      "                          <Person id:0382871[http] name:_Jenny Hicks_>, <Person id:0497562[http] name:_John Lee_>,\n",
      "                          <Person id:0650542[http] name:_David Orr_>, <Person id:0654778[http] name:_Basia Ozerski_>,\n",
      "                          <Person id:0803885[http] name:_Peter Skarratt_>, <Person id:0922490[http] name:_Noelleen Westcombe_>,\n",
      "                          <Person id:1014650[http] name:_Bill Daly_>, <Person id:1338953[http] name:_Allison Gibbons_>],\n",
      " 'editors': [<Person id:0821205[http] name:_Zach Staenberg_>],\n",
      " 'genres': ['Action', 'Sci-Fi'],\n",
      " 'imdbID': '0133093',\n",
      " 'kind': 'movie',\n",
      " 'language codes': ['en'],\n",
      " 'languages': ['English'],\n",
      " 'localized title': 'Матрица',\n",
      " 'location management': [<Person id:0166773[http] name:_Robin Clifton_>, <Person id:0492520[http] name:_Peter Lawless_>,\n",
      "                         <Person id:0939594[http] name:_Carl Wood_>],\n",
      " 'make up department': [<Person id:0175106[http] name:_Rick Connelly_>, <Person id:0183931[http] name:_Kathy Courtney_>,\n",
      "                        <Person id:0329618[http] name:_Nikki Gooley_>, <Person id:0399226[http] name:_Sherry Hubbard_>,\n",
      "                        <Person id:0564995[http] name:_Bob McCarron_>, <Person id:0756611[http] name:_Wendy Sainsbury_>,\n",
      "                        <Person id:0810715[http] name:_Sonja Smuk_>, <Person id:0852247[http] name:_Deborah Taylor_>,\n",
      "                        <Person id:0911975[http] name:_Elka Wardega_>, <Person id:0930250[http] name:_Cheryl Williams_>,\n",
      "                        <Person id:0953045[http] name:_Simon Zanker_>, <Person id:1063720[http] name:_Kerrin Jackson_>,\n",
      "                        <Person id:1225224[http] name:_Nadine Wilkie_>, <Person id:0932307[http] name:_David Willis_>],\n",
      " 'miscellaneous': [<Person id:0027237[http] name:_Nathan Anderson_>, <Person id:0035733[http] name:_Ian I.T. Armstrong_>,\n",
      "                   <Person id:0070578[http] name:_Nils Bendix_>, <Person id:0086810[http] name:_Kerry Blakeman_>,\n",
      "                   <Person id:0101011[http] name:_John Bowring_>, <Person id:0125041[http] name:_Mandy Butler_>,\n",
      "                   <Person id:0148019[http] name:_Suzanne Celeste_>, <Person id:0149451[http] name:_Sergei Chadiloff_>,\n",
      "                   <Person id:0155392[http] name:_Tiger Hu Chen_>, <Person id:0156035[http] name:_Spike Cherrie_>,\n",
      "                   <Person id:0185053[http] name:_Helen Cox_>, <Person id:0189400[http] name:_Aaron Crothers_>,\n",
      "                   <Person id:0195418[http] name:_Michele D'Arcey_>, <Person id:0212705[http] name:_Belinda Dean_>,\n",
      "                   <Person id:0002211[http] name:_Christopher DeFaria_>, <Person id:0232888[http] name:_Sassica Donohoo_>,\n",
      "                   <Person id:0242164[http] name:_Greg Duncombe_>, <Person id:0245512[http] name:_Marcus Dwyer_>,\n",
      "                   <Person id:0255168[http] name:_Brian Ellison_>, <Person id:0263734[http] name:_Elizabeth Eves_>,\n",
      "                   <Person id:0265712[http] name:_John Faithful_>, <Person id:0275375[http] name:_Kerry Fetzer_>,\n",
      "                   <Person id:0278742[http] name:_Guy Firth_>, <Person id:1023716[http] name:_Peter Forbes_>,\n",
      "                   <Person id:0303795[http] name:_Katherine Gamble_>, <Person id:0318554[http] name:_Annie Gilhooly_>,\n",
      "                   <Person id:0326093[http] name:_Juan Goldsmith_>, <Person id:0340141[http] name:_Martin Grelis_>,\n",
      "                   <Person id:0341225[http] name:_Jane Griffin_>, <Person id:0369709[http] name:_Bianca Havas_>,\n",
      "                   <Person id:0371145[http] name:_Marvin Hayes_>, <Person id:0372328[http] name:_Jane Healy_>,\n",
      "                   <Person id:0388101[http] name:_Sandra Hodge-Hampton_>, <Person id:0606303[http] name:_Joseph M. Horrigan_>,\n",
      "                   <Person id:0399038[http] name:_Sam Kai-Sen Huang_>, <Person id:0399664[http] name:_Donna Huddleston_>,\n",
      "                   <Person id:0414398[http] name:_Emma Jacobs_>, <Person id:0420763[http] name:_Alistair Jenkins_>,\n",
      "                   <Person id:0425324[http] name:_Jayne Johnson_>, <Person id:0442073[http] name:_Alex Kaufman_>,\n",
      "                   <Person id:0453380[http] name:_Carol Kim_>, <Person id:10925601[http] name:_Stephen Kitney_>,\n",
      "                   <Person id:0484997[http] name:_Fiona Landreth_>, <Person id:0158408[http] name:_Tat-Chiu Lee_>,\n",
      "                   <Person id:0498353[http] name:_Terry Lee_>, <Person id:0502055[http] name:_Lea Lennon_>,\n",
      "                   <Person id:0504970[http] name:_Shing-Hung Leung_>, <Person id:0511123[http] name:_Julie-Anne Lincoln_>,\n",
      "                   <Person id:0523382[http] name:_Belinda Lowson_>, <Person id:0533419[http] name:_Sami MacKenzie-Kerr_>,\n",
      "                   <Person id:0585570[http] name:_Suzanne Middleton_>, <Person id:0426778[http] name:_Melissa Mundi_>,\n",
      "                   <Person id:0629142[http] name:_'Longy' Nguyin_>, <Person id:0642492[http] name:_Tommy O'Reilly_>,\n",
      "                   <Person id:0648999[http] name:_Phil Oosterhouse_>, <Person id:0651633[http] name:_Danielle Osborne_>,\n",
      "                   <Person id:0676530[http] name:_Julia Peters_>, <Person id:0689022[http] name:_Robert Polgar_>,\n",
      "                   <Person id:0698007[http] name:_Angela Pritchard_>, <Person id:0699930[http] name:_Reinaldo Puentes-Tucki_>,\n",
      "                   <Person id:0731876[http] name:_Jacquie Robertson_>, <Person id:1418786[http] name:_Michael Roth_>,\n",
      "                   <Person id:0746576[http] name:_Michelle Rowe_>, <Person id:0746722[http] name:_Marge Rowland_>,\n",
      "                   <Person id:2838901[http] name:_Ilkka Saari_>, <Person id:0780806[http] name:_Fiona Searson_>,\n",
      "                   <Person id:0784644[http] name:_Janet Seppelt_>, <Person id:0789267[http] name:_Sally Sharpe_>,\n",
      "                   <Person id:0811439[http] name:_Denise Snyder_>, <Person id:0862557[http] name:_Bryce Tibbey_>,\n",
      "                   <Person id:0876149[http] name:_Michelle Tuella_>, <Person id:0877659[http] name:_John Turner_>,\n",
      "                   <Person id:0890104[http] name:_Kevin Varnes_>, <Person id:0901615[http] name:_Justine Vollmer_>,\n",
      "                   <Person id:0908139[http] name:_Richard Walker_>, <Person id:0923541[http] name:_Sinclair Whalley_>,\n",
      "                   <Person id:0926561[http] name:_Chris Whittle_>, <Person id:0940959[http] name:_Lawrence Woodward_>,\n",
      "                   <Person id:0941792[http] name:_Megan Worthy_>, <Person id:0942130[http] name:_Charly Wrencher_>,\n",
      "                   <Person id:0942131[http] name:_Luke Wrencher_>, <Person id:0950751[http] name:_Shun-Yee Yuen_>,\n",
      "                   <Person id:0950759[http] name:_Woo-Ping Yuen_>, <Person id:0955339[http] name:_Daxing Zhang_>,\n",
      "                   <Person id:0089224[http] name:_Philip G. Bloom_>, <Person id:0186905[http] name:_Michael Crawford_>,\n",
      "                   <Person id:2701000[http] name:_Harold De Jesus_>, <Person id:7778212[http] name:_Richard Fricker_>,\n",
      "                   <Person id:2202040[http] name:_Jeff Gribble_>, <Person id:0367335[http] name:_Stew Harty_>,\n",
      "                   <Person id:1428727[http] name:_Jamie Iracleanos_>, <Person id:1214977[http] name:_Jason Mack_>,\n",
      "                   <Person id:0578861[http] name:_Michael Mendelsohn_>, <Person id:10711130[http] name:_Reny Nazarian_>,\n",
      "                   <Person id:0626284[http] name:_Craig Nersesian_>, <Person id:1598728[http] name:_Marcel Valcarce_>,\n",
      "                   <Person id:0886991[http] name:_Marijke Rikki van Gyen_>],\n",
      " 'music department': [<Person id:2924361[http] name:_Steve Becknell_>, <Person id:12261735[http] name:_Emily Bernstein_>,\n",
      "                      <Person id:0095650[http] name:_Bill Booth_>, <Person id:0204485[http] name:_Don Davis_>,\n",
      "                      <Person id:0218253[http] name:_Brian Dembow_>, <Person id:9821927[http] name:_Burnette Dillon_>,\n",
      "                      <Person id:3445432[http] name:_David Duke_>, <Person id:0002669[http] name:_Lori L. Eschler_>,\n",
      "                      <Person id:7225078[http] name:_Gregory Goodall_>, <Person id:0343065[http] name:_Zigmund Gron_>,\n",
      "                      <Person id:0345412[http] name:_Mario Guarneri_>, <Person id:1415768[http] name:_Clayton Haslop_>,\n",
      "                      <Person id:2482917[http] name:_Tommy Johnson_>, <Person id:3445863[http] name:_Chris Kollgaard_>,\n",
      "                      <Person id:10609321[http] name:_William Lane_>, <Person id:2265668[http] name:_Charlie Loper_>,\n",
      "                      <Person id:0536691[http] name:_Larry Mah_>, <Person id:3420125[http] name:_Andy Malloy_>,\n",
      "                      <Person id:0573522[http] name:_Malcolm McNab_>, <Person id:2236807[http] name:_Joe Meyer_>,\n",
      "                      <Person id:0607330[http] name:_Tim Morrison_>, <Person id:2477853[http] name:_Brian O'Connor_>,\n",
      "                      <Person id:0717023[http] name:_Bill Reichenbach_>, <Person id:2480713[http] name:_John Reynolds_>,\n",
      "                      <Person id:9618203[http] name:_Lindsay Shilling_>, <Person id:12156718[http] name:_Dan Smith_>,\n",
      "                      <Person id:4738881[http] name:_Kurt Snyder_>, <Person id:0825897[http] name:_Armin Steiner_>,\n",
      "                      <Person id:3991133[http] name:_Phillip A. Teele_>, <Person id:2501294[http] name:_Richard Todd_>,\n",
      "                      <Person id:0912352[http] name:_Brad Warnaar_>, <Person id:3992815[http] name:_Phillip Yao_>,\n",
      "                      <Person id:0003395[http] name:_John Beal_>, <Person id:0072822[http] name:_Jason Bentley_>,\n",
      "                      <Person id:2036352[http] name:_Tom Boyd_>, <Person id:11492285[http] name:_Tom Brown_>,\n",
      "                      <Person id:0129500[http] name:_Tom Calderaro_>, <Person id:2652204[http] name:_Gloria Cheng_>,\n",
      "                      <Person id:0180383[http] name:_Jordan Corngold_>, <Person id:1309854[http] name:_Joan Elardo_>,\n",
      "                      <Person id:1224035[http] name:_Hive_>, <Person id:5543467[http] name:_Jim Hoffman_>,\n",
      "                      <Person id:1116807[http] name:_John Rodd_>, <Person id:0756095[http] name:_Dennis Sager_>],\n",
      " 'original air date': '14 Oct 1999 (Russia)',\n",
      " 'original title': 'The Matrix',\n",
      " 'other companies': [<Company id:0235245[http] name:_Absolute Rentals_>, <Company id:0050381[http] name:_Airwalk_>,\n",
      "                     <Company id:0033575[http] name:_Blind Optics_>, <Company id:0079859[http] name:_Danetracks_>,\n",
      "                     <Company id:0138701[http] name:_Earth Media Studios_>, <Company id:0029194[http] name:_FedEx_>,\n",
      "                     <Company id:0046850[http] name:_Fox Studios Australia_>, <Company id:0075613[http] name:_Greenberg/Schluter_>,\n",
      "                     <Company id:0252165[http] name:_Hacienda Studio_>, <Company id:0040199[http] name:_L.A. East Studios_>,\n",
      "                     <Company id:0064906[http] name:_Maverick Records_>, <Company id:0001605[http] name:_Mullinars Casting_>,\n",
      "                     <Company id:0055470[http] name:_New South Wales Film & Television Office_>,\n",
      "                     <Company id:0045986[http] name:_Pacific Title/Mirage_>, <Company id:0164216[http] name:_Propaganda_>,\n",
      "                     <Company id:0098461[http] name:_Reeltime Creative_>, <Company id:0109739[http] name:_Sabron Payroll Services_>,\n",
      "                     <Company id:0017733[http] name:_Spectrum Films_>,\n",
      "                     <Company id:0003378[http] name:_The Newman Scoring Stage, Twentieth Century Fox Studios_>,\n",
      "                     <Company id:0017459[http] name:_Varèse Sarabande_>],\n",
      " 'plot': ['When a beautiful stranger leads computer hacker Neo to a forbidding underworld, he discovers the shocking truth--the life he '\n",
      "          'knows is the elaborate deception of an evil cyber-intelligence.',\n",
      "          'Thomas A. Anderson is a man living two lives. By day he is an average computer programmer and by night a hacker known as Neo. '\n",
      "          'Neo has always questioned his reality, but the truth is far beyond his imagination. Neo finds himself targeted by the police '\n",
      "          'when he is contacted by Morpheus, a legendary computer hacker branded a terrorist by the government. As a rebel against the '\n",
      "          'machines, Neo must confront the agents: super-powerful computer programs devoted to stopping Neo and the entire human '\n",
      "          'rebellion.::redcommander27',\n",
      "          \"Have you ever had a dream that you were so sure was real? What if you couldn't awaken? How would you know the difference \"\n",
      "          \"between dream and reality? When a beautiful stranger ('Carrie-Anne Moss' (qv)) leads computer hacker Neo ('Keanu Reeves' (qv)) \"\n",
      "          'to a forbidding underworld, he discovers the shocking truth--the life he knows is the elaborate deception of an evil '\n",
      "          \"cyber-intelligence. Neo joins legendary and dangerous rebel warrior Morpheus ('Laurence Fishburne' (qv) in the battle to \"\n",
      "          'destroy the illusion enslaving humanity.',\n",
      "          'During the year 1999, a man named Thomas Anderson (also known as Neo), lives an ordinary life. A software techie by day and a '\n",
      "          \"computer hacker by night, he sits alone at home by his monitor, waiting for a sign, a signal - from what or whom he doesn't \"\n",
      "          'know - until one night, a mysterious woman named Trinity seeks him out and introduces him to that faceless character he has '\n",
      "          'been waiting for: Morpheus. A messiah of sorts, Morpheus presents Neo with the truth about his world by shedding light on the '\n",
      "          'dark secrets that have troubled him for so long.::Anthony Pereyra {hypersonic91@yahoo.com}'],\n",
      " 'plot outline': 'Thomas A. Anderson is a man living two lives. By day he is an average computer programmer and by night a hacker known as '\n",
      "                 'Neo. Neo has always questioned his reality, but the truth is far beyond his imagination. Neo finds himself targeted by '\n",
      "                 'the police when he is contacted by Morpheus, a legendary computer hacker branded a terrorist by the government. As a '\n",
      "                 'rebel against the machines, Neo must confront the agents: super-powerful computer programs devoted to stopping Neo and '\n",
      "                 'the entire human rebellion.',\n",
      " 'producers': [<Person id:0075732[http] name:_Bruce Berman_>, <Person id:0185621[http] name:_Dan Cracchiolo_>,\n",
      "               <Person id:0400492[http] name:_Carol Hughes_>, <Person id:0556580[http] name:_Andrew Mason_>,\n",
      "               <Person id:0592385[http] name:_Richard Mirisch_>, <Person id:0651614[http] name:_Barrie M. Osborne_>,\n",
      "               <Person id:0005428[http] name:_Joel Silver_>, <Person id:0831098[http] name:_Erwin Stoff_>,\n",
      "               <Person id:0905154[http] name:_Lana Wachowski_>, <Person id:0905152[http] name:_Lilly Wachowski_>],\n",
      " 'production companies': [<Company id:0002663[http] name:_Warner Bros._>, <Company id:0108864[http] name:_Village Roadshow Pictures_>,\n",
      "                          <Company id:0060075[http] name:_Groucho Film Partnership_>, <Company id:0019968[http] name:_Silver Pictures_>,\n",
      "                          <Company id:0070636[http] name:_3 Arts Entertainment_>],\n",
      " 'production designers': [<Person id:0665517[http] name:_Owen Paterson_>],\n",
      " 'production managers': [<Person id:0065685[http] name:_Dick Beckett_>, <Person id:0400492[http] name:_Carol Hughes_>,\n",
      "                         <Person id:0107882[http] name:_Grayden Le Breton_>, <Person id:0524281[http] name:_Simon Lucas_>,\n",
      "                         <Person id:0560216[http] name:_Will Matthews_>, <Person id:0237115[http] name:_Bill Draper_>],\n",
      " 'rating': 8.7,\n",
      " 'runtimes': ['136'],\n",
      " 'script department': [<Person id:0830093[http] name:_Gillian Stein_>, <Person id:0838394[http] name:_Victoria Sullivan_>],\n",
      " 'set decorators': [<Person id:0107345[http] name:_Lisa Brennan_>, <Person id:0274824[http] name:_Tim Ferrier_>,\n",
      "                    <Person id:0568442[http] name:_Marta McElroy_>],\n",
      " 'sound department': [<Person id:0054959[http] name:_Nancy Barker_>, <Person id:0005597[http] name:_Thom Brennan_>,\n",
      "                      <Person id:0132372[http] name:_David E. Campbell_>, <Person id:0139396[http] name:_Kevin E. Carpenter_>,\n",
      "                      <Person id:0203511[http] name:_Valerie Davidson_>, <Person id:0204424[http] name:_Dane A. Davis_>,\n",
      "                      <Person id:0217813[http] name:_Barbara Delpuech_>, <Person id:0240042[http] name:_Susan Dudeck_>,\n",
      "                      <Person id:0263681[http] name:_Julia Evershade_>, <Person id:0295239[http] name:_Jack Friedman_>,\n",
      "                      <Person id:0342108[http] name:_David Grimaldi_>, <Person id:0388164[http] name:_Hilda Hodges_>,\n",
      "                      <Person id:0485850[http] name:_Mary Jo Lang_>, <Person id:1325883[http] name:_David Lee_>,\n",
      "                      <Person id:0511561[http] name:_Eric Lindemann_>, <Person id:0513236[http] name:_Ross Linton_>,\n",
      "                      <Person id:0518963[http] name:_Frank Long_>, <Person id:1529823[http] name:_Mario Lorenzo_>,\n",
      "                      <Person id:0574490[http] name:_David McRell_>, <Person id:0637729[http] name:_Gerry Nucifora_>,\n",
      "                      <Person id:0640176[http] name:_Thomas J. O'Connell_>, <Person id:0718676[http] name:_John T. Reitz_>,\n",
      "                      <Person id:0728726[http] name:_Charles W. Ritter_>, <Person id:0736430[http] name:_John Roesch_>,\n",
      "                      <Person id:0748832[http] name:_Gregg Rudloff_>, <Person id:1657206[http] name:_Kilian Seavers_>,\n",
      "                      <Person id:0850057[http] name:_Carolyn Tapp_>, <Person id:1061517[http] name:_Mark Cornish_>,\n",
      "                      <Person id:0003954[http] name:_Laurent Kossayan_>, <Person id:0480113[http] name:_Andrew Lackey_>,\n",
      "                      <Person id:0570680[http] name:_Noel McIntosh_>, <Person id:0813820[http] name:_Andrew Somers_>],\n",
      " 'sound mix': ['DTS::(Digital DTS Sound)', 'Dolby Digital', 'SDDS', 'Dolby Atmos'],\n",
      " 'special effects': [<Person id:0018689[http] name:_Richard Alexander_>, <Person id:0067633[http] name:_Brian Belcher_>,\n",
      "                     <Person id:0078547[http] name:_Nick Beryk_>, <Person id:0093356[http] name:_Kirk Bolte_>,\n",
      "                     <Person id:0097460[http] name:_Andrew Borscz_>, <Person id:0109044[http] name:_Jeffrey Briggs_>,\n",
      "                     <Person id:0121849[http] name:_Rodney Burke_>, <Person id:0138470[http] name:_Patrick Carmiggelt_>,\n",
      "                     <Person id:8633924[http] name:_Sebastiano Cartier_>, <Person id:0166159[http] name:_Paul Clemente_>,\n",
      "                     <Person id:0172787[http] name:_Bill Collis_>, <Person id:0183871[http] name:_Steve Courtley_>,\n",
      "                     <Person id:0184939[http] name:_Brian Cox_>, <Person id:0208132[http] name:_Darren De Costa_>,\n",
      "                     <Person id:0225289[http] name:_Sophie Dick_>, <Person id:0271877[http] name:_Paul Fenn_>,\n",
      "                     <Person id:0275871[http] name:_Mont Fieguth_>, <Person id:0278317[http] name:_Lloyd Finnemore_>,\n",
      "                     <Person id:0288787[http] name:_Ray Fowler_>, <Person id:0302702[http] name:_Frank Gallego_>,\n",
      "                     <Person id:0325640[http] name:_David Goldie_>, <Person id:0326443[http] name:_Bernard Golenko_>,\n",
      "                     <Person id:0330002[http] name:_Arran Gordon_>, <Person id:0331292[http] name:_Paul Gorrie_>,\n",
      "                     <Person id:0337379[http] name:_Pauline Grebert_>, <Person id:0377902[http] name:_Leo Henry_>,\n",
      "                     <Person id:0383901[http] name:_Kim Hilder_>, <Person id:0416411[http] name:_David James_>,\n",
      "                     <Person id:0441596[http] name:_Paul Katte_>, <Person id:0443496[http] name:_Thomas Kayser_>,\n",
      "                     <Person id:0466643[http] name:_Ron Korpi_>, <Person id:0501820[http] name:_Jim Leng_>,\n",
      "                     <Person id:0507396[http] name:_Judy Lewis_>, <Person id:0614706[http] name:_Shane Murphy_>,\n",
      "                     <Person id:8934559[http] name:_Dan Myricks_>, <Person id:0623630[http] name:_John Neal_>,\n",
      "                     <Person id:0630251[http] name:_Nick Nicolaou_>, <Person id:0639221[http] name:_David Núñez_>,\n",
      "                     <Person id:0651738[http] name:_Robina Osborne_>, <Person id:0653578[http] name:_Brigid Oulsnam_>,\n",
      "                     <Person id:0654435[http] name:_Peter 'Babylon' Owens_>, <Person id:0665677[http] name:_Dan Patmore_>,\n",
      "                     <Person id:2592330[http] name:_Gary Phillips_>, <Person id:0687395[http] name:_Pieter Ploody_>,\n",
      "                     <Person id:0697252[http] name:_David Pride_>, <Person id:0733007[http] name:_Reece Robinson_>,\n",
      "                     <Person id:0818931[http] name:_Arthur Spink Jr._>, <Person id:0824931[http] name:_Lou Stefanel_>,\n",
      "                     <Person id:0871599[http] name:_Edwin Treasure_>, <Person id:0887318[http] name:_Thomas Van Koeverden_>,\n",
      "                     <Person id:0888162[http] name:_Walter Van Veenendaal_>, <Person id:0921015[http] name:_Edweana Wenkart_>,\n",
      "                     <Person id:1808465[http] name:_Kerry Williams_>, <Person id:0949455[http] name:_David Young_>,\n",
      "                     <Person id:0166066[http] name:_Andy Clement_>, <Person id:0370009[http] name:_Ben Hawker_>,\n",
      "                     <Person id:0401283[http] name:_Timothy Huizing_>],\n",
      " 'special effects companies': [<Company id:0012497[http] name:_Amalgamated Pixels_>, <Company id:0005154[http] name:_Animal Logic_>,\n",
      "                               <Company id:0011685[http] name:_Bullet Time_>, <Company id:0062195[http] name:_DFILM Services_>,\n",
      "                               <Company id:0019087[http] name:_Makeup Effects Group Studio_>,\n",
      "                               <Company id:0048620[http] name:_Manex Visual Effects_>, <Company id:0042573[http] name:_Mass. Illusions_>],\n",
      " 'stunts': [<Person id:0011354[http] name:_Shea Adams_>, <Person id:0030991[http] name:_Ray Anthony_>,\n",
      "            <Person id:0087425[http] name:_Greg Blandy_>, <Person id:0098342[http] name:_Glenn Boswell_>,\n",
      "            <Person id:0099239[http] name:_Richard Boué_>, <Person id:0101222[http] name:_Bob Bowles_>,\n",
      "            <Person id:0108224[http] name:_Scott Brewer_>, <Person id:0113354[http] name:_Dave Brown_>,\n",
      "            <Person id:0117245[http] name:_Todd Bryant_>, <Person id:5029724[http] name:_Clint Cadinha_>,\n",
      "            <Person id:8633924[http] name:_Sebastiano Cartier_>, <Person id:0180992[http] name:_Mick Corrigan_>,\n",
      "            <Person id:0197459[http] name:_Harry Dakanalis_>, <Person id:0203659[http] name:_Dar Davies_>,\n",
      "            <Person id:0236469[http] name:_Paul Doyle_>, <Person id:0003482[http] name:_Nash Edgerton_>,\n",
      "            <Person id:0255168[http] name:_Brian Ellison_>, <Person id:0281104[http] name:_Terry Flanagan_>,\n",
      "            <Person id:5794588[http] name:_Gary Fry_>, <Person id:0339942[http] name:_Scotty Gregory_>,\n",
      "            <Person id:0356804[http] name:_Johnny Hallyday_>, <Person id:0361876[http] name:_Nigel Harbach_>,\n",
      "            <Person id:0395703[http] name:_Lou Horvath_>, <Person id:0455104[http] name:_Nigel King_>,\n",
      "            <Person id:0457316[http] name:_Alex Kiss_>, <Person id:0476736[http] name:_Alex Kuzelicki_>,\n",
      "            <Person id:0511204[http] name:_Ian Lind_>, <Person id:0528481[http] name:_Tony Lynch_>,\n",
      "            <Person id:0566695[http] name:_Andre McCoy_>, <Person id:0572646[http] name:_Scott McLean_>,\n",
      "            <Person id:0574863[http] name:_Phil Meacham_>, <Person id:0593218[http] name:_Chris Mitchell_>,\n",
      "            <Person id:0593256[http] name:_Darren Andrew Mitchell_>, <Person id:0606953[http] name:_Steve Morris_>,\n",
      "            <Person id:0695083[http] name:_Brett Praed_>, <Person id:0704280[http] name:_Luke Quinton_>,\n",
      "            <Person id:0814542[http] name:_Brit Sooby_>, <Person id:0815457[http] name:_Sotiri Sotiropoulos_>,\n",
      "            <Person id:0821432[http] name:_Chad Stahelski_>, <Person id:0823775[http] name:_Gillian Statham_>,\n",
      "            <Person id:1662268[http] name:_Leo Stripp_>, <Person id:0840024[http] name:_Glenn Suter_>,\n",
      "            <Person id:0878211[http] name:_Darko Tuscan_>, <Person id:0886987[http] name:_Bernadette Van Gyen_>,\n",
      "            <Person id:0886991[http] name:_Marijke Rikki van Gyen_>, <Person id:0887525[http] name:_Annette Van Moorsel_>,\n",
      "            <Person id:0887526[http] name:_Mick Van Moorsel_>, <Person id:0002642[http] name:_Warwick Young_>,\n",
      "            <Person id:0180992[http] name:_Mick Corrigan_>, <Person id:8768766[http] name:_Charlie Estepp_>,\n",
      "            <Person id:0482599[http] name:_Dion Lam_>, <Person id:0569067[http] name:_Dwayne McGee_>,\n",
      "            <Person id:0738939[http] name:_Pat Romano_>, <Person id:0832658[http] name:_Tim Storms_>],\n",
      " 'synopsis': ['The screen fills with green, cascading code which gives way to the title, The Matrix (1999).A phone rings and text appears '\n",
      "              'on the screen: \"Call trans opt: received. 2-19-98 13:24:18 REC: Log>\" As a conversation takes place between Trinity '\n",
      "              '(Carrie-Anne Moss) and Cypher (Joe Pantoliano), two free humans, a table of random green numbers are being scanned and '\n",
      "              'individual numbers selected, creating a series of digits not unlike an ordinary phone number, as if a code is being '\n",
      "              'deciphered or a call is being traced.Trinity discusses some unknown person. Cypher taunts Trinity, suggesting she enjoys '\n",
      "              'watching him but they will have to kill him. Trinity counters that \"Morpheus (Laurence Fishburne) says he may be \\'the '\n",
      "              'One\\',\" just as the sound of a number being selected alerts Trinity that someone may be tracing their call. She ends the '\n",
      "              \"call.Armed policemen move down a darkened, decrepit hallway in the Heart O' the City Hotel, their flashlight beam bouncing \"\n",
      "              'just ahead of them. They come to room 303, kick down the door and find a woman dressed in black, facing away from them. '\n",
      "              \"It's Trinity. She brings her hands up from the laptop she's working on at their command.Outside the hotel a car drives up \"\n",
      "              'and three agents appear in neatly pressed black suits. They are Agent Smith (Hugo Weaving), Agent Brown (Paul Goddard), and '\n",
      "              'Agent Jones (Robert Taylor). Agent Smith and the presiding police lieutenant argue. Agent Smith admonishes the policeman '\n",
      "              'that they were given specific orders to contact the agents first, for their protection. The lieutenant dismisses this and '\n",
      "              'says that they can handle \"one little girl\" and that he has two units that are bringing her down at that very moment. Agent '\n",
      "              'Smith replies: \"No, Lieutenant. Your men are already dead.\"Inside, Trinity easily defeats the six policemen sent to '\n",
      "              'apprehend her, using fighting and evasion techniques that seem to defy gravity. She calls Morpheus, letting him know that '\n",
      "              'the line has been traced, though she doesn\\'t know how. Morpheus informs her that she will have to \"make it to another '\n",
      "              'exit,\" and that Agents are heading toward her.A fierce rooftop chase ensues with Trinity and an Agent leaping impossibly '\n",
      "              'from one building to the next, astonishing the policemen left behind. Trinity makes a daring leap across an alley and '\n",
      "              'through a small window. She has momentarily lost her pursuers and makes it to a public phone booth on the street level. The '\n",
      "              'phone begins to ring. As she approaches it a garbage truck, driven by Agent Smith, careens towards the phone booth. Trinity '\n",
      "              'makes a desperate dash to the phone, picking it up just moments before the truck smashes the booth into a brick wall. The '\n",
      "              'three Agents reunite at the front of the truck. There is no body in the wreckage. \"She got out,\" one says. The other says, '\n",
      "              '\"The informant is real.\" \"We have the name of their next target,\" says the other, \"His name is Neo.\"Thomas Anderson, aka '\n",
      "              '\"Neo\" (Keanu Reeves), a hacker with thick black hair and a sallow appearance, is asleep at his monitor. Notices about a '\n",
      "              \"manhunt for a man named Morpheus scroll across his screen as he sleeps. Suddenly Neo's screen goes blank and a series of \"\n",
      "              'text messages appear: \"Wake up, Neo.\" \"The Matrix has you.\" \"Follow the White Rabbit.\" Then, the text says \"Knock, knock, '\n",
      "              'Neo...\" just as he reads it, a knock comes at the door of his apartment, 101. It\\'s a group of ravers and Neo gives them a '\n",
      "              'contraband disc he has secreted in a copy of \"Simulacra and Simulation.\" The lead raver asks him to join them and Neo '\n",
      "              'demurs until he sees the tattoo of a small white rabbit on the shoulder of a seductive girl in the group.At a rave bar Neo '\n",
      "              \"stands alone and aloof as the group he's with continue partying. Trinity approaches him and introduces herself. Neo \"\n",
      "              'recognizes her name; she was a famous hacker and had cracked the IRS database. She tells him that he is in great danger, '\n",
      "              'that they are watching him and that she knows that he is searching for answers, particularly to the most important question '\n",
      "              \"of all: what is the Matrix? The pulsing music of the bar gives way to the repetitious blare of Neo's alarm clock; it's 9:18 \"\n",
      "              \"and he's late for work.At his job at Metacortex, a leading software company housed in an ominous high rise, Neo is berated \"\n",
      "              \"by his boss for having a problem with authority, for thinking he's special. Neo listens to his boss, but his attention is \"\n",
      "              'on the persons cleaning the window of the office. Back at his bleak cubicle Neo receives a delivery as \"Thomas Anderson.\" '\n",
      "              'Upon opening the package he finds a cellphone which immediately rings. On the other end is Morpheus, who informs Neo that '\n",
      "              'they\\'ve both run out of time and that \"they\" are coming for him. Morpheus tells him to slowly look up, toward the '\n",
      "              \"elevator. Agents Smith, Jones, and Brown are there, obviously looking for him, as a woman points towards Neo's cube. \"\n",
      "              'Morpheus tries to guide Neo out of the building but when he is instructed to get on a scaffolding and take it to the roof '\n",
      "              \"Neo rejects Morpheus' advice, allowing himself to be taken by the Agents.In an interrogation room the Agents confront Neo. \"\n",
      "              \"They've had their eye on him for some time. He lives a dual existence: one life as Thomas A. Anderson, a software engineer \"\n",
      "              'for a Metacortex, the other life as Neo, a computer hacker \"guilty of virtually every computer crime we have a law for.\" '\n",
      "              'Agent Smith asks him to help them capture Morpheus, considered a dangerous terrorist, in exchange for amnesty. Neo gives '\n",
      "              \"them the finger and asks for his phone call. Mr. Smith asks what good is a phone call if he's unable to speak. Neo finds \"\n",
      "              'that his lips have fused together. Panicked, he is thrown on the interrogation table by the Agents and they implant a '\n",
      "              'shrimp-like probe, a bug, in his stomach, entering through his navel.Neo awakens with a start in his own bed, assuming it '\n",
      "              'has all been a bad dream. His phone rings and Morpheus is on the other line. He tells Neo that the line is tapped but '\n",
      "              \"they've underestimated his importance. Morpheus tells Neo he is the One and to meet him at the Adams St. bridge. There he \"\n",
      "              'is picked up by Trinity and two others in a car; they all wear black latex and leather. A woman in the front seat, Switch '\n",
      "              \"(Belinda McClory), suddenly points a gun at him and tells him to take off his shirt. Trinity tells him it's for their \"\n",
      "              'mutual protection and that he has to trust her. He takes off his shirt and she uses a device to remove the probe that Neo '\n",
      "              'believed had been part of a nightmare. Trinity drops the bug out into the road where it slowly goes dark in the '\n",
      "              \"rain.Trinity takes Neo to Morpheus. Morpheus explains that he's been searching for Neo his entire life and asks if Neo \"\n",
      "              'feels like \"Alice in Wonderland, falling down the rabbit hole.\" He explains to Neo that they exist in the Matrix, a false '\n",
      "              'reality that has been constructed for humans to hide the truth. The truth is that everyone in the world is a slave, born '\n",
      "              'into bondage. Morpheus holds out two pills. In his left palm is a blue pill. If Neo takes it he will wake up in his bed and '\n",
      "              '\"believe whatever you want to believe.\" But if he takes the red pill in Morpheus\\'s right hand, then \"you stay in '\n",
      "              'Wonderland and I show you how deep the rabbit hole goes.\" Neo takes the red pill.As the rest of Morpheus\\'s crew straps him '\n",
      "              'into a chair, Neo is told that pill he took is part of a trace program, to \"disrupt his input/output carrier signal\" so '\n",
      "              'that they can pinpoint him. Neo looks at a shattered mirror placed next to him which miraculously repairs itself. Neo '\n",
      "              \"touches the surface and the silver begins to creep over his skin, engulfing him as Morpheus's crew attempt to locate \"\n",
      "              'something on the monitors around them. The silver fluid covers him entirely, moves down his throat and he blacks out.He '\n",
      "              'awakens inside a pinkish/purple embryonic pod, extending from the side of a huge column, part of a massive power plant. He '\n",
      "              'is hairless and naked, with thick black tubes snaking down his throat, plugged into the back of his skull, his spine, and '\n",
      "              'invading most of the rest of his body. He finds his pod is open and that he is surrounded by tower after tower of pods just '\n",
      "              'like his, all filled with bodies. Suddenly a menacing, hovering nurse robot grabs him by the throat. The cable inserted '\n",
      "              'into the base of his skull suddenly detaches. The rest of the tubes pop off his limbs and Neo is flushed down a tube into '\n",
      "              \"an underground pool of filthy water. Just as he's about to drown in the muck a hovercraft appears above him, snags him and \"\n",
      "              \"hauls him into its cargo bay. Neo finds himself surrounded by Morpheus's crew again, but they are dressed differently, in \"\n",
      "              'simple knit garments. Just before Neo passes out Morpheus says to him, \"Welcome to the real world.\"Neo drifts in and out of '\n",
      "              'consciousness. At one point he asks, \"Am I dead?\" \"Far from it,\" replies Morpheus. Again he wakes, his body a pincushion of '\n",
      "              'acupuncture. \"Why do my eyes hurt?\" he asks. \"You\\'ve never used them,\" Morpheus replies.Neo finally wakes, fully clothed, '\n",
      "              'with a short shock of hair on his head. He removes a connector that is sunk deep into his arm and reaches to find the large '\n",
      "              'socket at the back of his neck when Morpheus enters the room. \"What is this place?\" Neo asks. \"The more important question '\n",
      "              'is when,\" says Morpheus, \"You believe it is the year 1999, when in fact it is closer to the year 2199.\" Morpheus goes on to '\n",
      "              \"say that they really don't know when it is. He gives Neo a tour of his ship, the Nebuchadnezzar (they pass a plaque stating \"\n",
      "              \"it was built in 2069), an old, beaten hovercraft. Neo is introduced to Morpheus's crew including Trinity; Apoc (Julian \"\n",
      "              'Arahanga), a man with long, flowing black hair; Switch; Cypher (bald with a goatee); two brawny brothers, Tank (Marcus '\n",
      "              'Chong) and Dozer (Anthony Ray Parker); and a young, thin man named Mouse (Matt Doran).Morpheus gets to the point. \"You '\n",
      "              'wanted to know about the Matrix,\" he says, ushering him to a chair. Neo sits down in it and Trinity straps him in. A long '\n",
      "              \"probe is inserted into the socket at the back of Neo's skull.Neo wakes in a world of all white. He is in the Construct, a \"\n",
      "              '\"loading platform\" that Morpheus and his team use to prepare newly freed humans to deal with the Matrix world. Gone are the '\n",
      "              \"sockets in Neo's arms and neck and his hair is grown in. Morpheus tells him that what he is experiencing of himself is the \"\n",
      "              '\"residual self image, the mental projection of your digital self\" and bids him to sit while he explains the truth. \"This,\" '\n",
      "              'he says, showing an image of a modern city, \"is the world that you know.\" A thing that really exists \"only as part of a '\n",
      "              'neural, interactive simulation that we call the Matrix.\"Morpheus then shows Neo the world as it truly exists today, a '\n",
      "              'scarred, desolate emptiness with charred, abandoned buildings, black earth, and a shrouded sky.Morpheus goes on to say that '\n",
      "              '\"at some point in the early 21st century all of mankind was united in celebration as we gave birth\" to artificial '\n",
      "              'intelligence, a \"singular consciousness that birthed an entire race of machines.\"Someone started a war, and no one knows '\n",
      "              'who, but it was known that it was mankind who blotted out the sky, attempting to deprive the machines of the solar power '\n",
      "              'they required to function. Instead the machines turned to humans as a power source, enslaving them like Neo had been before '\n",
      "              'he was freed. Morpheus goes on to explain that a human\\'s body provides \"more electricity than a 120 volt battery and over '\n",
      "              '25k BTUs in body heat.\" Morpheus shows Neo fields where machines grow human beings, connecting them to their outlets, '\n",
      "              'ensconcing them in their pods, and feeding them with the liquefied remains of other human beings. \"The Matrix,\" says '\n",
      "              'Morpheus, \"is a computer-generated dreamworld created to keep us under control, to turn us...\" into a mere power source, '\n",
      "              'into coppertop batteries.Neo rejects this information so feverishly that he demands release from the Construct. He is back '\n",
      "              'in the chair on the hovercraft. The crew pull out the spike at the back of his head and he fights to free himself from this '\n",
      "              'harsh reality, only to end up vomiting on the floor and passing out.When Neo wakes up in his bunk, Morpheus is beside him. '\n",
      "              '\"I can\\'t go back, can I?\" Neo asks. \"No,\" says Morpheus. He apologizes to Neo for breaking a cardinal rule: after a '\n",
      "              \"certain age people aren't brought out of their simulacrum, but Morpheus explains he had to bring Neo out. When the Matrix \"\n",
      "              'was created there was a man born inside it who could create his own reality inside it. It was this man who set Morpheus and '\n",
      "              'the others free. When he died, the Oracle (Gloria Foster) prophesied that he would return in another form. And that the '\n",
      "              'return of the One would mean the destruction of the Matrix. As long as the Matrix exists, humanity will continue to live in '\n",
      "              'complacency inside it and the world can never be free. \"I did what I did because I believe that search is over,\" says '\n",
      "              'Morpheus.The next day Neo starts his training. Tank is his operator. Tank and his brother Dozer are \"100% pure '\n",
      "              'old-fashioned, homegrown human. Born in the real world; a genuine child of Zion.\" Zion, Tank explains, is the last human '\n",
      "              'city, buried deep in the earth, near the core, for warmth. Tank straps Neo back into the jack-in chair, by-passes some '\n",
      "              'preliminary programs and loads him up with combat training, starting with Jiu Jitsu. When Tank hits \"load\" Neo is shocked '\n",
      "              'by the force of the knowledge pouring into him. \"I think he likes it,\" says Tank, \"want some more?\" \"Hell yes,\" replies '\n",
      "              'Neo. Neo is fed a series of martial arts techniques including Kempo, Tae Kwon Do, Drunken Boxing and Kung Fu. Morpheus and '\n",
      "              \"Tank are amazed at Neo's ability to ingest information, but Morpheus wants to test Neo.Morpheus and Neo stand in a sparring \"\n",
      "              'program. The program has rules, like gravity. But as in many computer programs, some rules can be bent while others can be '\n",
      "              'broken. Morpheus bids Neo to hit him, if he can. They fight with Neo impressively attacking but Morpheus easily parrying '\n",
      "              'and subduing him. The rest of the crew gathers around the monitors to watch the fight. Morpheus ends up kicking Neo into a '\n",
      "              'beam, explaining to him that the reason he has beaten him has nothing to do with muscles or reality. They spar again. \"What '\n",
      "              'are you waiting for?\" Morpheus asks him. \"You\\'re faster than this!\" Neo finally brings a punch near his teacher\\'s face. '\n",
      "              'Neo stops, telling Morpheus \"I know what you\\'re trying to do.\" Morpheus tells him he\\'s only trying to \"show him the door\" '\n",
      "              'and that Neo must step through it.A \"jump\" program is loaded. Both men now stand on one of several tall buildings in a '\n",
      "              'normal city skyline. Morpheus tells Neo he must free his mind and leaps easily but impossibly from one building to the '\n",
      "              \"next. Neo nervously tries to follow him and doesn't make the jump, falling to the pavement below. Neo wakes back in the \"\n",
      "              'Nebudchanezzar with blood in his mouth. \"I thought it wasn\\'t real,\" he says. \"Your mind makes it real,\" replies Morpheus. '\n",
      "              '\"So, if you die in the Matrix, you die here?\" \"The body cannot live without the mind,\" says Morpheus, underlining the very '\n",
      "              'real danger faced in the simulation.Later, while Neo is sleeping deeply, Trinity brings him dinner. Outside his room, '\n",
      "              \"Cypher remarks that Trinity never brought him dinner. He asks Trinity why, if Morpheus thinks Neo is the One, he hasn't \"\n",
      "              \"taken him to see the Oracle yet. Trinity says he'll take him when he's ready.Morpheus and Neo are walking down a standard \"\n",
      "              'city street in what appears to be the Matrix. Morpheus explains that the Matrix is a system and that the system is their '\n",
      "              'enemy. All the people that inhabit it, the people they are trying to free, are part of that system. Some are so inert, so '\n",
      "              'dependent upon the Matrix that they can never be free. Neo notices a stunning girl in a red dress. \"Are you listening to '\n",
      "              'me?\" asks Morpheus. He asks Neo to look at the girl again. Neo turns to face Agent Smith, pointing a gun straight at his '\n",
      "              'head. Morpheus stops the simulation, which has just been created to look like the Matrix.Neo asks what the Agents are. '\n",
      "              '\"Sentient programs,\" says Morpheus, that \"can move in and out of any software hard-wired into their system, meaning that '\n",
      "              'they can take over anyone in the Matrix program. \"Inside the Matrix,\" Morpheus says, \"They are everyone and they are no '\n",
      "              'one.\" Thus Morpheus and his crew survive the Agents by running from them and hiding from the Agents even though they \"are '\n",
      "              'guarding all the doors. They are holding all the keys and sooner or later, someone is going to have to fight them.\" But no '\n",
      "              'one who has ever stood up to an Agent has survived; all have died. Still, Morpheus is certain that because the Agents live '\n",
      "              'in a world of rules that they can never be as strong, never be as fast as he can be. \"What are you trying to tell me,\" asks '\n",
      "              'Neo, \"That I can dodge bullets?\" \"When you\\'re ready,\" Morpheus says, \"You won\\'t have to.\" Just then Morpheus gets a phone '\n",
      "              'call. \"We\\'ve got trouble,\" Cypher says on the other line.The Nebuchadnezzar is on alert. They see the holographic image of '\n",
      "              'a squiddy, a search and destroy sentinel, which is on their trail. They set the ship down in a huge sewer system and turn '\n",
      "              'off the power. Tank stands at the ready switch of an EMP, electro-magnetic pulse, the only weapon man has against the '\n",
      "              'machines in the real world. Two squiddies search for the ship -- the crew can see them -- but they move on.Neo startles '\n",
      "              'Cypher, who is working at a computer console streaming with green code. Cypher offers Neo a drink and says that he knows '\n",
      "              'what Neo is thinking, \"Why, oh why didn\\'t I take the blue pill?\" Neo laughs but is unsettled. Cypher asks Neo if Morpheus '\n",
      "              'has told him why he\\'s here. Neo nods. \"What a mind job,\" says Cypher, \"so you\\'re here to save the world.\"Cypher is now in '\n",
      "              'a fancy restaurant with Agent Smith in the Matrix. Agent Smith asks if they have a deal. Cypher cuts up a juicy steak and '\n",
      "              'ruminates that he knows the steak is merely the simulation telling his brain that it is delicious and juicy, but after nine '\n",
      "              'years he has discovered that \"ignorance is bliss.\" He strikes a deal for the machines to reinsert his body into a power '\n",
      "              'plant, reinsert him into the Matrix, and he\\'ll help the Agents. He wants to be rich and powerful, \"an actor\" maybe. Smith '\n",
      "              \"says he wants access codes to the mainframe in Zion. Cypher says he can't do that, but that he can get him the man who \"\n",
      "              \"does, meaning Morpheus.Meanwhile, inside the Nebuchadnezzar's small dining room in the real world, the rest of the crew is \"\n",
      "              'trying to choke down the oatmeal-gruel that they have as sustenance. Mouse muses on the mistakes the machines may have made '\n",
      "              \"trying to get sensations right, like the taste of chicken. Since they didn't know what it tasted like they let everything \"\n",
      "              \"taste like it. Morpheus interrupts the meal, announcing that he's taking Neo to see the Oracle.Morpheus, Trinity, Neo, \"\n",
      "              'Apoc, Switch, Mouse and Cypher are jacked into the Matrix. As they walk out of a warehouse Cypher secretly throws his cell '\n",
      "              'phone into the garbage. On the car ride to the Oracle, Neo asks Trinity if she has seen the Oracle. Trinity says that she '\n",
      "              \"has but when she's asked just what she was told by the Oracle, she refuses to answer.The Oracle, Morpheus explains, has \"\n",
      "              'been with them since the beginning of the Resistance. She is the one who made the Prophecy of the One and that Morpheus '\n",
      "              'would be the one to find him. She can help Neo find the path, he says. He enters the apartment of the Oracle. Inside are '\n",
      "              'the other potentials: a mother figure and numerous children. One child levitates blocks, one reads Asian literature, '\n",
      "              'another is playing chess. One bald child is bending spoons. He gives one spoon to Neo and says, \"Do not try and bend the '\n",
      "              'spoon, that\\'s impossible. Instead, only try to realize the truth...that there is no spoon.\" Neo bends the spoon as he\\'s '\n",
      "              'called in to see the Oracle.The Oracle is baking cookies. She sizes Neo up and asks him whether he thinks he is the One. '\n",
      "              'Neo admits that he does not know and the Oracle does not enlighten him. Neo smiles and the Oracle asks him what is funny. '\n",
      "              'Neo admits that Morpheus had almost convinced him that he was the One. She accepts this and prophesies that Morpheus '\n",
      "              'believes in Neo so much that he plans to sacrifice himself. She tells Neo that either he or Morpheus will die, and that Neo '\n",
      "              'will have the power to choose which one it will be. She then offers him a cookie and promises him that he will feel fine as '\n",
      "              \"soon as he's done eating it.As the crew returns to their jack point, many floors up in an old hotel, Tank, in the control \"\n",
      "              'room, notices something odd. Meanwhile Neo, walking up the stairs, sees what appears to be the same cat cross a room twice. '\n",
      "              '\"Deja vu,\" he says, which gets the attention of Trinity and Morpheus. Deja vu, they explain to him, is a glitch in the '\n",
      "              'Matrix; it happens when they reset the computer parameters. Outside, the phone line is cut. Mouse runs to a window which '\n",
      "              \"has now been bricked in. They are trapped. Mouse picks up two machine guns but he's no match for the police coming into the \"\n",
      "              \"room. He's riddled with bullets.Back on the Nebuchadnezzar, the real Mouse spurts blood from his mouth and dies in the \"\n",
      "              \"chair.More police and Agents stream into the bottom of the hotel. Morpheus has Tank find a layout of the building they're \"\n",
      "              \"in, locating the main wet wall. The Agents arrive on the floor they're on, finding a coat that Cypher has left behind. They \"\n",
      "              'only find a hole in the bathroom wall. Meanwhile the crew is climbing down the plumbing of the wet wall. As the police '\n",
      "              'approach Cypher sneezes, once more giving them away. The police open fire. The crew, including Neo, begin to fire back.An '\n",
      "              'Agent takes over the body of one of the policemen, reaches into the wall, and grabs Neo by the neck. Morpheus, who is above '\n",
      "              'Neo in the walls, breaks through the wall and lands on the agent, yelling to Trinity to get Neo out of the building.A '\n",
      "              'fierce battle between Agent Smith and Morpheus ends with Morpheus face down on the tile. Agent Smith sends the police unit '\n",
      "              'in to beat him with their batons.Cypher returns to the Nebuchadnezzar before Trinity, Neo, Switch and Apoc. As Tank '\n",
      "              'attempts to bring the others back, Cypher attacks him from behind with an electronic weapon. Dozer attempts to tackle '\n",
      "              'Cypher, but Cypher electrocutes him as well.Trinity attempts to call Tank but Cypher pulls the headset off of the smoking '\n",
      "              'remains of Tank and answers. As Cypher talks to Trinity inside the Matrix he leans over the still form of Trinity in the '\n",
      "              'hovercraft. Cypher recounts the things he hates about the real world, the war, the cold, the goop they have to eat, but '\n",
      "              'most especially Morpheus and his beliefs. \"He lied to us, Trinity.\"Cypher pulls the plug out of the back of Apoc\\'s head, '\n",
      "              'and Apoc falls down dead in the Matrix. Cypher then moves to Switch and as she protests \"Not like this...\" in the Matrix, '\n",
      "              \"Cypher kills her on the ship. She falls down dead before Trinity and Neo. Cypher moves on to Neo's supine form, saying that \"\n",
      "              'if Neo is the One, a miracle will prevent Cypher from killing him:\"How can he be the One, if he\\'s dead?\" he asks. He '\n",
      "              'continues badgering Trinity, asking her if she believes that Neo is the One. She says, \"Yes.\" Cypher screams back \"No!\" but '\n",
      "              'his reaction is incredulity at seeing Tank still alive, brandishing the weapon that Cypher had used on him. Tank fries '\n",
      "              'Cypher with the electrical device.Tank brings Trinity back and she finds out that Dozer is dead.Meanwhile Agent Smith, a '\n",
      "              'tray of torture instruments near him, marvels at the beauty of the Matrix as he gazes out at the city all around them. He '\n",
      "              'informs Morpheus, who is tied to a chair, that the first Matrix was designed as a utopia, engineered to make everyone '\n",
      "              'happy. \"It was a disaster,\" says Agent Smith, people wouldn\\'t accept the program and \"entire crops were lost.\" \"Some '\n",
      "              'believed,\" continues Smith, \"that we lacked the programming language to describe your perfect world. But I believe that, as '\n",
      "              'a species, human beings define their reality through misery and suffering. The perfect world was a dream that your '\n",
      "              'primitive cerebrum kept trying to wake up from. Which is why the Matrix was redesigned.\" Agent Smith compares humans to '\n",
      "              'dinosaurs and that evolution is taking hold. Another Agent enters and relays that there may be a problem (as they now know '\n",
      "              \"that Cypher has failed).Back on the hovercraft the shuddering form of Morpheus betrays the torture he's being put through \"\n",
      "              \"by the Agents in the Matrix. Tank realizes that they're trying to get the codes to the mainframes of Zion's computers; each \"\n",
      "              \"ship's captain knows them. Because a breach of Zion's defenses would mean that the last remaining vestiges of mankind would \"\n",
      "              'be wiped out, Tank says their only choice is to unplug Morpheus, effectively killing him.Back in the Matrix, the Agents '\n",
      "              'process their next move. If Cypher is dead, they deduce that the remaining humans on the ship will terminate Morpheus. They '\n",
      "              'decide to stick to their original plan and to deploy the Sentinels.Tank is performing what amounts to last rites for '\n",
      "              \"Morpheus, laying one hand on his head as his other moves to the back of his skull to remove the jack. Just as he's about to \"\n",
      "              'pull it out Neo stops him. He realizes that the Oracle was right. He now has to make the choice to save himself or to save '\n",
      "              'Morpheus; his choice is to head back into the Matrix. Trinity rejects the idea. Morpheus gave himself up so that Neo could '\n",
      "              'be saved since he is the One.\"I\\'m not the One, Trinity,\" Neo says, relaying his understanding of the discussion with the '\n",
      "              'Oracle: she did not enlighten him as to whether he was the promised messiah. And, since Morpheus was willing to sacrifice '\n",
      "              \"himself, Neo knows that he must do that same. Tank calls it suicide; it's a military building with Agents inside. Neo says \"\n",
      "              'he only knows that he can bring Morpheus out. Trinity decides to come with him, reasoning with Neo that he will need her '\n",
      "              'help and she\\'s the ranking officer on the ship. \"Tank,\" she says, \"load us up!\"Meanwhile Agent Smith continues to share '\n",
      "              'his musings with a brutalized Morpheus. Because humans spread to an area, consume the natural resources and, to survive, '\n",
      "              'must spread to another area, Smith says we are not mammals but viruses, the only other creature that acts that way.In the '\n",
      "              'Construct, Neo and Trinity get armaments. \"Neo,\" protests Trinity, \"No one has ever done anything like this.\" \"That\\'s why '\n",
      "              'it\\'s going to work,\" he replies.Morpheus has yet to break and Smith asks the other Agents why the serum isn\\'t working. '\n",
      "              '\"Maybe we\\'re asking the wrong questions,\" responds one. To that Smith commands the other Agents to leave him alone with '\n",
      "              'Morpheus. Smith removes his earphone and his glasses and confides that he hates the Matrix, \"this zoo, this prison.\" Smith '\n",
      "              'admits that he must get out of this \"reality.\" He hates the stench. He\\'s sure that some element of the humans will rub off '\n",
      "              \"on him and that Morpheus holds the key to his release. If there is no Zion there's no need for Smith to be in the Matrix. \"\n",
      "              '\"You are going to tell me, or you are going to die.\"Downstairs, in the lobby, Trinity and Neo enter, heavily armed. They '\n",
      "              'shoot their way past the guards and a group of soldiers and make their way into the elevator.Agents Brown and Jones enter '\n",
      "              \"the interrogation room to find Smith with his hands still fixed on Morpheus's head. Smith looks embarrassed and befuddled \"\n",
      "              'and the others tell him about the attack occurring downstairs. They realize that the humans are trying to save Morpheus.In '\n",
      "              'the elevator, Trinity arms a bomb. They both climb through a hatch to the elevator roof, attaching a clamp to the elevator '\n",
      "              'cable. Neo says \"There is no spoon\" before he severs the cable with a few shots. The counterweight drops, propelling Neo '\n",
      "              'and Trinity upward. The elevator falls to the lobby exploding upon impact and filling the floor with flames.The Agents feel '\n",
      "              'the rumble of the explosion and the sprinkers come on in the building. \"Find them and destroy them!\" Smith commands.On the '\n",
      "              'roof, a helicopter pilot is calling \"Mayday\" as Trinity and Neo take out the soldiers there. Agent Brown takes over the '\n",
      "              'pilot and appears behind Neo. Neo shoots several rounds at the Agent, who dodges them and pulls his own weapon.\"Trinity,\" '\n",
      "              'yells Neo, \"Help!\" But it\\'s too late. The Agent begins to shoot. Instead of being shot, Neo dodges most of the bullets, '\n",
      "              'though two of them nick him. As the Agent approaches Neo, who is lying on the ground, he levels a kill shot but Trinity '\n",
      "              \"shoots him before he can fire. Trinity marvels at how fast Neo has just moved; she's never seen anyone move that \"\n",
      "              'quickly.Tank downloads the ability to fly the helicopter to Trinity, who can now pilot the aircraft. Trinity brings the '\n",
      "              'helicopter down to the floor that Morpheus is on and Neo opens fire on the three Agents. The Agents quickly fall and '\n",
      "              'Morpheus is alone in the room. Just as quickly the Agents take over other soldiers stationed nearby. Morpheus breaks his '\n",
      "              'bonds and begins to run to the helicopter. The Agents fire on him, hitting his leg. Morpheus leaps but Neo realizes that he '\n",
      "              'is not going to make the leap and throws himself out of the helicopter, a safety harness attached.He catches Morpheus, but '\n",
      "              \"Agent Smith shoots the helicopter's hydraulic line.Unable to control the helicopter, Trinity miraculously gets it close \"\n",
      "              'enough to drop Morpheus and Neo on a rooftop. Neo grabs the safety line as the helicopter falls towards a building. Trinity '\n",
      "              'severs the safety line connecting Neo to the helicopter and jumps on it herself as the vehicle smashes into the side of a '\n",
      "              'building, causing a bizarre ripple in the fabric of the building\\'s reality as it does.On the ship Tank says, \"I knew it; '\n",
      "              'he\\'s the One.\"Neo hauls Trinity up to them. \"Do you believe it now, Trinity?\" asks Morpheus as he approaches the two. Neo '\n",
      "              'tries to tell him that the Oracle told him the opposite but Morpheus says, \"She told you exactly what you needed to hear.\" '\n",
      "              'They call Tank, who tells them of an exit in a subway near them.The Agents arrive on the rooftop but find only the safety '\n",
      "              'harness and line. Though Agent Smith is angered, the other two are satisfied. A trace has been completed in the real world '\n",
      "              'and the Sentinels have been dispatched to attack the Nebuchadnezzar.In the subway, they quickly find the phone booth and '\n",
      "              'Morpheus exits out of the Matrix. A wino watches this occur. On the rooftop Agent Smith locks in to their whereabouts '\n",
      "              \"through the wino and appropriates his body.Meanwhile, as the phone rings, providing Trinity's exit, she confides to Neo \"\n",
      "              \"that everything that the Oracle has told her has come true, except for one thing. She doesn't say what that thing is and \"\n",
      "              \"picks up the phone just as she sees the approaching Agent Smith. Smith shatters the ear piece of the phone; it's impossible \"\n",
      "              'for Neo to exit there now.Instead of running, which Trinity implores him to do as she looks on from the ship, Neo turns to '\n",
      "              'face Smith. They empty their guns on each other, neither hitting the other. They then move into close combat, trading '\n",
      "              'blows. Neo sweeps Agent Smith\\'s head, breaking his glasses. \"I\\'m going to enjoy watching you die, Mr. Anderson,\" says '\n",
      "              'Smith. They trade some thunderous blows with Smith hitting Neo so hard he spits up blood in the Matrix and in the chair '\n",
      "              'aboard the ship.\"He\\'s killing him,\" says Trinity.Neo gets back up, sets himself and beckons Smith to start again. This '\n",
      "              \"time it's Neo who delivers devastating blow after blow. But Smith counters, throwing Neo into a wall then pummeling him \"\n",
      "              'with body blows. A wind from the tunnel signals that a subway train is approaching and Smith has a wicked notion. He throws '\n",
      "              'Neo into the subway tracks then drops down there himself. He puts Neo in a headlock and, in the glow of the oncoming subway '\n",
      "              'says, \"You hear that, Mr. Anderson? That is the sound of inevitability. It is the sound of your death. Good-bye, Mr. '\n",
      "              'Anderson.\"\"My name,\" he replies, \"is Neo.\" Then, with a mighty leap, Neo propels them to the ceiling of the tunnel. They '\n",
      "              'fall back down and Neo backflips off the tracks, leaving Agent Smith to the oncoming train.Neo heads for the stairs, but '\n",
      "              'Smith has already appropriated another body and emerges from the doors of the train.Meanwhile the Sentinels have arrived to '\n",
      "              'attack the Nebuchadnezzar; there are five of them and they are closing fast.Morpheus tells Tank to charge the EMP. Trinity '\n",
      "              'reminds Morpheus that they can\\'t use the EMP while Neo is in the Matrix.\"I know, Trinity, don\\'t worry,\" says Morpheus, '\n",
      "              '\"He\\'s going to make it.\"Back in the streets of the Matrix, Neo swipes a cell phone from a nearby suit. He calls Tank: \"Mr. '\n",
      "              'Wizard, get me the hell out of here.\" He races through a crowded market while Agents appropriate bodies right and left. '\n",
      "              'They force Neo down a dark alley. He kicks in a door and rushes through an apartment complex where the Agents appropriate '\n",
      "              'more bodies, including that of a sweet little old lady who throws a knife at Neo as Agent Smith. Neo leaps down into a pile '\n",
      "              'of garbage with the Agents in hot pursuit.On the Nebuchadnezzar the Sentinels have arrived. They begin to tear the ship '\n",
      "              \"apart.In the Matrix, Neo arrives back at the Heart O' the City Hotel. Tank tells him to go to room 303. The Agents are \"\n",
      "              \"literally at his heels.The Sentinels breach the hull of the ship. They are inside. Trinity, standing next to Neo's body in \"\n",
      "              \"the chair, begs him to hurry.Neo reaches room 303 and enters. He's immediately shot, point blank in the gut, by Agent \"\n",
      "              \"Smith. Smith empties his magazine into Neo's body. Neo slumps to the floor, dead.On the ship Neo's vital signs drop to \"\n",
      "              'nothing. \"It can\\'t be,\" says Morpheus.Agent Smith instructs the others to check Neo. \"He\\'s gone,\" one replies. \"Good-bye, '\n",
      "              'Mr. Anderson,\" says Smith.The Sentinels\\' lasers are beginning to cut through the major parts of the hovercraft. Trinity '\n",
      "              'leans over his dead body.\"Neo,\" she says, \"I\\'m not afraid anymore. The Oracle told me that I would fall in love and that '\n",
      "              \"that man... the man that I loved would be the One. So you see, you can't be dead. You can't be... because I love you. You \"\n",
      "              'hear me? I love you.\" She kisses him. In the chair Neo suddenly breathes. In the Matrix, Neo opens his eyes. \"Now get up,\" '\n",
      "              'orders Trinity.The Agents hear Neo rise behind them and they open fire. \"No,\" Neo says calmly, raising his hands. He stops '\n",
      "              'their bullets in mid-air. They drop harmlessly to the floor.\"What\\'s happening?\" asks Tank. \"He is the One,\" says '\n",
      "              'Morpheus.Back in the Matrix, Neo can see things for what they really are, green cascading code.Agent Smith is furious. He '\n",
      "              \"runs to Neo and attacks him. Neo blocks Smith's blows effortlessly before he sends Smith flying with one well-placed kick. \"\n",
      "              \"Neo then leaps into Smith's body and appropriates him. Smith's shell explodes in a sea of code and Neo is all that is left, \"\n",
      "              'the walls buckling in waves as they did when the helicopter crashed. Agents Brown and Jones look at one another and run '\n",
      "              'away.The Sentinels are now fully in the ship. They are right above Trinity and Morpheus.Back in the Matrix Neo sprints to '\n",
      "              'the ringing phone in the room.Morpheus has no choice but to engage the EMP. He does and the Sentinels fall inert to the '\n",
      "              'floor.Neo has made it back. He kisses Trinity.The screen is black. A command prompt appears: \"Call trans opt: received. '\n",
      "              '9-18-99 14:32:21 REC: Log>\" then \"Carrier anomaly\" \"Trace program: running\" As the grid of numbers appears again a warning '\n",
      "              'appears \"System Failure.\" Over it all is Neo\\'s voice:\"I know you\\'re out there. I can feel you now. I know that you\\'re '\n",
      "              \"afraid... you're afraid of us. You're afraid of change. I don't know the future. I didn't come here to tell you how this is \"\n",
      "              \"going to end. I came here to tell you how it's going to begin. I'm going to hang up this phone, and then I'm going to show \"\n",
      "              \"these people what you don't want them to see. I'm going to show them a world without you. A world without rules and \"\n",
      "              'controls, without borders or boundaries. A world where anything is possible. Where we go from there is a choice I leave to '\n",
      "              'you.\"In the Matrix world, Neo hangs up the phone. He looks at the mindless masses around him, puts on his glasses and then '\n",
      "              'looks up. From high above the city we see him take flight. The story is picked up in The Matrix Reloaded (2003), the second '\n",
      "              'of three Matrix movies.'],\n",
      " 'title': 'The Matrix',\n",
      " 'top 250 rank': 16,\n",
      " 'transportation department': [<Person id:0019956[http] name:_John Allan_>, <Person id:0686043[http] name:_Tapio Piitulainen_>,\n",
      "                               <Person id:0114202[http] name:_Mark Brown_>],\n",
      " 'visual effects': [<Person id:0020636[http] name:_Jeff Allen_>, <Person id:0035654[http] name:_Charlie Armstrong_>,\n",
      "                    <Person id:0037722[http] name:_Al Arthur_>, <Person id:0056241[http] name:_Gil Baron_>,\n",
      "                    <Person id:0063537[http] name:_Jeremy Beadell_>, <Person id:0075486[http] name:_Roy Berkowitz_>,\n",
      "                    <Person id:0089758[http] name:_Maureen Blume_>, <Person id:0097474[http] name:_George Borshukov_>,\n",
      "                    <Person id:0107738[http] name:_John Breslin_>, <Person id:0073903[http] name:_Steve Burg_>,\n",
      "                    <Person id:0122786[http] name:_Mark Burns_>, <Person id:0135570[http] name:_Allen Cappuccilli_>,\n",
      "                    <Person id:0137698[http] name:_Elizabeth Carlon_>, <Person id:0142188[http] name:_Lynne Cartwright_>,\n",
      "                    <Person id:0147027[http] name:_Robin Cave_>, <Person id:0172957[http] name:_Daniele Colajacomo_>,\n",
      "                    <Person id:0184800[http] name:_J.D. Cowles_>, <Person id:0188963[http] name:_Tim Crosbie_>,\n",
      "                    <Person id:0189346[http] name:_Kate Crossley_>, <Person id:2089433[http] name:_Charles Darby_>,\n",
      "                    <Person id:0202828[http] name:_Art David_>, <Person id:0204004[http] name:_Tom Davies_>,\n",
      "                    <Person id:0218363[http] name:_Steve Demers_>, <Person id:0236473[http] name:_Peter Doyle_>,\n",
      "                    <Person id:0241271[http] name:_David Dulac_>, <Person id:0263523[http] name:_Grant Everett_>,\n",
      "                    <Person id:0004589[http] name:_Matt Farell_>, <Person id:0274993[http] name:_Matthew Ferro_>,\n",
      "                    <Person id:0281363[http] name:_Lindsay Fleay_>, <Person id:0289203[http] name:_Rebecca Fox_>,\n",
      "                    <Person id:0300665[http] name:_John Gaeta_>, <Person id:0320431[http] name:_Diana Giorgiutti_>,\n",
      "                    <Person id:0325302[http] name:_Sally Goldberg_>, <Person id:0340647[http] name:_Nico Grey_>,\n",
      "                    <Person id:0348332[http] name:_Ben Gunsberger_>, <Person id:0359886[http] name:_Laura Hanigan_>,\n",
      "                    <Person id:0367222[http] name:_Brent Hartshorn_>, <Person id:0368808[http] name:_Naomi Hatchman_>,\n",
      "                    <Person id:0376188[http] name:_Michael Hemschoot_>, <Person id:0377522[http] name:_Charles Henrich_>,\n",
      "                    <Person id:0388340[http] name:_David Hodson_>, <Person id:0412610[http] name:_Rodney Iwashina_>,\n",
      "                    <Person id:0425323[http] name:_Jay Mark Johnson_>, <Person id:0430068[http] name:_Krista Jordan_>,\n",
      "                    <Person id:0459196[http] name:_Daniel Klem_>, <Person id:0466876[http] name:_Ivo Kos_>,\n",
      "                    <Person id:0482913[http] name:_Alisoun F. Lamb_>, <Person id:0491370[http] name:_Maryanne Lauric_>,\n",
      "                    <Person id:0497562[http] name:_John Lee_>, <Person id:0500741[http] name:_Mary Leitz_>,\n",
      "                    <Person id:0508912[http] name:_Kim Libreri_>, <Person id:0514727[http] name:_Joseph Littlejohn_>,\n",
      "                    <Person id:0519458[http] name:_Sophia S. Longoria_>, <Person id:0526765[http] name:_Stephen Lunn_>,\n",
      "                    <Person id:0536586[http] name:_Jane Maguire_>, <Person id:0548217[http] name:_Anthony Mark Viverito_>,\n",
      "                    <Person id:0550978[http] name:_Justen Marshall_>, <Person id:0552594[http] name:_Justin Martin_>,\n",
      "                    <Person id:0564203[http] name:_Alaric McAusland_>, <Person id:0002937[http] name:_Adam McCulloch_>,\n",
      "                    <Person id:0570087[http] name:_Ian McGuffie_>, <Person id:0573956[http] name:_Michael McNeill_>,\n",
      "                    <Person id:0580154[http] name:_Elizabeth Mercado_>, <Person id:0587676[http] name:_Kirsty Millar_>,\n",
      "                    <Person id:0587800[http] name:_Jane Milledge_>, <Person id:0594628[http] name:_Noah Mizrahi_>,\n",
      "                    <Person id:0607064[http] name:_Amanda Morrison_>, <Person id:0620502[http] name:_Zareh Nalbandian_>,\n",
      "                    <Person id:0626729[http] name:_Mark Nettleton_>, <Person id:0631248[http] name:_Grant Niesner_>,\n",
      "                    <Person id:0637801[http] name:_John P. Nugent_>, <Person id:0638077[http] name:_Rob Nunn_>,\n",
      "                    <Person id:0662207[http] name:_Dominic Parker_>, <Person id:0678780[http] name:_Devorah Petty_>,\n",
      "                    <Person id:0682633[http] name:_Gerard Benjamin Pierre_>, <Person id:0683410[http] name:_Jamie Pilgrim_>,\n",
      "                    <Person id:0685004[http] name:_Dan Piponi_>, <Person id:0687796[http] name:_Rudy Poat_>,\n",
      "                    <Person id:0692049[http] name:_Brion Porter_>, <Person id:0698421[http] name:_Thomas Proctor_>,\n",
      "                    <Person id:0703756[http] name:_Andrew Quinn_>, <Person id:0705360[http] name:_Holly Radcliffe_>,\n",
      "                    <Person id:0733445[http] name:_Barnaby Robson_>, <Person id:0741946[http] name:_Daniel P. Rosen_>,\n",
      "                    <Person id:0752778[http] name:_Paul Ryan_>, <Person id:0765786[http] name:_John E. Sasaki_>,\n",
      "                    <Person id:0773700[http] name:_Andrew Schneider_>, <Person id:0793756[http] name:_Greg Shimp_>,\n",
      "                    <Person id:0796969[http] name:_Lewis Siegel_>, <Person id:0802938[http] name:_Janek Sirrs_>,\n",
      "                    <Person id:0832405[http] name:_Stan Storc_>, <Person id:0839390[http] name:_Daniel Sunwoo_>,\n",
      "                    <Person id:0840387[http] name:_Rangi Sutton_>, <Person id:0846581[http] name:_Paul Taglianetti_>,\n",
      "                    <Person id:0853737[http] name:_Natacha Tedeschi_>, <Person id:0858722[http] name:_Deborah Thomas_>,\n",
      "                    <Person id:0862039[http] name:_Jon Thum_>, <Person id:0864373[http] name:_John Tissavary_>,\n",
      "                    <Person id:1372317[http] name:_Victor E. Vaile IV_>, <Person id:0897312[http] name:_Enrique Vila_>,\n",
      "                    <Person id:0901656[http] name:_John Volny_>, <Person id:0910090[http] name:_Mary E. Walter_>,\n",
      "                    <Person id:0912041[http] name:_Jason Wardle_>, <Person id:0915916[http] name:_Martin Weaver_>,\n",
      "                    <Person id:0006356[http] name:_Mark H. Weingartner_>, <Person id:0925443[http] name:_Sean White_>,\n",
      "                    <Person id:0925551[http] name:_Vanessa White_>, <Person id:0946404[http] name:_Jeremy Yabrow_>,\n",
      "                    <Person id:0039033[http] name:_Carol Ashley_>, <Person id:0064119[http] name:_Warren Beaton_>,\n",
      "                    <Person id:0112172[http] name:_Nicholas Brooks_>, <Person id:0120984[http] name:_Justin Burdine_>,\n",
      "                    <Person id:0157654[http] name:_Fiona Chilton_>, <Person id:1039732[http] name:_Fiona Crawford_>,\n",
      "                    <Person id:0261600[http] name:_Kent Estep_>, <Person id:1977822[http] name:_Mark Fletcher_>,\n",
      "                    <Person id:0296486[http] name:_Derry Frost_>, <Person id:1696978[http] name:_Andy Gates_>,\n",
      "                    <Person id:1629470[http] name:_Edwina Hayes_>, <Person id:0421610[http] name:_Merrin Jensen_>,\n",
      "                    <Person id:0423109[http] name:_Karen Jine_>, <Person id:0452270[http] name:_Richard Kidd_>,\n",
      "                    <Person id:1109940[http] name:_Ken Locsmandi_>, <Person id:0544602[http] name:_Michele Maples_>,\n",
      "                    <Person id:0573783[http] name:_Brandon McNaughton_>, <Person id:0003824[http] name:_Karen M. Murphy_>,\n",
      "                    <Person id:1090822[http] name:_Jeremy Oddo_>, <Person id:0661920[http] name:_Rod Park_>,\n",
      "                    <Person id:1945614[http] name:_Valeri Pfahning_>, <Person id:2276823[http] name:_Simon Quach_>,\n",
      "                    <Person id:0003351[http] name:_Declan Quinn_>, <Person id:1082229[http] name:_Ellen Roelvink_>,\n",
      "                    <Person id:1949301[http] name:_Glen Sharah_>, <Person id:0794652[http] name:_Mark Shoaf_>,\n",
      "                    <Person id:0842669[http] name:_Chris Swinbanks_>, <Person id:0922348[http] name:_Sly West_>,\n",
      "                    <Person id:1071085[http] name:_Eric Wilson_>],\n",
      " 'votes': 1755777,\n",
      " 'writer': [<Person id:0905152[http] name:_Lilly Wachowski_>, <Person id:0905154[http] name:_Lana Wachowski_>],\n",
      " 'writers': [<Person id:0905152[http] name:_Lilly Wachowski_>, <Person id:0905154[http] name:_Lana Wachowski_>],\n",
      " 'year': 1999}\n"
     ]
    }
   ],
   "source": [
    "pprint(movie.data, width = 140, compact = True)"
   ]
  },
  {
   "cell_type": "code",
   "execution_count": 21,
   "metadata": {},
   "outputs": [
    {
     "data": {
      "text/plain": [
       "['Lilly Wachowski', 'Lana Wachowski']"
      ]
     },
     "execution_count": 21,
     "metadata": {},
     "output_type": "execute_result"
    }
   ],
   "source": [
    "writers = [x['name'] for x in movie['writers']]\n",
    "writers"
   ]
  },
  {
   "cell_type": "code",
   "execution_count": 22,
   "metadata": {},
   "outputs": [
    {
     "data": {
      "text/plain": [
       "['Bruce Berman',\n",
       " 'Dan Cracchiolo',\n",
       " 'Carol Hughes',\n",
       " 'Andrew Mason',\n",
       " 'Richard Mirisch',\n",
       " 'Barrie M. Osborne',\n",
       " 'Joel Silver',\n",
       " 'Erwin Stoff',\n",
       " 'Lana Wachowski',\n",
       " 'Lilly Wachowski']"
      ]
     },
     "execution_count": 22,
     "metadata": {},
     "output_type": "execute_result"
    }
   ],
   "source": [
    "producers = [x['name'] for x in movie['producers']]\n",
    "producers"
   ]
  },
  {
   "cell_type": "code",
   "execution_count": 23,
   "metadata": {},
   "outputs": [
    {
     "data": {
      "text/plain": [
       "['Jeff Allen',\n",
       " 'Charlie Armstrong',\n",
       " 'Al Arthur',\n",
       " 'Gil Baron',\n",
       " 'Jeremy Beadell',\n",
       " 'Roy Berkowitz',\n",
       " 'Maureen Blume',\n",
       " 'George Borshukov',\n",
       " 'John Breslin',\n",
       " 'Steve Burg',\n",
       " 'Mark Burns',\n",
       " 'Allen Cappuccilli',\n",
       " 'Elizabeth Carlon',\n",
       " 'Lynne Cartwright',\n",
       " 'Robin Cave',\n",
       " 'Daniele Colajacomo',\n",
       " 'J.D. Cowles',\n",
       " 'Tim Crosbie',\n",
       " 'Kate Crossley',\n",
       " 'Charles Darby',\n",
       " 'Art David',\n",
       " 'Tom Davies',\n",
       " 'Steve Demers',\n",
       " 'Peter Doyle',\n",
       " 'David Dulac',\n",
       " 'Grant Everett',\n",
       " 'Matt Farell',\n",
       " 'Matthew Ferro',\n",
       " 'Lindsay Fleay',\n",
       " 'Rebecca Fox',\n",
       " 'John Gaeta',\n",
       " 'Diana Giorgiutti',\n",
       " 'Sally Goldberg',\n",
       " 'Nico Grey',\n",
       " 'Ben Gunsberger',\n",
       " 'Laura Hanigan',\n",
       " 'Brent Hartshorn',\n",
       " 'Naomi Hatchman',\n",
       " 'Michael Hemschoot',\n",
       " 'Charles Henrich',\n",
       " 'David Hodson',\n",
       " 'Rodney Iwashina',\n",
       " 'Jay Mark Johnson',\n",
       " 'Krista Jordan',\n",
       " 'Daniel Klem',\n",
       " 'Ivo Kos',\n",
       " 'Alisoun F. Lamb',\n",
       " 'Maryanne Lauric',\n",
       " 'John Lee',\n",
       " 'Mary Leitz',\n",
       " 'Kim Libreri',\n",
       " 'Joseph Littlejohn',\n",
       " 'Sophia S. Longoria',\n",
       " 'Stephen Lunn',\n",
       " 'Jane Maguire',\n",
       " 'Anthony Mark Viverito',\n",
       " 'Justen Marshall',\n",
       " 'Justin Martin',\n",
       " 'Alaric McAusland',\n",
       " 'Adam McCulloch',\n",
       " 'Ian McGuffie',\n",
       " 'Michael McNeill',\n",
       " 'Elizabeth Mercado',\n",
       " 'Kirsty Millar',\n",
       " 'Jane Milledge',\n",
       " 'Noah Mizrahi',\n",
       " 'Amanda Morrison',\n",
       " 'Zareh Nalbandian',\n",
       " 'Mark Nettleton',\n",
       " 'Grant Niesner',\n",
       " 'John P. Nugent',\n",
       " 'Rob Nunn',\n",
       " 'Dominic Parker',\n",
       " 'Devorah Petty',\n",
       " 'Gerard Benjamin Pierre',\n",
       " 'Jamie Pilgrim',\n",
       " 'Dan Piponi',\n",
       " 'Rudy Poat',\n",
       " 'Brion Porter',\n",
       " 'Thomas Proctor',\n",
       " 'Andrew Quinn',\n",
       " 'Holly Radcliffe',\n",
       " 'Barnaby Robson',\n",
       " 'Daniel P. Rosen',\n",
       " 'Paul Ryan',\n",
       " 'John E. Sasaki',\n",
       " 'Andrew Schneider',\n",
       " 'Greg Shimp',\n",
       " 'Lewis Siegel',\n",
       " 'Janek Sirrs',\n",
       " 'Stan Storc',\n",
       " 'Daniel Sunwoo',\n",
       " 'Rangi Sutton',\n",
       " 'Paul Taglianetti',\n",
       " 'Natacha Tedeschi',\n",
       " 'Deborah Thomas',\n",
       " 'Jon Thum',\n",
       " 'John Tissavary',\n",
       " 'Victor E. Vaile IV',\n",
       " 'Enrique Vila',\n",
       " 'John Volny',\n",
       " 'Mary E. Walter',\n",
       " 'Jason Wardle',\n",
       " 'Martin Weaver',\n",
       " 'Mark H. Weingartner',\n",
       " 'Sean White',\n",
       " 'Vanessa White',\n",
       " 'Jeremy Yabrow',\n",
       " 'Carol Ashley',\n",
       " 'Warren Beaton',\n",
       " 'Nicholas Brooks',\n",
       " 'Justin Burdine',\n",
       " 'Fiona Chilton',\n",
       " 'Fiona Crawford',\n",
       " 'Kent Estep',\n",
       " 'Mark Fletcher',\n",
       " 'Derry Frost',\n",
       " 'Andy Gates',\n",
       " 'Edwina Hayes',\n",
       " 'Merrin Jensen',\n",
       " 'Karen Jine',\n",
       " 'Richard Kidd',\n",
       " 'Ken Locsmandi',\n",
       " 'Michele Maples',\n",
       " 'Brandon McNaughton',\n",
       " 'Karen M. Murphy',\n",
       " 'Jeremy Oddo',\n",
       " 'Rod Park',\n",
       " 'Valeri Pfahning',\n",
       " 'Simon Quach',\n",
       " 'Declan Quinn',\n",
       " 'Ellen Roelvink',\n",
       " 'Glen Sharah',\n",
       " 'Mark Shoaf',\n",
       " 'Chris Swinbanks',\n",
       " 'Sly West',\n",
       " 'Eric Wilson']"
      ]
     },
     "execution_count": 23,
     "metadata": {},
     "output_type": "execute_result"
    }
   ],
   "source": [
    "vis = [x['name'] for x in movie['visual effects']]\n",
    "vis"
   ]
  },
  {
   "cell_type": "markdown",
   "metadata": {},
   "source": [
    "### How to store this kind of data\n",
    "- text or xml (under 10,000 observations)\n",
    "- binary (under 1000,000 observations)\n",
    "- sql\n",
    "- nosql"
   ]
  },
  {
   "cell_type": "code",
   "execution_count": 24,
   "metadata": {},
   "outputs": [
    {
     "ename": "NameError",
     "evalue": "name 'my_movie' is not defined",
     "output_type": "error",
     "traceback": [
      "\u001b[0;31m---------------------------------------------------------------------------\u001b[0m",
      "\u001b[0;31mNameError\u001b[0m                                 Traceback (most recent call last)",
      "\u001b[0;32m<ipython-input-24-eabb3a73d8e6>\u001b[0m in \u001b[0;36m<module>\u001b[0;34m\u001b[0m\n\u001b[1;32m      3\u001b[0m \u001b[0mmy_json\u001b[0m \u001b[0;34m=\u001b[0m \u001b[0;34m{\u001b[0m\u001b[0;34m}\u001b[0m\u001b[0;34m\u001b[0m\u001b[0;34m\u001b[0m\u001b[0m\n\u001b[1;32m      4\u001b[0m \u001b[0;34m\u001b[0m\u001b[0m\n\u001b[0;32m----> 5\u001b[0;31m \u001b[0mmy_json\u001b[0m\u001b[0;34m[\u001b[0m\u001b[0;34m'original title'\u001b[0m\u001b[0;34m]\u001b[0m \u001b[0;34m=\u001b[0m \u001b[0mmy_movie\u001b[0m\u001b[0;34m[\u001b[0m\u001b[0;34m'original title'\u001b[0m\u001b[0;34m]\u001b[0m\u001b[0;34m\u001b[0m\u001b[0;34m\u001b[0m\u001b[0m\n\u001b[0m\u001b[1;32m      6\u001b[0m \u001b[0;34m\u001b[0m\u001b[0m\n\u001b[1;32m      7\u001b[0m \u001b[0mmy_json\u001b[0m\u001b[0;34m[\u001b[0m\u001b[0;34m'directors'\u001b[0m\u001b[0;34m]\u001b[0m\u001b[0;34m=\u001b[0m\u001b[0;34m[\u001b[0m\u001b[0;34m]\u001b[0m\u001b[0;34m\u001b[0m\u001b[0;34m\u001b[0m\u001b[0m\n",
      "\u001b[0;31mNameError\u001b[0m: name 'my_movie' is not defined"
     ]
    }
   ],
   "source": [
    "from pprint import pprint\n",
    "\n",
    "my_json = {}\n",
    "\n",
    "my_json['original title'] = my_movie['original title']\n",
    "\n",
    "my_json['directors']=[]\n",
    "for director in my_movie['directors']:\n",
    "    my_json['directors'].append(director['name'])\n",
    "    \n",
    "my_json['genres']=[]\n",
    "for genre in my_movie['genres']:\n",
    "    my_json['genres'].append(genre)\n",
    "    \n",
    "my_json['cast']=[]\n",
    "for actor in my_movie['cast']:\n",
    "    my_json['cast'].append({'name':actor['name'], 'long imdb name':actor['long imdb name']})\n",
    "    \n",
    "pprint(my_json)"
   ]
  },
  {
   "cell_type": "code",
   "execution_count": 109,
   "metadata": {},
   "outputs": [
    {
     "name": "stdout",
     "output_type": "stream",
     "text": [
      "{\"original title\": \"\\u041c\\u0430\\u0442\\u0440\\u0438\\u0446\\u0430 (1999)\", \"directors\": [\"Lana Wachowski\", \"Lilly Wachowski\"], \"genres\": [\"Action\", \"Sci-Fi\"], \"cast\": [{\"name\": \"Keanu Reeves\", \"long imdb name\": \"Keanu Reeves\"}, {\"name\": \"Laurence Fishburne\", \"long imdb name\": \"Laurence Fishburne\"}, {\"name\": \"Carrie-Anne Moss\", \"long imdb name\": \"Carrie-Anne Moss\"}, {\"name\": \"Hugo Weaving\", \"long imdb name\": \"Hugo Weaving\"}, {\"name\": \"Gloria Foster\", \"long imdb name\": \"Gloria Foster\"}, {\"name\": \"Joe Pantoliano\", \"long imdb name\": \"Joe Pantoliano\"}, {\"name\": \"Marcus Chong\", \"long imdb name\": \"Marcus Chong\"}, {\"name\": \"Julian Arahanga\", \"long imdb name\": \"Julian Arahanga\"}, {\"name\": \"Matt Doran\", \"long imdb name\": \"Matt Doran\"}, {\"name\": \"Belinda McClory\", \"long imdb name\": \"Belinda McClory\"}, {\"name\": \"Anthony Ray Parker\", \"long imdb name\": \"Anthony Ray Parker\"}, {\"name\": \"Paul Goddard\", \"long imdb name\": \"Paul Goddard\"}, {\"name\": \"Robert Taylor\", \"long imdb name\": \"Robert Taylor\"}, {\"name\": \"David Aston\", \"long imdb name\": \"David Aston\"}, {\"name\": \"Marc Aden Gray\", \"long imdb name\": \"Marc Aden Gray\"}, {\"name\": \"Ada Nicodemou\", \"long imdb name\": \"Ada Nicodemou\"}, {\"name\": \"Deni Gordon\", \"long imdb name\": \"Deni Gordon\"}, {\"name\": \"Rowan Witt\", \"long imdb name\": \"Rowan Witt\"}, {\"name\": \"Eleanor Witt\", \"long imdb name\": \"Eleanor Witt\"}, {\"name\": \"Tamara Brown\", \"long imdb name\": \"Tamara Brown\"}, {\"name\": \"Janaya Pender\", \"long imdb name\": \"Janaya Pender\"}, {\"name\": \"Adryn White\", \"long imdb name\": \"Adryn White\"}, {\"name\": \"Natalie Tjen\", \"long imdb name\": \"Natalie Tjen\"}, {\"name\": \"Bill Young\", \"long imdb name\": \"Bill Young\"}, {\"name\": \"David O'Connor\", \"long imdb name\": \"David O'Connor\"}, {\"name\": \"Jeremy Ball\", \"long imdb name\": \"Jeremy Ball\"}, {\"name\": \"Fiona Johnson\", \"long imdb name\": \"Fiona Johnson\"}, {\"name\": \"Harry Lawrence\", \"long imdb name\": \"Harry Lawrence\"}, {\"name\": \"Steve Dodd\", \"long imdb name\": \"Steve Dodd\"}, {\"name\": \"Luke Quinton\", \"long imdb name\": \"Luke Quinton\"}, {\"name\": \"Lawrence Woodward\", \"long imdb name\": \"Lawrence Woodward\"}, {\"name\": \"Michael Butcher\", \"long imdb name\": \"Michael Butcher\"}, {\"name\": \"Bernard Ledger\", \"long imdb name\": \"Bernard Ledger\"}, {\"name\": \"Robert Simper\", \"long imdb name\": \"Robert Simper\"}, {\"name\": \"Chris Pattinson\", \"long imdb name\": \"Chris Pattinson\"}, {\"name\": \"Nigel Harbach\", \"long imdb name\": \"Nigel Harbach\"}, {\"name\": \"Mike Duncan\", \"long imdb name\": \"Mike Duncan\"}, {\"name\": \"Nash Edgerton\", \"long imdb name\": \"Nash Edgerton\"}, {\"name\": \"Rana Morrison\", \"long imdb name\": \"Rana Morrison\"}, {\"name\": \"Steve Rutherford\", \"long imdb name\": \"Steve Rutherford\"}, {\"name\": \"Cody Zacharias\", \"long imdb name\": \"Cody Zacharias\"}]}\n"
     ]
    }
   ],
   "source": [
    "import json\n",
    "\n",
    "with open('sample_1.json', 'w') as file:\n",
    "    file.write(json.dumps(my_json))\n",
    "    \n",
    "print(json.dumps(my_json))\n",
    "    \n",
    "with open('sample_1.json', 'r') as file:\n",
    "    new_json = json.loads(file.read())"
   ]
  },
  {
   "cell_type": "code",
   "execution_count": 110,
   "metadata": {},
   "outputs": [
    {
     "name": "stdout",
     "output_type": "stream",
     "text": [
      "b'\\x80\\x03}q\\x00(X\\x0e\\x00\\x00\\x00original titleq\\x01X\\x15\\x00\\x00\\x00\\xd0\\x9c\\xd0\\xb0\\xd1\\x82\\xd1\\x80\\xd0\\xb8\\xd1\\x86\\xd0\\xb0 (1999)q\\x02X\\t\\x00\\x00\\x00directorsq\\x03]q\\x04(X\\x0e\\x00\\x00\\x00Lana Wachowskiq\\x05X\\x0f\\x00\\x00\\x00Lilly Wachowskiq\\x06eX\\x06\\x00\\x00\\x00genresq\\x07]q\\x08(X\\x06\\x00\\x00\\x00Actionq\\tX\\x06\\x00\\x00\\x00Sci-Fiq\\neX\\x04\\x00\\x00\\x00castq\\x0b]q\\x0c(}q\\r(X\\x04\\x00\\x00\\x00nameq\\x0eX\\x0c\\x00\\x00\\x00Keanu Reevesq\\x0fX\\x0e\\x00\\x00\\x00long imdb nameq\\x10h\\x0fu}q\\x11(h\\x0eX\\x12\\x00\\x00\\x00Laurence Fishburneq\\x12h\\x10h\\x12u}q\\x13(h\\x0eX\\x10\\x00\\x00\\x00Carrie-Anne Mossq\\x14h\\x10h\\x14u}q\\x15(h\\x0eX\\x0c\\x00\\x00\\x00Hugo Weavingq\\x16h\\x10h\\x16u}q\\x17(h\\x0eX\\r\\x00\\x00\\x00Gloria Fosterq\\x18h\\x10h\\x18u}q\\x19(h\\x0eX\\x0e\\x00\\x00\\x00Joe Pantolianoq\\x1ah\\x10h\\x1au}q\\x1b(h\\x0eX\\x0c\\x00\\x00\\x00Marcus Chongq\\x1ch\\x10h\\x1cu}q\\x1d(h\\x0eX\\x0f\\x00\\x00\\x00Julian Arahangaq\\x1eh\\x10h\\x1eu}q\\x1f(h\\x0eX\\n\\x00\\x00\\x00Matt Doranq h\\x10h u}q!(h\\x0eX\\x0f\\x00\\x00\\x00Belinda McCloryq\"h\\x10h\"u}q#(h\\x0eX\\x12\\x00\\x00\\x00Anthony Ray Parkerq$h\\x10h$u}q%(h\\x0eX\\x0c\\x00\\x00\\x00Paul Goddardq&h\\x10h&u}q\\'(h\\x0eX\\r\\x00\\x00\\x00Robert Taylorq(h\\x10h(u}q)(h\\x0eX\\x0b\\x00\\x00\\x00David Astonq*h\\x10h*u}q+(h\\x0eX\\x0e\\x00\\x00\\x00Marc Aden Grayq,h\\x10h,u}q-(h\\x0eX\\r\\x00\\x00\\x00Ada Nicodemouq.h\\x10h.u}q/(h\\x0eX\\x0b\\x00\\x00\\x00Deni Gordonq0h\\x10h0u}q1(h\\x0eX\\n\\x00\\x00\\x00Rowan Wittq2h\\x10h2u}q3(h\\x0eX\\x0c\\x00\\x00\\x00Eleanor Wittq4h\\x10h4u}q5(h\\x0eX\\x0c\\x00\\x00\\x00Tamara Brownq6h\\x10h6u}q7(h\\x0eX\\r\\x00\\x00\\x00Janaya Penderq8h\\x10h8u}q9(h\\x0eX\\x0b\\x00\\x00\\x00Adryn Whiteq:h\\x10h:u}q;(h\\x0eX\\x0c\\x00\\x00\\x00Natalie Tjenq<h\\x10h<u}q=(h\\x0eX\\n\\x00\\x00\\x00Bill Youngq>h\\x10h>u}q?(h\\x0eX\\x0e\\x00\\x00\\x00David O\\'Connorq@h\\x10h@u}qA(h\\x0eX\\x0b\\x00\\x00\\x00Jeremy BallqBh\\x10hBu}qC(h\\x0eX\\r\\x00\\x00\\x00Fiona JohnsonqDh\\x10hDu}qE(h\\x0eX\\x0e\\x00\\x00\\x00Harry LawrenceqFh\\x10hFu}qG(h\\x0eX\\n\\x00\\x00\\x00Steve DoddqHh\\x10hHu}qI(h\\x0eX\\x0c\\x00\\x00\\x00Luke QuintonqJh\\x10hJu}qK(h\\x0eX\\x11\\x00\\x00\\x00Lawrence WoodwardqLh\\x10hLu}qM(h\\x0eX\\x0f\\x00\\x00\\x00Michael ButcherqNh\\x10hNu}qO(h\\x0eX\\x0e\\x00\\x00\\x00Bernard LedgerqPh\\x10hPu}qQ(h\\x0eX\\r\\x00\\x00\\x00Robert SimperqRh\\x10hRu}qS(h\\x0eX\\x0f\\x00\\x00\\x00Chris PattinsonqTh\\x10hTu}qU(h\\x0eX\\r\\x00\\x00\\x00Nigel HarbachqVh\\x10hVu}qW(h\\x0eX\\x0b\\x00\\x00\\x00Mike DuncanqXh\\x10hXu}qY(h\\x0eX\\r\\x00\\x00\\x00Nash EdgertonqZh\\x10hZu}q[(h\\x0eX\\r\\x00\\x00\\x00Rana Morrisonq\\\\h\\x10h\\\\u}q](h\\x0eX\\x10\\x00\\x00\\x00Steve Rutherfordq^h\\x10h^u}q_(h\\x0eX\\x0e\\x00\\x00\\x00Cody Zachariasq`h\\x10h`ueu.'\n"
     ]
    }
   ],
   "source": [
    "import pickle\n",
    "\n",
    "with open('sample_1.pkl', 'wb') as file:\n",
    "    file.write(pickle.dumps(my_json))\n",
    "    \n",
    "print(pickle.dumps(my_json))\n",
    "    \n",
    "with open('sample_1.pkl', 'rb') as file:\n",
    "    new_json = pickle.loads(file.read())"
   ]
  },
  {
   "cell_type": "code",
   "execution_count": 116,
   "metadata": {},
   "outputs": [
    {
     "name": "stdout",
     "output_type": "stream",
     "text": [
      "4.0K\tLecture 0 online.ipynb\n",
      "192K\tLecture 0_1.ipynb\n",
      "124K\tLecture 0_2.ipynb\n",
      " 32K\tLecture 1_1.ipynb\n",
      " 24K\tLecture 1_2.ipynb\n",
      " 44K\tLecture 1_3.ipynb\n",
      "4.2M\tMamedli_lecture1.pptx\n",
      "605M\tdata.tsv\n",
      "8.0K\tsample_1.db\n",
      "4.0K\tsample_1.json\n",
      "4.0K\tsample_1.pkl\n"
     ]
    }
   ],
   "source": [
    "!du -sh *"
   ]
  },
  {
   "cell_type": "markdown",
   "metadata": {},
   "source": [
    "### what is sql\n",
    "SQL is like a dataframe but it does not have to fit into memory, queries are processed incrementally.\n",
    "\n",
    "the price for this is uglier interface through special queries like \"SELECT * from table\"\n",
    "\n",
    "for medium-size datasets (~10Gb fit on hard drive) I personally use **sqlite**"
   ]
  },
  {
   "cell_type": "code",
   "execution_count": 136,
   "metadata": {},
   "outputs": [],
   "source": [
    "import sqlite3"
   ]
  },
  {
   "cell_type": "code",
   "execution_count": 137,
   "metadata": {},
   "outputs": [],
   "source": [
    "conn = sqlite3.connect('sample_1.db')\n",
    "c = conn.cursor()\n",
    "\n",
    "c.execute(\"DROP TABLE IF EXISTS movies\")\n",
    "c.execute(\"CREATE TABLE movies (name text, directors text, cast text, genres text)\")\n",
    "\n",
    "c.execute(\"INSERT INTO movies VALUES ('Terminator','James Cameron',NULL,NULL)\")\n",
    "c.execute(\"INSERT INTO movies VALUES ('Елки',NULL,NULL,NULL)\")\n",
    "c.execute(\"INSERT INTO movies VALUES ('Матрица (1999)','Lana Wachowski & Lilly Wachowski','Action & Sci-Fi',NULL)\")\n",
    "\n",
    "conn.commit()\n",
    "conn.close()"
   ]
  },
  {
   "cell_type": "code",
   "execution_count": 138,
   "metadata": {},
   "outputs": [],
   "source": [
    "data = []"
   ]
  },
  {
   "cell_type": "code",
   "execution_count": 139,
   "metadata": {},
   "outputs": [],
   "source": [
    "conn = sqlite3.connect('sample_1.db')\n",
    "\n",
    "c = conn.cursor()\n",
    "c.execute(\"SELECT * from movies\")\n",
    "\n",
    "for f in c.fetchall():\n",
    "    data.append(f)\n",
    "\n",
    "conn.commit()\n",
    "conn.close()"
   ]
  },
  {
   "cell_type": "code",
   "execution_count": 140,
   "metadata": {},
   "outputs": [
    {
     "data": {
      "text/html": [
       "<div>\n",
       "<style scoped>\n",
       "    .dataframe tbody tr th:only-of-type {\n",
       "        vertical-align: middle;\n",
       "    }\n",
       "\n",
       "    .dataframe tbody tr th {\n",
       "        vertical-align: top;\n",
       "    }\n",
       "\n",
       "    .dataframe thead th {\n",
       "        text-align: right;\n",
       "    }\n",
       "</style>\n",
       "<table border=\"1\" class=\"dataframe\">\n",
       "  <thead>\n",
       "    <tr style=\"text-align: right;\">\n",
       "      <th></th>\n",
       "      <th>name</th>\n",
       "      <th>directors</th>\n",
       "      <th>cast</th>\n",
       "      <th>genres</th>\n",
       "    </tr>\n",
       "  </thead>\n",
       "  <tbody>\n",
       "    <tr>\n",
       "      <th>0</th>\n",
       "      <td>Terminator</td>\n",
       "      <td>James Cameron</td>\n",
       "      <td>None</td>\n",
       "      <td>None</td>\n",
       "    </tr>\n",
       "    <tr>\n",
       "      <th>1</th>\n",
       "      <td>Елки</td>\n",
       "      <td>None</td>\n",
       "      <td>None</td>\n",
       "      <td>None</td>\n",
       "    </tr>\n",
       "    <tr>\n",
       "      <th>2</th>\n",
       "      <td>Матрица (1999)</td>\n",
       "      <td>Lana Wachowski &amp; Lilly Wachowski</td>\n",
       "      <td>Action &amp; Sci-Fi</td>\n",
       "      <td>None</td>\n",
       "    </tr>\n",
       "  </tbody>\n",
       "</table>\n",
       "</div>"
      ],
      "text/plain": [
       "             name                         directors             cast genres\n",
       "0      Terminator                     James Cameron             None   None\n",
       "1            Елки                              None             None   None\n",
       "2  Матрица (1999)  Lana Wachowski & Lilly Wachowski  Action & Sci-Fi   None"
      ]
     },
     "execution_count": 140,
     "metadata": {},
     "output_type": "execute_result"
    }
   ],
   "source": [
    "pd.DataFrame(data, columns = ['name', 'directors', 'cast', 'genres'])"
   ]
  },
  {
   "cell_type": "markdown",
   "metadata": {},
   "source": [
    "### what is nosql"
   ]
  },
  {
   "cell_type": "code",
   "execution_count": 32,
   "metadata": {},
   "outputs": [
    {
     "name": "stdout",
     "output_type": "stream",
     "text": [
      "zsh:1: command not found: brew\r\n"
     ]
    }
   ],
   "source": [
    "!brew install mongodb-community@5.0"
   ]
  },
  {
   "cell_type": "code",
   "execution_count": 28,
   "metadata": {},
   "outputs": [
    {
     "name": "stdout",
     "output_type": "stream",
     "text": [
      "zsh:1: command not found: brew\r\n"
     ]
    }
   ],
   "source": [
    "!brew services start mongodb-community@5.0"
   ]
  },
  {
   "cell_type": "code",
   "execution_count": 174,
   "metadata": {},
   "outputs": [],
   "source": [
    "from pymongo import MongoClient\n",
    "client = MongoClient()"
   ]
  },
  {
   "cell_type": "code",
   "execution_count": 175,
   "metadata": {},
   "outputs": [
    {
     "data": {
      "text/plain": [
       "['admin', 'config', 'local']"
      ]
     },
     "execution_count": 175,
     "metadata": {},
     "output_type": "execute_result"
    }
   ],
   "source": [
    "client.drop_database('tutorial')\n",
    "client.list_database_names()"
   ]
  },
  {
   "cell_type": "code",
   "execution_count": 176,
   "metadata": {},
   "outputs": [
    {
     "data": {
      "text/plain": [
       "<pymongo.results.InsertOneResult object at 0x7fcbbc8e5460>"
      ]
     },
     "execution_count": 176,
     "metadata": {},
     "output_type": "execute_result"
    }
   ],
   "source": [
    "db = client['tutorial']\n",
    "collection = db['movies']\n",
    "collection.insert_one(my_json)"
   ]
  },
  {
   "cell_type": "code",
   "execution_count": 177,
   "metadata": {},
   "outputs": [],
   "source": [
    "result = client.tutorial.movies.find()"
   ]
  },
  {
   "cell_type": "code",
   "execution_count": 178,
   "metadata": {},
   "outputs": [
    {
     "data": {
      "text/plain": [
       "{'_id': ObjectId('61371d8ca85757636a7b04fe'), 'original title': 'Матрица (1999)', 'directors': ['Lana Wachowski', 'Lilly Wachowski'], 'genres': ['Action', 'Sci-Fi'], 'cast': [{'name': 'Keanu Reeves', 'long imdb name': 'Keanu Reeves'}, {'name': 'Laurence Fishburne', 'long imdb name': 'Laurence Fishburne'}, {'name': 'Carrie-Anne Moss', 'long imdb name': 'Carrie-Anne Moss'}, {'name': 'Hugo Weaving', 'long imdb name': 'Hugo Weaving'}, {'name': 'Gloria Foster', 'long imdb name': 'Gloria Foster'}, {'name': 'Joe Pantoliano', 'long imdb name': 'Joe Pantoliano'}, {'name': 'Marcus Chong', 'long imdb name': 'Marcus Chong'}, {'name': 'Julian Arahanga', 'long imdb name': 'Julian Arahanga'}, {'name': 'Matt Doran', 'long imdb name': 'Matt Doran'}, {'name': 'Belinda McClory', 'long imdb name': 'Belinda McClory'}, {'name': 'Anthony Ray Parker', 'long imdb name': 'Anthony Ray Parker'}, {'name': 'Paul Goddard', 'long imdb name': 'Paul Goddard'}, {'name': 'Robert Taylor', 'long imdb name': 'Robert Taylor'}, {'name': 'David Aston', 'long imdb name': 'David Aston'}, {'name': 'Marc Aden Gray', 'long imdb name': 'Marc Aden Gray'}, {'name': 'Ada Nicodemou', 'long imdb name': 'Ada Nicodemou'}, {'name': 'Deni Gordon', 'long imdb name': 'Deni Gordon'}, {'name': 'Rowan Witt', 'long imdb name': 'Rowan Witt'}, {'name': 'Eleanor Witt', 'long imdb name': 'Eleanor Witt'}, {'name': 'Tamara Brown', 'long imdb name': 'Tamara Brown'}, {'name': 'Janaya Pender', 'long imdb name': 'Janaya Pender'}, {'name': 'Adryn White', 'long imdb name': 'Adryn White'}, {'name': 'Natalie Tjen', 'long imdb name': 'Natalie Tjen'}, {'name': 'Bill Young', 'long imdb name': 'Bill Young'}, {'name': \"David O'Connor\", 'long imdb name': \"David O'Connor\"}, {'name': 'Jeremy Ball', 'long imdb name': 'Jeremy Ball'}, {'name': 'Fiona Johnson', 'long imdb name': 'Fiona Johnson'}, {'name': 'Harry Lawrence', 'long imdb name': 'Harry Lawrence'}, {'name': 'Steve Dodd', 'long imdb name': 'Steve Dodd'}, {'name': 'Luke Quinton', 'long imdb name': 'Luke Quinton'}, {'name': 'Lawrence Woodward', 'long imdb name': 'Lawrence Woodward'}, {'name': 'Michael Butcher', 'long imdb name': 'Michael Butcher'}, {'name': 'Bernard Ledger', 'long imdb name': 'Bernard Ledger'}, {'name': 'Robert Simper', 'long imdb name': 'Robert Simper'}, {'name': 'Chris Pattinson', 'long imdb name': 'Chris Pattinson'}, {'name': 'Nigel Harbach', 'long imdb name': 'Nigel Harbach'}, {'name': 'Mike Duncan', 'long imdb name': 'Mike Duncan'}, {'name': 'Nash Edgerton', 'long imdb name': 'Nash Edgerton'}, {'name': 'Rana Morrison', 'long imdb name': 'Rana Morrison'}, {'name': 'Steve Rutherford', 'long imdb name': 'Steve Rutherford'}, {'name': 'Cody Zacharias', 'long imdb name': 'Cody Zacharias'}]}"
      ]
     },
     "execution_count": 178,
     "metadata": {},
     "output_type": "execute_result"
    }
   ],
   "source": [
    "next(result)"
   ]
  },
  {
   "cell_type": "code",
   "execution_count": 179,
   "metadata": {},
   "outputs": [
    {
     "name": "stdout",
     "output_type": "stream",
     "text": [
      "Stopping `mongodb-community`... (might take a while)\n",
      "\u001b[34m==>\u001b[0m \u001b[1mSuccessfully stopped `mongodb-community` (label: homebrew.mxcl.mongodb-commu\u001b[0m\n"
     ]
    }
   ],
   "source": [
    "!brew services stop mongodb-community@5.0"
   ]
  },
  {
   "cell_type": "code",
   "execution_count": null,
   "metadata": {},
   "outputs": [],
   "source": []
  }
 ],
 "metadata": {
  "kernelspec": {
   "display_name": "Python 3",
   "language": "python",
   "name": "python3"
  },
  "language_info": {
   "codemirror_mode": {
    "name": "ipython",
    "version": 3
   },
   "file_extension": ".py",
   "mimetype": "text/x-python",
   "name": "python",
   "nbconvert_exporter": "python",
   "pygments_lexer": "ipython3",
   "version": "3.8.7"
  }
 },
 "nbformat": 4,
 "nbformat_minor": 4
}
