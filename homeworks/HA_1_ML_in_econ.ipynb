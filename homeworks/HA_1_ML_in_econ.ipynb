{
  "nbformat": 4,
  "nbformat_minor": 0,
  "metadata": {
    "kernelspec": {
      "display_name": "Python 3",
      "language": "python",
      "name": "python3"
    },
    "language_info": {
      "codemirror_mode": {
        "name": "ipython",
        "version": 3
      },
      "file_extension": ".py",
      "mimetype": "text/x-python",
      "name": "python",
      "nbconvert_exporter": "python",
      "pygments_lexer": "ipython3",
      "version": "3.7.7"
    },
    "colab": {
      "name": "HA_1_ML_in_econ.ipynb",
      "provenance": [],
      "collapsed_sections": [],
      "toc_visible": true
    },
    "widgets": {
      "application/vnd.jupyter.widget-state+json": {
        "3628e4ed41144843be278cc07ac44bd5": {
          "model_module": "@jupyter-widgets/controls",
          "model_name": "HBoxModel",
          "model_module_version": "1.5.0",
          "state": {
            "_view_name": "HBoxView",
            "_dom_classes": [],
            "_model_name": "HBoxModel",
            "_view_module": "@jupyter-widgets/controls",
            "_model_module_version": "1.5.0",
            "_view_count": null,
            "_view_module_version": "1.5.0",
            "box_style": "",
            "layout": "IPY_MODEL_d4dec50f1dd842a681e2ceca33997f1e",
            "_model_module": "@jupyter-widgets/controls",
            "children": [
              "IPY_MODEL_61ca4bf8ea6344ab95bd9b9b1e546033",
              "IPY_MODEL_c6f148091faf4791bbe0ff109b80ee10",
              "IPY_MODEL_dcbc79e8d2c84afaacbca743edd0d3c5"
            ]
          }
        },
        "d4dec50f1dd842a681e2ceca33997f1e": {
          "model_module": "@jupyter-widgets/base",
          "model_name": "LayoutModel",
          "model_module_version": "1.2.0",
          "state": {
            "_view_name": "LayoutView",
            "grid_template_rows": null,
            "right": null,
            "justify_content": null,
            "_view_module": "@jupyter-widgets/base",
            "overflow": null,
            "_model_module_version": "1.2.0",
            "_view_count": null,
            "flex_flow": null,
            "width": null,
            "min_width": null,
            "border": null,
            "align_items": null,
            "bottom": null,
            "_model_module": "@jupyter-widgets/base",
            "top": null,
            "grid_column": null,
            "overflow_y": null,
            "overflow_x": null,
            "grid_auto_flow": null,
            "grid_area": null,
            "grid_template_columns": null,
            "flex": null,
            "_model_name": "LayoutModel",
            "justify_items": null,
            "grid_row": null,
            "max_height": null,
            "align_content": null,
            "visibility": null,
            "align_self": null,
            "height": null,
            "min_height": null,
            "padding": null,
            "grid_auto_rows": null,
            "grid_gap": null,
            "max_width": null,
            "order": null,
            "_view_module_version": "1.2.0",
            "grid_template_areas": null,
            "object_position": null,
            "object_fit": null,
            "grid_auto_columns": null,
            "margin": null,
            "display": null,
            "left": null
          }
        },
        "61ca4bf8ea6344ab95bd9b9b1e546033": {
          "model_module": "@jupyter-widgets/controls",
          "model_name": "HTMLModel",
          "model_module_version": "1.5.0",
          "state": {
            "_view_name": "HTMLView",
            "style": "IPY_MODEL_17542e32d7dc421689a14353c54cfce5",
            "_dom_classes": [],
            "description": "",
            "_model_name": "HTMLModel",
            "placeholder": "​",
            "_view_module": "@jupyter-widgets/controls",
            "_model_module_version": "1.5.0",
            "value": "100%",
            "_view_count": null,
            "_view_module_version": "1.5.0",
            "description_tooltip": null,
            "_model_module": "@jupyter-widgets/controls",
            "layout": "IPY_MODEL_a6485c19a1a542cbb96088dd4400a5c3"
          }
        },
        "c6f148091faf4791bbe0ff109b80ee10": {
          "model_module": "@jupyter-widgets/controls",
          "model_name": "FloatProgressModel",
          "model_module_version": "1.5.0",
          "state": {
            "_view_name": "ProgressView",
            "style": "IPY_MODEL_d7052d4249ef44ba98f1496e91121ec8",
            "_dom_classes": [],
            "description": "",
            "_model_name": "FloatProgressModel",
            "bar_style": "success",
            "max": 7,
            "_view_module": "@jupyter-widgets/controls",
            "_model_module_version": "1.5.0",
            "value": 7,
            "_view_count": null,
            "_view_module_version": "1.5.0",
            "orientation": "horizontal",
            "min": 0,
            "description_tooltip": null,
            "_model_module": "@jupyter-widgets/controls",
            "layout": "IPY_MODEL_2c9c455ac1144a5fb45f0702f1a5bb69"
          }
        },
        "dcbc79e8d2c84afaacbca743edd0d3c5": {
          "model_module": "@jupyter-widgets/controls",
          "model_name": "HTMLModel",
          "model_module_version": "1.5.0",
          "state": {
            "_view_name": "HTMLView",
            "style": "IPY_MODEL_9c6b21eb9dda4c1785a290432d52bb49",
            "_dom_classes": [],
            "description": "",
            "_model_name": "HTMLModel",
            "placeholder": "​",
            "_view_module": "@jupyter-widgets/controls",
            "_model_module_version": "1.5.0",
            "value": " 7/7 [00:13&lt;00:00,  1.77s/it]",
            "_view_count": null,
            "_view_module_version": "1.5.0",
            "description_tooltip": null,
            "_model_module": "@jupyter-widgets/controls",
            "layout": "IPY_MODEL_53581c725c4d4b119be0c0cf988227de"
          }
        },
        "17542e32d7dc421689a14353c54cfce5": {
          "model_module": "@jupyter-widgets/controls",
          "model_name": "DescriptionStyleModel",
          "model_module_version": "1.5.0",
          "state": {
            "_view_name": "StyleView",
            "_model_name": "DescriptionStyleModel",
            "description_width": "",
            "_view_module": "@jupyter-widgets/base",
            "_model_module_version": "1.5.0",
            "_view_count": null,
            "_view_module_version": "1.2.0",
            "_model_module": "@jupyter-widgets/controls"
          }
        },
        "a6485c19a1a542cbb96088dd4400a5c3": {
          "model_module": "@jupyter-widgets/base",
          "model_name": "LayoutModel",
          "model_module_version": "1.2.0",
          "state": {
            "_view_name": "LayoutView",
            "grid_template_rows": null,
            "right": null,
            "justify_content": null,
            "_view_module": "@jupyter-widgets/base",
            "overflow": null,
            "_model_module_version": "1.2.0",
            "_view_count": null,
            "flex_flow": null,
            "width": null,
            "min_width": null,
            "border": null,
            "align_items": null,
            "bottom": null,
            "_model_module": "@jupyter-widgets/base",
            "top": null,
            "grid_column": null,
            "overflow_y": null,
            "overflow_x": null,
            "grid_auto_flow": null,
            "grid_area": null,
            "grid_template_columns": null,
            "flex": null,
            "_model_name": "LayoutModel",
            "justify_items": null,
            "grid_row": null,
            "max_height": null,
            "align_content": null,
            "visibility": null,
            "align_self": null,
            "height": null,
            "min_height": null,
            "padding": null,
            "grid_auto_rows": null,
            "grid_gap": null,
            "max_width": null,
            "order": null,
            "_view_module_version": "1.2.0",
            "grid_template_areas": null,
            "object_position": null,
            "object_fit": null,
            "grid_auto_columns": null,
            "margin": null,
            "display": null,
            "left": null
          }
        },
        "d7052d4249ef44ba98f1496e91121ec8": {
          "model_module": "@jupyter-widgets/controls",
          "model_name": "ProgressStyleModel",
          "model_module_version": "1.5.0",
          "state": {
            "_view_name": "StyleView",
            "_model_name": "ProgressStyleModel",
            "description_width": "",
            "_view_module": "@jupyter-widgets/base",
            "_model_module_version": "1.5.0",
            "_view_count": null,
            "_view_module_version": "1.2.0",
            "bar_color": null,
            "_model_module": "@jupyter-widgets/controls"
          }
        },
        "2c9c455ac1144a5fb45f0702f1a5bb69": {
          "model_module": "@jupyter-widgets/base",
          "model_name": "LayoutModel",
          "model_module_version": "1.2.0",
          "state": {
            "_view_name": "LayoutView",
            "grid_template_rows": null,
            "right": null,
            "justify_content": null,
            "_view_module": "@jupyter-widgets/base",
            "overflow": null,
            "_model_module_version": "1.2.0",
            "_view_count": null,
            "flex_flow": null,
            "width": null,
            "min_width": null,
            "border": null,
            "align_items": null,
            "bottom": null,
            "_model_module": "@jupyter-widgets/base",
            "top": null,
            "grid_column": null,
            "overflow_y": null,
            "overflow_x": null,
            "grid_auto_flow": null,
            "grid_area": null,
            "grid_template_columns": null,
            "flex": null,
            "_model_name": "LayoutModel",
            "justify_items": null,
            "grid_row": null,
            "max_height": null,
            "align_content": null,
            "visibility": null,
            "align_self": null,
            "height": null,
            "min_height": null,
            "padding": null,
            "grid_auto_rows": null,
            "grid_gap": null,
            "max_width": null,
            "order": null,
            "_view_module_version": "1.2.0",
            "grid_template_areas": null,
            "object_position": null,
            "object_fit": null,
            "grid_auto_columns": null,
            "margin": null,
            "display": null,
            "left": null
          }
        },
        "9c6b21eb9dda4c1785a290432d52bb49": {
          "model_module": "@jupyter-widgets/controls",
          "model_name": "DescriptionStyleModel",
          "model_module_version": "1.5.0",
          "state": {
            "_view_name": "StyleView",
            "_model_name": "DescriptionStyleModel",
            "description_width": "",
            "_view_module": "@jupyter-widgets/base",
            "_model_module_version": "1.5.0",
            "_view_count": null,
            "_view_module_version": "1.2.0",
            "_model_module": "@jupyter-widgets/controls"
          }
        },
        "53581c725c4d4b119be0c0cf988227de": {
          "model_module": "@jupyter-widgets/base",
          "model_name": "LayoutModel",
          "model_module_version": "1.2.0",
          "state": {
            "_view_name": "LayoutView",
            "grid_template_rows": null,
            "right": null,
            "justify_content": null,
            "_view_module": "@jupyter-widgets/base",
            "overflow": null,
            "_model_module_version": "1.2.0",
            "_view_count": null,
            "flex_flow": null,
            "width": null,
            "min_width": null,
            "border": null,
            "align_items": null,
            "bottom": null,
            "_model_module": "@jupyter-widgets/base",
            "top": null,
            "grid_column": null,
            "overflow_y": null,
            "overflow_x": null,
            "grid_auto_flow": null,
            "grid_area": null,
            "grid_template_columns": null,
            "flex": null,
            "_model_name": "LayoutModel",
            "justify_items": null,
            "grid_row": null,
            "max_height": null,
            "align_content": null,
            "visibility": null,
            "align_self": null,
            "height": null,
            "min_height": null,
            "padding": null,
            "grid_auto_rows": null,
            "grid_gap": null,
            "max_width": null,
            "order": null,
            "_view_module_version": "1.2.0",
            "grid_template_areas": null,
            "object_position": null,
            "object_fit": null,
            "grid_auto_columns": null,
            "margin": null,
            "display": null,
            "left": null
          }
        },
        "b32a3cb5327448b99a3534f7bec642f6": {
          "model_module": "@jupyter-widgets/controls",
          "model_name": "HBoxModel",
          "model_module_version": "1.5.0",
          "state": {
            "_view_name": "HBoxView",
            "_dom_classes": [],
            "_model_name": "HBoxModel",
            "_view_module": "@jupyter-widgets/controls",
            "_model_module_version": "1.5.0",
            "_view_count": null,
            "_view_module_version": "1.5.0",
            "box_style": "",
            "layout": "IPY_MODEL_2cce79ac88da4bada489607950d94e04",
            "_model_module": "@jupyter-widgets/controls",
            "children": [
              "IPY_MODEL_ed221ea32e8e4bac9eeec7c791cdd036",
              "IPY_MODEL_45734ac65b0541f98d28ce70696adc9a",
              "IPY_MODEL_3200c63e6c524a2ba46bf19872f27ddc"
            ]
          }
        },
        "2cce79ac88da4bada489607950d94e04": {
          "model_module": "@jupyter-widgets/base",
          "model_name": "LayoutModel",
          "model_module_version": "1.2.0",
          "state": {
            "_view_name": "LayoutView",
            "grid_template_rows": null,
            "right": null,
            "justify_content": null,
            "_view_module": "@jupyter-widgets/base",
            "overflow": null,
            "_model_module_version": "1.2.0",
            "_view_count": null,
            "flex_flow": null,
            "width": null,
            "min_width": null,
            "border": null,
            "align_items": null,
            "bottom": null,
            "_model_module": "@jupyter-widgets/base",
            "top": null,
            "grid_column": null,
            "overflow_y": null,
            "overflow_x": null,
            "grid_auto_flow": null,
            "grid_area": null,
            "grid_template_columns": null,
            "flex": null,
            "_model_name": "LayoutModel",
            "justify_items": null,
            "grid_row": null,
            "max_height": null,
            "align_content": null,
            "visibility": null,
            "align_self": null,
            "height": null,
            "min_height": null,
            "padding": null,
            "grid_auto_rows": null,
            "grid_gap": null,
            "max_width": null,
            "order": null,
            "_view_module_version": "1.2.0",
            "grid_template_areas": null,
            "object_position": null,
            "object_fit": null,
            "grid_auto_columns": null,
            "margin": null,
            "display": null,
            "left": null
          }
        },
        "ed221ea32e8e4bac9eeec7c791cdd036": {
          "model_module": "@jupyter-widgets/controls",
          "model_name": "HTMLModel",
          "model_module_version": "1.5.0",
          "state": {
            "_view_name": "HTMLView",
            "style": "IPY_MODEL_4b3e2723ff064f119d97e76043a93794",
            "_dom_classes": [],
            "description": "",
            "_model_name": "HTMLModel",
            "placeholder": "​",
            "_view_module": "@jupyter-widgets/controls",
            "_model_module_version": "1.5.0",
            "value": "100%",
            "_view_count": null,
            "_view_module_version": "1.5.0",
            "description_tooltip": null,
            "_model_module": "@jupyter-widgets/controls",
            "layout": "IPY_MODEL_c67bd70c80ad4be18fead3e8132f5a27"
          }
        },
        "45734ac65b0541f98d28ce70696adc9a": {
          "model_module": "@jupyter-widgets/controls",
          "model_name": "FloatProgressModel",
          "model_module_version": "1.5.0",
          "state": {
            "_view_name": "ProgressView",
            "style": "IPY_MODEL_fafb702407bd417b9d560026312a7a3d",
            "_dom_classes": [],
            "description": "",
            "_model_name": "FloatProgressModel",
            "bar_style": "success",
            "max": 7,
            "_view_module": "@jupyter-widgets/controls",
            "_model_module_version": "1.5.0",
            "value": 7,
            "_view_count": null,
            "_view_module_version": "1.5.0",
            "orientation": "horizontal",
            "min": 0,
            "description_tooltip": null,
            "_model_module": "@jupyter-widgets/controls",
            "layout": "IPY_MODEL_96b3196f0a8844e3b178a4237fb0c84e"
          }
        },
        "3200c63e6c524a2ba46bf19872f27ddc": {
          "model_module": "@jupyter-widgets/controls",
          "model_name": "HTMLModel",
          "model_module_version": "1.5.0",
          "state": {
            "_view_name": "HTMLView",
            "style": "IPY_MODEL_48f164639eb747d080e78a950ea2bc92",
            "_dom_classes": [],
            "description": "",
            "_model_name": "HTMLModel",
            "placeholder": "​",
            "_view_module": "@jupyter-widgets/controls",
            "_model_module_version": "1.5.0",
            "value": " 7/7 [01:52&lt;00:00, 16.27s/it]",
            "_view_count": null,
            "_view_module_version": "1.5.0",
            "description_tooltip": null,
            "_model_module": "@jupyter-widgets/controls",
            "layout": "IPY_MODEL_8ab2761b1e5847d884c712e91496d1bf"
          }
        },
        "4b3e2723ff064f119d97e76043a93794": {
          "model_module": "@jupyter-widgets/controls",
          "model_name": "DescriptionStyleModel",
          "model_module_version": "1.5.0",
          "state": {
            "_view_name": "StyleView",
            "_model_name": "DescriptionStyleModel",
            "description_width": "",
            "_view_module": "@jupyter-widgets/base",
            "_model_module_version": "1.5.0",
            "_view_count": null,
            "_view_module_version": "1.2.0",
            "_model_module": "@jupyter-widgets/controls"
          }
        },
        "c67bd70c80ad4be18fead3e8132f5a27": {
          "model_module": "@jupyter-widgets/base",
          "model_name": "LayoutModel",
          "model_module_version": "1.2.0",
          "state": {
            "_view_name": "LayoutView",
            "grid_template_rows": null,
            "right": null,
            "justify_content": null,
            "_view_module": "@jupyter-widgets/base",
            "overflow": null,
            "_model_module_version": "1.2.0",
            "_view_count": null,
            "flex_flow": null,
            "width": null,
            "min_width": null,
            "border": null,
            "align_items": null,
            "bottom": null,
            "_model_module": "@jupyter-widgets/base",
            "top": null,
            "grid_column": null,
            "overflow_y": null,
            "overflow_x": null,
            "grid_auto_flow": null,
            "grid_area": null,
            "grid_template_columns": null,
            "flex": null,
            "_model_name": "LayoutModel",
            "justify_items": null,
            "grid_row": null,
            "max_height": null,
            "align_content": null,
            "visibility": null,
            "align_self": null,
            "height": null,
            "min_height": null,
            "padding": null,
            "grid_auto_rows": null,
            "grid_gap": null,
            "max_width": null,
            "order": null,
            "_view_module_version": "1.2.0",
            "grid_template_areas": null,
            "object_position": null,
            "object_fit": null,
            "grid_auto_columns": null,
            "margin": null,
            "display": null,
            "left": null
          }
        },
        "fafb702407bd417b9d560026312a7a3d": {
          "model_module": "@jupyter-widgets/controls",
          "model_name": "ProgressStyleModel",
          "model_module_version": "1.5.0",
          "state": {
            "_view_name": "StyleView",
            "_model_name": "ProgressStyleModel",
            "description_width": "",
            "_view_module": "@jupyter-widgets/base",
            "_model_module_version": "1.5.0",
            "_view_count": null,
            "_view_module_version": "1.2.0",
            "bar_color": null,
            "_model_module": "@jupyter-widgets/controls"
          }
        },
        "96b3196f0a8844e3b178a4237fb0c84e": {
          "model_module": "@jupyter-widgets/base",
          "model_name": "LayoutModel",
          "model_module_version": "1.2.0",
          "state": {
            "_view_name": "LayoutView",
            "grid_template_rows": null,
            "right": null,
            "justify_content": null,
            "_view_module": "@jupyter-widgets/base",
            "overflow": null,
            "_model_module_version": "1.2.0",
            "_view_count": null,
            "flex_flow": null,
            "width": null,
            "min_width": null,
            "border": null,
            "align_items": null,
            "bottom": null,
            "_model_module": "@jupyter-widgets/base",
            "top": null,
            "grid_column": null,
            "overflow_y": null,
            "overflow_x": null,
            "grid_auto_flow": null,
            "grid_area": null,
            "grid_template_columns": null,
            "flex": null,
            "_model_name": "LayoutModel",
            "justify_items": null,
            "grid_row": null,
            "max_height": null,
            "align_content": null,
            "visibility": null,
            "align_self": null,
            "height": null,
            "min_height": null,
            "padding": null,
            "grid_auto_rows": null,
            "grid_gap": null,
            "max_width": null,
            "order": null,
            "_view_module_version": "1.2.0",
            "grid_template_areas": null,
            "object_position": null,
            "object_fit": null,
            "grid_auto_columns": null,
            "margin": null,
            "display": null,
            "left": null
          }
        },
        "48f164639eb747d080e78a950ea2bc92": {
          "model_module": "@jupyter-widgets/controls",
          "model_name": "DescriptionStyleModel",
          "model_module_version": "1.5.0",
          "state": {
            "_view_name": "StyleView",
            "_model_name": "DescriptionStyleModel",
            "description_width": "",
            "_view_module": "@jupyter-widgets/base",
            "_model_module_version": "1.5.0",
            "_view_count": null,
            "_view_module_version": "1.2.0",
            "_model_module": "@jupyter-widgets/controls"
          }
        },
        "8ab2761b1e5847d884c712e91496d1bf": {
          "model_module": "@jupyter-widgets/base",
          "model_name": "LayoutModel",
          "model_module_version": "1.2.0",
          "state": {
            "_view_name": "LayoutView",
            "grid_template_rows": null,
            "right": null,
            "justify_content": null,
            "_view_module": "@jupyter-widgets/base",
            "overflow": null,
            "_model_module_version": "1.2.0",
            "_view_count": null,
            "flex_flow": null,
            "width": null,
            "min_width": null,
            "border": null,
            "align_items": null,
            "bottom": null,
            "_model_module": "@jupyter-widgets/base",
            "top": null,
            "grid_column": null,
            "overflow_y": null,
            "overflow_x": null,
            "grid_auto_flow": null,
            "grid_area": null,
            "grid_template_columns": null,
            "flex": null,
            "_model_name": "LayoutModel",
            "justify_items": null,
            "grid_row": null,
            "max_height": null,
            "align_content": null,
            "visibility": null,
            "align_self": null,
            "height": null,
            "min_height": null,
            "padding": null,
            "grid_auto_rows": null,
            "grid_gap": null,
            "max_width": null,
            "order": null,
            "_view_module_version": "1.2.0",
            "grid_template_areas": null,
            "object_position": null,
            "object_fit": null,
            "grid_auto_columns": null,
            "margin": null,
            "display": null,
            "left": null
          }
        },
        "ab437296933347099fd3032621b8eeed": {
          "model_module": "@jupyter-widgets/controls",
          "model_name": "HBoxModel",
          "model_module_version": "1.5.0",
          "state": {
            "_view_name": "HBoxView",
            "_dom_classes": [],
            "_model_name": "HBoxModel",
            "_view_module": "@jupyter-widgets/controls",
            "_model_module_version": "1.5.0",
            "_view_count": null,
            "_view_module_version": "1.5.0",
            "box_style": "",
            "layout": "IPY_MODEL_9b49914846c14236ad6c9c92ea7f7156",
            "_model_module": "@jupyter-widgets/controls",
            "children": [
              "IPY_MODEL_12a1443b7d87497cbe4726aea7261cdf",
              "IPY_MODEL_f3a7cc98fa954a8cab82666b7a65b651",
              "IPY_MODEL_5c690015208a4d14ac1a77cf73fda466"
            ]
          }
        },
        "9b49914846c14236ad6c9c92ea7f7156": {
          "model_module": "@jupyter-widgets/base",
          "model_name": "LayoutModel",
          "model_module_version": "1.2.0",
          "state": {
            "_view_name": "LayoutView",
            "grid_template_rows": null,
            "right": null,
            "justify_content": null,
            "_view_module": "@jupyter-widgets/base",
            "overflow": null,
            "_model_module_version": "1.2.0",
            "_view_count": null,
            "flex_flow": null,
            "width": null,
            "min_width": null,
            "border": null,
            "align_items": null,
            "bottom": null,
            "_model_module": "@jupyter-widgets/base",
            "top": null,
            "grid_column": null,
            "overflow_y": null,
            "overflow_x": null,
            "grid_auto_flow": null,
            "grid_area": null,
            "grid_template_columns": null,
            "flex": null,
            "_model_name": "LayoutModel",
            "justify_items": null,
            "grid_row": null,
            "max_height": null,
            "align_content": null,
            "visibility": null,
            "align_self": null,
            "height": null,
            "min_height": null,
            "padding": null,
            "grid_auto_rows": null,
            "grid_gap": null,
            "max_width": null,
            "order": null,
            "_view_module_version": "1.2.0",
            "grid_template_areas": null,
            "object_position": null,
            "object_fit": null,
            "grid_auto_columns": null,
            "margin": null,
            "display": null,
            "left": null
          }
        },
        "12a1443b7d87497cbe4726aea7261cdf": {
          "model_module": "@jupyter-widgets/controls",
          "model_name": "HTMLModel",
          "model_module_version": "1.5.0",
          "state": {
            "_view_name": "HTMLView",
            "style": "IPY_MODEL_d927eae5d5964494a5eec531262b384e",
            "_dom_classes": [],
            "description": "",
            "_model_name": "HTMLModel",
            "placeholder": "​",
            "_view_module": "@jupyter-widgets/controls",
            "_model_module_version": "1.5.0",
            "value": "100%",
            "_view_count": null,
            "_view_module_version": "1.5.0",
            "description_tooltip": null,
            "_model_module": "@jupyter-widgets/controls",
            "layout": "IPY_MODEL_04144a5da8fa4b679131118f49d0995e"
          }
        },
        "f3a7cc98fa954a8cab82666b7a65b651": {
          "model_module": "@jupyter-widgets/controls",
          "model_name": "FloatProgressModel",
          "model_module_version": "1.5.0",
          "state": {
            "_view_name": "ProgressView",
            "style": "IPY_MODEL_f428caf20e494e9cafdec8f7c3a06a86",
            "_dom_classes": [],
            "description": "",
            "_model_name": "FloatProgressModel",
            "bar_style": "success",
            "max": 1049,
            "_view_module": "@jupyter-widgets/controls",
            "_model_module_version": "1.5.0",
            "value": 1049,
            "_view_count": null,
            "_view_module_version": "1.5.0",
            "orientation": "horizontal",
            "min": 0,
            "description_tooltip": null,
            "_model_module": "@jupyter-widgets/controls",
            "layout": "IPY_MODEL_80fa361cc4b44acca25920c27164d11e"
          }
        },
        "5c690015208a4d14ac1a77cf73fda466": {
          "model_module": "@jupyter-widgets/controls",
          "model_name": "HTMLModel",
          "model_module_version": "1.5.0",
          "state": {
            "_view_name": "HTMLView",
            "style": "IPY_MODEL_b1fb2fb587f24f15be1c0ddf04737f28",
            "_dom_classes": [],
            "description": "",
            "_model_name": "HTMLModel",
            "placeholder": "​",
            "_view_module": "@jupyter-widgets/controls",
            "_model_module_version": "1.5.0",
            "value": " 1049/1049 [17:28&lt;00:00,  1.28s/it]",
            "_view_count": null,
            "_view_module_version": "1.5.0",
            "description_tooltip": null,
            "_model_module": "@jupyter-widgets/controls",
            "layout": "IPY_MODEL_53469c1ed6154be4bfcaada9e39fdc1c"
          }
        },
        "d927eae5d5964494a5eec531262b384e": {
          "model_module": "@jupyter-widgets/controls",
          "model_name": "DescriptionStyleModel",
          "model_module_version": "1.5.0",
          "state": {
            "_view_name": "StyleView",
            "_model_name": "DescriptionStyleModel",
            "description_width": "",
            "_view_module": "@jupyter-widgets/base",
            "_model_module_version": "1.5.0",
            "_view_count": null,
            "_view_module_version": "1.2.0",
            "_model_module": "@jupyter-widgets/controls"
          }
        },
        "04144a5da8fa4b679131118f49d0995e": {
          "model_module": "@jupyter-widgets/base",
          "model_name": "LayoutModel",
          "model_module_version": "1.2.0",
          "state": {
            "_view_name": "LayoutView",
            "grid_template_rows": null,
            "right": null,
            "justify_content": null,
            "_view_module": "@jupyter-widgets/base",
            "overflow": null,
            "_model_module_version": "1.2.0",
            "_view_count": null,
            "flex_flow": null,
            "width": null,
            "min_width": null,
            "border": null,
            "align_items": null,
            "bottom": null,
            "_model_module": "@jupyter-widgets/base",
            "top": null,
            "grid_column": null,
            "overflow_y": null,
            "overflow_x": null,
            "grid_auto_flow": null,
            "grid_area": null,
            "grid_template_columns": null,
            "flex": null,
            "_model_name": "LayoutModel",
            "justify_items": null,
            "grid_row": null,
            "max_height": null,
            "align_content": null,
            "visibility": null,
            "align_self": null,
            "height": null,
            "min_height": null,
            "padding": null,
            "grid_auto_rows": null,
            "grid_gap": null,
            "max_width": null,
            "order": null,
            "_view_module_version": "1.2.0",
            "grid_template_areas": null,
            "object_position": null,
            "object_fit": null,
            "grid_auto_columns": null,
            "margin": null,
            "display": null,
            "left": null
          }
        },
        "f428caf20e494e9cafdec8f7c3a06a86": {
          "model_module": "@jupyter-widgets/controls",
          "model_name": "ProgressStyleModel",
          "model_module_version": "1.5.0",
          "state": {
            "_view_name": "StyleView",
            "_model_name": "ProgressStyleModel",
            "description_width": "",
            "_view_module": "@jupyter-widgets/base",
            "_model_module_version": "1.5.0",
            "_view_count": null,
            "_view_module_version": "1.2.0",
            "bar_color": null,
            "_model_module": "@jupyter-widgets/controls"
          }
        },
        "80fa361cc4b44acca25920c27164d11e": {
          "model_module": "@jupyter-widgets/base",
          "model_name": "LayoutModel",
          "model_module_version": "1.2.0",
          "state": {
            "_view_name": "LayoutView",
            "grid_template_rows": null,
            "right": null,
            "justify_content": null,
            "_view_module": "@jupyter-widgets/base",
            "overflow": null,
            "_model_module_version": "1.2.0",
            "_view_count": null,
            "flex_flow": null,
            "width": null,
            "min_width": null,
            "border": null,
            "align_items": null,
            "bottom": null,
            "_model_module": "@jupyter-widgets/base",
            "top": null,
            "grid_column": null,
            "overflow_y": null,
            "overflow_x": null,
            "grid_auto_flow": null,
            "grid_area": null,
            "grid_template_columns": null,
            "flex": null,
            "_model_name": "LayoutModel",
            "justify_items": null,
            "grid_row": null,
            "max_height": null,
            "align_content": null,
            "visibility": null,
            "align_self": null,
            "height": null,
            "min_height": null,
            "padding": null,
            "grid_auto_rows": null,
            "grid_gap": null,
            "max_width": null,
            "order": null,
            "_view_module_version": "1.2.0",
            "grid_template_areas": null,
            "object_position": null,
            "object_fit": null,
            "grid_auto_columns": null,
            "margin": null,
            "display": null,
            "left": null
          }
        },
        "b1fb2fb587f24f15be1c0ddf04737f28": {
          "model_module": "@jupyter-widgets/controls",
          "model_name": "DescriptionStyleModel",
          "model_module_version": "1.5.0",
          "state": {
            "_view_name": "StyleView",
            "_model_name": "DescriptionStyleModel",
            "description_width": "",
            "_view_module": "@jupyter-widgets/base",
            "_model_module_version": "1.5.0",
            "_view_count": null,
            "_view_module_version": "1.2.0",
            "_model_module": "@jupyter-widgets/controls"
          }
        },
        "53469c1ed6154be4bfcaada9e39fdc1c": {
          "model_module": "@jupyter-widgets/base",
          "model_name": "LayoutModel",
          "model_module_version": "1.2.0",
          "state": {
            "_view_name": "LayoutView",
            "grid_template_rows": null,
            "right": null,
            "justify_content": null,
            "_view_module": "@jupyter-widgets/base",
            "overflow": null,
            "_model_module_version": "1.2.0",
            "_view_count": null,
            "flex_flow": null,
            "width": null,
            "min_width": null,
            "border": null,
            "align_items": null,
            "bottom": null,
            "_model_module": "@jupyter-widgets/base",
            "top": null,
            "grid_column": null,
            "overflow_y": null,
            "overflow_x": null,
            "grid_auto_flow": null,
            "grid_area": null,
            "grid_template_columns": null,
            "flex": null,
            "_model_name": "LayoutModel",
            "justify_items": null,
            "grid_row": null,
            "max_height": null,
            "align_content": null,
            "visibility": null,
            "align_self": null,
            "height": null,
            "min_height": null,
            "padding": null,
            "grid_auto_rows": null,
            "grid_gap": null,
            "max_width": null,
            "order": null,
            "_view_module_version": "1.2.0",
            "grid_template_areas": null,
            "object_position": null,
            "object_fit": null,
            "grid_auto_columns": null,
            "margin": null,
            "display": null,
            "left": null
          }
        }
      }
    }
  },
  "cells": [
    {
      "cell_type": "markdown",
      "metadata": {
        "id": "xeNQHjCAJ0z6"
      },
      "source": [
        "# Home assignment\n",
        "### Skvortsov Ivan, Altunina Anastasiya, Romanenko Alexandra, Grigoryan Mikhail, Peshkov Maksim\n",
        "\n",
        "*email to pandreyanov@gmail.com, use ipnb, use markdown, explain what you do*"
      ]
    },
    {
      "cell_type": "code",
      "metadata": {
        "id": "M_Y9ratvLVSM"
      },
      "source": [
        "import numpy as np\n",
        "import pandas as pd\n",
        "import requests\n",
        "from pprint import pprint\n",
        "import gzip\n",
        "import shutil\n",
        "from tqdm import tqdm\n",
        "import sqlite3\n",
        "from bs4 import BeautifulSoup\n",
        "import json\n",
        "\n",
        "from tqdm.notebook import tqdm\n",
        "from pymongo import MongoClient\n",
        "from IPython.display import clear_output\n",
        "import warnings\n",
        "warnings.filterwarnings(\"ignore\", category=DeprecationWarning) "
      ],
      "execution_count": 26,
      "outputs": []
    },
    {
      "cell_type": "markdown",
      "metadata": {
        "id": "n7o4is0nJ0z6"
      },
      "source": [
        "## Assignment 1 (1 points): download all 7 dumps, print summary\n",
        "\n",
        "First we define the IMDB url and datasets' file names."
      ]
    },
    {
      "cell_type": "code",
      "metadata": {
        "id": "ZG03cvr4KS1U"
      },
      "source": [
        "host = 'https://datasets.imdbws.com/'\n",
        "\n",
        "sources = [\n",
        "    'name.basics.tsv.gz',\n",
        "    'title.akas.tsv.gz',\n",
        "    'title.basics.tsv.gz',\n",
        "    'title.crew.tsv.gz',\n",
        "    'title.episode.tsv.gz',\n",
        "    'title.principals.tsv.gz',\n",
        "    'title.ratings.tsv.gz'\n",
        "]"
      ],
      "execution_count": 2,
      "outputs": []
    },
    {
      "cell_type": "markdown",
      "metadata": {
        "id": "GchhUPyhL2Pq"
      },
      "source": [
        "This function downloads `.gz` zipped files (if necessary) and unzips them:"
      ]
    },
    {
      "cell_type": "code",
      "metadata": {
        "id": "rcEZ9hptLZif"
      },
      "source": [
        "def get_data(host, sources, download = True):\n",
        "    if download:\n",
        "        for source in tqdm(sources):\n",
        "            url = host + source\n",
        "            r = requests.get(url)\n",
        "            open(source, 'wb').write(r.content)\n",
        "        print('Data downloading complete!')\n",
        "\n",
        "    for source in tqdm(sources):\n",
        "        with gzip.open(source, 'rb') as f_in:\n",
        "            with open(source.replace('.gz', ''), 'wb') as f_out:\n",
        "                shutil.copyfileobj(f_in, f_out)\n",
        "    print('Unzipping complete!')"
      ],
      "execution_count": 3,
      "outputs": []
    },
    {
      "cell_type": "code",
      "metadata": {
        "colab": {
          "base_uri": "https://localhost:8080/",
          "height": 115,
          "referenced_widgets": [
            "3628e4ed41144843be278cc07ac44bd5",
            "d4dec50f1dd842a681e2ceca33997f1e",
            "61ca4bf8ea6344ab95bd9b9b1e546033",
            "c6f148091faf4791bbe0ff109b80ee10",
            "dcbc79e8d2c84afaacbca743edd0d3c5",
            "17542e32d7dc421689a14353c54cfce5",
            "a6485c19a1a542cbb96088dd4400a5c3",
            "d7052d4249ef44ba98f1496e91121ec8",
            "2c9c455ac1144a5fb45f0702f1a5bb69",
            "9c6b21eb9dda4c1785a290432d52bb49",
            "53581c725c4d4b119be0c0cf988227de",
            "b32a3cb5327448b99a3534f7bec642f6",
            "2cce79ac88da4bada489607950d94e04",
            "ed221ea32e8e4bac9eeec7c791cdd036",
            "45734ac65b0541f98d28ce70696adc9a",
            "3200c63e6c524a2ba46bf19872f27ddc",
            "4b3e2723ff064f119d97e76043a93794",
            "c67bd70c80ad4be18fead3e8132f5a27",
            "fafb702407bd417b9d560026312a7a3d",
            "96b3196f0a8844e3b178a4237fb0c84e",
            "48f164639eb747d080e78a950ea2bc92",
            "8ab2761b1e5847d884c712e91496d1bf"
          ]
        },
        "id": "kDsy5eG_LZeZ",
        "outputId": "89099737-e417-4ba4-9393-ba9d086612c6"
      },
      "source": [
        "get_data(host=host, sources=sources)"
      ],
      "execution_count": 4,
      "outputs": [
        {
          "output_type": "display_data",
          "data": {
            "application/vnd.jupyter.widget-view+json": {
              "model_id": "3628e4ed41144843be278cc07ac44bd5",
              "version_minor": 0,
              "version_major": 2
            },
            "text/plain": [
              "  0%|          | 0/7 [00:00<?, ?it/s]"
            ]
          },
          "metadata": {}
        },
        {
          "output_type": "stream",
          "name": "stdout",
          "text": [
            "Data downloading complete!\n"
          ]
        },
        {
          "output_type": "display_data",
          "data": {
            "application/vnd.jupyter.widget-view+json": {
              "model_id": "b32a3cb5327448b99a3534f7bec642f6",
              "version_minor": 0,
              "version_major": 2
            },
            "text/plain": [
              "  0%|          | 0/7 [00:00<?, ?it/s]"
            ]
          },
          "metadata": {}
        },
        {
          "output_type": "stream",
          "name": "stdout",
          "text": [
            "Unzipping complete!\n"
          ]
        }
      ]
    },
    {
      "cell_type": "markdown",
      "metadata": {
        "id": "6RjcUAbsMCF3"
      },
      "source": [
        "For large datasets, Pandas fails to define columns' types properly, falling for the default (`object`). Since we don't need to have proper dtypes at this point and don't want to inflate memory, we just ignore the `DtypeWarning`.\n",
        "\n",
        "Code below loads `.tsv` files as Pandas dataframes and returns their infos."
      ]
    },
    {
      "cell_type": "code",
      "metadata": {
        "colab": {
          "base_uri": "https://localhost:8080/",
          "height": 1000
        },
        "id": "DOXUA4L4LZZo",
        "outputId": "918d9c6c-4001-4688-8f9b-5738aa6b74f1"
      },
      "source": [
        "import warnings\n",
        "warnings.filterwarnings(\"ignore\", category=pd.errors.DtypeWarning)\n",
        "\n",
        "for datafile in [i.replace('.gz', '') for i in sources]:\n",
        "    df = pd.read_csv(datafile, sep='\\t', na_values=['\\\\N', ])\n",
        "    print(f'TABLE: {datafile}')\n",
        "    display(df.info())\n",
        "    print('\\n')\n",
        "    del df\n",
        "\n",
        "warnings.filterwarnings(\"default\", category=pd.errors.DtypeWarning)"
      ],
      "execution_count": 5,
      "outputs": [
        {
          "output_type": "stream",
          "name": "stdout",
          "text": [
            "TABLE: name.basics.tsv\n",
            "<class 'pandas.core.frame.DataFrame'>\n",
            "RangeIndex: 11235761 entries, 0 to 11235760\n",
            "Data columns (total 6 columns):\n",
            " #   Column             Dtype  \n",
            "---  ------             -----  \n",
            " 0   nconst             object \n",
            " 1   primaryName        object \n",
            " 2   birthYear          float64\n",
            " 3   deathYear          float64\n",
            " 4   primaryProfession  object \n",
            " 5   knownForTitles     object \n",
            "dtypes: float64(2), object(4)\n",
            "memory usage: 514.3+ MB\n"
          ]
        },
        {
          "output_type": "display_data",
          "data": {
            "text/plain": [
              "None"
            ]
          },
          "metadata": {}
        },
        {
          "output_type": "stream",
          "name": "stdout",
          "text": [
            "\n",
            "\n",
            "TABLE: title.akas.tsv\n",
            "<class 'pandas.core.frame.DataFrame'>\n",
            "RangeIndex: 29161555 entries, 0 to 29161554\n",
            "Data columns (total 8 columns):\n",
            " #   Column           Dtype  \n",
            "---  ------           -----  \n",
            " 0   titleId          object \n",
            " 1   ordering         int64  \n",
            " 2   title            object \n",
            " 3   region           object \n",
            " 4   language         object \n",
            " 5   types            object \n",
            " 6   attributes       object \n",
            " 7   isOriginalTitle  float64\n",
            "dtypes: float64(1), int64(1), object(6)\n",
            "memory usage: 1.7+ GB\n"
          ]
        },
        {
          "output_type": "display_data",
          "data": {
            "text/plain": [
              "None"
            ]
          },
          "metadata": {}
        },
        {
          "output_type": "stream",
          "name": "stdout",
          "text": [
            "\n",
            "\n",
            "TABLE: title.basics.tsv\n",
            "<class 'pandas.core.frame.DataFrame'>\n",
            "RangeIndex: 8279338 entries, 0 to 8279337\n",
            "Data columns (total 9 columns):\n",
            " #   Column          Dtype  \n",
            "---  ------          -----  \n",
            " 0   tconst          object \n",
            " 1   titleType       object \n",
            " 2   primaryTitle    object \n",
            " 3   originalTitle   object \n",
            " 4   isAdult         float64\n",
            " 5   startYear       float64\n",
            " 6   endYear         float64\n",
            " 7   runtimeMinutes  object \n",
            " 8   genres          object \n",
            "dtypes: float64(3), object(6)\n",
            "memory usage: 568.5+ MB\n"
          ]
        },
        {
          "output_type": "display_data",
          "data": {
            "text/plain": [
              "None"
            ]
          },
          "metadata": {}
        },
        {
          "output_type": "stream",
          "name": "stdout",
          "text": [
            "\n",
            "\n",
            "TABLE: title.crew.tsv\n",
            "<class 'pandas.core.frame.DataFrame'>\n",
            "RangeIndex: 8282160 entries, 0 to 8282159\n",
            "Data columns (total 3 columns):\n",
            " #   Column     Dtype \n",
            "---  ------     ----- \n",
            " 0   tconst     object\n",
            " 1   directors  object\n",
            " 2   writers    object\n",
            "dtypes: object(3)\n",
            "memory usage: 189.6+ MB\n"
          ]
        },
        {
          "output_type": "display_data",
          "data": {
            "text/plain": [
              "None"
            ]
          },
          "metadata": {}
        },
        {
          "output_type": "stream",
          "name": "stdout",
          "text": [
            "\n",
            "\n",
            "TABLE: title.episode.tsv\n",
            "<class 'pandas.core.frame.DataFrame'>\n",
            "RangeIndex: 6077439 entries, 0 to 6077438\n",
            "Data columns (total 4 columns):\n",
            " #   Column         Dtype  \n",
            "---  ------         -----  \n",
            " 0   tconst         object \n",
            " 1   parentTconst   object \n",
            " 2   seasonNumber   float64\n",
            " 3   episodeNumber  float64\n",
            "dtypes: float64(2), object(2)\n",
            "memory usage: 185.5+ MB\n"
          ]
        },
        {
          "output_type": "display_data",
          "data": {
            "text/plain": [
              "None"
            ]
          },
          "metadata": {}
        },
        {
          "output_type": "stream",
          "name": "stdout",
          "text": [
            "\n",
            "\n",
            "TABLE: title.principals.tsv\n",
            "<class 'pandas.core.frame.DataFrame'>\n",
            "RangeIndex: 46864751 entries, 0 to 46864750\n",
            "Data columns (total 6 columns):\n",
            " #   Column      Dtype \n",
            "---  ------      ----- \n",
            " 0   tconst      object\n",
            " 1   ordering    int64 \n",
            " 2   nconst      object\n",
            " 3   category    object\n",
            " 4   job         object\n",
            " 5   characters  object\n",
            "dtypes: int64(1), object(5)\n",
            "memory usage: 2.1+ GB\n"
          ]
        },
        {
          "output_type": "display_data",
          "data": {
            "text/plain": [
              "None"
            ]
          },
          "metadata": {}
        },
        {
          "output_type": "stream",
          "name": "stdout",
          "text": [
            "\n",
            "\n",
            "TABLE: title.ratings.tsv\n",
            "<class 'pandas.core.frame.DataFrame'>\n",
            "RangeIndex: 1187512 entries, 0 to 1187511\n",
            "Data columns (total 3 columns):\n",
            " #   Column         Non-Null Count    Dtype  \n",
            "---  ------         --------------    -----  \n",
            " 0   tconst         1187512 non-null  object \n",
            " 1   averageRating  1187512 non-null  float64\n",
            " 2   numVotes       1187512 non-null  int64  \n",
            "dtypes: float64(1), int64(1), object(1)\n",
            "memory usage: 27.2+ MB\n"
          ]
        },
        {
          "output_type": "display_data",
          "data": {
            "text/plain": [
              "None"
            ]
          },
          "metadata": {}
        },
        {
          "output_type": "stream",
          "name": "stdout",
          "text": [
            "\n",
            "\n"
          ]
        }
      ]
    },
    {
      "cell_type": "markdown",
      "metadata": {
        "id": "1-QJcewwN5dR"
      },
      "source": [
        "Just to prove that we really downloaded everything 😅"
      ]
    },
    {
      "cell_type": "code",
      "metadata": {
        "colab": {
          "base_uri": "https://localhost:8080/"
        },
        "id": "8xnw6AN4LZFC",
        "outputId": "98fb73b5-74f3-4bc7-fcdd-ce4d3a72c1d1"
      },
      "source": [
        "!ls"
      ],
      "execution_count": 6,
      "outputs": [
        {
          "output_type": "stream",
          "name": "stdout",
          "text": [
            "log\t\t    title.basics.tsv\t  title.principals.tsv\n",
            "name.basics.tsv     title.basics.tsv.gz   title.principals.tsv.gz\n",
            "name.basics.tsv.gz  title.crew.tsv\t  title.ratings.tsv\n",
            "sample_data\t    title.crew.tsv.gz\t  title.ratings.tsv.gz\n",
            "title.akas.tsv\t    title.episode.tsv\n",
            "title.akas.tsv.gz   title.episode.tsv.gz\n"
          ]
        }
      ]
    },
    {
      "cell_type": "markdown",
      "metadata": {
        "id": "P96sNC9oJ0z6"
      },
      "source": [
        "## Assignment 2 (2 points): save them into 7 sqlite databases with same column names\n",
        "\n",
        "Simple function for creating sqlite databases based on a given `.tsv` file. This time we set the `low_memory` argument to False to import our dtypes properly."
      ]
    },
    {
      "cell_type": "code",
      "metadata": {
        "id": "R68qGuDkKTcS"
      },
      "source": [
        "def create_db(datafile):\n",
        "    database = datafile.replace('.tsv', '.db')\n",
        "    conn = sqlite3.connect(database)\n",
        "    c = conn.cursor()\n",
        "\n",
        "    df = pd.read_csv(datafile, sep='\\t', low_memory=False, na_values=['\\\\N', ])\n",
        "\n",
        "    df.to_sql(\n",
        "        name=datafile.replace('.tsv', '').upper().replace('.', '_'), \n",
        "        con=conn, \n",
        "        if_exists='replace', \n",
        "        index=False)\n",
        "\n",
        "    del df # we don't need this im memory anymore"
      ],
      "execution_count": 7,
      "outputs": []
    },
    {
      "cell_type": "code",
      "metadata": {
        "id": "sXlyY6pOLi1Z"
      },
      "source": [
        "for source in sources:\n",
        "    datafile = source.replace('.gz', '')\n",
        "    create_db(datafile=datafile)"
      ],
      "execution_count": 8,
      "outputs": []
    },
    {
      "cell_type": "code",
      "metadata": {
        "id": "_GJydD-xQgPk",
        "colab": {
          "base_uri": "https://localhost:8080/"
        },
        "outputId": "33ae83d6-390c-439b-cb7e-9cd1049327ba"
      },
      "source": [
        "!ls"
      ],
      "execution_count": 9,
      "outputs": [
        {
          "output_type": "stream",
          "name": "stdout",
          "text": [
            "log\t\t    title.basics.db\t title.episode.tsv.gz\n",
            "name.basics.db\t    title.basics.tsv\t title.principals.db\n",
            "name.basics.tsv     title.basics.tsv.gz  title.principals.tsv\n",
            "name.basics.tsv.gz  title.crew.db\t title.principals.tsv.gz\n",
            "sample_data\t    title.crew.tsv\t title.ratings.db\n",
            "title.akas.db\t    title.crew.tsv.gz\t title.ratings.tsv\n",
            "title.akas.tsv\t    title.episode.db\t title.ratings.tsv.gz\n",
            "title.akas.tsv.gz   title.episode.tsv\n"
          ]
        }
      ]
    },
    {
      "cell_type": "markdown",
      "metadata": {
        "id": "WWA0oVEnPWwp"
      },
      "source": [
        "Let's retrieve some data from one of the databases (`name.basics`).\n",
        "First option is just by using `pd.read_sql` function:"
      ]
    },
    {
      "cell_type": "code",
      "metadata": {
        "id": "1r60uCbKLiur",
        "colab": {
          "base_uri": "https://localhost:8080/",
          "height": 359
        },
        "outputId": "dd7a769e-ea70-4642-a427-d7b60b694420"
      },
      "source": [
        "datafile = sources[0].replace('.gz', '')\n",
        "database = datafile.replace('.tsv', '.db')\n",
        "conn = sqlite3.connect(database)\n",
        "pd.read_sql('select * from NAME_BASICS limit 10', conn)"
      ],
      "execution_count": 10,
      "outputs": [
        {
          "output_type": "execute_result",
          "data": {
            "text/html": [
              "<div>\n",
              "<style scoped>\n",
              "    .dataframe tbody tr th:only-of-type {\n",
              "        vertical-align: middle;\n",
              "    }\n",
              "\n",
              "    .dataframe tbody tr th {\n",
              "        vertical-align: top;\n",
              "    }\n",
              "\n",
              "    .dataframe thead th {\n",
              "        text-align: right;\n",
              "    }\n",
              "</style>\n",
              "<table border=\"1\" class=\"dataframe\">\n",
              "  <thead>\n",
              "    <tr style=\"text-align: right;\">\n",
              "      <th></th>\n",
              "      <th>nconst</th>\n",
              "      <th>primaryName</th>\n",
              "      <th>birthYear</th>\n",
              "      <th>deathYear</th>\n",
              "      <th>primaryProfession</th>\n",
              "      <th>knownForTitles</th>\n",
              "    </tr>\n",
              "  </thead>\n",
              "  <tbody>\n",
              "    <tr>\n",
              "      <th>0</th>\n",
              "      <td>nm0000001</td>\n",
              "      <td>Fred Astaire</td>\n",
              "      <td>1899.0</td>\n",
              "      <td>1987.0</td>\n",
              "      <td>soundtrack,actor,miscellaneous</td>\n",
              "      <td>tt0050419,tt0053137,tt0031983,tt0072308</td>\n",
              "    </tr>\n",
              "    <tr>\n",
              "      <th>1</th>\n",
              "      <td>nm0000002</td>\n",
              "      <td>Lauren Bacall</td>\n",
              "      <td>1924.0</td>\n",
              "      <td>2014.0</td>\n",
              "      <td>actress,soundtrack</td>\n",
              "      <td>tt0117057,tt0037382,tt0038355,tt0071877</td>\n",
              "    </tr>\n",
              "    <tr>\n",
              "      <th>2</th>\n",
              "      <td>nm0000003</td>\n",
              "      <td>Brigitte Bardot</td>\n",
              "      <td>1934.0</td>\n",
              "      <td>NaN</td>\n",
              "      <td>actress,soundtrack,music_department</td>\n",
              "      <td>tt0056404,tt0049189,tt0054452,tt0057345</td>\n",
              "    </tr>\n",
              "    <tr>\n",
              "      <th>3</th>\n",
              "      <td>nm0000004</td>\n",
              "      <td>John Belushi</td>\n",
              "      <td>1949.0</td>\n",
              "      <td>1982.0</td>\n",
              "      <td>actor,soundtrack,writer</td>\n",
              "      <td>tt0080455,tt0078723,tt0072562,tt0077975</td>\n",
              "    </tr>\n",
              "    <tr>\n",
              "      <th>4</th>\n",
              "      <td>nm0000005</td>\n",
              "      <td>Ingmar Bergman</td>\n",
              "      <td>1918.0</td>\n",
              "      <td>2007.0</td>\n",
              "      <td>writer,director,actor</td>\n",
              "      <td>tt0083922,tt0060827,tt0050986,tt0050976</td>\n",
              "    </tr>\n",
              "    <tr>\n",
              "      <th>5</th>\n",
              "      <td>nm0000006</td>\n",
              "      <td>Ingrid Bergman</td>\n",
              "      <td>1915.0</td>\n",
              "      <td>1982.0</td>\n",
              "      <td>actress,soundtrack,producer</td>\n",
              "      <td>tt0077711,tt0034583,tt0036855,tt0038109</td>\n",
              "    </tr>\n",
              "    <tr>\n",
              "      <th>6</th>\n",
              "      <td>nm0000007</td>\n",
              "      <td>Humphrey Bogart</td>\n",
              "      <td>1899.0</td>\n",
              "      <td>1957.0</td>\n",
              "      <td>actor,soundtrack,producer</td>\n",
              "      <td>tt0033870,tt0042593,tt0043265,tt0034583</td>\n",
              "    </tr>\n",
              "    <tr>\n",
              "      <th>7</th>\n",
              "      <td>nm0000008</td>\n",
              "      <td>Marlon Brando</td>\n",
              "      <td>1924.0</td>\n",
              "      <td>2004.0</td>\n",
              "      <td>actor,soundtrack,director</td>\n",
              "      <td>tt0047296,tt0068646,tt0078788,tt0070849</td>\n",
              "    </tr>\n",
              "    <tr>\n",
              "      <th>8</th>\n",
              "      <td>nm0000009</td>\n",
              "      <td>Richard Burton</td>\n",
              "      <td>1925.0</td>\n",
              "      <td>1984.0</td>\n",
              "      <td>actor,soundtrack,producer</td>\n",
              "      <td>tt0057877,tt0061184,tt0087803,tt0059749</td>\n",
              "    </tr>\n",
              "    <tr>\n",
              "      <th>9</th>\n",
              "      <td>nm0000010</td>\n",
              "      <td>James Cagney</td>\n",
              "      <td>1899.0</td>\n",
              "      <td>1986.0</td>\n",
              "      <td>actor,soundtrack,director</td>\n",
              "      <td>tt0042041,tt0035575,tt0029870,tt0031867</td>\n",
              "    </tr>\n",
              "  </tbody>\n",
              "</table>\n",
              "</div>"
            ],
            "text/plain": [
              "      nconst  ...                           knownForTitles\n",
              "0  nm0000001  ...  tt0050419,tt0053137,tt0031983,tt0072308\n",
              "1  nm0000002  ...  tt0117057,tt0037382,tt0038355,tt0071877\n",
              "2  nm0000003  ...  tt0056404,tt0049189,tt0054452,tt0057345\n",
              "3  nm0000004  ...  tt0080455,tt0078723,tt0072562,tt0077975\n",
              "4  nm0000005  ...  tt0083922,tt0060827,tt0050986,tt0050976\n",
              "5  nm0000006  ...  tt0077711,tt0034583,tt0036855,tt0038109\n",
              "6  nm0000007  ...  tt0033870,tt0042593,tt0043265,tt0034583\n",
              "7  nm0000008  ...  tt0047296,tt0068646,tt0078788,tt0070849\n",
              "8  nm0000009  ...  tt0057877,tt0061184,tt0087803,tt0059749\n",
              "9  nm0000010  ...  tt0042041,tt0035575,tt0029870,tt0031867\n",
              "\n",
              "[10 rows x 6 columns]"
            ]
          },
          "metadata": {},
          "execution_count": 10
        }
      ]
    },
    {
      "cell_type": "markdown",
      "metadata": {
        "id": "8-DzY5ibP1oV"
      },
      "source": [
        "Second option is as was presented on the seminar:"
      ]
    },
    {
      "cell_type": "code",
      "metadata": {
        "id": "Y3aYBVv9Llmr"
      },
      "source": [
        "data = []\n",
        "c = conn.cursor()\n",
        "c.execute(\"SELECT * from NAME_BASICS\")\n",
        "\n",
        "for f in c.fetchall():\n",
        "    data.append(f)\n",
        "\n",
        "conn.commit()\n",
        "conn.close()"
      ],
      "execution_count": 11,
      "outputs": []
    },
    {
      "cell_type": "code",
      "metadata": {
        "colab": {
          "base_uri": "https://localhost:8080/",
          "height": 359
        },
        "id": "CZVfsmxSLnPQ",
        "outputId": "3f031dd7-3e8e-4bfe-8d12-cd7ca149d34f"
      },
      "source": [
        "pd.DataFrame(data[:10], columns = ['nconst', 'primaryName', 'birthYear', 'deathYear', 'primaryProfession', 'knownForTitles'])"
      ],
      "execution_count": 12,
      "outputs": [
        {
          "output_type": "execute_result",
          "data": {
            "text/html": [
              "<div>\n",
              "<style scoped>\n",
              "    .dataframe tbody tr th:only-of-type {\n",
              "        vertical-align: middle;\n",
              "    }\n",
              "\n",
              "    .dataframe tbody tr th {\n",
              "        vertical-align: top;\n",
              "    }\n",
              "\n",
              "    .dataframe thead th {\n",
              "        text-align: right;\n",
              "    }\n",
              "</style>\n",
              "<table border=\"1\" class=\"dataframe\">\n",
              "  <thead>\n",
              "    <tr style=\"text-align: right;\">\n",
              "      <th></th>\n",
              "      <th>nconst</th>\n",
              "      <th>primaryName</th>\n",
              "      <th>birthYear</th>\n",
              "      <th>deathYear</th>\n",
              "      <th>primaryProfession</th>\n",
              "      <th>knownForTitles</th>\n",
              "    </tr>\n",
              "  </thead>\n",
              "  <tbody>\n",
              "    <tr>\n",
              "      <th>0</th>\n",
              "      <td>nm0000001</td>\n",
              "      <td>Fred Astaire</td>\n",
              "      <td>1899.0</td>\n",
              "      <td>1987.0</td>\n",
              "      <td>soundtrack,actor,miscellaneous</td>\n",
              "      <td>tt0050419,tt0053137,tt0031983,tt0072308</td>\n",
              "    </tr>\n",
              "    <tr>\n",
              "      <th>1</th>\n",
              "      <td>nm0000002</td>\n",
              "      <td>Lauren Bacall</td>\n",
              "      <td>1924.0</td>\n",
              "      <td>2014.0</td>\n",
              "      <td>actress,soundtrack</td>\n",
              "      <td>tt0117057,tt0037382,tt0038355,tt0071877</td>\n",
              "    </tr>\n",
              "    <tr>\n",
              "      <th>2</th>\n",
              "      <td>nm0000003</td>\n",
              "      <td>Brigitte Bardot</td>\n",
              "      <td>1934.0</td>\n",
              "      <td>NaN</td>\n",
              "      <td>actress,soundtrack,music_department</td>\n",
              "      <td>tt0056404,tt0049189,tt0054452,tt0057345</td>\n",
              "    </tr>\n",
              "    <tr>\n",
              "      <th>3</th>\n",
              "      <td>nm0000004</td>\n",
              "      <td>John Belushi</td>\n",
              "      <td>1949.0</td>\n",
              "      <td>1982.0</td>\n",
              "      <td>actor,soundtrack,writer</td>\n",
              "      <td>tt0080455,tt0078723,tt0072562,tt0077975</td>\n",
              "    </tr>\n",
              "    <tr>\n",
              "      <th>4</th>\n",
              "      <td>nm0000005</td>\n",
              "      <td>Ingmar Bergman</td>\n",
              "      <td>1918.0</td>\n",
              "      <td>2007.0</td>\n",
              "      <td>writer,director,actor</td>\n",
              "      <td>tt0083922,tt0060827,tt0050986,tt0050976</td>\n",
              "    </tr>\n",
              "    <tr>\n",
              "      <th>5</th>\n",
              "      <td>nm0000006</td>\n",
              "      <td>Ingrid Bergman</td>\n",
              "      <td>1915.0</td>\n",
              "      <td>1982.0</td>\n",
              "      <td>actress,soundtrack,producer</td>\n",
              "      <td>tt0077711,tt0034583,tt0036855,tt0038109</td>\n",
              "    </tr>\n",
              "    <tr>\n",
              "      <th>6</th>\n",
              "      <td>nm0000007</td>\n",
              "      <td>Humphrey Bogart</td>\n",
              "      <td>1899.0</td>\n",
              "      <td>1957.0</td>\n",
              "      <td>actor,soundtrack,producer</td>\n",
              "      <td>tt0033870,tt0042593,tt0043265,tt0034583</td>\n",
              "    </tr>\n",
              "    <tr>\n",
              "      <th>7</th>\n",
              "      <td>nm0000008</td>\n",
              "      <td>Marlon Brando</td>\n",
              "      <td>1924.0</td>\n",
              "      <td>2004.0</td>\n",
              "      <td>actor,soundtrack,director</td>\n",
              "      <td>tt0047296,tt0068646,tt0078788,tt0070849</td>\n",
              "    </tr>\n",
              "    <tr>\n",
              "      <th>8</th>\n",
              "      <td>nm0000009</td>\n",
              "      <td>Richard Burton</td>\n",
              "      <td>1925.0</td>\n",
              "      <td>1984.0</td>\n",
              "      <td>actor,soundtrack,producer</td>\n",
              "      <td>tt0057877,tt0061184,tt0087803,tt0059749</td>\n",
              "    </tr>\n",
              "    <tr>\n",
              "      <th>9</th>\n",
              "      <td>nm0000010</td>\n",
              "      <td>James Cagney</td>\n",
              "      <td>1899.0</td>\n",
              "      <td>1986.0</td>\n",
              "      <td>actor,soundtrack,director</td>\n",
              "      <td>tt0042041,tt0035575,tt0029870,tt0031867</td>\n",
              "    </tr>\n",
              "  </tbody>\n",
              "</table>\n",
              "</div>"
            ],
            "text/plain": [
              "      nconst  ...                           knownForTitles\n",
              "0  nm0000001  ...  tt0050419,tt0053137,tt0031983,tt0072308\n",
              "1  nm0000002  ...  tt0117057,tt0037382,tt0038355,tt0071877\n",
              "2  nm0000003  ...  tt0056404,tt0049189,tt0054452,tt0057345\n",
              "3  nm0000004  ...  tt0080455,tt0078723,tt0072562,tt0077975\n",
              "4  nm0000005  ...  tt0083922,tt0060827,tt0050986,tt0050976\n",
              "5  nm0000006  ...  tt0077711,tt0034583,tt0036855,tt0038109\n",
              "6  nm0000007  ...  tt0033870,tt0042593,tt0043265,tt0034583\n",
              "7  nm0000008  ...  tt0047296,tt0068646,tt0078788,tt0070849\n",
              "8  nm0000009  ...  tt0057877,tt0061184,tt0087803,tt0059749\n",
              "9  nm0000010  ...  tt0042041,tt0035575,tt0029870,tt0031867\n",
              "\n",
              "[10 rows x 6 columns]"
            ]
          },
          "metadata": {},
          "execution_count": 12
        }
      ]
    },
    {
      "cell_type": "markdown",
      "metadata": {
        "id": "-3phK9_CJ0z6"
      },
      "source": [
        "## Assignment 3 (3 points): download 2 dumps (actors-movie and movie-rating) and produce a pandas dataframe of actor-avgrating using join"
      ]
    },
    {
      "cell_type": "markdown",
      "metadata": {
        "id": "zivsY5rBjMtf"
      },
      "source": [
        "At first we need to get needed columns from `name.basics` and change the format of column `knownForTitles` so we can use `df.explode`:"
      ]
    },
    {
      "cell_type": "code",
      "metadata": {
        "id": "dgkcmFe0KUfT"
      },
      "source": [
        "datafile = sources[0].replace('.gz', '')\n",
        "database = datafile.replace('.tsv', '.db')\n",
        "conn = sqlite3.connect(database)\n",
        "conn = sqlite3.connect(database)\n",
        "data_actors = pd.read_sql('select primaryName, knownForTitles from NAME_BASICS', conn)"
      ],
      "execution_count": 13,
      "outputs": []
    },
    {
      "cell_type": "code",
      "metadata": {
        "id": "pzEXvlewaN2v"
      },
      "source": [
        "data_actors.knownForTitles = data_actors.knownForTitles.str.split(',')"
      ],
      "execution_count": 14,
      "outputs": []
    },
    {
      "cell_type": "code",
      "metadata": {
        "id": "US8mjqm-aN8t"
      },
      "source": [
        "df_new = data_actors.explode(column = 'knownForTitles')"
      ],
      "execution_count": 15,
      "outputs": []
    },
    {
      "cell_type": "markdown",
      "metadata": {
        "id": "cYKWeA5bjiTx"
      },
      "source": [
        "Now we need info from `title.ratings` and we can inner join them by `knownForTitles`"
      ]
    },
    {
      "cell_type": "code",
      "metadata": {
        "id": "_sIjFuMLnm4c"
      },
      "source": [
        "datafile = sources[6].replace('.gz', '')\n",
        "database = datafile.replace('.tsv', '.db')\n",
        "conn = sqlite3.connect(database)\n",
        "data_ratings = pd.read_sql('select tconst, averageRating from TITLE_RATINGS', conn).rename(columns={'tconst': 'knownForTitles'})\n",
        "#df_final = df_new.set_index('knownForTitles').join(data_ratings.set_index('knownForTitles'), how = 'left')\n",
        "#df_final = df_final.groupby(by = 'primaryName').mean()"
      ],
      "execution_count": 16,
      "outputs": []
    },
    {
      "cell_type": "code",
      "metadata": {
        "id": "ZWRehm9Ooa8L"
      },
      "source": [
        "df_final = df_new.set_index('knownForTitles').join(data_ratings.set_index('knownForTitles'), how = 'inner')"
      ],
      "execution_count": 17,
      "outputs": []
    },
    {
      "cell_type": "code",
      "metadata": {
        "id": "2RU0FCNUxzur"
      },
      "source": [
        "df_final = df_final.groupby(by = 'primaryName').mean()"
      ],
      "execution_count": 18,
      "outputs": []
    },
    {
      "cell_type": "markdown",
      "metadata": {
        "id": "tT0E9pZCjtK-"
      },
      "source": [
        "Let's take a look on final table:"
      ]
    },
    {
      "cell_type": "code",
      "metadata": {
        "colab": {
          "base_uri": "https://localhost:8080/",
          "height": 235
        },
        "id": "Bi4duXapx9rq",
        "outputId": "e071a111-e476-4f64-f5d1-0685116ee1f2"
      },
      "source": [
        "df_final.head()"
      ],
      "execution_count": 19,
      "outputs": [
        {
          "output_type": "execute_result",
          "data": {
            "text/html": [
              "<div>\n",
              "<style scoped>\n",
              "    .dataframe tbody tr th:only-of-type {\n",
              "        vertical-align: middle;\n",
              "    }\n",
              "\n",
              "    .dataframe tbody tr th {\n",
              "        vertical-align: top;\n",
              "    }\n",
              "\n",
              "    .dataframe thead th {\n",
              "        text-align: right;\n",
              "    }\n",
              "</style>\n",
              "<table border=\"1\" class=\"dataframe\">\n",
              "  <thead>\n",
              "    <tr style=\"text-align: right;\">\n",
              "      <th></th>\n",
              "      <th>averageRating</th>\n",
              "    </tr>\n",
              "    <tr>\n",
              "      <th>primaryName</th>\n",
              "      <th></th>\n",
              "    </tr>\n",
              "  </thead>\n",
              "  <tbody>\n",
              "    <tr>\n",
              "      <th>!'aru Ikhuisi Piet Berendse</th>\n",
              "      <td>7.3</td>\n",
              "    </tr>\n",
              "    <tr>\n",
              "      <th>!Mystery Girl!</th>\n",
              "      <td>4.4</td>\n",
              "    </tr>\n",
              "    <tr>\n",
              "      <th>!Nqate Xqamxebe</th>\n",
              "      <td>7.5</td>\n",
              "    </tr>\n",
              "    <tr>\n",
              "      <th>$2 Tony</th>\n",
              "      <td>5.6</td>\n",
              "    </tr>\n",
              "    <tr>\n",
              "      <th>$haniqua</th>\n",
              "      <td>8.5</td>\n",
              "    </tr>\n",
              "  </tbody>\n",
              "</table>\n",
              "</div>"
            ],
            "text/plain": [
              "                             averageRating\n",
              "primaryName                               \n",
              "!'aru Ikhuisi Piet Berendse            7.3\n",
              "!Mystery Girl!                         4.4\n",
              "!Nqate Xqamxebe                        7.5\n",
              "$2 Tony                                5.6\n",
              "$haniqua                               8.5"
            ]
          },
          "metadata": {},
          "execution_count": 19
        }
      ]
    },
    {
      "cell_type": "markdown",
      "metadata": {
        "id": "8YI_zssOJ0z7"
      },
      "source": [
        "## Assignment 4 (4 points): download 1,000 movies from api into nosql database (mongo or something else)"
      ]
    },
    {
      "cell_type": "markdown",
      "metadata": {
        "id": "dey1bCv5NH4d"
      },
      "source": [
        "On this website we found how install mongo in Google Colaboratory https://gist.github.com/korakot/64f4e589eff252cf0486388da26c17fd"
      ]
    },
    {
      "cell_type": "code",
      "metadata": {
        "id": "GvKgxfp3uSqg",
        "colab": {
          "base_uri": "https://localhost:8080/"
        },
        "outputId": "6af7ff70-9834-4dbb-8c2e-538492f7c981"
      },
      "source": [
        "!apt install mongodb >log\n",
        "!service mongodb start\n",
        "\n",
        "!pip install IMDbPY\n",
        "import imdb\n",
        "from tqdm.notebook import tqdm\n",
        "from pymongo import MongoClient\n",
        "from IPython.display import clear_output\n",
        "import warnings\n",
        "warnings.filterwarnings(\"ignore\", category=DeprecationWarning) \n",
        "\n",
        "ia = imdb.IMDb()"
      ],
      "execution_count": 27,
      "outputs": [
        {
          "output_type": "stream",
          "name": "stdout",
          "text": [
            "\n",
            "WARNING: apt does not have a stable CLI interface. Use with caution in scripts.\n",
            "\n",
            " * Starting database mongodb\n",
            "   ...done.\n",
            "Requirement already satisfied: IMDbPY in /usr/local/lib/python3.7/dist-packages (2021.4.18)\n",
            "Requirement already satisfied: lxml in /usr/local/lib/python3.7/dist-packages (from IMDbPY) (4.2.6)\n",
            "Requirement already satisfied: SQLAlchemy in /usr/local/lib/python3.7/dist-packages (from IMDbPY) (1.4.23)\n",
            "Requirement already satisfied: greenlet!=0.4.17 in /usr/local/lib/python3.7/dist-packages (from SQLAlchemy->IMDbPY) (1.1.1)\n",
            "Requirement already satisfied: importlib-metadata in /usr/local/lib/python3.7/dist-packages (from SQLAlchemy->IMDbPY) (4.8.1)\n",
            "Requirement already satisfied: typing-extensions>=3.6.4 in /usr/local/lib/python3.7/dist-packages (from importlib-metadata->SQLAlchemy->IMDbPY) (3.7.4.3)\n",
            "Requirement already satisfied: zipp>=0.5 in /usr/local/lib/python3.7/dist-packages (from importlib-metadata->SQLAlchemy->IMDbPY) (3.5.0)\n"
          ]
        }
      ]
    },
    {
      "cell_type": "code",
      "metadata": {
        "id": "8EuOsQzFdSYf"
      },
      "source": [
        "from pymongo import MongoClient\n",
        "\n",
        "client = MongoClient()\n",
        "db = client['movies_imdb']\n",
        "collection1 = db['films_details']"
      ],
      "execution_count": 30,
      "outputs": []
    },
    {
      "cell_type": "markdown",
      "metadata": {
        "id": "7TylB4tS6-zG"
      },
      "source": [
        "Function to collect some info about films"
      ]
    },
    {
      "cell_type": "code",
      "metadata": {
        "id": "btBz3TkaLfXD"
      },
      "source": [
        "def need_details(mov): \n",
        "  one_movie = {}\n",
        "  for det in ['title', 'kind', 'genres', 'countries','year','imdbID']:\n",
        "    try:\n",
        "      one_movie[det] = mov[det]\n",
        "    except:\n",
        "      one_movie[det] = []\n",
        "  return one_movie"
      ],
      "execution_count": 31,
      "outputs": []
    },
    {
      "cell_type": "markdown",
      "metadata": {
        "id": "ZZK7ie9O7EcR"
      },
      "source": [
        "Big 'while loop' to collect all data about films using function"
      ]
    },
    {
      "cell_type": "code",
      "metadata": {
        "id": "2HJbJ2V4jGdH",
        "colab": {
          "base_uri": "https://localhost:8080/"
        },
        "outputId": "0ccbd414-4e00-4d97-9911-37a6e49f23e5"
      },
      "source": [
        "i = 0 #how many films are found in api\n",
        "j = 1 #number to find in api\n",
        "\n",
        "while i < 1000 and j < 100000: #we hope that in 100000 attempts we can find 1000 good films\n",
        "  if j < 10:\n",
        "    try:\n",
        "      movie = ia.get_movie('000000'+str(j)).data\n",
        "      if len(movie) == 0:\n",
        "          pass\n",
        "      else:\n",
        "        i += 1\n",
        "        collection1.insert_one(need_details(movie))\n",
        "    except:\n",
        "      pass\n",
        "  \n",
        "  if (j < 100) and (j >= 10):\n",
        "    try:\n",
        "      movie = ia.get_movie('00000'+str(j)).data\n",
        "      if len(movie) == 0:\n",
        "          pass\n",
        "      else:\n",
        "        i += 1\n",
        "        collection1.insert_one(need_details(movie))\n",
        "    except:\n",
        "      pass\n",
        "  \n",
        "  if (j < 1000) and (j >= 100):\n",
        "    try:\n",
        "      movie = ia.get_movie('0000'+str(j)).data\n",
        "      if len(movie) == 0:\n",
        "          pass\n",
        "      else:\n",
        "        i += 1\n",
        "        collection1.insert_one(need_details(movie))\n",
        "    except:\n",
        "      pass\n",
        "\n",
        "  if (j >= 1000) and (j<10000):\n",
        "    try:\n",
        "      movie = ia.get_movie('000'+str(j)).data\n",
        "      if len(movie) == 0:\n",
        "          pass\n",
        "      else:\n",
        "        i += 1\n",
        "        collection1.insert_one(need_details(movie))\n",
        "    except:\n",
        "      pass\n",
        "      \n",
        "  if (j >= 10000):\n",
        "      try:\n",
        "        movie = ia.get_movie('00'+str(j)).data\n",
        "        if len(movie) == 0:\n",
        "            pass\n",
        "        else:\n",
        "          i += 1\n",
        "          collection1.insert_one(need_details(movie))\n",
        "      except:\n",
        "        pass\n",
        "\n",
        "  \n",
        "  if i % 20 == 0: #to display how long it works\n",
        "    %%time\n",
        "    print(i,j)\n",
        "    clear_output(wait=True)\n",
        "\n",
        "  j += 1"
      ],
      "execution_count": 32,
      "outputs": [
        {
          "output_type": "stream",
          "name": "stdout",
          "text": [
            "CPU times: user 3 µs, sys: 0 ns, total: 3 µs\n",
            "Wall time: 6.2 µs\n",
            "1000 1001\n"
          ]
        }
      ]
    },
    {
      "cell_type": "markdown",
      "metadata": {
        "id": "T0zJ9wl0qv1L"
      },
      "source": [
        "Example of info:"
      ]
    },
    {
      "cell_type": "code",
      "metadata": {
        "id": "fTmJs5dln0ee",
        "colab": {
          "base_uri": "https://localhost:8080/"
        },
        "outputId": "41ddd4c3-b52f-4f2d-9b49-d3a917f185c7"
      },
      "source": [
        "result = client.movies_imdb.films_details.find()\n",
        "next(result)"
      ],
      "execution_count": 33,
      "outputs": [
        {
          "output_type": "execute_result",
          "data": {
            "text/plain": [
              "{'_id': ObjectId('614929416dd33649b0f6cd27'),\n",
              " 'countries': ['United States'],\n",
              " 'genres': ['Documentary', 'Short'],\n",
              " 'imdbID': '0000001',\n",
              " 'kind': 'movie',\n",
              " 'title': 'Carmencita',\n",
              " 'year': 1894}"
            ]
          },
          "metadata": {},
          "execution_count": 33
        }
      ]
    },
    {
      "cell_type": "code",
      "metadata": {
        "colab": {
          "base_uri": "https://localhost:8080/"
        },
        "id": "ab3a4X2ZlULZ",
        "outputId": "e91492c7-0b11-4a17-fc37-03a4ce9dc6db"
      },
      "source": [
        "result.count()"
      ],
      "execution_count": 34,
      "outputs": [
        {
          "output_type": "execute_result",
          "data": {
            "text/plain": [
              "1000"
            ]
          },
          "metadata": {},
          "execution_count": 34
        }
      ]
    },
    {
      "cell_type": "markdown",
      "metadata": {
        "id": "jBVR-u8txgqn"
      },
      "source": [
        "First 4 films"
      ]
    },
    {
      "cell_type": "code",
      "metadata": {
        "colab": {
          "base_uri": "https://localhost:8080/"
        },
        "id": "naIBf3D5wUyD",
        "outputId": "90ed14d6-2a23-4d93-c592-2f9a12377e2a"
      },
      "source": [
        "#for doc in result:\n",
        "#  print(doc)"
      ],
      "execution_count": 15,
      "outputs": [
        {
          "output_type": "stream",
          "name": "stdout",
          "text": [
            "{'_id': ObjectId('6149284c6dd33649b0f6cd0a'), 'title': 'Le clown et ses chiens', 'kind': 'movie', 'genres': ['Animation', 'Short'], 'countries': ['France'], 'year': 1892, 'imdbID': '0000002'}\n",
            "{'_id': ObjectId('6149284d6dd33649b0f6cd0b'), 'title': 'Poor Pierrot', 'kind': 'movie', 'genres': ['Animation', 'Comedy', 'Short', 'Romance'], 'countries': ['France'], 'year': 1892, 'imdbID': '0000003'}\n",
            "{'_id': ObjectId('6149284f6dd33649b0f6cd0c'), 'title': 'Un bon bock', 'kind': 'movie', 'genres': ['Animation', 'Short'], 'countries': ['France'], 'year': 1892, 'imdbID': '0000004'}\n",
            "{'_id': ObjectId('614928506dd33649b0f6cd0d'), 'title': 'Blacksmith Scene', 'kind': 'movie', 'genres': ['Short', 'Comedy'], 'countries': ['United States'], 'year': 1893, 'imdbID': '0000005'}\n"
          ]
        }
      ]
    },
    {
      "cell_type": "markdown",
      "metadata": {
        "id": "vFRPnRUEJ0z7"
      },
      "source": [
        "## Assignment 5 (5 points): parse 1,000 movies from website into nosql database (mongo or something else)"
      ]
    },
    {
      "cell_type": "markdown",
      "metadata": {
        "id": "4BpPt9FbTQXL"
      },
      "source": [
        "Let's parse IMDb using soup. Take the url, get info and save to DataFrame. At the end we get a DataFrame with 1100 strings and information about name and alternative name of the film,  it;s genre and date it was published, avgRating and name of it's director"
      ]
    },
    {
      "cell_type": "code",
      "metadata": {
        "id": "n5uaMaIFzyGM"
      },
      "source": [
        "def get_film_info(link):\n",
        "    \n",
        "    url = f'https://www.imdb.com/title/{link}'\n",
        "    res = requests.get(url)\n",
        "    if str(res) == '<Response [200]>':\n",
        "      soup = BeautifulSoup(res.text)\n",
        "\n",
        "      myjson = soup.find('script', attrs={\"type\":\"application/ld+json\"}).string\n",
        "\n",
        "      smaller_dict = lambda x, y: dict([(i,x[i]) for i in x if i in set(y)])\n",
        "\n",
        "      keys = [\"url\", \"name\", \"alternateName\", \"genre\", 'datePublished', 'aggregateRating', 'director']\n",
        "      my_dict = smaller_dict(eval(myjson), keys)\n",
        "\n",
        "      my_dict['director'] = my_dict.get('director', np.nan)\n",
        "      if type(my_dict['director']) == list:\n",
        "          my_dict['director'] = my_dict['director'][0]['name']\n",
        "          \n",
        "      my_dict['aggregateRating'] = my_dict.get('aggregateRating')\n",
        "      if type(my_dict['aggregateRating']) == dict:\n",
        "          my_dict['aggregateRating'] = my_dict['aggregateRating']['ratingValue']\n",
        "      my_dict['genre'] = my_dict.get('genre', np.nan)\n",
        "      if type(my_dict['genre']) == list:\n",
        "          my_dict['genre'] = ', '.join(i for i in my_dict['genre'])\n",
        "      \n",
        "      return my_dict"
      ],
      "execution_count": 35,
      "outputs": []
    },
    {
      "cell_type": "markdown",
      "metadata": {
        "id": "E68XZe_Ui2zP"
      },
      "source": [
        "Now we just insert dict with some info about movie into mongodb:\n",
        "\n"
      ]
    },
    {
      "cell_type": "code",
      "metadata": {
        "colab": {
          "base_uri": "https://localhost:8080/",
          "height": 49,
          "referenced_widgets": [
            "ab437296933347099fd3032621b8eeed",
            "9b49914846c14236ad6c9c92ea7f7156",
            "12a1443b7d87497cbe4726aea7261cdf",
            "f3a7cc98fa954a8cab82666b7a65b651",
            "5c690015208a4d14ac1a77cf73fda466",
            "d927eae5d5964494a5eec531262b384e",
            "04144a5da8fa4b679131118f49d0995e",
            "f428caf20e494e9cafdec8f7c3a06a86",
            "80fa361cc4b44acca25920c27164d11e",
            "b1fb2fb587f24f15be1c0ddf04737f28",
            "53469c1ed6154be4bfcaada9e39fdc1c"
          ]
        },
        "id": "98uK7detTFDw",
        "outputId": "f42f6ebe-0830-4810-8d7b-44b6378422f3"
      },
      "source": [
        "from pymongo import MongoClient\n",
        "\n",
        "client = MongoClient()\n",
        "db = client['movies_imdb2']\n",
        "collection = db['films_details2']\n",
        "\n",
        "#df = pd.DataFrame(columns=['url', 'name', 'alternateName', 'aggregateRating', 'genre',\n",
        "#       'datePublished', 'director'])\n",
        "for i in tqdm(range(1, 1050)):\n",
        "  if i < 10:\n",
        "    res = get_film_info(link=f'tt000000{i}/')\n",
        "  elif i < 100:\n",
        "    res = get_film_info(link=f'tt00000{i}/')\n",
        "  elif i < 1000:\n",
        "    res = get_film_info(link=f'tt0000{i}/')\n",
        "  else:\n",
        "    res = get_film_info(link=f'tt000{i}/')\n",
        "  try:\n",
        "    collection.insert_one(res)\n",
        "  except:\n",
        "    pass\n",
        "    #df = pd.concat([df, res])"
      ],
      "execution_count": 38,
      "outputs": [
        {
          "output_type": "display_data",
          "data": {
            "application/vnd.jupyter.widget-view+json": {
              "model_id": "ab437296933347099fd3032621b8eeed",
              "version_minor": 0,
              "version_major": 2
            },
            "text/plain": [
              "  0%|          | 0/1049 [00:00<?, ?it/s]"
            ]
          },
          "metadata": {}
        }
      ]
    },
    {
      "cell_type": "markdown",
      "metadata": {
        "id": "u0ziOJM7jBxX"
      },
      "source": [
        "Example of movie info:"
      ]
    },
    {
      "cell_type": "code",
      "metadata": {
        "id": "8El78rB_9LYj",
        "colab": {
          "base_uri": "https://localhost:8080/"
        },
        "outputId": "5390d895-0933-49c7-da2a-5dfe8da647e6"
      },
      "source": [
        "result2 = client.movies_imdb2.films_details2.find()\n",
        "next(result2)"
      ],
      "execution_count": 39,
      "outputs": [
        {
          "output_type": "execute_result",
          "data": {
            "text/plain": [
              "{'_id': ObjectId('61492efc6dd33649b0f6d115'),\n",
              " 'aggregateRating': 5.7,\n",
              " 'datePublished': '1894-03-10',\n",
              " 'director': 'William K.L. Dickson',\n",
              " 'genre': 'Documentary, Short',\n",
              " 'name': 'Carmencita',\n",
              " 'url': '/title/tt0000001/'}"
            ]
          },
          "metadata": {},
          "execution_count": 39
        }
      ]
    },
    {
      "cell_type": "markdown",
      "metadata": {
        "id": "F3EIJNYAjEOM"
      },
      "source": [
        "Let's see how many items we have in collection:"
      ]
    },
    {
      "cell_type": "code",
      "metadata": {
        "colab": {
          "base_uri": "https://localhost:8080/"
        },
        "id": "HucDlKuTikvx",
        "outputId": "71b31402-1f31-4590-c5f9-04a5a95d359f"
      },
      "source": [
        "result2.count()"
      ],
      "execution_count": 40,
      "outputs": [
        {
          "output_type": "execute_result",
          "data": {
            "text/plain": [
              "1048"
            ]
          },
          "metadata": {},
          "execution_count": 40
        }
      ]
    },
    {
      "cell_type": "code",
      "metadata": {
        "id": "9uWdnMmTinkM"
      },
      "source": [
        ""
      ],
      "execution_count": null,
      "outputs": []
    }
  ]
}